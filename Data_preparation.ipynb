{
 "cells": [
  {
   "cell_type": "markdown",
   "id": "e28dfbb8-457e-4d15-a3d1-68db326f4dc7",
   "metadata": {
    "execution": {
     "iopub.execute_input": "2023-05-20T11:13:18.613305Z",
     "iopub.status.busy": "2023-05-20T11:13:18.613073Z",
     "iopub.status.idle": "2023-05-20T11:13:19.445860Z",
     "shell.execute_reply": "2023-05-20T11:13:19.445222Z",
     "shell.execute_reply.started": "2023-05-20T11:13:18.613284Z"
    }
   },
   "source": [
    "DATA EXTRACTION, PREPROCESSING AND CLEANING FOR HOSPITAL LENTGH OF STAY PREDICTION\n",
    "\n",
    "METHODOLOGY\n",
    "1. Extract all_data: WP2_df\n",
    "2. Obtain sequence number of comorbidity per patient: COM_SEQ\n",
    "3. Include column of number of comorbidity per patient at each record date: COMORBIDITY_COUNT\n",
    "4. Query data to obtain only In-Hospital Records: WP2_df_PEDW\n",
    "5. Include additional risk factors and markers for model:\\\n",
    "a.) 'LOS'= Number of Hospital days per admission\\\n",
    "b.) 'NUM_PRVADMISSION_1YR'= Number of previous admissions in 1 year from current admission date\\\n",
    "c.) 'NUM_PRVADMISSION_1YR_COND'= Number of previous admissions per condition in 1 year from current admission date\\\n",
    "d.) 'NUM_PRVADMISSION_3YR'= Number of previous admissions in 3 years from current admission date\\\n",
    "e.) 'NUM_PRVADMISSION_3YR_COND'= Number of previous admissions per condition in 3 years from current admission date\\\n",
    "f.) 'NUM_PRVHOSPITAL_DAYS_1YR'= Total number of cumulative hospital days in the prev 1 year from current admission date \\\n",
    "g.) 'NUM_PRVHOSPITAL_DAYS_3YR'= Total number of cumulative hospital days in the prev 3 years from current admission date \\\n",
    "h.) SMOKING= Binary classification of smoking status as at the time of admission per patient\\\n",
    "i.) ALCOHOL= Binary classification of alcohol status as at the time of admission per patient\\\n",
    "j.) AUTISM= Binary classification of autism per patient\\\n",
    "k.) BEHAVIOURAL DISORDER= Binary classification of behavioural disorder per patient\\\n",
    "l.) MEDICATION= Binary classification of presence of medication as at the time of admission per patient"
   ]
  },
  {
   "cell_type": "code",
   "execution_count": 1,
   "id": "b546eb8f-1003-41bc-8493-e745f7b66487",
   "metadata": {
    "execution": {
     "iopub.execute_input": "2024-04-17T19:31:35.025515Z",
     "iopub.status.busy": "2024-04-17T19:31:35.024918Z",
     "iopub.status.idle": "2024-04-17T19:31:35.833548Z",
     "shell.execute_reply": "2024-04-17T19:31:35.832166Z",
     "shell.execute_reply.started": "2024-04-17T19:31:35.025467Z"
    },
    "tags": []
   },
   "outputs": [],
   "source": [
    "import numpy as np\n",
    "import matplotlib.pyplot as plt\n",
    "from matplotlib import cycler\n",
    "import seaborn as sns\n",
    "sns.set()\n",
    "from dateutil.relativedelta import relativedelta\n",
    "import datetime"
   ]
  },
  {
   "cell_type": "code",
   "execution_count": 2,
   "id": "0950fc01-6328-45da-a121-9769def09e82",
   "metadata": {
    "execution": {
     "iopub.execute_input": "2024-04-17T19:31:35.841552Z",
     "iopub.status.busy": "2024-04-17T19:31:35.841344Z",
     "iopub.status.idle": "2024-04-17T19:31:36.365190Z",
     "shell.execute_reply": "2024-04-17T19:31:36.363608Z",
     "shell.execute_reply.started": "2024-04-17T19:31:35.841534Z"
    },
    "tags": []
   },
   "outputs": [],
   "source": [
    "import ibm_db\n",
    "import ibm_db_dbi\n",
    "import pandas as pd\n",
    "import os\n",
    "import requests\n",
    "import sqlalchemy\n",
    "import io\n",
    "\n",
    "\n",
    "\n",
    "import configparser\n",
    "import warnings\n",
    "import csv\n",
    "\n",
    "from datetime import datetime\n",
    "\n",
    "warnings.filterwarnings(\"ignore\")\n"
   ]
  },
  {
   "cell_type": "markdown",
   "id": "c7cf5e83",
   "metadata": {},
   "source": [
    "LOADING TABLES OF INDIVIDUAL RISK FACTORS"
   ]
  },
  {
   "cell_type": "code",
   "execution_count": null,
   "id": "b22b9684",
   "metadata": {},
   "outputs": [],
   "source": [
    "#LOAD ALL RISK FACTORS FROM GP RECORDS AND/OR HOSPITAL (PEDW) RECORDS\n",
    "\n",
    "\n",
    "#ALCOHOL\n",
    "query = 'SELECT * FROM SAILW1375V.'+ 'WP01_PHEN_EXTRACT_WLGP_ALCOHOL'\n",
    "WLGP_ALCOHOL= pd.read_sql(query,pd_conn)\n",
    "\n",
    "query = 'SELECT * FROM SAILW1375V.'+ 'WP01_PHEN_EXTRACT_PEDW_ALCOHOL'\n",
    "PEDW_ALCOHOL= pd.read_sql(query,pd_conn)\n",
    "\n",
    "\n",
    "#AUTISM\n",
    "query = 'SELECT * FROM SAILW1375V.'+ 'WP01_PHEN_EXTRACT_WLGP_AUTISM'\n",
    "WLGP_AUTISM= pd.read_sql(query,pd_conn)\n",
    "\n",
    "query = 'SELECT * FROM SAILW1375V.'+ 'WP01_PHEN_EXTRACT_PEDW_AUTISM'\n",
    "PEDW_AUTISM= pd.read_sql(query,pd_conn)\n",
    "\n",
    "#BEHAVIOURAL DISORDER\n",
    "query = 'SELECT * FROM SAILW1375V.'+ 'WP01_PHEN_EXTRACT_WLGP_BEHAVIOUR'\n",
    "WLGP_BEHAVIOUR= pd.read_sql(query,pd_conn)\n",
    "\n",
    "query = 'SELECT * FROM SAILW1375V.'+ 'WP01_PHEN_EXTRACT_PEDW_BEHAVIOUR'\n",
    "PEDW_BEHAVIOUR= pd.read_sql(query,pd_conn)\n",
    "\n",
    "#BMI\n",
    "query = 'SELECT * FROM SAILW1375V.'+ 'WP01_PHEN_EXTRACT_WLGP_BMI'\n",
    "WLGP_BMI= pd.read_sql(query,pd_conn)\n",
    "\n",
    "#SMOKING\n",
    "query = 'SELECT * FROM SAILW1375V.'+ 'WP01_PHEN_EXTRACT_WLGP_SMOKING'\n",
    "WLGP_SMOKING= pd.read_sql(query,pd_conn)\n",
    "\n",
    "\n",
    "#WEIGHTHEIGHTBMI\n",
    "query = 'SELECT * FROM SAILW1375V.'+ 'WP01_PHEN_EXTRACT_WLGP_WEIGHTHEIGHTBMI'\n",
    "WLGP_WEIGHTHEIGHTBMI= pd.read_sql(query,pd_conn)\n",
    "\n",
    "query = 'SELECT * FROM SAILW1375V.'+ 'WP01_PHEN_EXTRACT_PEDW_WEIGHTHEIGHTBMI'\n",
    "PEDW_WEIGHTHEIGHTBMI= pd.read_sql(query,pd_conn)\n",
    "\n",
    "#PHYSICALACTIVITY\n",
    "query = 'SELECT * FROM SAILW1375V.'+ 'WP01_PHEN_EXTRACT_WLGP_PHYSICALACTIVITY'\n",
    "WLGP_PHYSICALACTIVITY= pd.read_sql(query,pd_conn)\n"
   ]
  },
  {
   "cell_type": "markdown",
   "id": "2beb9946-4acd-4502-8bea-b64aa64aa32b",
   "metadata": {},
   "source": [
    "LOAD DATA"
   ]
  },
  {
   "cell_type": "code",
   "execution_count": 4,
   "id": "3b42e80c-d059-497a-9f6b-5ae4afa0eab5",
   "metadata": {
    "execution": {
     "iopub.execute_input": "2024-04-17T19:31:45.231202Z",
     "iopub.status.busy": "2024-04-17T19:31:45.231037Z",
     "iopub.status.idle": "2024-04-17T19:31:50.287190Z",
     "shell.execute_reply": "2024-04-17T19:31:50.285320Z",
     "shell.execute_reply.started": "2024-04-17T19:31:45.231188Z"
    },
    "tags": []
   },
   "outputs": [],
   "source": [
    "#WP2_df= pd.read_csv(\"all_data0506.csv\") WP02_df_NEW\n",
    "# WP2_df= pd.read_csv(\"all_data2906.csv\") #DATA FOR LOS PAPER\n",
    "\n",
    "WP2_df= pd.read_csv(\"all_data3001.csv\") # LOAD MOST RECENT DATA\n",
    "\n",
    "#SET ADMISSION, DISCHARGE, DOD, AND WOB COLUMNS TO DATETIME VARIABLES\n",
    "WP2_df['DATE']=pd.to_datetime(WP2_df['DATE'])\n",
    "WP2_df['DISCH_DT']=pd.to_datetime(WP2_df['DISCH_DT'])\n",
    "WP2_df['DOD']=pd.to_datetime(WP2_df['DOD'])\n",
    "WP2_df['WOB']=pd.to_datetime(WP2_df['WOB'])\n",
    "WP2_df['EPI_STR_DT']=pd.to_datetime(WP2_df['EPI_STR_DT'])"
   ]
  },
  {
   "cell_type": "code",
   "execution_count": 5,
   "id": "f043bfa6-d736-4bab-8391-6aebdfda1328",
   "metadata": {
    "execution": {
     "iopub.execute_input": "2024-04-17T19:31:50.289686Z",
     "iopub.status.busy": "2024-04-17T19:31:50.289462Z",
     "iopub.status.idle": "2024-04-17T19:31:50.339112Z",
     "shell.execute_reply": "2024-04-17T19:31:50.337846Z",
     "shell.execute_reply.started": "2024-04-17T19:31:50.289668Z"
    },
    "tags": []
   },
   "outputs": [],
   "source": [
    "#ESTIMATE AGE AT DATE\n",
    "WP2_df['AGE_AT_DATE']=(WP2_df['DATE']-WP2_df['WOB'])/np.timedelta64(1,'Y')\n",
    "WP2_df['AGE_AT_DATE']=WP2_df['AGE_AT_DATE'].astype(int)\n",
    "\n",
    "\n",
    "#ASSIGN AGE GROUPS AT DATE\n",
    "bins=[0, 20, 30, 40, 50, 60, 70, 80, 105]\n",
    "labels= ['<20', '20-29', '30-39', '40-49', '50-59', '60-69', '70-79', '80+']\n",
    "WP2_df['AGEGRP_AT_DATE']=pd.cut(WP2_df.AGE_AT_DATE, bins, labels=labels, include_lowest=True)"
   ]
  },
  {
   "cell_type": "code",
   "execution_count": 6,
   "id": "53fdb06a-bc55-47c0-9353-44c8d2d0298b",
   "metadata": {
    "execution": {
     "iopub.execute_input": "2024-04-17T19:31:50.340816Z",
     "iopub.status.busy": "2024-04-17T19:31:50.340501Z",
     "iopub.status.idle": "2024-04-17T19:31:51.816250Z",
     "shell.execute_reply": "2024-04-17T19:31:51.814777Z",
     "shell.execute_reply.started": "2024-04-17T19:31:50.340800Z"
    },
    "tags": []
   },
   "outputs": [],
   "source": [
    "#DROPS DUPLICATES IN TOTAL DATA\n",
    "WP2_df.drop_duplicates(inplace=True)"
   ]
  },
  {
   "cell_type": "code",
   "execution_count": 7,
   "id": "aedfe8bb-29fc-4b3c-ab45-11370d1ade94",
   "metadata": {
    "execution": {
     "iopub.execute_input": "2024-04-17T19:31:51.834264Z",
     "iopub.status.busy": "2024-04-17T19:31:51.834109Z",
     "iopub.status.idle": "2024-04-17T19:31:51.840017Z",
     "shell.execute_reply": "2024-04-17T19:31:51.839092Z",
     "shell.execute_reply.started": "2024-04-17T19:31:51.834250Z"
    },
    "tags": []
   },
   "outputs": [
    {
     "data": {
      "text/plain": [
       "Index(['Unnamed: 0', 'ALF_PE', 'DATE', 'DISCH_DT', 'EPI_STR_DT', 'EPI_END_DT',\n",
       "       'DIAG_NUM', 'DIAG_CODE', 'DIAG_DESC', 'PROV_UNIT_CD', 'CONDITION',\n",
       "       'CODE_SYSTEM', 'WOB', 'AGE_AT_INDEX_DATE', 'AGE_GRPS_AT_INDEX_DATE',\n",
       "       'AGE_GRPS_AT_INDEX_DATE_DESC', 'DOD', 'GNDR_CD', 'GNDR_DESC',\n",
       "       'LSOA2011_CD_AT_INDEX_DATE', 'WIMD2019_QUINTILE_AT_INDEX_DATE',\n",
       "       'WIMD2019_QUINTILE_AT_INDEX_DATE_DESC',\n",
       "       'TOWNSEND2011_QUINTILE_AT_INDEX_DATE',\n",
       "       'TOWNSEND2011_QUINTILE_AT_INDEX_DATE_DESC',\n",
       "       'ETHN_EC_ONS_DATE_LATEST_CODE', 'ETHN_EC_ONS_DATE_LATEST_DESC',\n",
       "       'ETHN_EC_NER_DATE_LATEST_CODE', 'ETHN_EC_NER_DATE_LATEST_DESC',\n",
       "       'AGE_AT_DATE', 'AGEGRP_AT_DATE'],\n",
       "      dtype='object')"
      ]
     },
     "execution_count": 7,
     "metadata": {},
     "output_type": "execute_result"
    }
   ],
   "source": [
    "# VERIFY COLUMNS IN IMPORTED DATASET\n",
    "WP2_df.columns"
   ]
  },
  {
   "cell_type": "code",
   "execution_count": null,
   "id": "d81aca35-c546-40ac-82a1-c626aa3aff51",
   "metadata": {
    "execution": {
     "iopub.execute_input": "2024-04-17T19:31:51.840813Z",
     "iopub.status.busy": "2024-04-17T19:31:51.840661Z",
     "iopub.status.idle": "2024-04-17T19:31:51.856850Z",
     "shell.execute_reply": "2024-04-17T19:31:51.855836Z",
     "shell.execute_reply.started": "2024-04-17T19:31:51.840800Z"
    },
    "tags": []
   },
   "outputs": [],
   "source": [
    "# MAXIMUM AGE PF PATIENT\n",
    "WP2_df['AGE_AT_DATE'].max()"
   ]
  },
  {
   "cell_type": "code",
   "execution_count": null,
   "id": "6fc4cd5b",
   "metadata": {},
   "outputs": [],
   "source": [
    "# ADD NEW COLUMN INDICATING MORTALITY OF PATIENT. BASED ON THE PRESENCE OF A VALUE IN THE DOD (DATE OF DEATH) COLUMN\n",
    "WP2_df['MORTALITY']= np.where(WP2_df['DOD'].isnull(),0,1)\n",
    "WP2_df"
   ]
  },
  {
   "cell_type": "code",
   "execution_count": 133,
   "id": "bbc45d2f-55c0-4e5f-b29e-d1078c6e35db",
   "metadata": {
    "execution": {
     "iopub.execute_input": "2024-02-01T10:01:07.258875Z",
     "iopub.status.busy": "2024-02-01T10:01:07.257543Z",
     "iopub.status.idle": "2024-02-01T10:01:07.377729Z",
     "shell.execute_reply": "2024-02-01T10:01:07.376830Z",
     "shell.execute_reply.started": "2024-02-01T10:01:07.258805Z"
    },
    "tags": []
   },
   "outputs": [],
   "source": [
    "# OBTAIN DATASET OF UNIQUE MALE PATIENTS WITH MORTALITY= 1\n",
    "MALE_TM=WP2_df.query(\"MORTALITY==1 and GNDR_DESC=='MALE'\").drop_duplicates(subset=['ALF_PE'], ignore_index=True,  keep='last')\n",
    "\n",
    "# IDENTIFY PATIENTS WITH MISSING WIMD INDEX\n",
    "MALE_TM['WIMD2019_QUINTILE_AT_INDEX_DATE'].isnull().sum()"
   ]
  },
  {
   "cell_type": "code",
   "execution_count": 135,
   "id": "a6da96d7-a81b-4e7d-8989-6f505b78576d",
   "metadata": {
    "execution": {
     "iopub.execute_input": "2024-02-01T10:01:08.563461Z",
     "iopub.status.busy": "2024-02-01T10:01:08.563014Z",
     "iopub.status.idle": "2024-02-01T10:01:08.637010Z",
     "shell.execute_reply": "2024-02-01T10:01:08.636315Z",
     "shell.execute_reply.started": "2024-02-01T10:01:08.563419Z"
    },
    "tags": []
   },
   "outputs": [],
   "source": [
    "# OBTAIN DATASET OF UNIQUE FEMALE PATIENTS WITH MORTALITY= 1\n",
    "\n",
    "FEMALE_TM=WP2_df.query(\"MORTALITY==1 and GNDR_DESC=='FEMALE'\").drop_duplicates(subset=['ALF_PE'], ignore_index=True,  keep='last')\n",
    "\n",
    "# IDENTIFY PATIENTS WITH MISSING WIMD INDEX\n",
    "FEMALE_TM['WIMD2019_QUINTILE_AT_INDEX_DATE'].isnull().sum()"
   ]
  },
  {
   "cell_type": "code",
   "execution_count": null,
   "id": "1b6405a5",
   "metadata": {},
   "outputs": [],
   "source": [
    "# OBTAIN COUNT OF UNIQUE PATIENTS WITH HOSPITAL ADMISSION RECORDS\n",
    "WP2_df.query('CODE_SYSTEM==\"ICD10\"').ALF_PE.nunique()"
   ]
  },
  {
   "cell_type": "markdown",
   "id": "270b1ce1-e2a0-41e2-9bb9-3ecb1f48a97c",
   "metadata": {},
   "source": [
    "CLEANING OF DATA "
   ]
  },
  {
   "cell_type": "code",
   "execution_count": 12,
   "id": "dd651e2d-cd4a-43d2-aa22-743206c35527",
   "metadata": {
    "execution": {
     "iopub.execute_input": "2024-02-19T16:26:02.117303Z",
     "iopub.status.busy": "2024-02-19T16:26:02.117111Z",
     "iopub.status.idle": "2024-02-19T16:26:02.460169Z",
     "shell.execute_reply": "2024-02-19T16:26:02.458771Z",
     "shell.execute_reply.started": "2024-02-19T16:26:02.117285Z"
    },
    "tags": []
   },
   "outputs": [],
   "source": [
    "#SORT VALUES CHRONOLOGICALLY BASED ON PATIENT ID (ALF_PE), ADMIT PR GP VISIT DATE (DATE) AND EPISODE START DATE FOR HOSPITAL EPISODES(EPI_STR_DT)\n",
    "WP2_df=WP2_df.sort_values(by=['ALF_PE','DATE','EPI_STR_DT'], ignore_index=True)"
   ]
  },
  {
   "cell_type": "code",
   "execution_count": 13,
   "id": "098788f7-933f-469c-ac52-17f0950a047a",
   "metadata": {
    "execution": {
     "iopub.execute_input": "2024-02-19T16:26:02.479493Z",
     "iopub.status.busy": "2024-02-19T16:26:02.479334Z",
     "iopub.status.idle": "2024-02-19T16:26:04.613874Z",
     "shell.execute_reply": "2024-02-19T16:26:04.612489Z",
     "shell.execute_reply.started": "2024-02-19T16:26:02.479479Z"
    },
    "tags": []
   },
   "outputs": [],
   "source": [
    "#OBTAIN SEQUENCE ORDER OF COMORBIDITIES PER PATIENT BASED ON FIRST DIAGNOSIS\n",
    "WP2_df['COM_SEQ']=WP2_df.groupby(['ALF_PE'])['CONDITION'].transform(lambda x: pd.factorize(x)[0]+1)"
   ]
  },
  {
   "cell_type": "code",
   "execution_count": null,
   "id": "b4eb534f",
   "metadata": {},
   "outputs": [],
   "source": [
    "# TEST OUTPUT OF COM_SEQ VARIABLE FOR A PATIENT\n",
    "WP2_df[['ALF_PE','DATE','CONDITION','COM_SEQ']].query('ALF_PE==10000XXX')"
   ]
  },
  {
   "cell_type": "code",
   "execution_count": null,
   "id": "a1ed2382-c44d-4c6d-8174-f764177b45be",
   "metadata": {
    "execution": {
     "iopub.execute_input": "2024-02-19T16:27:37.475306Z",
     "iopub.status.busy": "2024-02-19T16:27:37.474429Z",
     "iopub.status.idle": "2024-02-19T16:27:37.592545Z",
     "shell.execute_reply": "2024-02-19T16:27:37.591126Z",
     "shell.execute_reply.started": "2024-02-19T16:27:37.475225Z"
    },
    "tags": []
   },
   "outputs": [],
   "source": [
    "# OBTAIN NUMBER OF UNIQUE ADMISSIONS\n",
    "WP2_df.query('CODE_SYSTEM==\"ICD10\"').drop_duplicates(subset=['ALF_PE','DATE', 'DISCH_DT'], ignore_index=True).shape[0]"
   ]
  },
  {
   "cell_type": "markdown",
   "id": "7092719f-7f52-49c9-9c26-af85ec443f20",
   "metadata": {},
   "source": [
    "DROP MISSING VALUES OF HOSPITAL ADMISSION/DISCHARGE DATES"
   ]
  },
  {
   "cell_type": "code",
   "execution_count": null,
   "id": "de6f2c88",
   "metadata": {},
   "outputs": [],
   "source": [
    "# OBTAIN COUNTS OF ADMISSIONS WITH MISSING DISCHARGE DATES\n",
    "WP2_df.query('CODE_SYSTEM==\"ICD10\"').DISCH_DT.isnull().sum()"
   ]
  },
  {
   "cell_type": "code",
   "execution_count": 17,
   "id": "50ec33a7-cef5-42d9-9acc-9cdb2d75d71f",
   "metadata": {
    "execution": {
     "iopub.execute_input": "2024-02-19T16:28:33.787056Z",
     "iopub.status.busy": "2024-02-19T16:28:33.786502Z",
     "iopub.status.idle": "2024-02-19T16:28:34.071439Z",
     "shell.execute_reply": "2024-02-19T16:28:34.070247Z",
     "shell.execute_reply.started": "2024-02-19T16:28:33.787011Z"
    },
    "tags": []
   },
   "outputs": [],
   "source": [
    "# DROP ROWS WITH MISSING DISCHARGE DATES\n",
    "WP2_df.drop(WP2_df[(WP2_df['CODE_SYSTEM']=='ICD10') & (WP2_df['DISCH_DT'].isnull())].index, inplace=True)"
   ]
  },
  {
   "cell_type": "code",
   "execution_count": 19,
   "id": "b544930b-4b85-4b00-afaa-a33050051e5c",
   "metadata": {
    "execution": {
     "iopub.execute_input": "2024-02-19T16:28:37.994839Z",
     "iopub.status.busy": "2024-02-19T16:28:37.993917Z",
     "iopub.status.idle": "2024-02-19T16:28:38.200830Z",
     "shell.execute_reply": "2024-02-19T16:28:38.199394Z",
     "shell.execute_reply.started": "2024-02-19T16:28:37.994790Z"
    },
    "tags": []
   },
   "outputs": [],
   "source": [
    "# RESET ROW INDEXES\n",
    "WP2_df=WP2_df.reset_index(drop=True)"
   ]
  },
  {
   "cell_type": "code",
   "execution_count": 22,
   "id": "4d8f6aea-5981-4d62-85fd-b8b93864223e",
   "metadata": {
    "execution": {
     "iopub.execute_input": "2024-02-19T16:30:43.383803Z",
     "iopub.status.busy": "2024-02-19T16:30:43.383264Z",
     "iopub.status.idle": "2024-02-19T16:30:43.434668Z",
     "shell.execute_reply": "2024-02-19T16:30:43.433664Z",
     "shell.execute_reply.started": "2024-02-19T16:30:43.383758Z"
    },
    "tags": []
   },
   "outputs": [],
   "source": [
    "# PUT IN NUMBER OF LONG TERM COMORBIDITIES PER CORRESPONDING PATIENT AT EACH EVENT/ADMISSION DATE.\n",
    "WP2_df['COMORBIDITY_COUNT']=WP2_df.groupby(['ALF_PE'])['COM_SEQ'].cummax()"
   ]
  },
  {
   "cell_type": "code",
   "execution_count": null,
   "id": "64ae5fb3",
   "metadata": {},
   "outputs": [],
   "source": [
    "#TEST OUTPUT OF COMORBIDITY_COUNT\n",
    "WP2_df[['ALF_PE','DATE','CONDITION','COM_SEQ','COMORBIDITY_COUNT']].query('ALF_PE==10000XXX')"
   ]
  },
  {
   "cell_type": "markdown",
   "id": "32fb01a0-144a-4177-9af2-0afe24214a09",
   "metadata": {},
   "source": [
    "INCLUDE COLUMNS TO CATEGORIZE PATIENTS WITH AUTISM"
   ]
  },
  {
   "cell_type": "code",
   "execution_count": 151,
   "id": "c2a701ea-1c92-471b-b8eb-f6b391ddf90f",
   "metadata": {
    "execution": {
     "iopub.execute_input": "2024-02-01T10:01:39.217397Z",
     "iopub.status.busy": "2024-02-01T10:01:39.216134Z",
     "iopub.status.idle": "2024-02-01T10:01:39.238769Z",
     "shell.execute_reply": "2024-02-01T10:01:39.237753Z",
     "shell.execute_reply.started": "2024-02-01T10:01:39.217330Z"
    },
    "tags": []
   },
   "outputs": [],
   "source": [
    "AUTISM_LIST=WLGP_AUTISM.ALF_PE.unique().tolist()+list(set(PEDW_AUTISM.ALF_PE.unique().tolist())-set(WLGP_AUTISM.ALF_PE.unique().tolist()))\n",
    "WP2_df['AUTISM']=0\n",
    "WP2_df.loc[WP2_df['ALF_PE'].isin(AUTISM_LIST), 'AUTISM']=1"
   ]
  },
  {
   "cell_type": "code",
   "execution_count": null,
   "id": "17b73d58",
   "metadata": {},
   "outputs": [],
   "source": [
    "#OBTAIN VALUE COUNTS OF PATIENTS WITH AND WITHOUT AUTISM\n",
    "WP2_df.drop_duplicates(subset=['ALF_PE'], ignore_index=True).AUTISM.value_counts()"
   ]
  },
  {
   "cell_type": "markdown",
   "id": "c728e01f-cc0d-406e-a1ff-f5eac16d5cdb",
   "metadata": {},
   "source": [
    "INCLUDE COLUMNS TO CATEGORIZE PATIENTS WITH BEHAVIORAL DISORDER"
   ]
  },
  {
   "cell_type": "code",
   "execution_count": 153,
   "id": "63cd1270-26a0-48a8-a3ae-1b4e92420633",
   "metadata": {
    "execution": {
     "iopub.execute_input": "2024-02-01T10:02:11.477180Z",
     "iopub.status.busy": "2024-02-01T10:02:11.476257Z",
     "iopub.status.idle": "2024-02-01T10:02:11.496446Z",
     "shell.execute_reply": "2024-02-01T10:02:11.495693Z",
     "shell.execute_reply.started": "2024-02-01T10:02:11.477126Z"
    },
    "tags": []
   },
   "outputs": [],
   "source": [
    "BEHAV_LIST=WLGP_BEHAVIOUR.ALF_PE.unique().tolist()+list(set(PEDW_BEHAVIOUR.ALF_PE.unique().tolist())-set(WLGP_BEHAVIOUR.ALF_PE.unique().tolist()))\n",
    "WP2_df['BEHAVIOR_DISORDER']=0\n",
    "WP2_df.loc[WP2_df['ALF_PE'].isin(BEHAV_LIST), 'BEHAVIOR_DISORDER']=1"
   ]
  },
  {
   "cell_type": "code",
   "execution_count": null,
   "id": "8183a3ae",
   "metadata": {},
   "outputs": [],
   "source": [
    "#OBTAIN VALUE COUNTS OF PATIENTS WITH AND WITHOUT BEHAVIOR DISORDER\n",
    "WP2_df.drop_duplicates(subset=['ALF_PE'], ignore_index=True).BEHAVIOR_DISORDER.value_counts()"
   ]
  },
  {
   "cell_type": "markdown",
   "id": "bf0b6237-fb16-4e35-969f-505c671766e8",
   "metadata": {
    "execution": {
     "iopub.execute_input": "2023-05-23T16:27:25.168449Z",
     "iopub.status.busy": "2023-05-23T16:27:25.167409Z",
     "iopub.status.idle": "2023-05-23T16:27:25.177406Z",
     "shell.execute_reply": "2023-05-23T16:27:25.175056Z",
     "shell.execute_reply.started": "2023-05-23T16:27:25.168396Z"
    }
   },
   "source": [
    "INCLUDE COLUMNS TO CATEGORIZE PATIENTS WITH HISTORY OF ALCOHOL"
   ]
  },
  {
   "cell_type": "code",
   "execution_count": 155,
   "id": "b892f642-9a23-4e3a-afd2-930a45582c4c",
   "metadata": {
    "execution": {
     "iopub.execute_input": "2024-02-01T10:02:22.558084Z",
     "iopub.status.busy": "2024-02-01T10:02:22.557491Z",
     "iopub.status.idle": "2024-02-01T10:02:22.625509Z",
     "shell.execute_reply": "2024-02-01T10:02:22.624791Z",
     "shell.execute_reply.started": "2024-02-01T10:02:22.558037Z"
    },
    "tags": []
   },
   "outputs": [],
   "source": [
    "#DROP SOME EVENT DESCRIPTIONS CONTAINED IN THE GP RECORDS. THESE VARIABLES ARE NOT INDICATIVE OF A PATIENTS ALCOHOL STATUS\n",
    "WLGP_ALCOHOL=WLGP_ALCOHOL.drop(WLGP_ALCOHOL[(WLGP_ALCOHOL.EVENT_CD_DESC=='Alcohol consumption')].index)\n",
    "WLGP_ALCOHOL=WLGP_ALCOHOL.drop(WLGP_ALCOHOL[(WLGP_ALCOHOL.EVENT_CD_DESC=='Alcohol consumption NOS')].index)\n",
    "WLGP_ALCOHOL=WLGP_ALCOHOL.drop(WLGP_ALCOHOL[(WLGP_ALCOHOL.EVENT_CD_DESC=='Alcohol units per week')].index)"
   ]
  },
  {
   "cell_type": "code",
   "execution_count": null,
   "id": "8518f3de",
   "metadata": {},
   "outputs": [],
   "source": [
    "#OBTAIN NUMBER OF UNIQUE PATIENTS HOW HAVE PROVIDED AT LEAST ONE DECLARATION OF ALCOHOL STATUS\n",
    "WP2_df_IDLIST=WP2_df.ALF_PE.unique().tolist()\n",
    "ALCOHOL_IDLIST=set(WLGP_ALCOHOL.ALF_PE.unique().tolist()+ PEDW_ALCOHOL.ALF_PE.unique().tolist())\n",
    "len(ALCOHOL_IDLIST)"
   ]
  },
  {
   "cell_type": "code",
   "execution_count": null,
   "id": "5256701f",
   "metadata": {},
   "outputs": [],
   "source": [
    "#NUMBER OF PATIENTS FROM OUR COHORT WHOSE IDs ARE IN THE ALCOHOL_IDLIST LIST\n",
    "sum(list in WP2_df_IDLIST for list in ALCOHOL_IDLIST)"
   ]
  },
  {
   "cell_type": "code",
   "execution_count": 158,
   "id": "cbdcbd5b-ac8b-4d2f-a849-90f12787963b",
   "metadata": {
    "execution": {
     "iopub.execute_input": "2024-02-01T10:02:40.384292Z",
     "iopub.status.busy": "2024-02-01T10:02:40.383331Z",
     "iopub.status.idle": "2024-02-01T10:02:40.413996Z",
     "shell.execute_reply": "2024-02-01T10:02:40.412698Z",
     "shell.execute_reply.started": "2024-02-01T10:02:40.384236Z"
    },
    "tags": []
   },
   "outputs": [],
   "source": [
    "#SET DATES TO DATETIME TYPE\n",
    "WLGP_ALCOHOL['EVENT_DT']=pd.to_datetime(WLGP_ALCOHOL['EVENT_DT'])\n",
    "PEDW_ALCOHOL['ADMIS_DT']=pd.to_datetime(PEDW_ALCOHOL['ADMIS_DT'])"
   ]
  },
  {
   "cell_type": "code",
   "execution_count": 159,
   "id": "a32bb6c0-b049-4e26-8da3-b2970e0284cb",
   "metadata": {
    "execution": {
     "iopub.execute_input": "2024-02-01T10:02:41.218839Z",
     "iopub.status.busy": "2024-02-01T10:02:41.218366Z",
     "iopub.status.idle": "2024-02-01T10:02:41.229556Z",
     "shell.execute_reply": "2024-02-01T10:02:41.228438Z",
     "shell.execute_reply.started": "2024-02-01T10:02:41.218796Z"
    },
    "tags": []
   },
   "outputs": [],
   "source": [
    "NON_DRINKER=['Teetotaller']\n",
    "CURRENT_NON_DRINKER=['Current non drinker']\n",
    "MODERATE_DRINKER=['Ex-light drinker - (1-2u/day)','Ex-trivial drinker (<1u/day)',\n",
    "                  'Trivial drinker - <1u/day','Social drinker','Alcohol intake within recommended sensible limits',\n",
    "                  'Light drinker','Moderate drinker']\n",
    "\n",
    "HEAVY_DRINKER=['Mental and behavioural disorders due to use of alcohol','[X]Mental and behavioural disorders due to use of alcohol: psychotic disorder',\n",
    "               'Chronic alcoholism in remission','Alcohol-induced chronic pancreatitis',\n",
    "               '[X]Mental and behavioural disorders due to use of alcohol: harmful use','[X]Mental and behavioural disorders due to use of alcohol',\n",
    "               'Alcohol withdrawal delirium','[X]Alcohol withdrawal-induced seizure','Chronic alcoholism NOS','Alcoholic hepatitis',\n",
    "               'Under care of community alcohol team','[X]Mental and behavioural disorders due to use of alcohol: dependence syndrome',\n",
    "               'Continuous chronic alcoholism','Alcohol dependence syndrome NOS','Alcoholic fatty liver','Very heavy drinker','Chronic alcoholism',\n",
    "               'Alcoholic liver damage unspecified','Very heavy drinker - >9u/day','Binge drinker','Alcohol intake above recommended sensible limits', \n",
    "               'Alcohol abuse monitoring','Hazardous alcohol use','Heavy drinker','Harmful alcohol use','Alcoholic cirrhosis of liver',\n",
    "               'Alcohol misuse','Acute alcoholic intoxication in alcoholism',]\n",
    "\n",
    "DRINKER=['Drinks wine','Spirit drinker','Beer drinker','Drinks beer and spirits','Feels should cut down drinking','Declined referral to specialist alcohol treatment service','Alcohol dependence syndrome',\n",
    "         'Current non drinker','H/O: alcoholism', 'Alcohol withdrawal syndrome',]\n",
    "\n",
    "FORMER_DRINKER=['Ex-light drinker - (1-2u/day)','Ex-heavy drinker - (7-9u/day)','Ex-very heavy drinker-(>9u/d)',\n",
    "                'Ex-trivial drinker (<1u/day)']\n",
    "\n",
    "CLASS_0_ALCOHOL=NON_DRINKER + MODERATE_DRINKER+ CURRENT_NON_DRINKER"
   ]
  },
  {
   "cell_type": "code",
   "execution_count": 160,
   "id": "a97ce494-acf0-4340-a4cc-6febce726073",
   "metadata": {
    "execution": {
     "iopub.execute_input": "2024-02-01T10:02:42.949214Z",
     "iopub.status.busy": "2024-02-01T10:02:42.948727Z",
     "iopub.status.idle": "2024-02-01T10:02:42.960284Z",
     "shell.execute_reply": "2024-02-01T10:02:42.958973Z",
     "shell.execute_reply.started": "2024-02-01T10:02:42.949171Z"
    },
    "tags": []
   },
   "outputs": [],
   "source": [
    "# FUNCTION TO CATEGORISE A PATIENTS ALCOHOL STATUS BASED ON PRESENCE OF ANY HISTORY OF DRINKING\n",
    "def Alcoholhistory(ID,DATE):\n",
    "    GPpatient_list=WLGP_ALCOHOL.query('ALF_PE==@ID & EVENT_DT<=@DATE').EVENT_CD_DESC.unique().tolist()\n",
    "    HOSPpatient_list=PEDW_ALCOHOL.query('ALF_PE==@ID & ADMIS_DT<=@DATE').DIAG_CD_1234_DESC.unique().tolist()\n",
    "    patient_list= GPpatient_list+list(set(HOSPpatient_list)-set(GPpatient_list))\n",
    "    \n",
    "    future_GPpatient_list=WLGP_ALCOHOL.query('ALF_PE==@ID & EVENT_DT>@DATE').EVENT_CD_DESC.unique().tolist()\n",
    "    \n",
    "    if len(patient_list)==0:\n",
    "        if len(future_GPpatient_list)!=0 and  future_GPpatient_list[0]=='Teetotaller':\n",
    "            status=0\n",
    "        else:\n",
    "            status='unknown'\n",
    "    elif len(patient_list)!=0 and all(element in CLASS_0_ALCOHOL for element in patient_list):\n",
    "        status=0\n",
    "    else:\n",
    "        status=1\n",
    "    return status"
   ]
  },
  {
   "cell_type": "code",
   "execution_count": 161,
   "id": "ca0017ae-c511-45b5-85f9-75d2619a0ea9",
   "metadata": {
    "execution": {
     "iopub.execute_input": "2024-02-01T10:02:44.998257Z",
     "iopub.status.busy": "2024-02-01T10:02:44.997519Z",
     "iopub.status.idle": "2024-02-01T10:56:38.822216Z",
     "shell.execute_reply": "2024-02-01T10:56:38.821085Z",
     "shell.execute_reply.started": "2024-02-01T10:02:44.998207Z"
    },
    "tags": []
   },
   "outputs": [],
   "source": [
    "DF_CHECK=WP2_df\n",
    "DF_CHECK=DF_CHECK.drop_duplicates(subset=['ALF_PE','DATE'], ignore_index=True)\n",
    "DF_CHECK['ALCOHOL_HISTORY']=DF_CHECK.apply(lambda x: Alcoholhistory(x['ALF_PE'],x['DATE']), axis=1)\n"
   ]
  },
  {
   "cell_type": "code",
   "execution_count": 162,
   "id": "1ce8746d-e418-4780-a0cc-925ff94baade",
   "metadata": {
    "execution": {
     "iopub.execute_input": "2024-02-01T10:56:38.837995Z",
     "iopub.status.busy": "2024-02-01T10:56:38.837847Z",
     "iopub.status.idle": "2024-02-01T10:56:40.151212Z",
     "shell.execute_reply": "2024-02-01T10:56:40.150304Z",
     "shell.execute_reply.started": "2024-02-01T10:56:38.837981Z"
    },
    "tags": []
   },
   "outputs": [],
   "source": [
    "WP2_df=WP2_df.sort_values(by=['ALF_PE','DATE', 'DISCH_DT'], ignore_index=True)\n",
    "DF_CHECK=DF_CHECK.sort_values(by=['ALF_PE','DATE', 'DISCH_DT'], ignore_index=True)\n",
    "WP2_df=pd.merge(WP2_df,DF_CHECK[['ALF_PE','DATE','ALCOHOL_HISTORY']])"
   ]
  },
  {
   "cell_type": "code",
   "execution_count": null,
   "id": "84b87664",
   "metadata": {},
   "outputs": [],
   "source": [
    "# OBTAIN COUNTS OF PATIENTS WITH ALCOHOL STATUS=1, 0, AND 'UNKNOWN'\n",
    "WP2_df.ALCOHOL_HISTORY.value_counts()"
   ]
  },
  {
   "cell_type": "code",
   "execution_count": 164,
   "id": "82cbdcd1-1e26-4b99-8183-6ddcd738c58d",
   "metadata": {
    "execution": {
     "iopub.execute_input": "2024-02-01T10:56:40.193485Z",
     "iopub.status.busy": "2024-02-01T10:56:40.193290Z",
     "iopub.status.idle": "2024-02-01T10:56:40.208202Z",
     "shell.execute_reply": "2024-02-01T10:56:40.206957Z",
     "shell.execute_reply.started": "2024-02-01T10:56:40.193466Z"
    },
    "tags": []
   },
   "outputs": [],
   "source": [
    "#FUNCTION TO IDENTIFY IF A PATIENT HAS AN AVAILABLE ALCOHOL RECORD\n",
    "def AlcPresence(X):\n",
    "    mylist=X.ALCOHOL_HISTORY.unique().tolist()\n",
    "    if all(element in ['unknown'] for element in mylist):\n",
    "        presAlcRec=0\n",
    "    else:\n",
    "        presAlcRec=1\n",
    "    return pd.Series(presAlcRec, index=X.index)"
   ]
  },
  {
   "cell_type": "code",
   "execution_count": 165,
   "id": "8aa43dee-7dc2-4386-a3b9-9917fe83f015",
   "metadata": {
    "execution": {
     "iopub.execute_input": "2024-02-01T10:56:40.210979Z",
     "iopub.status.busy": "2024-02-01T10:56:40.210412Z",
     "iopub.status.idle": "2024-02-01T10:56:42.687811Z",
     "shell.execute_reply": "2024-02-01T10:56:42.687128Z",
     "shell.execute_reply.started": "2024-02-01T10:56:40.210846Z"
    },
    "tags": []
   },
   "outputs": [],
   "source": [
    "WP2_df['PresenceAlcRec']=WP2_df.groupby('ALF_PE',group_keys=False).apply(AlcPresence)"
   ]
  },
  {
   "cell_type": "code",
   "execution_count": null,
   "id": "6a342d85",
   "metadata": {},
   "outputs": [],
   "source": [
    "#IDENTIFY NUMBER OF DISTINCT PATIENTS WITH OBTAINABLE ALCOHOL RECORDS AT SOME POINT IN THEIR TIMELINE\n",
    "WP2_df.query('PresenceAlcRec==1').drop_duplicates(subset=['ALF_PE']).shape[0]"
   ]
  },
  {
   "cell_type": "code",
   "execution_count": 167,
   "id": "3815468a-f982-4bf2-be54-da7489fe1cc9",
   "metadata": {
    "execution": {
     "iopub.execute_input": "2024-02-01T10:56:42.958077Z",
     "iopub.status.busy": "2024-02-01T10:56:42.957910Z",
     "iopub.status.idle": "2024-02-01T10:56:45.012715Z",
     "shell.execute_reply": "2024-02-01T10:56:45.012102Z",
     "shell.execute_reply.started": "2024-02-01T10:56:42.958062Z"
    },
    "tags": []
   },
   "outputs": [],
   "source": [
    "#CHECK NUMBER OF PATIENTS THAT CHANGE ALCOHOL CATEGORY OVER TIME\n",
    "def ALCChange(X):\n",
    "    mylist=X.ALCOHOL_HISTORY.unique().tolist()\n",
    "    if len(mylist)>1:\n",
    "        alcchange=1\n",
    "    else:\n",
    "        alcchange=0\n",
    "    return pd.Series(alcchange, index=X.index)\n",
    "\n",
    "WP2_df['PresenceALCchange']=WP2_df.groupby('ALF_PE',group_keys=False).apply(ALCChange)"
   ]
  },
  {
   "cell_type": "markdown",
   "id": "c96621a8-1490-489d-a0cc-e3183a31f1dc",
   "metadata": {
    "execution": {
     "iopub.execute_input": "2023-05-24T14:41:49.699559Z",
     "iopub.status.busy": "2023-05-24T14:41:49.698962Z",
     "iopub.status.idle": "2023-05-24T14:41:49.719003Z",
     "shell.execute_reply": "2023-05-24T14:41:49.718175Z",
     "shell.execute_reply.started": "2023-05-24T14:41:49.699509Z"
    },
    "tags": []
   },
   "source": [
    "INCLUDE COLUMNS TO CATEGORIZE PATIENTS WITH HISTORY OF SMOKING"
   ]
  },
  {
   "cell_type": "code",
   "execution_count": null,
   "id": "261059ef",
   "metadata": {},
   "outputs": [],
   "source": [
    "#OBTAIN NUMBER OF UNIQUE PATIENTS WHO PROVIDED A DECLARATION OF THEIR SMOKING STATUS AT LEAST ONCE.\n",
    "SMOKING_IDLIST=WLGP_SMOKING.ALF_PE.unique().tolist()\n",
    "len(SMOKING_IDLIST)"
   ]
  },
  {
   "cell_type": "code",
   "execution_count": null,
   "id": "f75d8a2f",
   "metadata": {},
   "outputs": [],
   "source": [
    "#NUMBER OF PATIENTS FROM OUR COHORT WHOSE IDs ARE IN THE SMOKING_IDLIST\n",
    "sum(list in WP2_df_IDLIST for list in SMOKING_IDLIST)"
   ]
  },
  {
   "cell_type": "code",
   "execution_count": 171,
   "id": "d94778d4-fd32-41c4-9ff8-b0302a9d1ab7",
   "metadata": {
    "execution": {
     "iopub.execute_input": "2024-02-01T11:21:10.350721Z",
     "iopub.status.busy": "2024-02-01T11:21:10.349662Z",
     "iopub.status.idle": "2024-02-01T11:21:10.397356Z",
     "shell.execute_reply": "2024-02-01T11:21:10.396337Z",
     "shell.execute_reply.started": "2024-02-01T11:21:10.350672Z"
    },
    "tags": []
   },
   "outputs": [],
   "source": [
    "#SET DATES TO DATETIME TYPE\n",
    "WLGP_SMOKING['EVENT_DT']=pd.to_datetime(WLGP_SMOKING['EVENT_DT'])"
   ]
  },
  {
   "cell_type": "code",
   "execution_count": 172,
   "id": "797f129b-3f4b-4e1e-bf40-691bc001a219",
   "metadata": {
    "execution": {
     "iopub.execute_input": "2024-02-01T11:21:10.698986Z",
     "iopub.status.busy": "2024-02-01T11:21:10.698552Z",
     "iopub.status.idle": "2024-02-01T11:21:10.733723Z",
     "shell.execute_reply": "2024-02-01T11:21:10.732904Z",
     "shell.execute_reply.started": "2024-02-01T11:21:10.698946Z"
    },
    "tags": []
   },
   "outputs": [],
   "source": [
    "#DROP SOME EVENT_DESCCRIPTION WHICH DO NOT POINT TO PRESENCE OR ABSENCE OF SMOKING HISTORY.\n",
    "VALUES=['Waterpipe tobacco consumption','Family smoking history','Cigar consumption','Cigarette pack-years','Tobacco consumption NOS','Chews tobacco','Cigarette consumption','Tobacco consumption']\n",
    "WLGP_SMOKING=WLGP_SMOKING[~WLGP_SMOKING['EVENT_CD_DESC'].isin(VALUES)]"
   ]
  },
  {
   "cell_type": "code",
   "execution_count": 173,
   "id": "8b0bd41d-50cf-4b80-b74b-284f36dbd039",
   "metadata": {
    "execution": {
     "iopub.execute_input": "2024-02-01T11:21:11.182694Z",
     "iopub.status.busy": "2024-02-01T11:21:11.182228Z",
     "iopub.status.idle": "2024-02-01T11:21:11.192256Z",
     "shell.execute_reply": "2024-02-01T11:21:11.190935Z",
     "shell.execute_reply.started": "2024-02-01T11:21:11.182653Z"
    },
    "tags": []
   },
   "outputs": [],
   "source": [
    "#MAKE LIST OF CATEGORIES\n",
    "NON_SMOKER=['Never smoked tobacco','Current non-smoker']\n",
    "\n",
    "EX_SMOKER=['Date ceased smoking','Ex roll-up cigarette smoker','Ex cigar smoker','Ex pipe smoker','Ex-very heavy smoker (40+/day)',\n",
    "           'Ex-cigarette smoker','Ex-heavy smoker (20-39/day)','Ex smoker', 'Current non-smoker','Stopped smoking', \n",
    "           'Ex-smoker - amount unknown']\n",
    "\n",
    "SMOKER=['Smoking status at 52 weeks','Total time smoked','Pipe tobacco consumption','Smoking restarted','Smoking status between 4 and 52 weeks','Smoking status at 4 weeks',\n",
    "        'Current smoker annual review - enhanced services administration','Minutes from waking to first tobacco consumption',\n",
    "        'Smoking cessation programme start date','Recently stopped smoking','Smoking free weeks','Smoking reduced',\n",
    "        'Negotiated date for cessation of smoking','Smoking started','Keeps trying to stop smoking','Failed attempt to stop smoking',\n",
    "        'Smoking cessation milestones','Not a passive smoker','Ready to stop smoking','Passive smoker','Thinking about stopping smoking',\n",
    "        'Pipe smoker','Trivial smoker - < 1 cig/day','Cigarette smoker','Current smoker','Rolls own cigarettes','Trying to give up smoking',\n",
    "        'Not interested in stopping smoking']\n",
    "\n",
    "SMOK_UNKNOWN=['Refusal to give smoking status','Tobacco consumption unknown']\n"
   ]
  },
  {
   "cell_type": "code",
   "execution_count": 174,
   "id": "c04d666f-19e3-477f-b419-08ec7461841c",
   "metadata": {
    "execution": {
     "iopub.execute_input": "2024-02-01T11:21:12.473358Z",
     "iopub.status.busy": "2024-02-01T11:21:12.472900Z",
     "iopub.status.idle": "2024-02-01T11:21:12.483738Z",
     "shell.execute_reply": "2024-02-01T11:21:12.482422Z",
     "shell.execute_reply.started": "2024-02-01T11:21:12.473316Z"
    },
    "tags": []
   },
   "outputs": [],
   "source": [
    "#CREATE FUNCTION TO CATEGORISE PATIENT'S SMOKING STATUS AT EACH UNIQUE ADMISSION DATE BASED ON AN AVAILABLE HISTORY OF SMOKING.\n",
    "def Smokinghistory(ID,DATE):\n",
    "    patient_list=WLGP_SMOKING.query('ALF_PE==@ID & EVENT_DT<=@DATE').EVENT_CD_DESC.unique().tolist()\n",
    "    future_patient_list=WLGP_SMOKING.query('ALF_PE==@ID & EVENT_DT>@DATE').EVENT_CD_DESC.unique().tolist()\n",
    "    \n",
    "    if len(patient_list)==0:\n",
    "        if len(future_patient_list)!=0 and  future_patient_list[0]=='Never smoked tobacco':\n",
    "            status=0\n",
    "        else:\n",
    "            status='unknown'\n",
    "    elif len(patient_list)!=0 and all(element in NON_SMOKER for element in patient_list):\n",
    "        status=0\n",
    "    elif len(patient_list)!=0 and all(element in SMOK_UNKNOWN for element in patient_list):\n",
    "        status='unknown'\n",
    "    else:\n",
    "        status=1\n",
    "    return status"
   ]
  },
  {
   "cell_type": "code",
   "execution_count": 175,
   "id": "535aea07-3da4-4622-9493-19f503767a6b",
   "metadata": {
    "execution": {
     "iopub.execute_input": "2024-02-01T11:21:13.563831Z",
     "iopub.status.busy": "2024-02-01T11:21:13.563383Z",
     "iopub.status.idle": "2024-02-01T12:04:12.520566Z",
     "shell.execute_reply": "2024-02-01T12:04:12.519209Z",
     "shell.execute_reply.started": "2024-02-01T11:21:13.563791Z"
    },
    "tags": []
   },
   "outputs": [],
   "source": [
    "DF_CHECK=WP2_df\n",
    "DF_CHECK=DF_CHECK.drop_duplicates(subset=['ALF_PE','DATE'], ignore_index=True)\n",
    "DF_CHECK['SMOKING_HISTORY']=DF_CHECK.apply(lambda x: Smokinghistory(x['ALF_PE'],x['DATE']), axis=1)"
   ]
  },
  {
   "cell_type": "code",
   "execution_count": 176,
   "id": "3deaa682-2835-43ed-80dc-314086938ca7",
   "metadata": {
    "execution": {
     "iopub.execute_input": "2024-02-01T12:04:12.537351Z",
     "iopub.status.busy": "2024-02-01T12:04:12.537206Z",
     "iopub.status.idle": "2024-02-01T12:04:13.408036Z",
     "shell.execute_reply": "2024-02-01T12:04:13.407009Z",
     "shell.execute_reply.started": "2024-02-01T12:04:12.537337Z"
    },
    "tags": []
   },
   "outputs": [],
   "source": [
    "WP2_df=pd.merge(WP2_df,DF_CHECK[['ALF_PE','DATE','SMOKING_HISTORY']])"
   ]
  },
  {
   "cell_type": "code",
   "execution_count": 177,
   "id": "12fe5065-bda2-468e-8492-562880f2b2b4",
   "metadata": {
    "execution": {
     "iopub.execute_input": "2024-02-01T12:04:13.409744Z",
     "iopub.status.busy": "2024-02-01T12:04:13.409540Z",
     "iopub.status.idle": "2024-02-01T12:04:16.145724Z",
     "shell.execute_reply": "2024-02-01T12:04:16.144944Z",
     "shell.execute_reply.started": "2024-02-01T12:04:13.409728Z"
    },
    "tags": []
   },
   "outputs": [],
   "source": [
    "#CHECK NUMBER OF PATIENTS THAT CHANGE CATEGORY\n",
    "def SMOKChange(X):\n",
    "    mylist=X.SMOKING_HISTORY.unique().tolist()\n",
    "    if len(mylist)>1:\n",
    "        smokchange=1\n",
    "    else:\n",
    "        smokchange=0\n",
    "    return pd.Series(smokchange, index=X.index)\n",
    "\n",
    "WP2_df['PresenceSMOKchange']=WP2_df.groupby('ALF_PE',group_keys=False).apply(SMOKChange)"
   ]
  },
  {
   "cell_type": "code",
   "execution_count": null,
   "id": "d0d9a794",
   "metadata": {},
   "outputs": [],
   "source": [
    "#FUNCTION TO IDENTIFY IF A PATIENT HAS AN AVAILABLE SMOKING RECORD\n",
    "def SmokPresence(X):\n",
    "    mylist=X.SMOKING_HISTORY.unique().tolist()\n",
    "    if all(element in ['unknown'] for element in mylist):\n",
    "        presSmokRec=0\n",
    "    else:\n",
    "        presSmokRec=1\n",
    "    return pd.Series(presSmokRec, index=X.index)\n",
    "\n",
    "WP2_df['PresenceSmokRec']=WP2_df.groupby('ALF_PE',group_keys=False).apply(SmokPresence)\n",
    "\n",
    "#IDENTIFY NUMBER OF DISTINCT PATIENTS WITH OBTAINABLE SMOKING RECORDS AT SOME POINT IN THEIR TIMELINE\n",
    "WP2_df.query('PresenceSmokRec==1').drop_duplicates(subset=['ALF_PE']).shape[0]"
   ]
  },
  {
   "cell_type": "code",
   "execution_count": null,
   "id": "bb6691f0",
   "metadata": {},
   "outputs": [],
   "source": [
    "#IDENTIFY NUMBER OF DISTINCT PATIENTS WITH OBTAINABLE SMOKING RECORDS AT SOME POINT IN THEIR TIMELINE\n",
    "WP2_df.query('PresenceSmokRec==1').drop_duplicates(subset=['ALF_PE']).shape[0]"
   ]
  },
  {
   "cell_type": "markdown",
   "id": "7b4080d7-446c-4cb9-87a2-084d66b455b8",
   "metadata": {},
   "source": [
    "INCLUDE COLUMNS TO CATEGORIZE PATIENTS WITH MEDICATIONS"
   ]
  },
  {
   "cell_type": "code",
   "execution_count": 181,
   "id": "8ce4a5ad-609f-4ede-af6f-f971c4eb108f",
   "metadata": {
    "execution": {
     "iopub.execute_input": "2024-02-01T12:36:42.062871Z",
     "iopub.status.busy": "2024-02-01T12:36:42.062323Z",
     "iopub.status.idle": "2024-02-01T12:36:57.901556Z",
     "shell.execute_reply": "2024-02-01T12:36:57.900588Z",
     "shell.execute_reply.started": "2024-02-01T12:36:42.062826Z"
    },
    "tags": []
   },
   "outputs": [],
   "source": [
    "query = 'SELECT * FROM SAILW1375V.'+ 'WP01_PHEN_EXTRACT_WLGP_LISTOFMEDS'\n",
    "WLGP_MEDS= pd.read_sql(query,pd_conn)"
   ]
  },
  {
   "cell_type": "code",
   "execution_count": 182,
   "id": "c9548e6d-92d2-445e-9b83-8f88e99eec6a",
   "metadata": {
    "execution": {
     "iopub.execute_input": "2024-02-01T12:36:57.916132Z",
     "iopub.status.busy": "2024-02-01T12:36:57.915929Z",
     "iopub.status.idle": "2024-02-01T12:36:58.365840Z",
     "shell.execute_reply": "2024-02-01T12:36:58.364861Z",
     "shell.execute_reply.started": "2024-02-01T12:36:57.916112Z"
    },
    "tags": []
   },
   "outputs": [],
   "source": [
    "#SET DATES TO DATETIME TYPE\n",
    "WLGP_MEDS['EVENT_DT']=pd.to_datetime(WLGP_MEDS['EVENT_DT'])"
   ]
  },
  {
   "cell_type": "code",
   "execution_count": null,
   "id": "09da8268",
   "metadata": {},
   "outputs": [],
   "source": [
    "#OBTAIN NUMBER OF UNIQUE IDS IN SMOKING RISK FACTOR TABLE\n",
    "MEDS_IDLIST=WLGP_MEDS.ALF_PE.unique().tolist()\n",
    "len(MEDS_IDLIST)"
   ]
  },
  {
   "cell_type": "code",
   "execution_count": null,
   "id": "7434f8c8",
   "metadata": {},
   "outputs": [],
   "source": [
    "#NUMBER OF PATIENTS FROM OUR COHORT WHOSE IDs ARE IN MEDS  RISK FACTORS TABLE\n",
    "sum(list in WP2_df_IDLIST for list in MEDS_IDLIST)"
   ]
  },
  {
   "cell_type": "code",
   "execution_count": 185,
   "id": "faf358d2-07e7-41c7-ab1c-951614ecf127",
   "metadata": {
    "execution": {
     "iopub.execute_input": "2024-02-01T12:37:08.479783Z",
     "iopub.status.busy": "2024-02-01T12:37:08.479206Z",
     "iopub.status.idle": "2024-02-01T12:37:44.978170Z",
     "shell.execute_reply": "2024-02-01T12:37:44.976565Z",
     "shell.execute_reply.started": "2024-02-01T12:37:08.479737Z"
    },
    "tags": []
   },
   "outputs": [],
   "source": [
    "#GROUP THE MEDS ACCORDING TO THEIR NAMES\n",
    "WLGP_MEDS.loc[WLGP_MEDS['EVENT_CD_DESC'].str.contains(\"TEGRETOL\", case=False), 'EVENT_CD_DESC']=\"TEGRETOL\"\n",
    "WLGP_MEDS.loc[WLGP_MEDS['EVENT_CD_DESC'].str.contains(\"EPILIM\", case=False), 'EVENT_CD_DESC']=\"EPILIM\"\n",
    "WLGP_MEDS.loc[WLGP_MEDS['EVENT_CD_DESC'].str.contains(\"LAMOTRIGINE\", case=False), 'EVENT_CD_DESC']=\"LAMOTRIGINE\"\n",
    "WLGP_MEDS.loc[WLGP_MEDS['EVENT_CD_DESC'].str.contains(\"LEVETIRACETAM\", case=False), 'EVENT_CD_DESC']=\"LEVETIRACETAM\"\n",
    "WLGP_MEDS.loc[WLGP_MEDS['EVENT_CD_DESC'].str.contains(\"LYRICA\", case=False), 'EVENT_CD_DESC']=\"LYRICA\"\n",
    "WLGP_MEDS.loc[WLGP_MEDS['EVENT_CD_DESC'].str.contains(\"DESITREND\", case=False), 'EVENT_CD_DESC']=\"DESITREND\"\n",
    "WLGP_MEDS.loc[WLGP_MEDS['EVENT_CD_DESC'].str.contains(\"PHENYTOIN\", case=False), 'EVENT_CD_DESC']=\"PHENYTOIN\"\n",
    "WLGP_MEDS.loc[WLGP_MEDS['EVENT_CD_DESC'].str.contains(\"TERIL\", case=False), 'EVENT_CD_DESC']=\"TERIL\"\n",
    "WLGP_MEDS.loc[WLGP_MEDS['EVENT_CD_DESC'].str.contains(\"CARBAMAZEPINE\", case=False), 'EVENT_CD_DESC']=\"CARBAMAZEPINE\"\n",
    "WLGP_MEDS.loc[WLGP_MEDS['EVENT_CD_DESC'].str.contains(\"CLOBAZAM\", case=False), 'EVENT_CD_DESC']=\"CLOBAZAM\"\n",
    "WLGP_MEDS.loc[WLGP_MEDS['EVENT_CD_DESC'].str.contains(\"CLONAZEPAM\", case=False), 'EVENT_CD_DESC']=\"CLONAZEPAM\"\n",
    "WLGP_MEDS.loc[WLGP_MEDS['EVENT_CD_DESC'].str.contains(\"SODIUM VALPROATE\", case=False), 'EVENT_CD_DESC']=\"SODIUM VALPROATE\"\n",
    "WLGP_MEDS.loc[WLGP_MEDS['EVENT_CD_DESC'].str.contains(\"EPANUTIN\", case=False), 'EVENT_CD_DESC']=\"EPANUTIN\"\n",
    "WLGP_MEDS.loc[WLGP_MEDS['EVENT_CD_DESC'].str.contains(\"GABAPENTIN\", case=False), 'EVENT_CD_DESC']=\"GABAPENTIN\"\n",
    "WLGP_MEDS.loc[WLGP_MEDS['EVENT_CD_DESC'].str.contains(\"TOPIRAMATE\", case=False), 'EVENT_CD_DESC']=\"TOPIRAMATE\"\n",
    "WLGP_MEDS.loc[WLGP_MEDS['EVENT_CD_DESC'].str.contains(\"PHENOBARBITAL\", case=False), 'EVENT_CD_DESC']=\"PHENOBARBITAL\"\n",
    "WLGP_MEDS.loc[WLGP_MEDS['EVENT_CD_DESC'].str.contains(\"DEPAKOTE\", case=False), 'EVENT_CD_DESC']=\"DEPAKOTE\"\n",
    "WLGP_MEDS.loc[WLGP_MEDS['EVENT_CD_DESC'].str.contains(\"PRIMIDONE\", case=False), 'EVENT_CD_DESC']=\"PRIMIDONE\"\n",
    "WLGP_MEDS.loc[WLGP_MEDS['EVENT_CD_DESC'].str.contains(\"PROCHLORPERAZINE\", case=False), 'EVENT_CD_DESC']=\"PROCHLORPERAZINE\"\n",
    "WLGP_MEDS.loc[WLGP_MEDS['EVENT_CD_DESC'].str.contains(\"KEPPRA\", case=False), 'EVENT_CD_DESC']=\"KEPPRA\"\n",
    "WLGP_MEDS.loc[WLGP_MEDS['EVENT_CD_DESC'].str.contains(\"LAMICTAL\", case=False), 'EVENT_CD_DESC']=\"LAMICTAL\"\n",
    "WLGP_MEDS.loc[WLGP_MEDS['EVENT_CD_DESC'].str.contains(\"KEPPRA\", case=False), 'EVENT_CD_DESC']=\"KEPPRA\"\n",
    "WLGP_MEDS.loc[WLGP_MEDS['EVENT_CD_DESC'].str.contains(\"VIGABATRIN\", case=False), 'EVENT_CD_DESC']=\"VIGABATRIN\"\n",
    "WLGP_MEDS.loc[WLGP_MEDS['EVENT_CD_DESC'].str.contains(\"PREGABALIN\", case=False), 'EVENT_CD_DESC']=\"PREGABALIN\"\n",
    "WLGP_MEDS.loc[WLGP_MEDS['EVENT_CD_DESC'].str.contains(\"VALPROIC ACID\", case=False), 'EVENT_CD_DESC']=\"VALPROIC ACID\"\n",
    "WLGP_MEDS.loc[WLGP_MEDS['EVENT_CD_DESC'].str.contains(\"MYSOLINE\", case=False), 'EVENT_CD_DESC']=\"MYSOLINE\"\n",
    "WLGP_MEDS.loc[WLGP_MEDS['EVENT_CD_DESC'].str.contains(\"ZONISAMIDE \", case=False), 'EVENT_CD_DESC']=\"ZONISAMIDE \"\n",
    "WLGP_MEDS.loc[WLGP_MEDS['EVENT_CD_DESC'].str.contains(\"LYRICA\", case=False), 'EVENT_CD_DESC']=\"LYRICA\"\n",
    "WLGP_MEDS.loc[WLGP_MEDS['EVENT_CD_DESC'].str.contains(\"RIVOTRIL\", case=False), 'EVENT_CD_DESC']=\"RIVOTRIL\"\n",
    "WLGP_MEDS.loc[WLGP_MEDS['EVENT_CD_DESC'].str.contains(\"TOPAMAX\", case=False), 'EVENT_CD_DESC']=\"TOPAMAX\"\n",
    "WLGP_MEDS.loc[WLGP_MEDS['EVENT_CD_DESC'].str.contains(\"ACETAZOLAMIDE\", case=False), 'EVENT_CD_DESC']=\"ACETAZOLAMIDE\"\n",
    "WLGP_MEDS.loc[WLGP_MEDS['EVENT_CD_DESC'].str.contains(\"LACOSAMIDE\", case=False), 'EVENT_CD_DESC']=\"LACOSAMIDE\"\n",
    "WLGP_MEDS.loc[WLGP_MEDS['EVENT_CD_DESC'].str.contains(\"ETHOSUXIMIDE\", case=False), 'EVENT_CD_DESC']=\"ETHOSUXIMIDE\"\n",
    "WLGP_MEDS.loc[WLGP_MEDS['EVENT_CD_DESC'].str.contains(\"OXCARBAZEPINE\", case=False), 'EVENT_CD_DESC']=\"OXCARBAZEPINE\"\n",
    "WLGP_MEDS.loc[WLGP_MEDS['EVENT_CD_DESC'].str.contains(\"EPISENTA\", case=False), 'EVENT_CD_DESC']=\"EPISENTA\"\n",
    "WLGP_MEDS.loc[WLGP_MEDS['EVENT_CD_DESC'].str.contains(\"ESLICARBAZEPINE ACETATE\", case=False), 'EVENT_CD_DESC']=\"ESLICARBAZEPINE ACETATE\"\n",
    "WLGP_MEDS.loc[WLGP_MEDS['EVENT_CD_DESC'].str.contains(\"SABRIL\", case=False), 'EVENT_CD_DESC']=\"SABRIL\"\n",
    "WLGP_MEDS.loc[WLGP_MEDS['EVENT_CD_DESC'].str.contains(\"RUFINAMIDE\", case=False), 'EVENT_CD_DESC']=\"RUFINAMIDE\"\n",
    "WLGP_MEDS.loc[WLGP_MEDS['EVENT_CD_DESC'].str.contains(\"PERAMPANEL\", case=False), 'EVENT_CD_DESC']=\"PERAMPANEL\"\n",
    "WLGP_MEDS.loc[WLGP_MEDS['EVENT_CD_DESC'].str.contains(\"ZONEGRAN\", case=False), 'EVENT_CD_DESC']=\"ZONEGRAN\"\n",
    "WLGP_MEDS.loc[WLGP_MEDS['EVENT_CD_DESC'].str.contains(\"ZARONTIN\", case=False), 'EVENT_CD_DESC']=\"ZARONTIN\"\n",
    "WLGP_MEDS.loc[WLGP_MEDS['EVENT_CD_DESC'].str.contains(\"NEURONTIN\", case=False), 'EVENT_CD_DESC']=\"NEURONTIN\"\n",
    "WLGP_MEDS.loc[WLGP_MEDS['EVENT_CD_DESC'].str.contains(\"TRILEPTAL\", case=False), 'EVENT_CD_DESC']=\"TRILEPTAL\"\n",
    "WLGP_MEDS.loc[WLGP_MEDS['EVENT_CD_DESC'].str.contains(\"PERAMPANEL\", case=False), 'EVENT_CD_DESC']=\"PERAMPANEL\"\n",
    "WLGP_MEDS.loc[WLGP_MEDS['EVENT_CD_DESC'].str.contains(\"TIAGABINE\", case=False), 'EVENT_CD_DESC']=\"TIAGABINE\"\n",
    "WLGP_MEDS.loc[WLGP_MEDS['EVENT_CD_DESC'].str.contains(\"ORLEPT\", case=False), 'EVENT_CD_DESC']=\"ORLEPT\"\n",
    "WLGP_MEDS.loc[WLGP_MEDS['EVENT_CD_DESC'].str.contains(\"VIMPAT\", case=False), 'EVENT_CD_DESC']=\"VIMPAT\"\n",
    "WLGP_MEDS.loc[WLGP_MEDS['EVENT_CD_DESC'].str.contains(\"TAPCLOB\", case=False), 'EVENT_CD_DESC']=\"TAPCLOB\"\n",
    "WLGP_MEDS.loc[WLGP_MEDS['EVENT_CD_DESC'].str.contains(\"ZEBINIX\", case=False), 'EVENT_CD_DESC']=\"ZEBINIX\"\n",
    "WLGP_MEDS.loc[WLGP_MEDS['EVENT_CD_DESC'].str.contains(\"TAPCLOB\", case=False), 'EVENT_CD_DESC']=\"TAPCLOB\"\n",
    "WLGP_MEDS.loc[WLGP_MEDS['EVENT_CD_DESC'].str.contains(\"FRISIUM\", case=False), 'EVENT_CD_DESC']=\"FRISIUM\"\n",
    "WLGP_MEDS.loc[WLGP_MEDS['EVENT_CD_DESC'].str.contains(\"CARBAGEN SR\", case=False), 'EVENT_CD_DESC']=\"CARBAGEN SR\"\n",
    "WLGP_MEDS.loc[WLGP_MEDS['EVENT_CD_DESC'].str.contains(\"DIAMOX\", case=False), 'EVENT_CD_DESC']=\"DIAMOX\"\n",
    "WLGP_MEDS.loc[WLGP_MEDS['EVENT_CD_DESC'].str.contains(\"EPIMAZ\", case=False), 'EVENT_CD_DESC']=\"EPIMAZ\"\n",
    "WLGP_MEDS.loc[WLGP_MEDS['EVENT_CD_DESC'].str.contains(\"CONVULEX\", case=False), 'EVENT_CD_DESC']=\"CONVULEX\"\n",
    "WLGP_MEDS.loc[WLGP_MEDS['EVENT_CD_DESC'].str.contains(\"RETIGABINE\", case=False), 'EVENT_CD_DESC']=\"RETIGABINE\"\n",
    "WLGP_MEDS.loc[WLGP_MEDS['EVENT_CD_DESC'].str.contains(\"FYCOMPA\", case=False), 'EVENT_CD_DESC']=\"FYCOMPA\"\n",
    "WLGP_MEDS.loc[WLGP_MEDS['EVENT_CD_DESC'].str.contains(\"INOVELON\", case=False), 'EVENT_CD_DESC']=\"INOVELON\"\n",
    "WLGP_MEDS.loc[WLGP_MEDS['EVENT_CD_DESC'].str.contains(\"EMESIDE\", case=False), 'EVENT_CD_DESC']=\"EMESIDE\"\n",
    "WLGP_MEDS.loc[WLGP_MEDS['EVENT_CD_DESC'].str.contains(\"GABITRIL\", case=False), 'EVENT_CD_DESC']=\"GABITRIL\"\n",
    "WLGP_MEDS.loc[WLGP_MEDS['EVENT_CD_DESC'].str.contains(\"PHENOBARBITONE SODIUM\", case=False), 'EVENT_CD_DESC']=\"PHENOBARBITONE SODIUM\"\n"
   ]
  },
  {
   "cell_type": "code",
   "execution_count": null,
   "id": "23f10383",
   "metadata": {},
   "outputs": [],
   "source": [
    "# OBTAIN COUNTS OF PRESCRIPTIONS PER MEDICATION\n",
    "WLGP_MEDS.EVENT_CD_DESC.value_counts()"
   ]
  },
  {
   "cell_type": "code",
   "execution_count": 188,
   "id": "bb933b9e-6aab-4273-b626-a6fc7fbdc1c3",
   "metadata": {
    "execution": {
     "iopub.execute_input": "2024-02-01T12:37:48.427373Z",
     "iopub.status.busy": "2024-02-01T12:37:48.426619Z",
     "iopub.status.idle": "2024-02-01T12:37:48.434735Z",
     "shell.execute_reply": "2024-02-01T12:37:48.433548Z",
     "shell.execute_reply.started": "2024-02-01T12:37:48.427326Z"
    },
    "tags": []
   },
   "outputs": [],
   "source": [
    "#CATEGORISE PATIENTS WITH A HISTORY OF MEDICATIONS (PSCHOTROPIC)\n",
    "def MEDhistory(ID,DATE):\n",
    "    patient_list=WLGP_MEDS.query('ALF_PE==@ID & EVENT_DT<=@DATE').EVENT_CD_DESC.unique().tolist()\n",
    "    \n",
    "    if len(patient_list)==0:\n",
    "        status=0\n",
    "    \n",
    "    elif len(patient_list)!=0:\n",
    "        status=1\n",
    "    return status"
   ]
  },
  {
   "cell_type": "code",
   "execution_count": 189,
   "id": "4e179d4b-71d4-48f0-8f96-eb5b0ebd900b",
   "metadata": {
    "execution": {
     "iopub.execute_input": "2024-02-01T12:37:49.106183Z",
     "iopub.status.busy": "2024-02-01T12:37:49.101318Z",
     "iopub.status.idle": "2024-02-01T14:44:38.675546Z",
     "shell.execute_reply": "2024-02-01T14:44:38.673949Z",
     "shell.execute_reply.started": "2024-02-01T12:37:49.106134Z"
    },
    "tags": []
   },
   "outputs": [],
   "source": [
    "#ADD NEW COLUMN OF MEDICATIONS TO THE DATA\n",
    "DF_CHECK=WP2_df\n",
    "DF_CHECK=DF_CHECK.drop_duplicates(subset=['ALF_PE','DATE'], ignore_index=True)\n",
    "DF_CHECK['MEDICATIONS']=DF_CHECK.apply(lambda x: MEDhistory(x['ALF_PE'],x['DATE']), axis=1)\n",
    "\n",
    "WP2_df=pd.merge(WP2_df,DF_CHECK[['ALF_PE','DATE','MEDICATIONS']])"
   ]
  },
  {
   "cell_type": "code",
   "execution_count": 193,
   "id": "d5056ac4-13b7-4d6a-a7d1-e596c6d6e29f",
   "metadata": {
    "execution": {
     "iopub.execute_input": "2024-02-01T15:01:05.148183Z",
     "iopub.status.busy": "2024-02-01T15:01:05.148011Z",
     "iopub.status.idle": "2024-02-01T15:01:07.275108Z",
     "shell.execute_reply": "2024-02-01T15:01:07.274358Z",
     "shell.execute_reply.started": "2024-02-01T15:01:05.148167Z"
    },
    "tags": []
   },
   "outputs": [],
   "source": [
    "#CHECK NUMBER OF PATIENTS THAT CHANGE CATEGORY\n",
    "def MEDIChange(X):\n",
    "    mylist=X.MEDICATIONS.unique().tolist()\n",
    "    if len(mylist)>1:\n",
    "        medchange=1\n",
    "    else:\n",
    "        medchange=0\n",
    "    return pd.Series(medchange, index=X.index)\n",
    "\n",
    "WP2_df['PresenceMEDIchange']=WP2_df.groupby('ALF_PE',group_keys=False).apply(MEDIChange)"
   ]
  },
  {
   "cell_type": "markdown",
   "id": "355a22eb-a9c6-4024-bd6b-8ef813260993",
   "metadata": {},
   "source": [
    "INCLUDE COLUMNS TO CATEGORIZE PATIENTS WITH PHYSICAL ACTIVITY"
   ]
  },
  {
   "cell_type": "code",
   "execution_count": 195,
   "id": "7e3275ba-52ea-440e-b01a-cb784be3c19a",
   "metadata": {
    "execution": {
     "iopub.execute_input": "2024-02-01T15:01:10.940949Z",
     "iopub.status.busy": "2024-02-01T15:01:10.940403Z",
     "iopub.status.idle": "2024-02-01T15:01:10.961908Z",
     "shell.execute_reply": "2024-02-01T15:01:10.960878Z",
     "shell.execute_reply.started": "2024-02-01T15:01:10.940903Z"
    },
    "tags": []
   },
   "outputs": [],
   "source": [
    "#SET DATES TO DATETIME TYPE\n",
    "WLGP_PHYSICALACTIVITY['EVENT_DT']=pd.to_datetime(WLGP_PHYSICALACTIVITY['EVENT_DT'])"
   ]
  },
  {
   "cell_type": "code",
   "execution_count": null,
   "id": "5441c292",
   "metadata": {},
   "outputs": [],
   "source": [
    "#OBTAIN NUMBER OF UNIQUE PATIENTS WITH A DECLARATION OF THEIR PHYSICAL ACTIVITY STATUS\n",
    "PHYSICAL_IDLIST=WLGP_PHYSICALACTIVITY.ALF_PE.unique().tolist()\n",
    "len(PHYSICAL_IDLIST)"
   ]
  },
  {
   "cell_type": "code",
   "execution_count": null,
   "id": "b661c04b",
   "metadata": {},
   "outputs": [],
   "source": [
    "#NUMBER OF PATIENTS FROM OUR COHORT WHOSE IDs ARE IN PHYSICAL ACTIVITY  RISK FACTORS TABLE PHYSICAL_IDLIST\n",
    "sum(list in WP2_df_IDLIST for list in PHYSICAL_IDLIST)"
   ]
  },
  {
   "cell_type": "code",
   "execution_count": 198,
   "id": "21ffcb88-4a33-46a0-a08a-504efedbb306",
   "metadata": {
    "execution": {
     "iopub.execute_input": "2024-02-01T15:01:21.503245Z",
     "iopub.status.busy": "2024-02-01T15:01:21.502106Z",
     "iopub.status.idle": "2024-02-01T15:01:21.512469Z",
     "shell.execute_reply": "2024-02-01T15:01:21.511320Z",
     "shell.execute_reply.started": "2024-02-01T15:01:21.503181Z"
    },
    "tags": []
   },
   "outputs": [],
   "source": [
    "#MAKE LIST OF CATEGORIES\n",
    "LIMITED=['Enjoys light exercise','Takes inadequate exercise','Aerobic exercise 0 times/week', 'Exercise physically impossible',\n",
    "        'Aerobic exercise 1 time/week','General practice physical activity questionnaire physical activity index: inactive', 'Avoids even trivial exercise',\n",
    "        'General practice physical activity questionnaire physical activity index: moderately inactive','Declined referral to physical exercise programme',\n",
    "        'FITT activity level 0; no moderate or vigorous activity of 20 minutes duration','Anaerobic exercise 1 time/week','Anaerobic exercise 0 times/wk']\n",
    "\n",
    "REGULAR=['Enjoys moderate exercise','Aerobic exercise 3+ times/week','Aerobic exercise 2 times/week','General practice physical activity questionnaire physical activity index: moderately active',\n",
    "        'Enjoys heavy exercise','General practice physical activity questionnaire physical activity index: active','Aerobic exercise three times a week',\n",
    "        'Enjoys intermediate exercise','FITT activity level 1; 1-4 occasions of a mix of moderate and vigorous activity in 4 weeks', 'FITT activity level 2; 5-11 occasions of a mix of moderate and vigorous activity in 4 weeks',\n",
    "        'FITT activity level 3; 12 or more occasions of moderate activity in 4 weeks','Aerobic exercise four times a week','FITT activity level 4; 12 or more occasions of a mix of moderate and vigorous activity in 4 weeks',\n",
    "        '30 minutes a day of at least moderate intensity walking on five or more days of the week','Aerobic exercise five times a week','Attends exercise classes','Anaerobic exercise 3+ times/wk', 'Competitive athlete',\n",
    "        'FITT activity level 5; 12 or more occasions of vigorous activity in 4 weeks', 'Anaerobic exercise 2 times/wk', '30 minutes a day of at least moderate intensity physical activity on five or more days of the week']"
   ]
  },
  {
   "cell_type": "code",
   "execution_count": 199,
   "id": "cc8c20bd-557d-439d-9163-09679aaa8403",
   "metadata": {
    "execution": {
     "iopub.execute_input": "2024-02-01T15:01:21.916071Z",
     "iopub.status.busy": "2024-02-01T15:01:21.915632Z",
     "iopub.status.idle": "2024-02-01T15:01:21.924853Z",
     "shell.execute_reply": "2024-02-01T15:01:21.923890Z",
     "shell.execute_reply.started": "2024-02-01T15:01:21.916031Z"
    },
    "tags": []
   },
   "outputs": [],
   "source": [
    "# CATEGORISE THE STATUS OF PHYSICAL ACTIVITY PER PATIENT BASED ON MOST RECENT RECORD. \n",
    "def nearest(list, index):\n",
    "    return min(list, key=lambda x: abs(x-index))\n",
    "\n",
    "def PhysicalStat(ID,DATE):\n",
    "    \n",
    "    if ID in PHYSICAL_IDLIST:\n",
    "        nearestdate=nearest(WLGP_PHYSICALACTIVITY.query('ALF_PE==@ID').EVENT_DT.tolist(),DATE)\n",
    "        StatusDesc=WLGP_PHYSICALACTIVITY.query('ALF_PE==@ID & EVENT_DT==@nearestdate').EVENT_CD_DESC.tolist()\n",
    "        if StatusDesc[0] in LIMITED:\n",
    "            status=0\n",
    "        elif StatusDesc[0] in REGULAR:\n",
    "            status=1\n",
    "    \n",
    "    else:\n",
    "        status='unknown'\n",
    "    return status\n"
   ]
  },
  {
   "cell_type": "code",
   "execution_count": 200,
   "id": "68858259-c70c-4355-a446-9889f81854d8",
   "metadata": {
    "execution": {
     "iopub.execute_input": "2024-02-01T15:01:33.590582Z",
     "iopub.status.busy": "2024-02-01T15:01:33.590038Z",
     "iopub.status.idle": "2024-02-01T15:19:33.050625Z",
     "shell.execute_reply": "2024-02-01T15:19:33.049463Z",
     "shell.execute_reply.started": "2024-02-01T15:01:33.590535Z"
    },
    "tags": []
   },
   "outputs": [],
   "source": [
    "# ADD THE PHYSICAL ACTIVITY VARIABLE TO THE DATASET \n",
    "DF_CHECK=WP2_df\n",
    "DF_CHECK=DF_CHECK.drop_duplicates(subset=['ALF_PE','DATE'], ignore_index=True)\n",
    "DF_CHECK['PHYSICAL']=DF_CHECK.apply(lambda x: PhysicalStat(x['ALF_PE'],x['DATE']), axis=1)\n",
    "\n",
    "WP2_df=pd.merge(WP2_df,DF_CHECK[['ALF_PE','DATE','PHYSICAL']])"
   ]
  },
  {
   "cell_type": "code",
   "execution_count": 203,
   "id": "eaaebd27-b4da-4994-9711-d8ac20439341",
   "metadata": {
    "execution": {
     "iopub.execute_input": "2024-02-01T15:19:36.996192Z",
     "iopub.status.busy": "2024-02-01T15:19:36.995965Z",
     "iopub.status.idle": "2024-02-01T15:19:39.536370Z",
     "shell.execute_reply": "2024-02-01T15:19:39.535373Z",
     "shell.execute_reply.started": "2024-02-01T15:19:36.996169Z"
    },
    "tags": []
   },
   "outputs": [],
   "source": [
    "#CHECK NUMBER OF PATIENTS THAT CHANGE CATEGORY\n",
    "def PHYSChange(X):\n",
    "    mylist=X.PHYSICAL.unique().tolist()\n",
    "    if len(mylist)>1:\n",
    "        physchange=1\n",
    "    else:\n",
    "        physchange=0\n",
    "    return pd.Series(physchange, index=X.index)\n",
    "\n",
    "WP2_df['PresencePHYSchange']=WP2_df.groupby('ALF_PE',group_keys=False).apply(PHYSChange)"
   ]
  },
  {
   "cell_type": "markdown",
   "id": "2dfe2a67-865a-4f1f-9ed1-7cc20ddd9a58",
   "metadata": {},
   "source": [
    "INCLUDE COLUMNS TO CATEGORIZE PATIENTS' BMI"
   ]
  },
  {
   "cell_type": "code",
   "execution_count": null,
   "id": "cecdf84a",
   "metadata": {},
   "outputs": [],
   "source": [
    "WLGP_BMI.EVENT_CD_DESC.value_counts()"
   ]
  },
  {
   "cell_type": "code",
   "execution_count": 9,
   "id": "7304a295-8be3-4703-8535-bc1b9338626a",
   "metadata": {
    "execution": {
     "iopub.execute_input": "2024-04-17T19:33:18.636188Z",
     "iopub.status.busy": "2024-04-17T19:33:18.635635Z",
     "iopub.status.idle": "2024-04-17T19:33:18.686582Z",
     "shell.execute_reply": "2024-04-17T19:33:18.685325Z",
     "shell.execute_reply.started": "2024-04-17T19:33:18.636145Z"
    },
    "tags": []
   },
   "outputs": [],
   "source": [
    "#DROP SOME EVENT_DESC NOT INDICATIVE OF A PATIENTS BMI\n",
    "VALUES=['Body Mass Index']\n",
    "WLGP_BMI=WLGP_BMI[~WLGP_BMI['EVENT_CD_DESC'].isin(VALUES)]"
   ]
  },
  {
   "cell_type": "code",
   "execution_count": 10,
   "id": "1b9dd0fa-8043-4800-904a-eb8b81d52314",
   "metadata": {
    "execution": {
     "iopub.execute_input": "2024-04-17T19:33:37.505080Z",
     "iopub.status.busy": "2024-04-17T19:33:37.504387Z",
     "iopub.status.idle": "2024-04-17T19:33:37.517566Z",
     "shell.execute_reply": "2024-04-17T19:33:37.515544Z",
     "shell.execute_reply.started": "2024-04-17T19:33:37.505034Z"
    },
    "tags": []
   },
   "outputs": [],
   "source": [
    "#SET DATES TO DATETIME TYPE\n",
    "WLGP_BMI['EVENT_DT']=pd.to_datetime(WLGP_BMI['EVENT_DT'])"
   ]
  },
  {
   "cell_type": "code",
   "execution_count": null,
   "id": "6b50cff5",
   "metadata": {},
   "outputs": [],
   "source": [
    "#OBTAIN NUMBER OF UNIQUE IDS IN BMI RISK FACTOR TABLE\n",
    "BMI_IDLIST=WLGP_BMI.ALF_PE.unique().tolist()\n",
    "len(BMI_IDLIST)"
   ]
  },
  {
   "cell_type": "code",
   "execution_count": null,
   "id": "5f9bb0a0",
   "metadata": {},
   "outputs": [],
   "source": [
    "#NUMBER OF PATIENTS FROM OUR COHORT WHOSE IDs ARE IN BMI  RISK FACTORS TABLE\n",
    "sum(list in WP2_df_IDLIST for list in BMI_IDLIST)"
   ]
  },
  {
   "cell_type": "code",
   "execution_count": 209,
   "id": "5b3caa36-4784-43ab-ba67-bd79d66da488",
   "metadata": {
    "execution": {
     "iopub.execute_input": "2024-02-01T15:19:39.954905Z",
     "iopub.status.busy": "2024-02-01T15:19:39.954752Z",
     "iopub.status.idle": "2024-02-01T15:19:39.958763Z",
     "shell.execute_reply": "2024-02-01T15:19:39.958216Z",
     "shell.execute_reply.started": "2024-02-01T15:19:39.954891Z"
    },
    "tags": []
   },
   "outputs": [],
   "source": [
    "#MAKE LIST OF CATEGORIES\n",
    "ObesityI=['Body mass index 30+ - obesity', 'Body Mass Index high K/M2']\n",
    "ObesityIII=['Body mass index 40+ - severely obese']\n",
    "OVERWEIGHT=['Body mass index index 25-29 - overweight']\n",
    "NORMALWEIGHT=['Body mass index 20-24 - normal', 'Body Mass Index normal K/M2']\n",
    "UNDERWEIGHT=['Body Mass Index low K/M2', 'Body mass index less than 20']"
   ]
  },
  {
   "cell_type": "code",
   "execution_count": 210,
   "id": "37a9612a-bbd8-47cf-992c-943f624c69e9",
   "metadata": {
    "execution": {
     "iopub.execute_input": "2024-02-01T15:19:39.959458Z",
     "iopub.status.busy": "2024-02-01T15:19:39.959313Z",
     "iopub.status.idle": "2024-02-01T15:19:39.979576Z",
     "shell.execute_reply": "2024-02-01T15:19:39.978378Z",
     "shell.execute_reply.started": "2024-02-01T15:19:39.959445Z"
    },
    "tags": []
   },
   "outputs": [],
   "source": [
    "# CODE TO RECORD BMI STATUS BASED ON MOST RECENT RECORD\n",
    "def BMIStat(ID,DATE):\n",
    "    # OBTAINS THE BMI STATUS OF A PATIENT BY TAKING THE MOST RECENT RECORD FROM GP DATA SOURCE\n",
    "    if ID in BMI_IDLIST:\n",
    "        nearestdate=nearest(WLGP_BMI.query('ALF_PE==@ID').EVENT_DT.tolist(),DATE)\n",
    "        StatusDesc=WLGP_BMI.query('ALF_PE==@ID & EVENT_DT==@nearestdate').EVENT_CD_DESC.tolist()\n",
    "        if StatusDesc[0] in ObesityI:\n",
    "            status='obesity class I'\n",
    "        elif StatusDesc[0] in ObesityIII:\n",
    "            status= 'obesity class III'\n",
    "        elif StatusDesc[0] in OVERWEIGHT:\n",
    "            status= 'pre-obesity'\n",
    "        elif StatusDesc[0] in NORMALWEIGHT:\n",
    "            status='normal weight'\n",
    "        elif StatusDesc[0] in UNDERWEIGHT:\n",
    "            status='underweight'  \n",
    "    else:\n",
    "        status='unknown'\n",
    "    return status\n"
   ]
  },
  {
   "cell_type": "code",
   "execution_count": 211,
   "id": "6dffbf5c-8804-42c7-af70-65a2e9511782",
   "metadata": {
    "execution": {
     "iopub.execute_input": "2024-02-01T15:19:39.982223Z",
     "iopub.status.busy": "2024-02-01T15:19:39.981257Z",
     "iopub.status.idle": "2024-02-01T15:26:33.594301Z",
     "shell.execute_reply": "2024-02-01T15:26:33.593219Z",
     "shell.execute_reply.started": "2024-02-01T15:19:39.982180Z"
    },
    "tags": []
   },
   "outputs": [],
   "source": [
    "# OBTAIN THE BMI VALUES PER PATIENTS AT UNIQUE ADMISSIONS AND ADD TO DATA\n",
    "DF_CHECK=WP2_df\n",
    "DF_CHECK=DF_CHECK.drop_duplicates(subset=['ALF_PE','DATE'], ignore_index=True)\n",
    "DF_CHECK['BMI']=DF_CHECK.apply(lambda x: BMIStat(x['ALF_PE'],x['DATE']), axis=1)\n",
    "\n",
    "WP2_df=pd.merge(WP2_df,DF_CHECK[['ALF_PE','DATE','BMI']])"
   ]
  },
  {
   "cell_type": "code",
   "execution_count": null,
   "id": "bbb499a7-d0b0-4242-953f-5ecd16fa2727",
   "metadata": {
    "execution": {
     "iopub.execute_input": "2024-02-01T15:26:35.228137Z",
     "iopub.status.busy": "2024-02-01T15:26:35.227966Z",
     "iopub.status.idle": "2024-02-01T15:26:35.472983Z",
     "shell.execute_reply": "2024-02-01T15:26:35.472184Z",
     "shell.execute_reply.started": "2024-02-01T15:26:35.228121Z"
    },
    "tags": []
   },
   "outputs": [],
   "source": [
    "WP2_df.drop_duplicates(subset=['ALF_PE','DATE'], ignore_index=True).BMI.value_counts()"
   ]
  },
  {
   "cell_type": "code",
   "execution_count": 215,
   "id": "e082de82-9059-4abf-bb85-d2cea1600ba7",
   "metadata": {
    "execution": {
     "iopub.execute_input": "2024-02-01T15:34:40.281669Z",
     "iopub.status.busy": "2024-02-01T15:34:40.281067Z",
     "iopub.status.idle": "2024-02-01T15:34:42.916303Z",
     "shell.execute_reply": "2024-02-01T15:34:42.915674Z",
     "shell.execute_reply.started": "2024-02-01T15:34:40.281575Z"
    },
    "tags": []
   },
   "outputs": [],
   "source": [
    "#CHECK NUMBER OF PATIENTS THAT CHANGE CATEGORY\n",
    "def BMIChange(X):\n",
    "    mylist=X.BMI.unique().tolist()\n",
    "    if len(mylist)>1:\n",
    "        BMIchange=1\n",
    "    else:\n",
    "        BMIchange=0\n",
    "    return pd.Series(BMIchange, index=X.index)\n",
    "\n",
    "WP2_df['PresenceBMIchange']=WP2_df.groupby('ALF_PE',group_keys=False).apply(BMIChange)"
   ]
  },
  {
   "cell_type": "code",
   "execution_count": null,
   "id": "44ff191e-a462-4b6c-a530-c04b5f7e3b72",
   "metadata": {
    "execution": {
     "iopub.execute_input": "2024-02-01T15:34:46.747198Z",
     "iopub.status.busy": "2024-02-01T15:34:46.746243Z",
     "iopub.status.idle": "2024-02-01T15:34:46.935257Z",
     "shell.execute_reply": "2024-02-01T15:34:46.934465Z",
     "shell.execute_reply.started": "2024-02-01T15:34:46.747144Z"
    },
    "tags": []
   },
   "outputs": [],
   "source": [
    "WP2_df.drop_duplicates(subset=['ALF_PE'])['PresenceBMIchange'].value_counts()"
   ]
  },
  {
   "cell_type": "code",
   "execution_count": 220,
   "id": "5ce315e0-9a41-4f09-beee-c6c652a54b88",
   "metadata": {
    "execution": {
     "iopub.execute_input": "2024-02-01T16:46:16.261805Z",
     "iopub.status.busy": "2024-02-01T16:46:16.261615Z",
     "iopub.status.idle": "2024-02-01T16:46:26.978039Z",
     "shell.execute_reply": "2024-02-01T16:46:26.976408Z",
     "shell.execute_reply.started": "2024-02-01T16:46:16.261788Z"
    }
   },
   "outputs": [],
   "source": [
    "WP2_df[['ALF_PE', 'DATE', 'DISCH_DT', 'EPI_STR_DT', 'EPI_END_DT',\n",
    "       'DIAG_NUM', 'DIAG_CODE', 'DIAG_DESC', 'PROV_UNIT_CD', 'CONDITION',\n",
    "       'CODE_SYSTEM', 'WOB', 'AGE_AT_INDEX_DATE', 'AGE_GRPS_AT_INDEX_DATE',\n",
    "       'AGE_GRPS_AT_INDEX_DATE_DESC', 'DOD', 'GNDR_CD', 'GNDR_DESC',\n",
    "       'LSOA2011_CD_AT_INDEX_DATE', 'WIMD2019_QUINTILE_AT_INDEX_DATE',\n",
    "       'WIMD2019_QUINTILE_AT_INDEX_DATE_DESC',\n",
    "       'TOWNSEND2011_QUINTILE_AT_INDEX_DATE',\n",
    "       'TOWNSEND2011_QUINTILE_AT_INDEX_DATE_DESC',\n",
    "       'ETHN_EC_ONS_DATE_LATEST_CODE', 'ETHN_EC_ONS_DATE_LATEST_DESC',\n",
    "       'ETHN_EC_NER_DATE_LATEST_CODE', 'ETHN_EC_NER_DATE_LATEST_DESC',\n",
    "       'AGE_AT_DATE', 'AGEGRP_AT_DATE', 'MORTALITY', 'COM_SEQ',\n",
    "       'COMORBIDITY_COUNT', 'AUTISM', 'BEHAVIOR_DISORDER', 'ALCOHOL_HISTORY',\n",
    "       'SMOKING_HISTORY','MEDICATIONS','PHYSICAL', 'BMI']].to_csv('WP2_df_TOTALRISKFACTORS_01022024.csv')"
   ]
  },
  {
   "cell_type": "markdown",
   "id": "edfa4842-b168-4d0d-a81d-dd1888f84031",
   "metadata": {},
   "source": [
    "COHORT ANALYSIS OF IN-PATIENT DATA"
   ]
  },
  {
   "cell_type": "code",
   "execution_count": 221,
   "id": "9bb6c9f6-409a-4732-a0e8-f25302eaf6ad",
   "metadata": {
    "execution": {
     "iopub.execute_input": "2024-02-02T13:50:40.703921Z",
     "iopub.status.busy": "2024-02-02T13:50:40.703009Z",
     "iopub.status.idle": "2024-02-02T13:50:42.530981Z",
     "shell.execute_reply": "2024-02-02T13:50:42.530125Z",
     "shell.execute_reply.started": "2024-02-02T13:50:40.703868Z"
    },
    "tags": []
   },
   "outputs": [],
   "source": [
    "#DROPS DUPLICATES IN TOTAL DATA\n",
    "WP2_df.drop_duplicates(inplace=True)"
   ]
  },
  {
   "cell_type": "code",
   "execution_count": 24,
   "id": "90eec7e7-46af-427f-935f-6e081e60acc9",
   "metadata": {
    "execution": {
     "iopub.execute_input": "2024-02-19T16:31:12.643153Z",
     "iopub.status.busy": "2024-02-19T16:31:12.642605Z",
     "iopub.status.idle": "2024-02-19T16:31:12.891077Z",
     "shell.execute_reply": "2024-02-19T16:31:12.889855Z",
     "shell.execute_reply.started": "2024-02-19T16:31:12.643109Z"
    },
    "tags": []
   },
   "outputs": [],
   "source": [
    "#IN-HOSPITAL DATA\n",
    "WP2_df_PEDW=WP2_df.query('CODE_SYSTEM== \"ICD10\"')\n",
    "\n",
    "#GP DATA\n",
    "WP2_df_WLGP=WP2_df.query('CODE_SYSTEM== \"READ\"')"
   ]
  },
  {
   "cell_type": "code",
   "execution_count": null,
   "id": "ad5452cb-aaf6-40e1-a8d8-0ba6d64328f5",
   "metadata": {
    "execution": {
     "iopub.execute_input": "2024-02-19T16:31:24.860666Z",
     "iopub.status.busy": "2024-02-19T16:31:24.860122Z",
     "iopub.status.idle": "2024-02-19T16:31:24.872610Z",
     "shell.execute_reply": "2024-02-19T16:31:24.871542Z",
     "shell.execute_reply.started": "2024-02-19T16:31:24.860624Z"
    },
    "tags": []
   },
   "outputs": [],
   "source": [
    "# NUMBER OF PATIENTS WITH ADMISSIONS RECORDS\n",
    "WP2_df_PEDW.ALF_PE.nunique()"
   ]
  },
  {
   "cell_type": "code",
   "execution_count": null,
   "id": "925a2b9f-a670-4dbe-9d5a-ba15ccdca1ab",
   "metadata": {
    "execution": {
     "iopub.execute_input": "2024-02-19T16:31:27.813485Z",
     "iopub.status.busy": "2024-02-19T16:31:27.812932Z",
     "iopub.status.idle": "2024-02-19T16:31:27.852065Z",
     "shell.execute_reply": "2024-02-19T16:31:27.851285Z",
     "shell.execute_reply.started": "2024-02-19T16:31:27.813440Z"
    },
    "tags": []
   },
   "outputs": [],
   "source": [
    "# OBTAIN RECORD OF ETHNIC GROUPS OF PATIENTS WITH ADMISSION RECORDS\n",
    "WP2_df_PEDW.drop_duplicates(subset=['ALF_PE'], ignore_index=True).ETHN_EC_ONS_DATE_LATEST_DESC.value_counts()"
   ]
  },
  {
   "cell_type": "code",
   "execution_count": null,
   "id": "791a4ee7-2e41-40b3-9767-f8b3b0bc4162",
   "metadata": {
    "execution": {
     "iopub.execute_input": "2024-02-19T16:31:29.241045Z",
     "iopub.status.busy": "2024-02-19T16:31:29.240500Z",
     "iopub.status.idle": "2024-02-19T16:31:29.302599Z",
     "shell.execute_reply": "2024-02-19T16:31:29.301827Z",
     "shell.execute_reply.started": "2024-02-19T16:31:29.241001Z"
    },
    "tags": []
   },
   "outputs": [],
   "source": [
    "#OBTAIN THE NUMBER OF TIMES CONDITIONS WERE TREATED IN HOSPITAL & GP THROUGHOUT DATA\n",
    "WP2_df.CONDITION.value_counts()"
   ]
  },
  {
   "cell_type": "code",
   "execution_count": null,
   "id": "03dee5bc-68d4-49dd-b96d-6ec81ec449aa",
   "metadata": {
    "execution": {
     "iopub.execute_input": "2024-02-19T16:31:33.083558Z",
     "iopub.status.busy": "2024-02-19T16:31:33.082318Z",
     "iopub.status.idle": "2024-02-19T16:31:33.108552Z",
     "shell.execute_reply": "2024-02-19T16:31:33.107335Z",
     "shell.execute_reply.started": "2024-02-19T16:31:33.083500Z"
    },
    "tags": []
   },
   "outputs": [],
   "source": [
    "#OBTAIN THE NUMBER OF TIMES CONDITIONS WERE TREATED IN HOSPITAL THROUGHOUT DATA\n",
    "WP2_df_PEDW.CONDITION.value_counts()"
   ]
  },
  {
   "cell_type": "markdown",
   "id": "38943a73-ac85-474e-8e57-8b10ecda2e20",
   "metadata": {},
   "source": [
    "DROP HOSPITAL DATA WITH MISSING EPISODE START DATE AND DISCHARGE DATE"
   ]
  },
  {
   "cell_type": "code",
   "execution_count": null,
   "id": "debaf6f3-90a6-4cf7-b5cd-361ca574cd94",
   "metadata": {
    "execution": {
     "iopub.execute_input": "2024-02-19T16:31:38.914816Z",
     "iopub.status.busy": "2024-02-19T16:31:38.914275Z",
     "iopub.status.idle": "2024-02-19T16:31:38.926272Z",
     "shell.execute_reply": "2024-02-19T16:31:38.925093Z",
     "shell.execute_reply.started": "2024-02-19T16:31:38.914773Z"
    },
    "tags": []
   },
   "outputs": [],
   "source": [
    "WP2_df_PEDW.DISCH_DT.isnull().sum().sum()"
   ]
  },
  {
   "cell_type": "markdown",
   "id": "e771a5e3-d2f9-4168-bed1-506de38feb03",
   "metadata": {},
   "source": [
    "INPUT NEW COLUMN OF LENGTH OF STAY PER HOSPITAL ADMISSION"
   ]
  },
  {
   "cell_type": "code",
   "execution_count": 33,
   "id": "055e256e-7861-4732-b645-fee440d597dd",
   "metadata": {
    "execution": {
     "iopub.execute_input": "2024-02-19T16:31:43.129417Z",
     "iopub.status.busy": "2024-02-19T16:31:43.128873Z",
     "iopub.status.idle": "2024-02-19T16:31:43.146011Z",
     "shell.execute_reply": "2024-02-19T16:31:43.144723Z",
     "shell.execute_reply.started": "2024-02-19T16:31:43.129374Z"
    },
    "tags": []
   },
   "outputs": [],
   "source": [
    "#INCLUDE NEW COLUMN OF LENGTH OF STAY FOR EACH HOSPITAL ADMISSION\n",
    "WP2_df_PEDW['LOS']=(WP2_df_PEDW['DISCH_DT']-WP2_df_PEDW['DATE'])\n",
    "# EXPRESS THE LOS AS timedelta64\n",
    "WP2_df_PEDW.LOS=WP2_df_PEDW.LOS/np.timedelta64(1,'D')"
   ]
  },
  {
   "cell_type": "code",
   "execution_count": null,
   "id": "4b5c8de0-73d5-41a1-ac64-ceaca22a6278",
   "metadata": {
    "execution": {
     "iopub.execute_input": "2024-02-19T16:31:45.350201Z",
     "iopub.status.busy": "2024-02-19T16:31:45.349455Z",
     "iopub.status.idle": "2024-02-19T16:31:45.378605Z",
     "shell.execute_reply": "2024-02-19T16:31:45.377756Z",
     "shell.execute_reply.started": "2024-02-19T16:31:45.350151Z"
    },
    "tags": []
   },
   "outputs": [],
   "source": [
    "# TEST DATA FOR ADMISSIONS WITH NEGATIVE LOS, I.E., LOS<0\n",
    "WP2_df_PEDW[(WP2_df_PEDW['LOS']<0)]"
   ]
  },
  {
   "cell_type": "code",
   "execution_count": 35,
   "id": "224ad198-5bd4-4870-a739-612ef880cfd8",
   "metadata": {
    "execution": {
     "iopub.execute_input": "2024-02-19T16:32:11.411227Z",
     "iopub.status.busy": "2024-02-19T16:32:11.410672Z",
     "iopub.status.idle": "2024-02-19T16:32:11.478913Z",
     "shell.execute_reply": "2024-02-19T16:32:11.477724Z",
     "shell.execute_reply.started": "2024-02-19T16:32:11.411181Z"
    },
    "tags": []
   },
   "outputs": [],
   "source": [
    "# DROP ROWS WITH NEGATIVE HOSPITAL STAYS \n",
    "WP2_df_PEDW.drop(WP2_df_PEDW[(WP2_df_PEDW['LOS']<0)].index, inplace=True)"
   ]
  },
  {
   "cell_type": "markdown",
   "id": "f6975b2e-288e-4414-a7e0-d3164676d7f6",
   "metadata": {},
   "source": [
    "OBTAIN COLUMN OF NUMBER OF ADMISSIONS IN THE PREVIOUS YEAR PER PATIENT"
   ]
  },
  {
   "cell_type": "code",
   "execution_count": null,
   "id": "fa8471b7-886b-4aaf-b3f3-ce88e0288e0f",
   "metadata": {
    "execution": {
     "iopub.execute_input": "2024-02-05T13:05:54.948100Z",
     "iopub.status.busy": "2024-02-05T13:05:54.944449Z",
     "iopub.status.idle": "2024-02-05T13:05:55.801839Z",
     "shell.execute_reply": "2024-02-05T13:05:55.800973Z",
     "shell.execute_reply.started": "2024-02-05T13:05:54.947870Z"
    },
    "tags": []
   },
   "outputs": [],
   "source": [
    "DF_CHECK=WP2_df_PEDW\n",
    "DF_CHECK=DF_CHECK.sort_values(by=['ALF_PE','DATE', 'DISCH_DT'], ignore_index=True)\n",
    "DF_CHECK=DF_CHECK.drop_duplicates(subset=['ALF_PE','DATE', 'DISCH_DT'], ignore_index=True)\n",
    "s=DF_CHECK.groupby(['ALF_PE']).rolling('365D', on='DATE')['DATE'].count().sub(1).astype(int).to_frame('NUM_PRVADMISSION_1YR').reset_index()\n",
    "\n",
    "WP2_df_PEDW.sort_values(by=['ALF_PE','DATE','DISCH_DT'], ignore_index=True)\n",
    "\n",
    "DF_CHECK['NUM_PRVADMISSION_1YR']=s['NUM_PRVADMISSION_1YR']\n",
    "\n",
    "WP2_df_PEDW=pd.merge(WP2_df_PEDW,DF_CHECK[['ALF_PE','DATE','DISCH_DT','NUM_PRVADMISSION_1YR']])\n",
    "WP2_df_PEDW[['ALF_PE','DATE','DISCH_DT','NUM_PRVADMISSION_1YR']].head(40)"
   ]
  },
  {
   "cell_type": "markdown",
   "id": "5e33e64c-db15-47bb-866e-b20f88f373fc",
   "metadata": {},
   "source": [
    "DROP DUPLICATE ROWS IN ENTIRE DATASET"
   ]
  },
  {
   "cell_type": "code",
   "execution_count": 241,
   "id": "34b6ee77-e60d-48a1-addf-866df31fa9d5",
   "metadata": {
    "execution": {
     "iopub.execute_input": "2024-02-05T13:07:41.938812Z",
     "iopub.status.busy": "2024-02-05T13:07:41.938285Z",
     "iopub.status.idle": "2024-02-05T13:07:42.248695Z",
     "shell.execute_reply": "2024-02-05T13:07:42.247701Z",
     "shell.execute_reply.started": "2024-02-05T13:07:41.938768Z"
    },
    "tags": []
   },
   "outputs": [],
   "source": [
    "#DROP DUPLICATES IN HOSPITAL DATA\n",
    "WP2_df_PEDW.drop_duplicates(inplace=True)"
   ]
  },
  {
   "cell_type": "code",
   "execution_count": null,
   "id": "95787b22-e25a-469a-9baf-c3e4a4c00b23",
   "metadata": {
    "execution": {
     "iopub.execute_input": "2024-02-05T13:07:44.343892Z",
     "iopub.status.busy": "2024-02-05T13:07:44.343373Z",
     "iopub.status.idle": "2024-02-05T13:07:44.353837Z",
     "shell.execute_reply": "2024-02-05T13:07:44.352144Z",
     "shell.execute_reply.started": "2024-02-05T13:07:44.343848Z"
    },
    "tags": []
   },
   "outputs": [],
   "source": [
    "WP2_df_PEDW.shape[0]"
   ]
  },
  {
   "cell_type": "code",
   "execution_count": 253,
   "id": "61d1d783-1978-40d2-aa16-4b265ae24780",
   "metadata": {
    "execution": {
     "iopub.execute_input": "2024-02-05T13:12:39.871357Z",
     "iopub.status.busy": "2024-02-05T13:12:39.870774Z",
     "iopub.status.idle": "2024-02-05T13:12:40.191620Z",
     "shell.execute_reply": "2024-02-05T13:12:40.190506Z",
     "shell.execute_reply.started": "2024-02-05T13:12:39.871311Z"
    },
    "tags": []
   },
   "outputs": [],
   "source": [
    "WP2_df=WP2_df.reset_index(drop=True)\n",
    "WP2_df_PEDW=WP2_df_PEDW.reset_index(drop=True)"
   ]
  },
  {
   "cell_type": "markdown",
   "id": "c0a38d22-b1fb-4936-972b-49188b93e3ad",
   "metadata": {},
   "source": [
    "OBTAIN COLUMN OF NUMBER OF HOSPITAL EPISODES IN THE PREVIOUS 1 YEAR PER PATIENT FROM ADMISSION DATE"
   ]
  },
  {
   "cell_type": "code",
   "execution_count": null,
   "id": "d9e89af6-4069-4257-83e8-3e1811412b7e",
   "metadata": {
    "execution": {
     "iopub.execute_input": "2024-02-05T13:12:41.108383Z",
     "iopub.status.busy": "2024-02-05T13:12:41.107898Z",
     "iopub.status.idle": "2024-02-05T13:12:42.127496Z",
     "shell.execute_reply": "2024-02-05T13:12:42.126950Z",
     "shell.execute_reply.started": "2024-02-05T13:12:41.108341Z"
    },
    "tags": []
   },
   "outputs": [],
   "source": [
    "DF_CHECK=WP2_df_PEDW\n",
    "DF_CHECK=DF_CHECK.sort_values(by=['ALF_PE','DATE', 'DISCH_DT'], ignore_index=True)\n",
    "DF_CHECK=DF_CHECK.drop_duplicates(subset=['ALF_PE','DATE', 'DISCH_DT','EPI_STR_DT','EPI_END_DT','DIAG_CODE','DIAG_DESC'], ignore_index=True)\n",
    "s=DF_CHECK.groupby(['ALF_PE']).rolling('365D', on='DATE')['DATE'].count().sub(1).astype(int).to_frame('NUM_PRVEPISODES_1YR').reset_index()\n",
    "DF_CHECK['NUM_PRVEPISODES_1YR']=s['NUM_PRVEPISODES_1YR']\n",
    "\n",
    "DF_CHECK=DF_CHECK.drop_duplicates(subset=['ALF_PE','DATE','DISCH_DT'], ignore_index=True)\n",
    "WP2_df_PEDW.sort_values(by=['ALF_PE','DATE','DISCH_DT'], ignore_index=True)\n",
    "\n",
    "WP2_df_PEDW=pd.merge(WP2_df_PEDW,DF_CHECK[['ALF_PE','DATE','DISCH_DT','NUM_PRVEPISODES_1YR']])\n",
    "WP2_df_PEDW[['ALF_PE','DATE','DISCH_DT','NUM_PRVEPISODES_1YR']]"
   ]
  },
  {
   "cell_type": "markdown",
   "id": "c21ed1d8-3795-4483-b696-45856186a0f7",
   "metadata": {},
   "source": [
    "OBTAIN COLUMN OF NUMBER OF COMORBIDITIES FROM HOSPITAL EPISODES IN THE PREVIOUS 1 YEAR PER PATIENT UP UNTIL ADMISSION DATE"
   ]
  },
  {
   "cell_type": "code",
   "execution_count": 255,
   "id": "9619d852-ee4e-497b-815f-ac45ad0847cb",
   "metadata": {
    "execution": {
     "iopub.execute_input": "2024-02-05T13:12:45.859414Z",
     "iopub.status.busy": "2024-02-05T13:12:45.858876Z",
     "iopub.status.idle": "2024-02-05T13:12:45.895692Z",
     "shell.execute_reply": "2024-02-05T13:12:45.895114Z",
     "shell.execute_reply.started": "2024-02-05T13:12:45.859369Z"
    },
    "tags": []
   },
   "outputs": [],
   "source": [
    "WP2_df_PEDW['YEAR_BEFORE_ADMIS']= pd.to_datetime(WP2_df_PEDW.DATE)+pd.DateOffset(days=-365)\n",
    "WP2_df_PEDW['3YEARS_BEFORE_ADMIS']= pd.to_datetime(WP2_df_PEDW.DATE)+pd.DateOffset(days=-1095)"
   ]
  },
  {
   "cell_type": "code",
   "execution_count": 256,
   "id": "b4afec5e-43d1-4c23-bf45-1804fcdb3ba4",
   "metadata": {
    "execution": {
     "iopub.execute_input": "2024-02-05T13:12:46.546535Z",
     "iopub.status.busy": "2024-02-05T13:12:46.546071Z",
     "iopub.status.idle": "2024-02-05T13:12:46.555868Z",
     "shell.execute_reply": "2024-02-05T13:12:46.554137Z",
     "shell.execute_reply.started": "2024-02-05T13:12:46.546493Z"
    },
    "tags": []
   },
   "outputs": [],
   "source": [
    "def num1RYcomborbidity(x):\n",
    "    #print(x.ALF_PE)\n",
    "    ID= x['ALF_PE'].head(1).item()\n",
    "    LB=x['YEAR_BEFORE_ADMIS'].head(1).item()\n",
    "    UB=x['EPI_STR_DT'].head(1).item()\n",
    "    Comorbid_counts=WP2_df_PEDW[(WP2_df_PEDW['ALF_PE']==ID ) & (WP2_df_PEDW['DATE']>= LB) &  (WP2_df_PEDW['DATE']<UB )]['CONDITION'].value_counts().shape[0]\n",
    "    return pd.Series(Comorbid_counts, index=x.index)"
   ]
  },
  {
   "cell_type": "code",
   "execution_count": 257,
   "id": "35e9b2dd-81a8-48f3-9c0c-3822da75e723",
   "metadata": {
    "execution": {
     "iopub.execute_input": "2024-02-05T13:12:47.624816Z",
     "iopub.status.busy": "2024-02-05T13:12:47.624321Z",
     "iopub.status.idle": "2024-02-05T13:15:02.512258Z",
     "shell.execute_reply": "2024-02-05T13:15:02.511578Z",
     "shell.execute_reply.started": "2024-02-05T13:12:47.624774Z"
    },
    "tags": []
   },
   "outputs": [],
   "source": [
    "WP2_df_PEDW['NUM_PRVCOMORBID_1YR']=WP2_df_PEDW.groupby(['ALF_PE','DATE', 'DISCH_DT'],group_keys=False).apply(num1RYcomborbidity)"
   ]
  },
  {
   "cell_type": "markdown",
   "id": "3c719ec9-934f-45a2-bee2-97163515c1a8",
   "metadata": {},
   "source": [
    "OBTAIN COLUMN OF NUMBER OF COMORBIDITIES FROM HOSPITAL EPISODES IN THE PREVIOUS 3 YEARS PER PATIENT UP UNTIL ADMISSION DATE"
   ]
  },
  {
   "cell_type": "code",
   "execution_count": 258,
   "id": "02e45572-9963-465e-bee7-6dde2af51b8c",
   "metadata": {
    "execution": {
     "iopub.execute_input": "2024-02-05T13:15:02.525389Z",
     "iopub.status.busy": "2024-02-05T13:15:02.525245Z",
     "iopub.status.idle": "2024-02-05T13:15:02.529560Z",
     "shell.execute_reply": "2024-02-05T13:15:02.529028Z",
     "shell.execute_reply.started": "2024-02-05T13:15:02.525375Z"
    },
    "tags": []
   },
   "outputs": [],
   "source": [
    "def num3RYcomborbidity(x):\n",
    "    #print(x.ALF_PE)\n",
    "    ID= x['ALF_PE'].head(1).item()\n",
    "    LB=x['3YEARS_BEFORE_ADMIS'].head(1).item()\n",
    "    UB=x['EPI_STR_DT'].head(1).item()\n",
    "    Comorbid_counts=WP2_df_PEDW[(WP2_df_PEDW['ALF_PE']==ID ) & (WP2_df_PEDW['DATE']>= LB) &  (WP2_df_PEDW['DATE']<UB )]['CONDITION'].value_counts().shape[0]\n",
    "    return pd.Series(Comorbid_counts, index=x.index)"
   ]
  },
  {
   "cell_type": "code",
   "execution_count": 259,
   "id": "7ec750af-03e4-42a4-a02b-0b966b7f8c2e",
   "metadata": {
    "execution": {
     "iopub.execute_input": "2024-02-05T13:15:02.531258Z",
     "iopub.status.busy": "2024-02-05T13:15:02.531061Z",
     "iopub.status.idle": "2024-02-05T13:17:18.880106Z",
     "shell.execute_reply": "2024-02-05T13:17:18.879101Z",
     "shell.execute_reply.started": "2024-02-05T13:15:02.531239Z"
    },
    "tags": []
   },
   "outputs": [],
   "source": [
    "WP2_df_PEDW['NUM_PRVCOMORBID_3YR']=WP2_df_PEDW.groupby(['ALF_PE','DATE', 'DISCH_DT'],group_keys=False).apply(num3RYcomborbidity )"
   ]
  },
  {
   "cell_type": "markdown",
   "id": "70f8d85a-9f44-4a57-8b77-66cf90bcc9ac",
   "metadata": {},
   "source": [
    "OBTAIN COLUMN OF NUMBER OF HOSPITAL EPISODES IN THE PREVIOUS 3 YEARS PER PATIENT FROM ADMISSION DATE"
   ]
  },
  {
   "cell_type": "code",
   "execution_count": null,
   "id": "5c685d1e-acbd-4fd1-8561-770bac28dec9",
   "metadata": {
    "execution": {
     "iopub.execute_input": "2024-02-05T13:17:18.881446Z",
     "iopub.status.busy": "2024-02-05T13:17:18.881247Z",
     "iopub.status.idle": "2024-02-05T13:17:19.882787Z",
     "shell.execute_reply": "2024-02-05T13:17:19.882247Z",
     "shell.execute_reply.started": "2024-02-05T13:17:18.881427Z"
    },
    "tags": []
   },
   "outputs": [],
   "source": [
    "DF_CHECK=WP2_df_PEDW\n",
    "DF_CHECK=DF_CHECK.sort_values(by=['ALF_PE','DATE', 'DISCH_DT'], ignore_index=True)\n",
    "DF_CHECK=DF_CHECK.drop_duplicates(subset=['ALF_PE','DATE', 'DISCH_DT','EPI_STR_DT','EPI_END_DT','DIAG_CODE','DIAG_DESC'], ignore_index=True)\n",
    "s=DF_CHECK.groupby(['ALF_PE']).rolling('1095D', on='DATE')['DATE'].count().sub(1).astype(int).to_frame('NUM_PRVEPISODES_3YR').reset_index()\n",
    "DF_CHECK['NUM_PRVEPISODES_3YR']=s['NUM_PRVEPISODES_3YR']\n",
    "\n",
    "DF_CHECK=DF_CHECK.drop_duplicates(subset=['ALF_PE','DATE','DISCH_DT'], ignore_index=True)\n",
    "WP2_df_PEDW.sort_values(by=['ALF_PE','DATE','DISCH_DT'], ignore_index=True)\n",
    "\n",
    "WP2_df_PEDW=pd.merge(WP2_df_PEDW,DF_CHECK[['ALF_PE','DATE','DISCH_DT','NUM_PRVEPISODES_3YR']])\n",
    "WP2_df_PEDW[['ALF_PE','DATE','DISCH_DT','NUM_PRVEPISODES_3YR']]\n",
    "#DF_CHECK"
   ]
  },
  {
   "cell_type": "markdown",
   "id": "2ed3383b-014b-435b-91a4-50baa5b348da",
   "metadata": {},
   "source": [
    "NUMBER OF HOSPITAL EPISODES WITHIN FIRST 24 HOURS OF ADMISSION \n",
    "ASSUMPTION: SINCE THE TIME STAMPS ARE NOT GIVEN FOR THE ADMISSION DATES, WE ASSUME THAT THE ADMISSION STARTED AT 00:00 HOURS FOR SIMPLICITY"
   ]
  },
  {
   "cell_type": "code",
   "execution_count": 261,
   "id": "440e4663-faa9-4f84-b336-8272163d4575",
   "metadata": {
    "execution": {
     "iopub.execute_input": "2024-02-05T13:17:19.883741Z",
     "iopub.status.busy": "2024-02-05T13:17:19.883571Z",
     "iopub.status.idle": "2024-02-05T13:17:19.901137Z",
     "shell.execute_reply": "2024-02-05T13:17:19.900401Z",
     "shell.execute_reply.started": "2024-02-05T13:17:19.883726Z"
    },
    "tags": []
   },
   "outputs": [],
   "source": [
    "WP2_df_PEDW['DATE_AFTER_ADMIS']= pd.to_datetime(WP2_df_PEDW.DATE)+pd.DateOffset(days=1)"
   ]
  },
  {
   "cell_type": "code",
   "execution_count": 263,
   "id": "a1f660f7-20a1-4ddb-8e03-b0e1e44f68ac",
   "metadata": {
    "execution": {
     "iopub.execute_input": "2024-02-05T13:17:20.005609Z",
     "iopub.status.busy": "2024-02-05T13:17:20.005426Z",
     "iopub.status.idle": "2024-02-05T13:17:20.009242Z",
     "shell.execute_reply": "2024-02-05T13:17:20.008746Z",
     "shell.execute_reply.started": "2024-02-05T13:17:20.005583Z"
    },
    "tags": []
   },
   "outputs": [],
   "source": [
    "def num24HRepisode(x):\n",
    "    Episode_counts=x[x['EPI_STR_DT']<=x['DATE_AFTER_ADMIS']][['EPI_STR_DT','EPI_END_DT','DIAG_CODE']].value_counts().shape[0]\n",
    "    return pd.Series(Episode_counts, index=x.index)"
   ]
  },
  {
   "cell_type": "code",
   "execution_count": 264,
   "id": "ee4f0ec1-da59-4a4b-9ab5-4d7ec691505b",
   "metadata": {
    "execution": {
     "iopub.execute_input": "2024-02-05T13:17:20.009927Z",
     "iopub.status.busy": "2024-02-05T13:17:20.009774Z",
     "iopub.status.idle": "2024-02-05T13:19:26.610308Z",
     "shell.execute_reply": "2024-02-05T13:19:26.609315Z",
     "shell.execute_reply.started": "2024-02-05T13:17:20.009913Z"
    },
    "tags": []
   },
   "outputs": [],
   "source": [
    "WP2_df_PEDW['NUMEPISODES_24HRS']=WP2_df_PEDW.groupby(['ALF_PE','DATE', 'DISCH_DT'],group_keys=False).apply(num24HRepisode)"
   ]
  },
  {
   "cell_type": "markdown",
   "id": "ac5b9f04-c7e1-41db-9e6f-eb6093e2aa97",
   "metadata": {},
   "source": [
    "NUMBER OF COMORBIDITIES WITHIN THE FIRST 24HOURS OF ADMISSION"
   ]
  },
  {
   "cell_type": "code",
   "execution_count": 265,
   "id": "fe04b28d-4a33-408c-bc65-9d8a832355b7",
   "metadata": {
    "execution": {
     "iopub.execute_input": "2024-02-05T13:19:26.613753Z",
     "iopub.status.busy": "2024-02-05T13:19:26.613528Z",
     "iopub.status.idle": "2024-02-05T13:19:26.619286Z",
     "shell.execute_reply": "2024-02-05T13:19:26.618471Z",
     "shell.execute_reply.started": "2024-02-05T13:19:26.613734Z"
    },
    "tags": []
   },
   "outputs": [],
   "source": [
    "def num24HRcomorbid(x):\n",
    "    #OBTAINS THE TOTAL NUMBER OF COMORBIDITIES ASSOCIATED TO HOSPITAL EPISODES WITHIN 24 HOURS OF ADMISSION\n",
    "    COMORBID_counts=x[x['EPI_STR_DT']<=x['DATE_AFTER_ADMIS']][['CONDITION']].value_counts().shape[0]\n",
    "    return pd.Series(COMORBID_counts, index=x.index)"
   ]
  },
  {
   "cell_type": "code",
   "execution_count": 266,
   "id": "cf395242-e914-4b0c-b3f3-347eba6050a4",
   "metadata": {
    "execution": {
     "iopub.execute_input": "2024-02-05T13:19:26.620351Z",
     "iopub.status.busy": "2024-02-05T13:19:26.620149Z",
     "iopub.status.idle": "2024-02-05T13:21:12.019406Z",
     "shell.execute_reply": "2024-02-05T13:21:12.018697Z",
     "shell.execute_reply.started": "2024-02-05T13:19:26.620332Z"
    },
    "tags": []
   },
   "outputs": [],
   "source": [
    "WP2_df_PEDW['NUMCOMORBIDITIES_24HRS']=WP2_df_PEDW.groupby(['ALF_PE','DATE', 'DISCH_DT'],group_keys=False).apply(num24HRcomorbid)"
   ]
  },
  {
   "cell_type": "markdown",
   "id": "b0bd3022-474d-4902-a0b8-7dd3236f8b13",
   "metadata": {},
   "source": [
    "OBTAIN COLUMN OF NUMBER OF COMORBIDITIES PER ADMISSION"
   ]
  },
  {
   "cell_type": "code",
   "execution_count": 267,
   "id": "18fa9c30-e45a-4272-bc85-adb9ce4a7b22",
   "metadata": {
    "execution": {
     "iopub.execute_input": "2024-02-05T13:21:12.020670Z",
     "iopub.status.busy": "2024-02-05T13:21:12.020454Z",
     "iopub.status.idle": "2024-02-05T13:21:12.024751Z",
     "shell.execute_reply": "2024-02-05T13:21:12.023856Z",
     "shell.execute_reply.started": "2024-02-05T13:21:12.020650Z"
    },
    "tags": []
   },
   "outputs": [],
   "source": [
    "def numADMISSIONcomorbid(x):\n",
    "    #OBTAINS THE TOTAL NUMBER OF COMORBIDITIES ASSOCIATED TO HOSPITAL EPISODES THROUGHOUT ADMISSION\n",
    "    COMORBID_counts=x['CONDITION'].value_counts().shape[0]\n",
    "    return pd.Series(COMORBID_counts, index=x.index)"
   ]
  },
  {
   "cell_type": "code",
   "execution_count": 268,
   "id": "1e667b7b-650a-456b-939d-4c9ee7dca0b2",
   "metadata": {
    "execution": {
     "iopub.execute_input": "2024-02-05T13:21:12.027079Z",
     "iopub.status.busy": "2024-02-05T13:21:12.026343Z",
     "iopub.status.idle": "2024-02-05T13:21:37.244277Z",
     "shell.execute_reply": "2024-02-05T13:21:37.243535Z",
     "shell.execute_reply.started": "2024-02-05T13:21:12.027035Z"
    },
    "tags": []
   },
   "outputs": [],
   "source": [
    "WP2_df_PEDW['NUM_ADMISSION_COMORBIDITIES']=WP2_df_PEDW.groupby(['ALF_PE','DATE', 'DISCH_DT'],group_keys=False).apply(numADMISSIONcomorbid)"
   ]
  },
  {
   "cell_type": "markdown",
   "id": "f697c307-beea-4f71-a857-5990ddd54225",
   "metadata": {
    "execution": {
     "iopub.execute_input": "2023-05-20T14:36:57.340946Z",
     "iopub.status.busy": "2023-05-20T14:36:57.340359Z",
     "iopub.status.idle": "2023-05-20T14:36:57.349853Z",
     "shell.execute_reply": "2023-05-20T14:36:57.348174Z",
     "shell.execute_reply.started": "2023-05-20T14:36:57.340872Z"
    }
   },
   "source": [
    "OBTAIN COLUMN OF NUMBER OF ADMISSIONS IN THE PREVIOUS 1 YEAR PER PATIENT PER CONDITION"
   ]
  },
  {
   "cell_type": "code",
   "execution_count": null,
   "id": "6f7bf576-8496-4c6d-8e41-95bc15ba37af",
   "metadata": {
    "execution": {
     "iopub.execute_input": "2024-02-05T13:21:37.245844Z",
     "iopub.status.busy": "2024-02-05T13:21:37.245662Z",
     "iopub.status.idle": "2024-02-05T13:21:38.964073Z",
     "shell.execute_reply": "2024-02-05T13:21:38.963523Z",
     "shell.execute_reply.started": "2024-02-05T13:21:37.245825Z"
    },
    "tags": []
   },
   "outputs": [],
   "source": [
    "WP2_df_PEDW=WP2_df_PEDW.sort_values(by=['ALF_PE','CONDITION','DATE','DISCH_DT'], ignore_index=True)\n",
    "s=WP2_df_PEDW.groupby(['ALF_PE','CONDITION']).rolling('365D', on='DATE')['DATE'].count().sub(1).astype(int).to_frame('NUM_PRVADMISSION_1YR_COND').reset_index()\n",
    "\n",
    "s=s.sort_values(by=['ALF_PE','DATE'], ignore_index=True)\n",
    "WP2_df_PEDW=WP2_df_PEDW.sort_values(by=['ALF_PE','DATE'], ignore_index=True)\n",
    "\n",
    "WP2_df_PEDW['NUM_PRVADMISSION_1YR_COND']=s['NUM_PRVADMISSION_1YR_COND']\n",
    "WP2_df_PEDW"
   ]
  },
  {
   "cell_type": "markdown",
   "id": "d0526858-dbe5-45e1-858c-d7deb13d9e38",
   "metadata": {},
   "source": [
    "OBTAIN COLUMN OF NUMBER OF ADMISSIONS IN THE PREVIOUS 3 YEARS PER PATIENT"
   ]
  },
  {
   "cell_type": "code",
   "execution_count": null,
   "id": "99a6a186-7884-4ad6-93ef-5afc60b23933",
   "metadata": {
    "execution": {
     "iopub.execute_input": "2024-02-05T13:21:38.964927Z",
     "iopub.status.busy": "2024-02-05T13:21:38.964759Z",
     "iopub.status.idle": "2024-02-05T13:21:39.830130Z",
     "shell.execute_reply": "2024-02-05T13:21:39.829494Z",
     "shell.execute_reply.started": "2024-02-05T13:21:38.964911Z"
    },
    "tags": []
   },
   "outputs": [],
   "source": [
    "DF_CHECK=WP2_df_PEDW\n",
    "DF_CHECK=DF_CHECK.sort_values(by=['ALF_PE','DATE', 'DISCH_DT'], ignore_index=True)\n",
    "DF_CHECK=DF_CHECK.drop_duplicates(subset=['ALF_PE','DATE', 'DISCH_DT'], ignore_index=True)\n",
    "s=DF_CHECK.groupby(['ALF_PE']).rolling('1095D', on='DATE')['DATE'].count().sub(1).astype(int).to_frame('NUM_PRVADMISSION_3YR').reset_index()\n",
    "\n",
    "WP2_df_PEDW.sort_values(by=['ALF_PE','DATE','DISCH_DT'], ignore_index=True)\n",
    "\n",
    "s=s.sort_values(by=['ALF_PE','DATE'], ignore_index=True)\n",
    "WP2_df_PEDW=WP2_df_PEDW.sort_values(by=['ALF_PE','DATE'], ignore_index=True)\n",
    "\n",
    "DF_CHECK['NUM_PRVADMISSION_3YR']=s['NUM_PRVADMISSION_3YR']\n",
    "\n",
    "WP2_df_PEDW=pd.merge(WP2_df_PEDW,DF_CHECK[['ALF_PE','DATE','DISCH_DT','NUM_PRVADMISSION_3YR']])\n",
    "WP2_df_PEDW[['ALF_PE','DATE','DISCH_DT','NUM_PRVADMISSION_3YR']].head(40)"
   ]
  },
  {
   "cell_type": "markdown",
   "id": "bbabb1e9-b8ed-4795-bfdd-f4ff54fc2574",
   "metadata": {
    "execution": {
     "iopub.execute_input": "2023-05-20T15:24:15.251934Z",
     "iopub.status.busy": "2023-05-20T15:24:15.251406Z",
     "iopub.status.idle": "2023-05-20T15:24:15.263168Z",
     "shell.execute_reply": "2023-05-20T15:24:15.260409Z",
     "shell.execute_reply.started": "2023-05-20T15:24:15.251890Z"
    }
   },
   "source": [
    "OBTAIN COLUMN OF NUMBER OF ADMISSIONS IN THE PREVIOUS 3 YEARS PER PATIENT PER CONDITION"
   ]
  },
  {
   "cell_type": "code",
   "execution_count": 271,
   "id": "d2617b1d-3e7a-44fa-b999-cbbc0c80f22a",
   "metadata": {
    "execution": {
     "iopub.execute_input": "2024-02-05T13:21:39.831276Z",
     "iopub.status.busy": "2024-02-05T13:21:39.831052Z",
     "iopub.status.idle": "2024-02-05T13:21:41.474603Z",
     "shell.execute_reply": "2024-02-05T13:21:41.473553Z",
     "shell.execute_reply.started": "2024-02-05T13:21:39.831254Z"
    },
    "tags": []
   },
   "outputs": [],
   "source": [
    "WP2_df_PEDW=WP2_df_PEDW.sort_values(by=['ALF_PE','CONDITION','DATE','DISCH_DT'], ignore_index=True)\n",
    "s=WP2_df_PEDW.groupby(['ALF_PE','CONDITION']).rolling('1095D', on='DATE')['DATE'].count().sub(1).astype(int).to_frame('NUM_PRVADMISSION_3YR_COND').reset_index()\n",
    "\n",
    "s=s.sort_values(by=['ALF_PE','DATE'], ignore_index=True)\n",
    "WP2_df_PEDW=WP2_df_PEDW.sort_values(by=['ALF_PE','DATE'], ignore_index=True)\n",
    "\n",
    "WP2_df_PEDW['NUM_PRVADMISSION_3YR_COND']=s['NUM_PRVADMISSION_3YR_COND']\n",
    "#WP2_df_PEDW"
   ]
  },
  {
   "cell_type": "markdown",
   "id": "87689299-be2c-44c1-a3e7-0e4daa02b002",
   "metadata": {},
   "source": [
    "OBTAIN COLUMN OF TOTAL NUMBER OF HOSPITAL DAYS IN THE PREVIOUS 1 YEAR PER PATIENT"
   ]
  },
  {
   "cell_type": "code",
   "execution_count": 272,
   "id": "e7ea9c88-117a-4235-a267-40cd62bbde60",
   "metadata": {
    "execution": {
     "iopub.execute_input": "2024-02-05T13:21:41.475781Z",
     "iopub.status.busy": "2024-02-05T13:21:41.475551Z",
     "iopub.status.idle": "2024-02-05T13:21:42.256622Z",
     "shell.execute_reply": "2024-02-05T13:21:42.255745Z",
     "shell.execute_reply.started": "2024-02-05T13:21:41.475759Z"
    },
    "tags": []
   },
   "outputs": [],
   "source": [
    "DF_CHECK=WP2_df_PEDW\n",
    "DF_CHECK=DF_CHECK.sort_values(by=['ALF_PE','DATE', 'DISCH_DT'], ignore_index=True)\n",
    "DF_CHECK=DF_CHECK.drop_duplicates(subset=['ALF_PE','DATE', 'DISCH_DT'], ignore_index=True)\n",
    "s=DF_CHECK.groupby(['ALF_PE']).rolling('365D', on='DATE')['LOS'].sum().astype(int).to_frame('NUM_PRVHOSPITAL_DAYS_1YR').reset_index()\n",
    "\n",
    "s=s.sort_values(by=['ALF_PE','DATE'], ignore_index=True)\n",
    "DF_CHECK=DF_CHECK.sort_values(by=['ALF_PE','DATE'], ignore_index=True)\n",
    "\n",
    "DF_CHECK['NUM_PRVHOSPITAL_DAYS_1YR']=s['NUM_PRVHOSPITAL_DAYS_1YR']-DF_CHECK['LOS']\n",
    "\n",
    "WP2_df_PEDW=pd.merge(WP2_df_PEDW,DF_CHECK[['ALF_PE','DATE','DISCH_DT','LOS','NUM_PRVHOSPITAL_DAYS_1YR']])"
   ]
  },
  {
   "cell_type": "markdown",
   "id": "6ee48b1d-c189-45a9-817f-3d4a5446f643",
   "metadata": {
    "execution": {
     "iopub.execute_input": "2023-05-20T18:09:13.536679Z",
     "iopub.status.busy": "2023-05-20T18:09:13.535886Z",
     "iopub.status.idle": "2023-05-20T18:09:13.557666Z",
     "shell.execute_reply": "2023-05-20T18:09:13.555891Z",
     "shell.execute_reply.started": "2023-05-20T18:09:13.536631Z"
    },
    "tags": []
   },
   "source": [
    "OBTAIN COLUMN OF TOTAL NUMBER OF HOSPITAL DAYS IN THE PREVIOUS 3 YEARS PER PATIENT"
   ]
  },
  {
   "cell_type": "code",
   "execution_count": 273,
   "id": "3aa2f713-33de-4d22-a2f3-52be9fbef1fe",
   "metadata": {
    "execution": {
     "iopub.execute_input": "2024-02-05T13:21:42.257812Z",
     "iopub.status.busy": "2024-02-05T13:21:42.257571Z",
     "iopub.status.idle": "2024-02-05T13:21:43.026615Z",
     "shell.execute_reply": "2024-02-05T13:21:43.025586Z",
     "shell.execute_reply.started": "2024-02-05T13:21:42.257791Z"
    },
    "tags": []
   },
   "outputs": [],
   "source": [
    "DF_CHECK=WP2_df_PEDW\n",
    "DF_CHECK=DF_CHECK.sort_values(by=['ALF_PE','DATE', 'DISCH_DT'], ignore_index=True)\n",
    "DF_CHECK=DF_CHECK.drop_duplicates(subset=['ALF_PE','DATE', 'DISCH_DT'], ignore_index=True)\n",
    "s=DF_CHECK.groupby(['ALF_PE']).rolling('1095D', on='DATE')['LOS'].sum().astype(int).to_frame('NUM_PRVHOSPITAL_DAYS_3YR').reset_index()\n",
    "\n",
    "s=s.sort_values(by=['ALF_PE','DATE'], ignore_index=True)\n",
    "DF_CHECK=DF_CHECK.sort_values(by=['ALF_PE','DATE'], ignore_index=True)\n",
    "\n",
    "DF_CHECK['NUM_PRVHOSPITAL_DAYS_3YR']=s['NUM_PRVHOSPITAL_DAYS_3YR']-DF_CHECK['LOS']\n",
    "\n",
    "WP2_df_PEDW=pd.merge(WP2_df_PEDW,DF_CHECK[['ALF_PE','DATE','DISCH_DT','LOS','NUM_PRVHOSPITAL_DAYS_3YR']])"
   ]
  },
  {
   "cell_type": "markdown",
   "id": "5bbc519a-6e1a-4c43-a97f-6a387193d205",
   "metadata": {},
   "source": [
    "OBTAIN COLUMN OF TOTAL NUMBER OF HOSPITALIZATION EVENTS (ADMISSIONS) AT END OF PATIENT RECORDS"
   ]
  },
  {
   "cell_type": "code",
   "execution_count": 274,
   "id": "b3ebeb70-ca24-4937-a70c-1ddd97338e29",
   "metadata": {
    "execution": {
     "iopub.execute_input": "2024-02-05T13:21:43.027822Z",
     "iopub.status.busy": "2024-02-05T13:21:43.027592Z",
     "iopub.status.idle": "2024-02-05T13:21:43.273917Z",
     "shell.execute_reply": "2024-02-05T13:21:43.273140Z",
     "shell.execute_reply.started": "2024-02-05T13:21:43.027801Z"
    },
    "tags": []
   },
   "outputs": [],
   "source": [
    "DF_CHECK=WP2_df_PEDW\n",
    "DF_CHECK=DF_CHECK.sort_values(by=['ALF_PE','DATE', 'DISCH_DT'], ignore_index=True)\n",
    "DF_CHECK=DF_CHECK.drop_duplicates(subset=['ALF_PE','DATE', 'DISCH_DT'], ignore_index=True)\n",
    "s=DF_CHECK.groupby(['ALF_PE'])['DATE'].count().astype(int).to_frame('TOTAL_UNIQ_HOSPITALIZATIONS_AT_ENDDATE').reset_index()\n",
    "WP2_df_PEDW=pd.merge(WP2_df_PEDW,s)"
   ]
  },
  {
   "cell_type": "markdown",
   "id": "60811b4b-394d-44bc-b042-e381b52bb539",
   "metadata": {},
   "source": [
    "INCLUDE COLUMN FOR HOSPITAL MORTALITY"
   ]
  },
  {
   "cell_type": "code",
   "execution_count": 275,
   "id": "47a51afc-e4a9-4e03-8183-a63fc68f7575",
   "metadata": {
    "execution": {
     "iopub.execute_input": "2024-02-05T13:21:43.275166Z",
     "iopub.status.busy": "2024-02-05T13:21:43.274888Z",
     "iopub.status.idle": "2024-02-05T13:21:47.073783Z",
     "shell.execute_reply": "2024-02-05T13:21:47.073048Z",
     "shell.execute_reply.started": "2024-02-05T13:21:43.275143Z"
    },
    "tags": []
   },
   "outputs": [],
   "source": [
    "#INCLUDE COLUMN OF IN-HOSPITAL MORTALITY\n",
    "def HOSP_M(x):\n",
    "    if ((x['DATE']<=x['DOD']) and (x['DOD']<=x['DISCH_DT'])):\n",
    "        hospm=1\n",
    "    else:\n",
    "        hospm=0 \n",
    "    return hospm\n",
    "    \n",
    "WP2_df_PEDW['HOSP_MORTALITY']=WP2_df_PEDW.apply(lambda rows: HOSP_M(rows), axis=1)"
   ]
  },
  {
   "cell_type": "code",
   "execution_count": 276,
   "id": "076bdf75-7728-4167-9883-472661c3952b",
   "metadata": {
    "execution": {
     "iopub.execute_input": "2024-02-05T13:21:47.074671Z",
     "iopub.status.busy": "2024-02-05T13:21:47.074500Z",
     "iopub.status.idle": "2024-02-05T13:21:55.081910Z",
     "shell.execute_reply": "2024-02-05T13:21:55.080798Z",
     "shell.execute_reply.started": "2024-02-05T13:21:47.074655Z"
    },
    "tags": []
   },
   "outputs": [],
   "source": [
    "#PREPROCESS COMORBIDITY COUNT: FOR MULTIPLE NEW DIAGNOSIS OCCURING ON THE SAME DAY (I.E., EPISODE DATE), THE COMORBIDITY COUNT SHOULD BE THE SAME, AND NOT AN INCREASING SEQUENCE. \n",
    "WP2_df_PEDW['COMORBIDITY_COUNT']=WP2_df_PEDW.groupby(['ALF_PE','DATE', 'DISCH_DT', 'EPI_STR_DT'],group_keys=False)['COMORBIDITY_COUNT'].transform(lambda x: max(x))"
   ]
  },
  {
   "cell_type": "code",
   "execution_count": 278,
   "id": "d561c196-f631-4294-a421-b27d39d8c80e",
   "metadata": {
    "execution": {
     "iopub.execute_input": "2024-02-05T13:22:57.512883Z",
     "iopub.status.busy": "2024-02-05T13:22:57.511419Z",
     "iopub.status.idle": "2024-02-05T13:23:00.857852Z",
     "shell.execute_reply": "2024-02-05T13:23:00.856774Z",
     "shell.execute_reply.started": "2024-02-05T13:22:57.512803Z"
    },
    "tags": []
   },
   "outputs": [],
   "source": [
    "# SAVE THE PREPROCESSED DATA \n",
    "WP2_df_PEDW.to_csv('WP2_df_PEDW_TOTALEPISODES.csv')"
   ]
  },
  {
   "cell_type": "markdown",
   "id": "2046c5a8-dddb-4f3f-88ea-f0a5d5e104a2",
   "metadata": {
    "tags": []
   },
   "source": [
    "### ANALYSIS SECTION OF DATA"
   ]
  },
  {
   "cell_type": "markdown",
   "id": "0d8d84e4-2642-43b8-9252-36e485d76bf8",
   "metadata": {
    "tags": []
   },
   "source": [
    "#### BOTH GP AND HOSPITAL"
   ]
  },
  {
   "cell_type": "markdown",
   "id": "655a4e9a-746f-476f-bc52-e86c868d5bb2",
   "metadata": {},
   "source": [
    "##### OBTAIN DISTRIBUTION OF MEAN COMORBIDITY COUNTS ACROSS AGEGROUP, ETHNICITY AND GENDER"
   ]
  },
  {
   "cell_type": "code",
   "execution_count": null,
   "id": "bae5bac6-6c2f-4bc4-a0bd-4afd3b06c27c",
   "metadata": {
    "execution": {
     "iopub.execute_input": "2024-02-05T13:39:32.363236Z",
     "iopub.status.busy": "2024-02-05T13:39:32.362581Z",
     "iopub.status.idle": "2024-02-05T13:39:33.085474Z",
     "shell.execute_reply": "2024-02-05T13:39:33.084563Z",
     "shell.execute_reply.started": "2024-02-05T13:39:32.363192Z"
    },
    "tags": []
   },
   "outputs": [],
   "source": [
    "datachk=WP2_df.drop_duplicates(subset=['ALF_PE','DATE'], keep='last')\n",
    "meancomorb=datachk.groupby(['AGEGRP_AT_DATE'])['COMORBIDITY_COUNT'].agg(['count','mean', 'std']).reset_index()\n",
    "meancomorb.to_csv('MEANSTD_COMMORBIDITIES_AGEGROUP_GP_PEDW.csv')\n",
    "#sns.barplot(data=meancomorb, x='AGEGRP_AT_ADMIS_DT', y='std',  ci=False)\n",
    "fig = plt.figure()\n",
    "pp=meancomorb.plot(x='AGEGRP_AT_DATE',y=['mean','std'], kind='bar',color=[(0.53,0.81,0.92),(0.95,0.55,0)])\n",
    "pp.set_xticklabels(pp.get_xticklabels(), rotation=0)\n",
    "plt.xlabel('AGE GROUP')\n",
    "plt.ylabel('MEAN COMORBIDITY COUNT')\n",
    "plt.legend()\n",
    "\n",
    "plt.savefig('MEANSTD_COMMORBIDITIES_AGEGROUP_GP_PEDW.png', dpi=300, bbox_inches= 'tight',pad_inches=0.0)\n",
    "plt.show(block=False)"
   ]
  },
  {
   "cell_type": "code",
   "execution_count": null,
   "id": "32f1915d-1e55-468f-ad9e-c14063943e7e",
   "metadata": {
    "execution": {
     "iopub.execute_input": "2023-08-30T11:43:23.409221Z",
     "iopub.status.busy": "2023-08-30T11:43:23.408693Z",
     "iopub.status.idle": "2023-08-30T11:43:23.741633Z",
     "shell.execute_reply": "2023-08-30T11:43:23.740894Z",
     "shell.execute_reply.started": "2023-08-30T11:43:23.409178Z"
    },
    "tags": []
   },
   "outputs": [],
   "source": [
    "width=0.1\n",
    "fig = plt.figure()\n",
    "Group=['<20','20-29','30-39','40-49','50-59','60-69','70-79','80+']\n",
    "X_axis= np.arange(len(Group))\n",
    "\n",
    "plt.bar(X_axis, meancomorb['count'].tolist(), width)\n",
    "plt.xticks(X_axis, Group)\n",
    "# meancomorb.plot(x='AGEGRP_AT_DATE',y='count', kind='bar')\n",
    "plt.ylabel('Counts')\n",
    "plt.xlabel('Age Groups')\n",
    "#plt.title('Mean Number of Comorbidities Across Gender and Age Groups')\n",
    "plt.show(block=False)\n",
    "fig.savefig(\"AGEGROUPDIST_WP2DF.png\", dpi=300, bbox_inches= \"tight\")\n",
    "# plt.yscale('log')\n",
    "\n",
    "\n"
   ]
  },
  {
   "cell_type": "code",
   "execution_count": null,
   "id": "0180be51-aac8-4b1f-943f-68eb1d3b3de9",
   "metadata": {
    "execution": {
     "iopub.execute_input": "2024-02-05T13:41:55.879808Z",
     "iopub.status.busy": "2024-02-05T13:41:55.879304Z",
     "iopub.status.idle": "2024-02-05T13:41:56.535449Z",
     "shell.execute_reply": "2024-02-05T13:41:56.534387Z",
     "shell.execute_reply.started": "2024-02-05T13:41:55.879764Z"
    },
    "tags": []
   },
   "outputs": [],
   "source": [
    "datachk=WP2_df.drop_duplicates(subset=['ALF_PE','DATE'], keep='last')\n",
    "meancomorb=datachk.groupby(['AGEGRP_AT_DATE','GNDR_DESC'])['COMORBIDITY_COUNT'].agg(['count','mean', 'std']).reset_index()\n",
    "meancomorb.to_csv('MEANSTD_COMMORBIDITIES_AGEGROUP_GP_PEDW_GENDER.csv')\n",
    "fig = plt.figure()\n",
    "plt.style.use('seaborn-whitegrid')\n",
    "MALES=meancomorb.query('GNDR_DESC==\"MALE\"')['mean'].tolist()\n",
    "FEMALES=meancomorb.query('GNDR_DESC==\"FEMALE\"')['mean'].tolist()\n",
    "Group=['<20','20-29','30-39','40-49','50-59','60-69','70-79','80+']\n",
    "X_axis= np.arange(len(Group))\n",
    "bars=plt.bar(X_axis-0.2, MALES, 0.4, label='MALE', color=(0.53,0.81,0.92))#(0.65,0.8,1)\n",
    "# bars[1].set_color('orange')\n",
    "bars2=plt.bar(X_axis+0.2, FEMALES, 0.4, label='FEMALE', color=(0.95,0.55,0))#1,0.456,0\n",
    "# bars2[1].set_color('black')\n",
    "\n",
    "plt.xticks(X_axis, Group)\n",
    "# plt.set_xticklabels(pp.get_xticklabels(), rotation=0)\n",
    "plt.xlabel('AGE GROUP')\n",
    "plt.ylabel('MEAN COMORBIDITY COUNT')\n",
    "# plt.title('Mean Number of Comorbidities Across Gender and Age Groups')\n",
    "plt.legend()\n",
    "plt.show()\n",
    "fig.savefig(\"MEANSTD_COMMORBIDITIES_AGEGROUP_GP_PEDW_GENDER.png\", dpi=300, bbox_inches= \"tight\")"
   ]
  },
  {
   "cell_type": "code",
   "execution_count": null,
   "id": "40ec2ea2-37ce-406e-8572-c8f50ff82eb8",
   "metadata": {
    "execution": {
     "iopub.execute_input": "2023-08-30T11:32:17.803357Z",
     "iopub.status.busy": "2023-08-30T11:32:17.802813Z",
     "iopub.status.idle": "2023-08-30T11:32:17.959996Z",
     "shell.execute_reply": "2023-08-30T11:32:17.959188Z",
     "shell.execute_reply.started": "2023-08-30T11:32:17.803310Z"
    },
    "tags": []
   },
   "outputs": [],
   "source": [
    "plt.bar(X_axis-0.2, meancomorb.query('GNDR_DESC==\"MALE\"')['count'].tolist(), 0.4, label='MALE')\n",
    "plt.bar(X_axis+0.2, meancomorb.query('GNDR_DESC==\"FEMALE\"')['count'].tolist(), 0.4, label='FEMALE')\n",
    "plt.xticks(X_axis, Group)\n",
    "plt.legend()\n",
    "plt.show()"
   ]
  },
  {
   "cell_type": "code",
   "execution_count": null,
   "id": "682320c8-3355-41b7-9afd-643ab7b00f7c",
   "metadata": {
    "execution": {
     "iopub.execute_input": "2023-07-02T19:38:32.438037Z",
     "iopub.status.busy": "2023-07-02T19:38:32.437501Z",
     "iopub.status.idle": "2023-07-02T19:38:33.518195Z",
     "shell.execute_reply": "2023-07-02T19:38:33.517479Z",
     "shell.execute_reply.started": "2023-07-02T19:38:32.438009Z"
    },
    "tags": []
   },
   "outputs": [],
   "source": [
    "datachk=WP2_df.drop_duplicates(subset=['ALF_PE','DATE'], keep='last')\n",
    "meancomorb=datachk.groupby(['AGEGRP_AT_DATE','ETHN_EC_ONS_DATE_LATEST_DESC'])['COMORBIDITY_COUNT'].agg(['count','mean', 'std']).reset_index()\n",
    "meancomorb.to_csv('MEANSTD_COMMORBIDITIES_AGEGROUP_GP_PEDW_ETHNICITY.csv')\n",
    "#meancomorb\n",
    "fig = plt.figure(figsize=(20,7))\n",
    "ASIAN=meancomorb.query('ETHN_EC_ONS_DATE_LATEST_DESC==\"Asian\"')['mean'].tolist()\n",
    "BLACK=meancomorb.query('ETHN_EC_ONS_DATE_LATEST_DESC==\"Black\"')['mean'].tolist()\n",
    "MIXED=meancomorb.query('ETHN_EC_ONS_DATE_LATEST_DESC==\"Mixed\"')['mean'].tolist()\n",
    "OTHER=meancomorb.query('ETHN_EC_ONS_DATE_LATEST_DESC==\"Other\"')['mean'].tolist()\n",
    "UNKNOWN=meancomorb.query('ETHN_EC_ONS_DATE_LATEST_DESC==\"Unknown\"')['mean'].tolist()\n",
    "WHITE=meancomorb.query('ETHN_EC_ONS_DATE_LATEST_DESC==\"White\"')['mean'].tolist()\n",
    "\n",
    "Group=['<20','20-29','30-39','40-49','50-59','60-69','70-79','80+']\n",
    "X_axis= np.arange(len(Group))\n",
    "width=0.1\n",
    "plt.bar(X_axis-width*3, ASIAN, width, label='ASIAN')\n",
    "plt.bar(X_axis-width*2, BLACK, width, label='BLACK')\n",
    "plt.bar(X_axis-width, MIXED, width, label='MIXED')\n",
    "plt.bar(X_axis, OTHER, width, label='OTHER')\n",
    "plt.bar(X_axis+width, UNKNOWN, width, label='UNKNOWN')\n",
    "plt.bar(X_axis+width*2, WHITE, width, label='WHITE')\n",
    "\n",
    "plt.xticks(X_axis, Group)\n",
    "plt.xlabel('Age Groups')\n",
    "plt.ylabel('Mean Number of Comorbidities')\n",
    "#plt.title('Mean Number of Comorbidities Across Gender and Age Groups')\n",
    "plt.legend()\n",
    "plt.show()\n",
    "fig.savefig(\"MEANSTD_COMMORBIDITIES_AGEGROUP_GP_PEDW_ETHNICITY.png\", dpi=300, bbox_inches= \"tight\")"
   ]
  },
  {
   "cell_type": "code",
   "execution_count": null,
   "id": "e0823f2c-da1a-43e4-b74b-1f79d103088c",
   "metadata": {
    "execution": {
     "iopub.execute_input": "2023-07-02T19:38:33.558576Z",
     "iopub.status.busy": "2023-07-02T19:38:33.558422Z",
     "iopub.status.idle": "2023-07-02T19:38:34.019058Z",
     "shell.execute_reply": "2023-07-02T19:38:34.018081Z",
     "shell.execute_reply.started": "2023-07-02T19:38:33.558561Z"
    },
    "tags": []
   },
   "outputs": [],
   "source": [
    "fig = plt.figure()\n",
    "width=0.1\n",
    "plt.bar(X_axis-width*3, meancomorb.query('ETHN_EC_ONS_DATE_LATEST_DESC==\"Asian\"')['count'].tolist(), width, label='ASIAN')\n",
    "plt.bar(X_axis-width*2, meancomorb.query('ETHN_EC_ONS_DATE_LATEST_DESC==\"Black\"')['count'].tolist(), width, label='BLACK')\n",
    "plt.bar(X_axis-width, meancomorb.query('ETHN_EC_ONS_DATE_LATEST_DESC==\"Mixed\"')['count'].tolist(), width, label='MIXED')\n",
    "plt.bar(X_axis, meancomorb.query('ETHN_EC_ONS_DATE_LATEST_DESC==\"Other\"')['count'].tolist(), width, label='OTHER')\n",
    "plt.bar(X_axis+width, meancomorb.query('ETHN_EC_ONS_DATE_LATEST_DESC==\"Unknown\"')['count'].tolist(), width, label='UNKNOWN')\n",
    "plt.bar(X_axis+width*2, meancomorb.query('ETHN_EC_ONS_DATE_LATEST_DESC==\"White\"')['count'].tolist(), width, label='WHITE')\n",
    "\n",
    "plt.xticks(X_axis, Group)\n",
    "plt.ylabel('Counts')\n",
    "plt.xlabel('Age Groups')\n",
    "#plt.title('Mean Number of Comorbidities Across Gender and Age Groups')\n",
    "plt.legend()\n",
    "fig.savefig(\"AGEGROUPDIST_WP2DF_ETHNICITY.png\", dpi=300, bbox_inches= \"tight\")\n",
    "# plt.yscale('log')\n",
    "\n",
    "\n",
    "plt.show(block=False)"
   ]
  },
  {
   "cell_type": "code",
   "execution_count": null,
   "id": "731e6de2-14a9-4910-8e34-bfd81371cc09",
   "metadata": {
    "execution": {
     "iopub.execute_input": "2023-07-02T19:38:34.020534Z",
     "iopub.status.busy": "2023-07-02T19:38:34.020364Z",
     "iopub.status.idle": "2023-07-02T19:38:34.637825Z",
     "shell.execute_reply": "2023-07-02T19:38:34.637151Z",
     "shell.execute_reply.started": "2023-07-02T19:38:34.020519Z"
    },
    "tags": []
   },
   "outputs": [],
   "source": [
    "#fig = plt.figure(figsize=(20,7))\n",
    "width=0.1\n",
    "plt.bar(X_axis-width*3, meancomorb.query('ETHN_EC_ONS_DATE_LATEST_DESC==\"Asian\"')['count'].tolist(), width, label='ASIAN')\n",
    "plt.bar(X_axis-width*2, meancomorb.query('ETHN_EC_ONS_DATE_LATEST_DESC==\"Black\"')['count'].tolist(), width, label='BLACK')\n",
    "plt.bar(X_axis-width, meancomorb.query('ETHN_EC_ONS_DATE_LATEST_DESC==\"Mixed\"')['count'].tolist(), width, label='MIXED')\n",
    "plt.bar(X_axis, meancomorb.query('ETHN_EC_ONS_DATE_LATEST_DESC==\"Other\"')['count'].tolist(), width, label='OTHER')\n",
    "plt.bar(X_axis+width, meancomorb.query('ETHN_EC_ONS_DATE_LATEST_DESC==\"Unknown\"')['count'].tolist(), width, label='UNKNOWN')\n",
    "plt.bar(X_axis+width*2, meancomorb.query('ETHN_EC_ONS_DATE_LATEST_DESC==\"White\"')['count'].tolist(), width, label='WHITE')\n",
    "\n",
    "plt.ylabel('Counts')\n",
    "plt.xlabel('Age Groups')\n",
    "plt.yscale('log')\n",
    "plt.xticks(X_axis, Group)\n",
    "plt.legend()\n",
    "plt.show()\n",
    "\n",
    "fig.savefig(\"AGEGROUPDIST_WP2DF_ETHNICITY_log.png\", dpi=300, bbox_inches= \"tight\")"
   ]
  },
  {
   "cell_type": "markdown",
   "id": "77434873-224e-42cd-8108-f26c723a361b",
   "metadata": {},
   "source": [
    "#### ONLY HOSPITAL DATA"
   ]
  },
  {
   "cell_type": "markdown",
   "id": "7e8bccc9-2407-4f63-b535-012ba251a69e",
   "metadata": {
    "execution": {
     "iopub.execute_input": "2023-06-21T15:42:36.404723Z",
     "iopub.status.busy": "2023-06-21T15:42:36.403190Z",
     "iopub.status.idle": "2023-06-21T15:42:36.412615Z",
     "shell.execute_reply": "2023-06-21T15:42:36.411229Z",
     "shell.execute_reply.started": "2023-06-21T15:42:36.404668Z"
    },
    "tags": []
   },
   "source": [
    "##### Demographic Cohort Description"
   ]
  },
  {
   "cell_type": "markdown",
   "id": "edb774f9-0de3-480d-8666-9d438a696a13",
   "metadata": {},
   "source": [
    "##### OBTAIN DISTRIBUTION OF MEAN COMORBIDITY COUNTS ACROSS AGEGROUP, ETHNICITY AND GENDER"
   ]
  },
  {
   "cell_type": "code",
   "execution_count": null,
   "id": "00598a97-05ae-4d4e-a7f3-5507d58d4f70",
   "metadata": {
    "execution": {
     "iopub.execute_input": "2024-02-06T15:30:22.749398Z",
     "iopub.status.busy": "2024-02-06T15:30:22.748499Z",
     "iopub.status.idle": "2024-02-06T15:30:22.758787Z",
     "shell.execute_reply": "2024-02-06T15:30:22.757259Z",
     "shell.execute_reply.started": "2024-02-06T15:30:22.749351Z"
    },
    "tags": []
   },
   "outputs": [],
   "source": [
    "WP2_df_PEDW['DATE']=pd.to_datetime(df['DATE'])"
   ]
  },
  {
   "cell_type": "code",
   "execution_count": null,
   "id": "b6008ebe-07af-40b3-9e82-2308d2af4b7b",
   "metadata": {
    "execution": {
     "iopub.execute_input": "2023-07-02T19:46:24.374042Z",
     "iopub.status.busy": "2023-07-02T19:46:24.373499Z",
     "iopub.status.idle": "2023-07-02T19:46:24.698825Z",
     "shell.execute_reply": "2023-07-02T19:46:24.698053Z",
     "shell.execute_reply.started": "2023-07-02T19:46:24.373997Z"
    },
    "tags": []
   },
   "outputs": [],
   "source": [
    "fig = plt.figure()\n",
    "Group=['<20','20-29','30-39','40-49','50-59','60-69','70-79','80+']\n",
    "X_axis= np.arange(len(Group))\n",
    "\n",
    "plt.bar(X_axis, meancomorb['count'].tolist(), width, label='ASIAN')\n",
    "plt.xticks(X_axis, Group)\n",
    "# meancomorb.plot(x='AGEGRP_AT_DATE',y='count', kind='bar')\n",
    "plt.ylabel('Counts')\n",
    "plt.xlabel('Age Groups')\n",
    "#plt.title('Mean Number of Comorbidities Across Gender and Age Groups')\n",
    "plt.show(block=False)\n",
    "fig.savefig(\"AGEGROUPDIST_PEDW.png\", dpi=300, bbox_inches= \"tight\")\n",
    "# plt.yscale('log')\n",
    "\n",
    "\n"
   ]
  },
  {
   "cell_type": "code",
   "execution_count": null,
   "id": "cb37622c-bc8a-46be-9911-4866add09977",
   "metadata": {
    "execution": {
     "iopub.execute_input": "2023-07-02T19:48:41.345584Z",
     "iopub.status.busy": "2023-07-02T19:48:41.344994Z",
     "iopub.status.idle": "2023-07-02T19:48:41.506347Z",
     "shell.execute_reply": "2023-07-02T19:48:41.505749Z",
     "shell.execute_reply.started": "2023-07-02T19:48:41.345537Z"
    },
    "tags": []
   },
   "outputs": [],
   "source": [
    "plt.bar(X_axis-0.2, meancomorb.query('GNDR_DESC==\"MALE\"')['count'].tolist(), 0.4, label='MALE')\n",
    "plt.bar(X_axis+0.2, meancomorb.query('GNDR_DESC==\"FEMALE\"')['count'].tolist(), 0.4, label='FEMALE')\n",
    "plt.xticks(X_axis, Group)\n",
    "plt.legend()\n",
    "plt.show()"
   ]
  },
  {
   "cell_type": "code",
   "execution_count": null,
   "id": "c250b222-e083-4705-9b34-e2954efb14c4",
   "metadata": {
    "execution": {
     "iopub.execute_input": "2023-07-02T19:48:43.675963Z",
     "iopub.status.busy": "2023-07-02T19:48:43.675335Z",
     "iopub.status.idle": "2023-07-02T19:48:44.519943Z",
     "shell.execute_reply": "2023-07-02T19:48:44.518850Z",
     "shell.execute_reply.started": "2023-07-02T19:48:43.675902Z"
    },
    "tags": []
   },
   "outputs": [],
   "source": [
    "datachk=WP2_df_PEDW.drop_duplicates(subset=['ALF_PE','DATE'], keep='last')\n",
    "meancomorb=datachk.groupby(['AGEGRP_AT_DATE','ETHN_EC_ONS_DATE_LATEST_DESC'])['COMORBIDITY_COUNT'].agg(['count','mean', 'std']).reset_index()\n",
    "meancomorb.to_csv('MEANSTD_COMMORBIDITIES_AGEGROUP_PEDW_ETHNICITY.csv')\n",
    "#meancomorb\n",
    "fig = plt.figure(figsize=(20,7))\n",
    "ASIAN=meancomorb.query('ETHN_EC_ONS_DATE_LATEST_DESC==\"Asian\"')['mean'].tolist()\n",
    "BLACK=meancomorb.query('ETHN_EC_ONS_DATE_LATEST_DESC==\"Black\"')['mean'].tolist()\n",
    "MIXED=meancomorb.query('ETHN_EC_ONS_DATE_LATEST_DESC==\"Mixed\"')['mean'].tolist()\n",
    "OTHER=meancomorb.query('ETHN_EC_ONS_DATE_LATEST_DESC==\"Other\"')['mean'].tolist()\n",
    "UNKNOWN=meancomorb.query('ETHN_EC_ONS_DATE_LATEST_DESC==\"Unknown\"')['mean'].tolist()\n",
    "WHITE=meancomorb.query('ETHN_EC_ONS_DATE_LATEST_DESC==\"White\"')['mean'].tolist()\n",
    "\n",
    "Group=['<20','20-29','30-39','40-49','50-59','60-69','70-79','80+']\n",
    "X_axis= np.arange(len(Group))\n",
    "width=0.1\n",
    "plt.bar(X_axis-width*3, ASIAN, width, label='ASIAN')\n",
    "plt.bar(X_axis-width*2, BLACK, width, label='BLACK')\n",
    "plt.bar(X_axis-width, MIXED, width, label='MIXED')\n",
    "plt.bar(X_axis, OTHER, width, label='OTHER')\n",
    "plt.bar(X_axis+width, UNKNOWN, width, label='UNKNOWN')\n",
    "plt.bar(X_axis+width*2, WHITE, width, label='WHITE')\n",
    "\n",
    "plt.xticks(X_axis, Group)\n",
    "plt.xlabel('Age Groups')\n",
    "plt.ylabel('Mean Number of Comorbidities')\n",
    "#plt.title('Mean Number of Comorbidities Across Gender and Age Groups')\n",
    "plt.legend()\n",
    "plt.show()\n",
    "fig.savefig(\"MEANSTD_COMMORBIDITIES_AGEGROUP_PEDW_ETHNICITY.png\", dpi=300, bbox_inches= \"tight\")"
   ]
  },
  {
   "cell_type": "code",
   "execution_count": null,
   "id": "cf86bec4-6354-400f-b45b-6641ca85a713",
   "metadata": {
    "execution": {
     "iopub.execute_input": "2023-07-02T19:48:47.850413Z",
     "iopub.status.busy": "2023-07-02T19:48:47.849845Z",
     "iopub.status.idle": "2023-07-02T19:48:48.325486Z",
     "shell.execute_reply": "2023-07-02T19:48:48.324870Z",
     "shell.execute_reply.started": "2023-07-02T19:48:47.850367Z"
    },
    "tags": []
   },
   "outputs": [],
   "source": [
    "fig = plt.figure()\n",
    "width=0.1\n",
    "plt.bar(X_axis-width*3, meancomorb.query('ETHN_EC_ONS_DATE_LATEST_DESC==\"Asian\"')['count'].tolist(), width, label='ASIAN')\n",
    "plt.bar(X_axis-width*2, meancomorb.query('ETHN_EC_ONS_DATE_LATEST_DESC==\"Black\"')['count'].tolist(), width, label='BLACK')\n",
    "plt.bar(X_axis-width, meancomorb.query('ETHN_EC_ONS_DATE_LATEST_DESC==\"Mixed\"')['count'].tolist(), width, label='MIXED')\n",
    "plt.bar(X_axis, meancomorb.query('ETHN_EC_ONS_DATE_LATEST_DESC==\"Other\"')['count'].tolist(), width, label='OTHER')\n",
    "plt.bar(X_axis+width, meancomorb.query('ETHN_EC_ONS_DATE_LATEST_DESC==\"Unknown\"')['count'].tolist(), width, label='UNKNOWN')\n",
    "plt.bar(X_axis+width*2, meancomorb.query('ETHN_EC_ONS_DATE_LATEST_DESC==\"White\"')['count'].tolist(), width, label='WHITE')\n",
    "\n",
    "plt.xticks(X_axis, Group)\n",
    "plt.ylabel('Counts')\n",
    "plt.xlabel('Age Groups')\n",
    "#plt.title('Mean Number of Comorbidities Across Gender and Age Groups')\n",
    "plt.legend()\n",
    "fig.savefig(\"AGEGROUPDIST_PEDW_ETHNICITY.png\", dpi=300, bbox_inches= \"tight\")\n",
    "# plt.yscale('log')\n",
    "\n",
    "\n",
    "plt.show(block=False)"
   ]
  },
  {
   "cell_type": "code",
   "execution_count": null,
   "id": "47db1b8c-58ae-46b5-9726-484225c63dff",
   "metadata": {
    "execution": {
     "iopub.execute_input": "2023-07-02T19:48:49.940603Z",
     "iopub.status.busy": "2023-07-02T19:48:49.940099Z",
     "iopub.status.idle": "2023-07-02T19:48:50.558636Z",
     "shell.execute_reply": "2023-07-02T19:48:50.558033Z",
     "shell.execute_reply.started": "2023-07-02T19:48:49.940559Z"
    },
    "tags": []
   },
   "outputs": [],
   "source": [
    "#fig = plt.figure(figsize=(20,7))\n",
    "width=0.1\n",
    "plt.bar(X_axis-width*3, meancomorb.query('ETHN_EC_ONS_DATE_LATEST_DESC==\"Asian\"')['count'].tolist(), width, label='ASIAN')\n",
    "plt.bar(X_axis-width*2, meancomorb.query('ETHN_EC_ONS_DATE_LATEST_DESC==\"Black\"')['count'].tolist(), width, label='BLACK')\n",
    "plt.bar(X_axis-width, meancomorb.query('ETHN_EC_ONS_DATE_LATEST_DESC==\"Mixed\"')['count'].tolist(), width, label='MIXED')\n",
    "plt.bar(X_axis, meancomorb.query('ETHN_EC_ONS_DATE_LATEST_DESC==\"Other\"')['count'].tolist(), width, label='OTHER')\n",
    "plt.bar(X_axis+width, meancomorb.query('ETHN_EC_ONS_DATE_LATEST_DESC==\"Unknown\"')['count'].tolist(), width, label='UNKNOWN')\n",
    "plt.bar(X_axis+width*2, meancomorb.query('ETHN_EC_ONS_DATE_LATEST_DESC==\"White\"')['count'].tolist(), width, label='WHITE')\n",
    "\n",
    "plt.ylabel('Counts')\n",
    "plt.xlabel('Age Groups')\n",
    "plt.yscale('log')\n",
    "plt.xticks(X_axis, Group)\n",
    "plt.legend()\n",
    "plt.show()\n",
    "\n",
    "fig.savefig(\"AGEGROUPDIST_PEDW_ETHNICITY_log.png\", dpi=300, bbox_inches= \"tight\")"
   ]
  },
  {
   "cell_type": "markdown",
   "id": "6e89120e-0f26-444b-bbc2-372e5d49beab",
   "metadata": {},
   "source": [
    "END"
   ]
  },
  {
   "cell_type": "code",
   "execution_count": 354,
   "id": "9c79f5c7-7b43-4e0b-9857-0f67835ad67f",
   "metadata": {
    "execution": {
     "iopub.execute_input": "2024-02-05T21:08:01.793696Z",
     "iopub.status.busy": "2024-02-05T21:08:01.792958Z",
     "iopub.status.idle": "2024-02-05T21:08:01.874388Z",
     "shell.execute_reply": "2024-02-05T21:08:01.873689Z",
     "shell.execute_reply.started": "2024-02-05T21:08:01.793645Z"
    },
    "tags": []
   },
   "outputs": [],
   "source": [
    "#FILTER DATA TO DROP DUPLICATE ADMISSIONS PER CONDITION FOR EACH PATIENT\n",
    "WP2_df_PEDW=WP2_df_PEDW.drop_duplicates(subset=['ALF_PE','DATE', 'DISCH_DT','CONDITION'], ignore_index=True)"
   ]
  },
  {
   "cell_type": "markdown",
   "id": "99e211ae-b67f-42dc-9ab4-a808eb5191f2",
   "metadata": {},
   "source": [
    "OBTAIN A THESHOLD FOR BINARY CLASSIFICATION OF LOS"
   ]
  },
  {
   "cell_type": "code",
   "execution_count": 355,
   "id": "b674f252-2388-4109-8c39-170cae121e27",
   "metadata": {
    "execution": {
     "iopub.execute_input": "2024-02-05T21:08:06.168464Z",
     "iopub.status.busy": "2024-02-05T21:08:06.167716Z",
     "iopub.status.idle": "2024-02-05T21:08:06.216028Z",
     "shell.execute_reply": "2024-02-05T21:08:06.215349Z",
     "shell.execute_reply.started": "2024-02-05T21:08:06.168417Z"
    },
    "tags": []
   },
   "outputs": [],
   "source": [
    "#WE OBTAIN THE STATISTICS WITH RESPECT TO UNIQUE ADMISSIONS, HENCE, WE DROP DUPLICATE ADMISSIONS PER PATIENTS\n",
    "PEDW_UNIQ=WP2_df_PEDW.drop_duplicates(subset=['ALF_PE','DATE', 'DISCH_DT'], ignore_index=True)"
   ]
  },
  {
   "cell_type": "code",
   "execution_count": 356,
   "id": "3f168aa3-fe97-45d4-9f5b-67767338c510",
   "metadata": {
    "execution": {
     "iopub.execute_input": "2024-02-05T21:08:07.276770Z",
     "iopub.status.busy": "2024-02-05T21:08:07.276208Z",
     "iopub.status.idle": "2024-02-05T21:08:07.298706Z",
     "shell.execute_reply": "2024-02-05T21:08:07.296644Z",
     "shell.execute_reply.started": "2024-02-05T21:08:07.276726Z"
    },
    "tags": []
   },
   "outputs": [],
   "source": [
    "#REPLACE MISSING WIMD DATA WITH 'unknown'\n",
    "PEDW_UNIQ['WIMD2019_QUINTILE_AT_INDEX_DATE'].fillna(\"Unknown\", inplace=True)"
   ]
  },
  {
   "cell_type": "code",
   "execution_count": null,
   "id": "58a6c90b",
   "metadata": {},
   "outputs": [],
   "source": [
    "#INTERQUARTILE RANGE\n",
    "IQR= PEDW_UNIQ.LOS.quantile(0.75)-PEDW_UNIQ.LOS.quantile(0.25)\n",
    "\n",
    "#UPPER BOUNDARY\n",
    "UPPER_BOUND=PEDW_UNIQ.LOS.quantile(0.75) + (1.5*IQR)\n",
    "UPPER_BOUND"
   ]
  },
  {
   "cell_type": "code",
   "execution_count": null,
   "id": "f84cc73b-7c03-4602-a2f6-1076baa7d102",
   "metadata": {
    "execution": {
     "iopub.execute_input": "2024-02-05T21:08:14.201837Z",
     "iopub.status.busy": "2024-02-05T21:08:14.201045Z",
     "iopub.status.idle": "2024-02-05T21:08:14.290093Z",
     "shell.execute_reply": "2024-02-05T21:08:14.289392Z",
     "shell.execute_reply.started": "2024-02-05T21:08:14.201774Z"
    },
    "tags": []
   },
   "outputs": [],
   "source": [
    "#OBTAIN MEAN LOS WITHOUT OUTLIERS\n",
    "LOS_THRESH=PEDW_UNIQ.query('LOS<=@UPPER_BOUND').LOS.mean()\n",
    "LOS_THRESH"
   ]
  },
  {
   "cell_type": "code",
   "execution_count": null,
   "id": "4f5071d9-8e6d-4caf-a9cc-32e0b627e8ad",
   "metadata": {
    "execution": {
     "iopub.execute_input": "2024-02-05T21:08:15.089672Z",
     "iopub.status.busy": "2024-02-05T21:08:15.088359Z",
     "iopub.status.idle": "2024-02-05T21:08:15.097204Z",
     "shell.execute_reply": "2024-02-05T21:08:15.096079Z",
     "shell.execute_reply.started": "2024-02-05T21:08:15.089580Z"
    },
    "tags": []
   },
   "outputs": [],
   "source": [
    "import math \n",
    "LOS_THRESH=math.ceil(LOS_THRESH)\n",
    "LOS_THRESH"
   ]
  },
  {
   "cell_type": "code",
   "execution_count": null,
   "id": "cd7d09fd-1e52-4bb9-b4f2-4b74fdc421a7",
   "metadata": {
    "execution": {
     "iopub.execute_input": "2024-02-05T21:08:15.863379Z",
     "iopub.status.busy": "2024-02-05T21:08:15.862799Z",
     "iopub.status.idle": "2024-02-05T21:08:15.903575Z",
     "shell.execute_reply": "2024-02-05T21:08:15.902576Z",
     "shell.execute_reply.started": "2024-02-05T21:08:15.863334Z"
    },
    "tags": []
   },
   "outputs": [],
   "source": [
    "#DESCRIPTION OF DATA WITHOUT OUTLIERS\n",
    "PEDW_UNIQ.query('LOS<=@UPPER_BOUND').LOS.describe()"
   ]
  },
  {
   "cell_type": "markdown",
   "id": "5602f83e-238a-4f47-a443-dc4723fe65e6",
   "metadata": {},
   "source": [
    "INCLUDE COLUMN FOR BINARY CLASSIFICATION OF LOS"
   ]
  },
  {
   "cell_type": "code",
   "execution_count": 12,
   "id": "c3c317d2-20a1-4d7c-90ad-ae0ed07e27db",
   "metadata": {
    "execution": {
     "iopub.execute_input": "2024-02-06T10:50:20.513313Z",
     "iopub.status.busy": "2024-02-06T10:50:20.512789Z",
     "iopub.status.idle": "2024-02-06T10:50:20.538351Z",
     "shell.execute_reply": "2024-02-06T10:50:20.537659Z",
     "shell.execute_reply.started": "2024-02-06T10:50:20.513268Z"
    },
    "tags": []
   },
   "outputs": [],
   "source": [
    "WP2_df_PEDW['LOSClass']=0\n",
    "WP2_df_PEDW.loc[WP2_df_PEDW['LOS']>=LOS_THRESH, 'LOSClass']=1"
   ]
  },
  {
   "cell_type": "code",
   "execution_count": null,
   "id": "49a718ba-41eb-46f2-97b1-80d8dbbfc6b3",
   "metadata": {
    "execution": {
     "iopub.execute_input": "2024-02-05T21:08:20.051046Z",
     "iopub.status.busy": "2024-02-05T21:08:20.050598Z",
     "iopub.status.idle": "2024-02-05T21:08:20.063322Z",
     "shell.execute_reply": "2024-02-05T21:08:20.062078Z",
     "shell.execute_reply.started": "2024-02-05T21:08:20.051003Z"
    },
    "tags": []
   },
   "outputs": [],
   "source": [
    "WP2_df_PEDW.LOSClass.value_counts()"
   ]
  },
  {
   "cell_type": "code",
   "execution_count": 400,
   "id": "30d57fce-5553-43dd-bbfb-0554779ffc5e",
   "metadata": {
    "execution": {
     "iopub.execute_input": "2024-02-05T21:11:47.535095Z",
     "iopub.status.busy": "2024-02-05T21:11:47.534356Z",
     "iopub.status.idle": "2024-02-05T21:11:47.544999Z",
     "shell.execute_reply": "2024-02-05T21:11:47.543480Z",
     "shell.execute_reply.started": "2024-02-05T21:11:47.535043Z"
    }
   },
   "outputs": [
    {
     "data": {
      "text/plain": [
       "Index(['ALF_PE', 'DATE', 'DISCH_DT', 'EPI_STR_DT', 'EPI_END_DT', 'DIAG_NUM',\n",
       "       'DIAG_CODE', 'DIAG_DESC', 'PROV_UNIT_CD', 'CONDITION', 'CODE_SYSTEM',\n",
       "       'WOB', 'AGE_AT_INDEX_DATE', 'AGE_GRPS_AT_INDEX_DATE',\n",
       "       'AGE_GRPS_AT_INDEX_DATE_DESC', 'DOD', 'GNDR_CD', 'GNDR_DESC',\n",
       "       'LSOA2011_CD_AT_INDEX_DATE', 'WIMD2019_QUINTILE_AT_INDEX_DATE',\n",
       "       'WIMD2019_QUINTILE_AT_INDEX_DATE_DESC',\n",
       "       'TOWNSEND2011_QUINTILE_AT_INDEX_DATE',\n",
       "       'TOWNSEND2011_QUINTILE_AT_INDEX_DATE_DESC',\n",
       "       'ETHN_EC_ONS_DATE_LATEST_CODE', 'ETHN_EC_ONS_DATE_LATEST_DESC',\n",
       "       'ETHN_EC_NER_DATE_LATEST_CODE', 'ETHN_EC_NER_DATE_LATEST_DESC',\n",
       "       'AGE_AT_DATE', 'AGEGRP_AT_DATE', 'MORTALITY', 'COM_SEQ',\n",
       "       'COMORBIDITY_COUNT', 'AUTISM', 'BEHAVIOR_DISORDER', 'ALCOHOL_HISTORY',\n",
       "       'PresenceAlcRec', 'PresenceALCchange', 'SMOKING_HISTORY',\n",
       "       'PresenceSMOKchange', 'PresenceSmokRec', 'MEDICATIONS',\n",
       "       'PresenceMEDIchange', 'PHYSICAL', 'PresencePHYSRec',\n",
       "       'PresencePHYSchange', 'BMI', 'PresenceBMIchange', 'AGE_AT_ADMIS_DT',\n",
       "       'AGEGRP_AT_ADMIS_DT', 'LOS', 'NUM_PRVADMISSION_1YR',\n",
       "       'NUM_PRVEPISODES_1YR', 'YEAR_BEFORE_ADMIS', '3YEARS_BEFORE_ADMIS',\n",
       "       'NUM_PRVCOMORBID_1YR', 'NUM_PRVCOMORBID_3YR', 'NUM_PRVEPISODES_3YR',\n",
       "       'DATE_AFTER_ADMIS', 'NUMEPISODES_24HRS', 'NUMCOMORBIDITIES_24HRS',\n",
       "       'NUM_ADMISSION_COMORBIDITIES', 'NUM_PRVADMISSION_1YR_COND',\n",
       "       'NUM_PRVADMISSION_3YR', 'NUM_PRVADMISSION_3YR_COND',\n",
       "       'NUM_PRVHOSPITAL_DAYS_1YR', 'NUM_PRVHOSPITAL_DAYS_3YR',\n",
       "       'TOTAL_UNIQ_HOSPITALIZATIONS_AT_ENDDATE', 'HOSP_MORTALITY', 'LOSClass',\n",
       "       'LOSClass2'],\n",
       "      dtype='object')"
      ]
     },
     "execution_count": 400,
     "metadata": {},
     "output_type": "execute_result"
    }
   ],
   "source": [
    "WP2_df_PEDW.columns"
   ]
  },
  {
   "cell_type": "markdown",
   "id": "610f2aa4-268f-435a-85ae-88e2f13fc1e8",
   "metadata": {},
   "source": [
    "ANALYZING THE OUTLIERS"
   ]
  },
  {
   "cell_type": "code",
   "execution_count": 368,
   "id": "d3a75b1a-71d2-43dc-802f-9c614f5d4aee",
   "metadata": {
    "execution": {
     "iopub.execute_input": "2024-02-05T21:08:21.958574Z",
     "iopub.status.busy": "2024-02-05T21:08:21.957886Z",
     "iopub.status.idle": "2024-02-05T21:08:21.982449Z",
     "shell.execute_reply": "2024-02-05T21:08:21.980964Z",
     "shell.execute_reply.started": "2024-02-05T21:08:21.958528Z"
    },
    "tags": []
   },
   "outputs": [],
   "source": [
    "WP2_df_PEDW_OUTLIERS1=PEDW_UNIQ.query('LOS>=@UPPER_BOUND')"
   ]
  },
  {
   "cell_type": "code",
   "execution_count": null,
   "id": "5016d57e-076a-459b-924c-7a1a862c47cf",
   "metadata": {
    "execution": {
     "iopub.execute_input": "2024-02-05T21:08:22.377320Z",
     "iopub.status.busy": "2024-02-05T21:08:22.376668Z",
     "iopub.status.idle": "2024-02-05T21:08:22.385167Z",
     "shell.execute_reply": "2024-02-05T21:08:22.383885Z",
     "shell.execute_reply.started": "2024-02-05T21:08:22.377273Z"
    },
    "tags": []
   },
   "outputs": [],
   "source": [
    "# Obtain counts of admissions with LOS above upperbound\n",
    "WP2_df_PEDW_OUTLIERS1.shape[0]"
   ]
  },
  {
   "cell_type": "code",
   "execution_count": null,
   "id": "0a6c889e-92a2-4a5b-8a46-ee458e655581",
   "metadata": {
    "execution": {
     "iopub.execute_input": "2024-02-05T21:08:23.816659Z",
     "iopub.status.busy": "2024-02-05T21:08:23.815975Z",
     "iopub.status.idle": "2024-02-05T21:08:24.000119Z",
     "shell.execute_reply": "2024-02-05T21:08:23.999509Z",
     "shell.execute_reply.started": "2024-02-05T21:08:23.816608Z"
    },
    "tags": []
   },
   "outputs": [],
   "source": [
    "LOS_box1=WP2_df_PEDW_OUTLIERS1.boxplot(column='LOS')\n",
    "LOS_box1.plot()\n",
    "plt.yscale('log')\n",
    "plt.show()"
   ]
  },
  {
   "cell_type": "code",
   "execution_count": null,
   "id": "f75f8ccb-8dfa-41bb-ad18-699764ddba9d",
   "metadata": {
    "execution": {
     "iopub.execute_input": "2024-02-05T21:08:24.261967Z",
     "iopub.status.busy": "2024-02-05T21:08:24.261316Z",
     "iopub.status.idle": "2024-02-05T21:08:24.275661Z",
     "shell.execute_reply": "2024-02-05T21:08:24.274436Z",
     "shell.execute_reply.started": "2024-02-05T21:08:24.261921Z"
    },
    "tags": []
   },
   "outputs": [],
   "source": [
    "WP2_df_PEDW_OUTLIERS1.LOS.describe()"
   ]
  },
  {
   "cell_type": "code",
   "execution_count": 372,
   "id": "441f6e8f-1f61-4332-bb7a-57db8230c787",
   "metadata": {
    "execution": {
     "iopub.execute_input": "2024-02-05T21:08:25.304232Z",
     "iopub.status.busy": "2024-02-05T21:08:25.303706Z",
     "iopub.status.idle": "2024-02-05T21:08:25.316940Z",
     "shell.execute_reply": "2024-02-05T21:08:25.315817Z",
     "shell.execute_reply.started": "2024-02-05T21:08:25.304186Z"
    },
    "tags": []
   },
   "outputs": [],
   "source": [
    "#INTERQUARTILE RANGE FOR OUTLIERS\n",
    "IQR1= WP2_df_PEDW_OUTLIERS1.LOS.quantile(0.75)-WP2_df_PEDW_OUTLIERS1.LOS.quantile(0.25)\n",
    "\n",
    "#UPPER BOUNDARY FOR BOX PLOT OF OUTLIERS\n",
    "UPPER_BOUND1=WP2_df_PEDW_OUTLIERS1.LOS.quantile(0.75) + (1.5*IQR1)\n",
    "\n",
    "#REMARK: THE OUTLIERS ARE PATIENTS WITH LOS>UPPER_BOUND"
   ]
  },
  {
   "cell_type": "code",
   "execution_count": null,
   "id": "45f85185-c44d-494f-b3e9-661e7905336e",
   "metadata": {
    "execution": {
     "iopub.execute_input": "2024-02-05T21:08:26.754508Z",
     "iopub.status.busy": "2024-02-05T21:08:26.754007Z",
     "iopub.status.idle": "2024-02-05T21:08:26.776213Z",
     "shell.execute_reply": "2024-02-05T21:08:26.774813Z",
     "shell.execute_reply.started": "2024-02-05T21:08:26.754464Z"
    },
    "tags": []
   },
   "outputs": [],
   "source": [
    "WP2_df_PEDW_OUTLIERS1.query('LOS<=@UPPER_BOUND1').LOS.mean()"
   ]
  },
  {
   "cell_type": "code",
   "execution_count": 375,
   "id": "c88b88e5-1a23-4f9b-b09f-59c53fb97057",
   "metadata": {
    "execution": {
     "iopub.execute_input": "2024-02-05T21:08:27.372218Z",
     "iopub.status.busy": "2024-02-05T21:08:27.371747Z",
     "iopub.status.idle": "2024-02-05T21:08:27.387255Z",
     "shell.execute_reply": "2024-02-05T21:08:27.386183Z",
     "shell.execute_reply.started": "2024-02-05T21:08:27.372174Z"
    },
    "tags": []
   },
   "outputs": [],
   "source": [
    "WP2_df_PEDW_OUTLIERS2=WP2_df_PEDW_OUTLIERS1.query('LOS>@UPPER_BOUND1')"
   ]
  },
  {
   "cell_type": "code",
   "execution_count": null,
   "id": "b4077352-a39a-4dcb-8791-370a845db845",
   "metadata": {
    "execution": {
     "iopub.execute_input": "2024-02-05T21:08:27.875106Z",
     "iopub.status.busy": "2024-02-05T21:08:27.874004Z",
     "iopub.status.idle": "2024-02-05T21:08:28.063885Z",
     "shell.execute_reply": "2024-02-05T21:08:28.063334Z",
     "shell.execute_reply.started": "2024-02-05T21:08:27.875056Z"
    },
    "tags": []
   },
   "outputs": [],
   "source": [
    "LOS_box2=WP2_df_PEDW_OUTLIERS2.boxplot(column='LOS')\n",
    "LOS_box2.plot()\n",
    "plt.yscale('log')\n",
    "plt.show()"
   ]
  },
  {
   "cell_type": "code",
   "execution_count": null,
   "id": "95d78c08-6119-47ea-90aa-75e1db59050b",
   "metadata": {
    "execution": {
     "iopub.execute_input": "2024-02-05T21:08:29.223626Z",
     "iopub.status.busy": "2024-02-05T21:08:29.223087Z",
     "iopub.status.idle": "2024-02-05T21:08:29.237746Z",
     "shell.execute_reply": "2024-02-05T21:08:29.236523Z",
     "shell.execute_reply.started": "2024-02-05T21:08:29.223581Z"
    },
    "tags": []
   },
   "outputs": [],
   "source": [
    "WP2_df_PEDW_OUTLIERS2.LOS.describe()"
   ]
  },
  {
   "cell_type": "code",
   "execution_count": null,
   "id": "68593648-8a78-4b38-bb1d-e76c89b8776d",
   "metadata": {
    "execution": {
     "iopub.execute_input": "2024-02-05T21:08:29.772767Z",
     "iopub.status.busy": "2024-02-05T21:08:29.772286Z",
     "iopub.status.idle": "2024-02-05T21:08:29.787124Z",
     "shell.execute_reply": "2024-02-05T21:08:29.786307Z",
     "shell.execute_reply.started": "2024-02-05T21:08:29.772723Z"
    },
    "tags": []
   },
   "outputs": [],
   "source": [
    "#INTERQUARTILE RANGE FOR OUTLIERS\n",
    "IQR2= WP2_df_PEDW_OUTLIERS2.LOS.quantile(0.75)-WP2_df_PEDW_OUTLIERS2.LOS.quantile(0.25)\n",
    "\n",
    "#UPPER BOUNDARY FOR BOX PLOT OF OUTLIERS\n",
    "UPPER_BOUND2=WP2_df_PEDW_OUTLIERS2.LOS.quantile(0.75) + (1.5*IQR2)\n",
    "UPPER_BOUND2\n",
    "#REMARK: THE OUTLIERS ARE PATIENTS WITH LOS>UPPER_BOUND"
   ]
  },
  {
   "cell_type": "code",
   "execution_count": null,
   "id": "0d66464f-392a-403e-b7e3-2e871d56357f",
   "metadata": {
    "execution": {
     "iopub.execute_input": "2024-02-05T21:08:30.270521Z",
     "iopub.status.busy": "2024-02-05T21:08:30.270045Z",
     "iopub.status.idle": "2024-02-05T21:08:30.286760Z",
     "shell.execute_reply": "2024-02-05T21:08:30.286075Z",
     "shell.execute_reply.started": "2024-02-05T21:08:30.270478Z"
    },
    "tags": []
   },
   "outputs": [],
   "source": [
    "WP2_df_PEDW_OUTLIERS2.query('LOS<=@UPPER_BOUND2').LOS.mean()"
   ]
  },
  {
   "cell_type": "code",
   "execution_count": null,
   "id": "27356822-c6b9-4095-a50f-a9e08447373f",
   "metadata": {
    "execution": {
     "iopub.execute_input": "2024-02-05T21:08:30.652324Z",
     "iopub.status.busy": "2024-02-05T21:08:30.651849Z",
     "iopub.status.idle": "2024-02-05T21:08:30.704513Z",
     "shell.execute_reply": "2024-02-05T21:08:30.703940Z",
     "shell.execute_reply.started": "2024-02-05T21:08:30.652281Z"
    },
    "tags": []
   },
   "outputs": [],
   "source": [
    "#TOTAL NUMBER OF UNIQUE ADMISSIONS ABOVE UPPER_BOUND1\n",
    "Numberadm=WP2_df_PEDW.query('LOS>=@UPPER_BOUND1').drop_duplicates(subset=['ALF_PE','DATE', 'DISCH_DT'], ignore_index=True).shape[0]\n",
    "Numberadm"
   ]
  },
  {
   "cell_type": "code",
   "execution_count": null,
   "id": "f12d4fda-b24a-43c2-9b23-d83284bdec30",
   "metadata": {
    "execution": {
     "iopub.execute_input": "2024-02-05T21:08:32.310224Z",
     "iopub.status.busy": "2024-02-05T21:08:32.309572Z",
     "iopub.status.idle": "2024-02-05T21:08:32.360644Z",
     "shell.execute_reply": "2024-02-05T21:08:32.359157Z",
     "shell.execute_reply.started": "2024-02-05T21:08:32.310167Z"
    },
    "tags": []
   },
   "outputs": [],
   "source": [
    "WP2_df_PEDW.query('LOS>=@UPPER_BOUND1')"
   ]
  },
  {
   "cell_type": "code",
   "execution_count": 382,
   "id": "7492dc38-006e-40e5-a4b6-72dbd46c2f27",
   "metadata": {
    "execution": {
     "iopub.execute_input": "2024-02-05T21:08:34.914987Z",
     "iopub.status.busy": "2024-02-05T21:08:34.914456Z",
     "iopub.status.idle": "2024-02-05T21:08:34.934145Z",
     "shell.execute_reply": "2024-02-05T21:08:34.932891Z",
     "shell.execute_reply.started": "2024-02-05T21:08:34.914943Z"
    },
    "tags": []
   },
   "outputs": [],
   "source": [
    "#OBTAIN COUNTS OF CONDITIONS FOR LOS> UPPER_BOUND1\n",
    "((WP2_df_PEDW.query('LOS>=@UPPER_BOUND1').CONDITION.value_counts()/Numberadm)*100).to_csv('CONDITIONS_LOS_ABOVE_UB1.csv')"
   ]
  },
  {
   "cell_type": "code",
   "execution_count": null,
   "id": "1bc4d34a-7975-4a5c-8045-75287ee083af",
   "metadata": {
    "execution": {
     "iopub.execute_input": "2024-02-05T21:08:38.204711Z",
     "iopub.status.busy": "2024-02-05T21:08:38.204196Z",
     "iopub.status.idle": "2024-02-05T21:08:39.423833Z",
     "shell.execute_reply": "2024-02-05T21:08:39.422506Z",
     "shell.execute_reply.started": "2024-02-05T21:08:38.204669Z"
    },
    "tags": []
   },
   "outputs": [],
   "source": [
    "# Display conditions of patients with LOS>UPPER_BOUND1 days\n",
    "outlied=(WP2_df_PEDW.query('LOS>=@UPPER_BOUND1'))\n",
    "fig=plt.figure(figsize=(7,23))\n",
    "sns.countplot(y=\"CONDITION\", data=outlied)\n",
    "plt.title('Conditions of patients with LOS>129 Days')\n",
    "plt.show()\n",
    "fig.savefig(\"OUTLIERCOND_count.png\", dpi=300, bbox_inches= \"tight\")"
   ]
  },
  {
   "cell_type": "markdown",
   "id": "f2252e29-3ebc-4b3e-b980-55ba281c021d",
   "metadata": {},
   "source": [
    "ANALYZE MENTAL ILLNES PATIENTS ABOVE UPPERBOUND1 (OUTLIERS)"
   ]
  },
  {
   "cell_type": "code",
   "execution_count": null,
   "id": "7069f7a4-8b59-4a73-b125-01fee71cb089",
   "metadata": {
    "execution": {
     "iopub.execute_input": "2024-02-05T21:08:59.665349Z",
     "iopub.status.busy": "2024-02-05T21:08:59.664828Z",
     "iopub.status.idle": "2024-02-05T21:08:59.827937Z",
     "shell.execute_reply": "2024-02-05T21:08:59.826947Z",
     "shell.execute_reply.started": "2024-02-05T21:08:59.665304Z"
    },
    "tags": []
   },
   "outputs": [],
   "source": [
    "# plots of patient ages for LOS>129 \n",
    "WP2_df_PEDW.query('LOS>=@UPPER_BOUND1 and CONDITION==\"MENTALILLNESS\"').AGE_AT_ADMIS_DT.hist()\n",
    "plt.xlabel(\"AGE\")\n",
    "plt.ylabel(\"COUNTS\")\n",
    "plt.show()"
   ]
  },
  {
   "cell_type": "code",
   "execution_count": null,
   "id": "5001f955-8209-4efa-b5b7-fa8ec123e00f",
   "metadata": {
    "execution": {
     "iopub.execute_input": "2024-02-05T21:09:13.153832Z",
     "iopub.status.busy": "2024-02-05T21:09:13.153322Z",
     "iopub.status.idle": "2024-02-05T21:09:13.313622Z",
     "shell.execute_reply": "2024-02-05T21:09:13.312985Z",
     "shell.execute_reply.started": "2024-02-05T21:09:13.153791Z"
    },
    "tags": []
   },
   "outputs": [],
   "source": [
    "# plots of patient Agegroups for LOS>129\n",
    "(WP2_df_PEDW.query('LOS>=@UPPER_BOUND1 and CONDITION==\"MENTALILLNESS\"').AGEGRP_AT_ADMIS_DT.value_counts(normalize=True)*100).plot.bar()\n",
    "plt.xlabel(\"AGE GROUP\")\n",
    "plt.ylabel(\"COUNTS\")\n",
    "plt.show()"
   ]
  },
  {
   "cell_type": "code",
   "execution_count": null,
   "id": "d468241b-d495-41a2-844a-5ab72e0df934",
   "metadata": {
    "execution": {
     "iopub.execute_input": "2024-02-05T21:09:16.673549Z",
     "iopub.status.busy": "2024-02-05T21:09:16.672681Z",
     "iopub.status.idle": "2024-02-05T21:09:16.844538Z",
     "shell.execute_reply": "2024-02-05T21:09:16.843976Z",
     "shell.execute_reply.started": "2024-02-05T21:09:16.673486Z"
    },
    "tags": []
   },
   "outputs": [],
   "source": [
    "out_data=WP2_df_PEDW.query('LOS>129 and CONDITION==\"MENTALILLNESS\"')\n",
    "out_data.hist(column='LOS',bins=10)\n",
    "#plt.xlabel(\"LOS\")\n",
    "plt.ylabel(\"COUNTS\")\n",
    "plt.show()"
   ]
  },
  {
   "cell_type": "code",
   "execution_count": null,
   "id": "7e4659f8-73ae-402e-ac85-210ec8248fb4",
   "metadata": {
    "execution": {
     "iopub.execute_input": "2024-02-05T21:09:18.153736Z",
     "iopub.status.busy": "2024-02-05T21:09:18.153071Z",
     "iopub.status.idle": "2024-02-05T21:09:18.184155Z",
     "shell.execute_reply": "2024-02-05T21:09:18.183421Z",
     "shell.execute_reply.started": "2024-02-05T21:09:18.153689Z"
    },
    "tags": []
   },
   "outputs": [],
   "source": [
    "#OBTAIN COUNTS OF COMORBIDITIES PER PATIENTS AT EACH UNIQUE ADMISSIONS\n",
    "WP2_df_PEDW.query('LOS>=@UPPER_BOUND1').drop_duplicates(subset=['ALF_PE','DATE', 'DISCH_DT'],keep='last', ignore_index=True).COMORBIDITY_COUNT.value_counts(normalize=True)"
   ]
  },
  {
   "cell_type": "code",
   "execution_count": null,
   "id": "ecbf6d73-f6c0-4868-b65b-a0072db27dd7",
   "metadata": {
    "execution": {
     "iopub.execute_input": "2024-02-05T21:09:20.873271Z",
     "iopub.status.busy": "2024-02-05T21:09:20.872737Z",
     "iopub.status.idle": "2024-02-05T21:09:21.097347Z",
     "shell.execute_reply": "2024-02-05T21:09:21.096696Z",
     "shell.execute_reply.started": "2024-02-05T21:09:20.873224Z"
    },
    "tags": []
   },
   "outputs": [],
   "source": [
    "# PLOT COUNTS OF COMORBIDITIES PER PATIENTS AT EACH UNIQUE ADMISSIONS\n",
    "WP2_df_PEDW.query('LOS>=@UPPER_BOUND1 and CONDITION==\"MENTALILLNESS\"').COMORBIDITY_COUNT.value_counts(normalize=True).plot.bar()\n",
    "plt.xlabel(\"COMORBIDITY COUNTS\")\n",
    "plt.ylabel(\"COUNTS\")\n",
    "plt.show()"
   ]
  },
  {
   "cell_type": "code",
   "execution_count": null,
   "id": "72087250-ba04-46c6-b3fa-f032f63e4542",
   "metadata": {
    "execution": {
     "iopub.execute_input": "2024-02-05T21:09:31.069661Z",
     "iopub.status.busy": "2024-02-05T21:09:31.069164Z",
     "iopub.status.idle": "2024-02-05T21:09:31.090615Z",
     "shell.execute_reply": "2024-02-05T21:09:31.089794Z",
     "shell.execute_reply.started": "2024-02-05T21:09:31.069616Z"
    },
    "tags": []
   },
   "outputs": [],
   "source": [
    "WP2_df_PEDW.query('LOS>=@UPPER_BOUND1 and CONDITION==\"MENTALILLNESS\"').ETHN_EC_ONS_DATE_LATEST_DESC.value_counts(normalize=True)"
   ]
  },
  {
   "cell_type": "code",
   "execution_count": 395,
   "id": "ac0250ee-7d7a-4801-8e96-fb6832efe752",
   "metadata": {
    "execution": {
     "iopub.execute_input": "2024-02-05T21:09:32.844730Z",
     "iopub.status.busy": "2024-02-05T21:09:32.844096Z",
     "iopub.status.idle": "2024-02-05T21:09:32.871112Z",
     "shell.execute_reply": "2024-02-05T21:09:32.869818Z",
     "shell.execute_reply.started": "2024-02-05T21:09:32.844685Z"
    },
    "tags": []
   },
   "outputs": [],
   "source": [
    "WP2_df_PEDW.query('LOS>=@UPPER_BOUND1 and CONDITION==\"MENTALILLNESS\"').AGEGRP_AT_ADMIS_DT.value_counts(normalize=False)"
   ]
  },
  {
   "cell_type": "code",
   "execution_count": null,
   "id": "e0d721fa-faf7-4346-bf71-1f3fa1b58eca",
   "metadata": {
    "execution": {
     "iopub.execute_input": "2024-02-05T21:09:36.747481Z",
     "iopub.status.busy": "2024-02-05T21:09:36.746446Z",
     "iopub.status.idle": "2024-02-05T21:09:36.764896Z",
     "shell.execute_reply": "2024-02-05T21:09:36.763954Z",
     "shell.execute_reply.started": "2024-02-05T21:09:36.747430Z"
    },
    "tags": []
   },
   "outputs": [],
   "source": [
    "WP2_df_PEDW.query('LOS>=@UPPER_BOUND1').drop_duplicates(subset=['ALF_PE'], ignore_index=True).GNDR_DESC.value_counts()"
   ]
  },
  {
   "cell_type": "code",
   "execution_count": null,
   "id": "bf4f40ee-5033-4026-9434-2495c608a626",
   "metadata": {
    "execution": {
     "iopub.execute_input": "2024-02-05T21:09:37.513415Z",
     "iopub.status.busy": "2024-02-05T21:09:37.512448Z",
     "iopub.status.idle": "2024-02-05T21:09:37.540473Z",
     "shell.execute_reply": "2024-02-05T21:09:37.539952Z",
     "shell.execute_reply.started": "2024-02-05T21:09:37.513347Z"
    },
    "tags": []
   },
   "outputs": [],
   "source": [
    "PEDW_UNIQ.query('LOS>=@UPPER_BOUND1').COMORBIDITY_COUNT.value_counts(normalize=False)"
   ]
  },
  {
   "cell_type": "markdown",
   "id": "9b93776e-53ec-4e74-81a5-de62725421b9",
   "metadata": {},
   "source": [
    "# ANALYSIS OF FIRST QUANTILE 25%-50% (0-2 days)"
   ]
  },
  {
   "cell_type": "markdown",
   "id": "41af2fff-d1d0-437e-8b71-eaeb6d623ea4",
   "metadata": {
    "execution": {
     "iopub.execute_input": "2023-06-20T03:34:56.409215Z",
     "iopub.status.busy": "2023-06-20T03:34:56.408315Z",
     "iopub.status.idle": "2023-06-20T03:34:56.416713Z",
     "shell.execute_reply": "2023-06-20T03:34:56.414869Z",
     "shell.execute_reply.started": "2023-06-20T03:34:56.409143Z"
    }
   },
   "source": [
    "## UNGROUPED"
   ]
  },
  {
   "cell_type": "code",
   "execution_count": null,
   "id": "e5b87012-b4fd-4093-ab38-05bf676881e6",
   "metadata": {
    "execution": {
     "iopub.execute_input": "2023-07-03T15:23:14.217933Z",
     "iopub.status.busy": "2023-07-03T15:23:14.217385Z",
     "iopub.status.idle": "2023-07-03T15:23:14.258513Z",
     "shell.execute_reply": "2023-07-03T15:23:14.257307Z",
     "shell.execute_reply.started": "2023-07-03T15:23:14.217887Z"
    },
    "tags": []
   },
   "outputs": [],
   "source": [
    "#NUMBER OF UNIQUE PATIENTS\n",
    "PEDW_UNIQ.query('LOS<=2').drop_duplicates(subset=['ALF_PE'], ignore_index=True).shape[0]"
   ]
  },
  {
   "cell_type": "code",
   "execution_count": null,
   "id": "9fce8fb2-4b56-4186-8e47-23586c5815ee",
   "metadata": {
    "execution": {
     "iopub.execute_input": "2023-07-03T15:23:15.101008Z",
     "iopub.status.busy": "2023-07-03T15:23:15.100061Z",
     "iopub.status.idle": "2023-07-03T15:23:15.127317Z",
     "shell.execute_reply": "2023-07-03T15:23:15.126566Z",
     "shell.execute_reply.started": "2023-07-03T15:23:15.100952Z"
    },
    "tags": []
   },
   "outputs": [],
   "source": [
    "#NUMBER OF UNIQUE ADMISSIONS\n",
    "PEDW_UNIQ.query('LOS<=2').shape[0]"
   ]
  },
  {
   "cell_type": "code",
   "execution_count": null,
   "id": "ee5c31d0-fa33-40c4-b9d8-bb5871740451",
   "metadata": {
    "execution": {
     "iopub.execute_input": "2023-07-03T15:23:16.135000Z",
     "iopub.status.busy": "2023-07-03T15:23:16.134498Z",
     "iopub.status.idle": "2023-07-03T15:23:16.167212Z",
     "shell.execute_reply": "2023-07-03T15:23:16.166340Z",
     "shell.execute_reply.started": "2023-07-03T15:23:16.134957Z"
    },
    "tags": []
   },
   "outputs": [],
   "source": [
    "# obtain distribution of comorbidity counts per patients across all unique admissions with LOS<=2\n",
    "PEDW_UNIQ.query('LOS<=2').NUM_ADMISSION_COMORBIDITIES.describe()"
   ]
  },
  {
   "cell_type": "code",
   "execution_count": null,
   "id": "2edd9e57-aa1a-42ef-adf6-1b205688c07f",
   "metadata": {
    "execution": {
     "iopub.execute_input": "2023-07-03T15:24:08.157537Z",
     "iopub.status.busy": "2023-07-03T15:24:08.157014Z",
     "iopub.status.idle": "2023-07-03T15:24:08.193792Z",
     "shell.execute_reply": "2023-07-03T15:24:08.192861Z",
     "shell.execute_reply.started": "2023-07-03T15:24:08.157493Z"
    },
    "tags": []
   },
   "outputs": [],
   "source": [
    "PEDW_UNIQ.query('LOS<=2').LOS.describe()"
   ]
  },
  {
   "cell_type": "markdown",
   "id": "04b6c2c9-b70a-48d1-9e4a-0d2c756e14b4",
   "metadata": {
    "execution": {
     "iopub.execute_input": "2023-06-20T03:34:56.409215Z",
     "iopub.status.busy": "2023-06-20T03:34:56.408315Z",
     "iopub.status.idle": "2023-06-20T03:34:56.416713Z",
     "shell.execute_reply": "2023-06-20T03:34:56.414869Z",
     "shell.execute_reply.started": "2023-06-20T03:34:56.409143Z"
    },
    "tags": []
   },
   "source": [
    "## ETHNICITY"
   ]
  },
  {
   "cell_type": "code",
   "execution_count": 390,
   "id": "1cec3e84-151d-4d24-aae3-4fe886323ae0",
   "metadata": {
    "execution": {
     "iopub.execute_input": "2023-07-03T15:31:30.890332Z",
     "iopub.status.busy": "2023-07-03T15:31:30.889096Z",
     "iopub.status.idle": "2023-07-03T15:31:30.926351Z",
     "shell.execute_reply": "2023-07-03T15:31:30.925289Z",
     "shell.execute_reply.started": "2023-07-03T15:31:30.890278Z"
    },
    "tags": []
   },
   "outputs": [],
   "source": [
    "#Number of uniqie patients\n",
    "PEDW_UNIQ.query('LOS<=2').drop_duplicates(subset=['ALF_PE'], ignore_index=True).ETHN_EC_ONS_DATE_LATEST_DESC.value_counts().to_csv(\"25_50ethn_patientcount.csv\")"
   ]
  },
  {
   "cell_type": "code",
   "execution_count": 391,
   "id": "4f035ec9-4123-406a-98c8-ad6d85b79ed9",
   "metadata": {
    "execution": {
     "iopub.execute_input": "2023-07-03T15:31:37.337116Z",
     "iopub.status.busy": "2023-07-03T15:31:37.336450Z",
     "iopub.status.idle": "2023-07-03T15:31:37.365672Z",
     "shell.execute_reply": "2023-07-03T15:31:37.364890Z",
     "shell.execute_reply.started": "2023-07-03T15:31:37.337072Z"
    },
    "tags": []
   },
   "outputs": [],
   "source": [
    "#NUMBER OF UNIQUE ADMISSIONS\n",
    "PEDW_UNIQ.query('LOS<=2').ETHN_EC_ONS_DATE_LATEST_DESC.value_counts().to_csv(\"25_50ethn_count.csv\")"
   ]
  },
  {
   "cell_type": "code",
   "execution_count": 392,
   "id": "3320a6da-449b-4c74-b04a-d6fcab6b9d15",
   "metadata": {
    "execution": {
     "iopub.execute_input": "2023-07-03T15:31:40.688124Z",
     "iopub.status.busy": "2023-07-03T15:31:40.687087Z",
     "iopub.status.idle": "2023-07-03T15:31:40.722642Z",
     "shell.execute_reply": "2023-07-03T15:31:40.721718Z",
     "shell.execute_reply.started": "2023-07-03T15:31:40.688070Z"
    },
    "tags": []
   },
   "outputs": [],
   "source": [
    "PEDW_UNIQ.query('LOS<=2').groupby(['ETHN_EC_ONS_DATE_LATEST_DESC'])['NUM_ADMISSION_COMORBIDITIES'].agg(['mean', 'std']).reset_index().to_csv(\"25_50Numcom_ethn.csv\")"
   ]
  },
  {
   "cell_type": "code",
   "execution_count": 393,
   "id": "90aca917-7772-40aa-9366-5066a4eb6b3a",
   "metadata": {
    "execution": {
     "iopub.execute_input": "2023-07-03T15:31:41.248008Z",
     "iopub.status.busy": "2023-07-03T15:31:41.247376Z",
     "iopub.status.idle": "2023-07-03T15:31:41.279310Z",
     "shell.execute_reply": "2023-07-03T15:31:41.278112Z",
     "shell.execute_reply.started": "2023-07-03T15:31:41.247943Z"
    },
    "tags": []
   },
   "outputs": [],
   "source": [
    "PEDW_UNIQ.query('LOS<=2').groupby(['ETHN_EC_ONS_DATE_LATEST_DESC'])['LOS'].agg(['mean', 'std']).reset_index().to_csv(\"25_50LOSethn.csv\")"
   ]
  },
  {
   "cell_type": "markdown",
   "id": "9ddc773f-80a5-47ac-ab08-fed78487cf5a",
   "metadata": {
    "execution": {
     "iopub.execute_input": "2023-06-20T03:34:56.409215Z",
     "iopub.status.busy": "2023-06-20T03:34:56.408315Z",
     "iopub.status.idle": "2023-06-20T03:34:56.416713Z",
     "shell.execute_reply": "2023-06-20T03:34:56.414869Z",
     "shell.execute_reply.started": "2023-06-20T03:34:56.409143Z"
    },
    "tags": []
   },
   "source": [
    "## GENDER"
   ]
  },
  {
   "cell_type": "code",
   "execution_count": 394,
   "id": "29d81573-b974-49af-afff-22f5d5187df4",
   "metadata": {
    "execution": {
     "iopub.execute_input": "2023-07-03T15:39:20.559429Z",
     "iopub.status.busy": "2023-07-03T15:39:20.558491Z",
     "iopub.status.idle": "2023-07-03T15:39:20.592059Z",
     "shell.execute_reply": "2023-07-03T15:39:20.591262Z",
     "shell.execute_reply.started": "2023-07-03T15:39:20.559374Z"
    },
    "tags": []
   },
   "outputs": [],
   "source": [
    "#Number of uniqie patients\n",
    "PEDW_UNIQ.query('LOS<=2').drop_duplicates(subset=['ALF_PE'], ignore_index=True).GNDR_DESC.value_counts().to_csv(\"25_50gndr_patientcount.csv\")"
   ]
  },
  {
   "cell_type": "code",
   "execution_count": 395,
   "id": "9f0c08db-dc2a-4dee-b348-6f50cb327c1a",
   "metadata": {
    "execution": {
     "iopub.execute_input": "2023-07-03T15:39:21.122988Z",
     "iopub.status.busy": "2023-07-03T15:39:21.122503Z",
     "iopub.status.idle": "2023-07-03T15:39:21.153303Z",
     "shell.execute_reply": "2023-07-03T15:39:21.152337Z",
     "shell.execute_reply.started": "2023-07-03T15:39:21.122945Z"
    },
    "tags": []
   },
   "outputs": [],
   "source": [
    "#NUMBER OF UNIQUE ADMISSIONS\n",
    "PEDW_UNIQ.query('LOS<=2').GNDR_DESC.value_counts().to_csv(\"25_50GNDR_count.csv\")"
   ]
  },
  {
   "cell_type": "code",
   "execution_count": 396,
   "id": "20c7efef-5330-433f-a326-33fac2ee91fd",
   "metadata": {
    "execution": {
     "iopub.execute_input": "2023-07-03T15:39:21.690870Z",
     "iopub.status.busy": "2023-07-03T15:39:21.689736Z",
     "iopub.status.idle": "2023-07-03T15:39:21.722626Z",
     "shell.execute_reply": "2023-07-03T15:39:21.721793Z",
     "shell.execute_reply.started": "2023-07-03T15:39:21.690818Z"
    },
    "tags": []
   },
   "outputs": [],
   "source": [
    "PEDW_UNIQ.query('LOS<=2').groupby(['GNDR_DESC'])['NUM_ADMISSION_COMORBIDITIES'].agg(['mean', 'std']).reset_index().to_csv(\"25_50Numcom_gndr.csv\")"
   ]
  },
  {
   "cell_type": "code",
   "execution_count": 397,
   "id": "0e4e0f94-6040-44d7-8285-281527053951",
   "metadata": {
    "execution": {
     "iopub.execute_input": "2023-07-03T15:39:22.127951Z",
     "iopub.status.busy": "2023-07-03T15:39:22.126918Z",
     "iopub.status.idle": "2023-07-03T15:39:22.160499Z",
     "shell.execute_reply": "2023-07-03T15:39:22.159514Z",
     "shell.execute_reply.started": "2023-07-03T15:39:22.127876Z"
    },
    "tags": []
   },
   "outputs": [],
   "source": [
    "PEDW_UNIQ.query('LOS<=2').groupby(['GNDR_DESC'])['LOS'].agg(['mean', 'std']).reset_index().to_csv(\"25_50LOSgndr.csv\")"
   ]
  },
  {
   "cell_type": "markdown",
   "id": "1dcb1ef9-52c6-411b-9acf-c35333be89ce",
   "metadata": {
    "execution": {
     "iopub.execute_input": "2023-06-20T03:34:56.409215Z",
     "iopub.status.busy": "2023-06-20T03:34:56.408315Z",
     "iopub.status.idle": "2023-06-20T03:34:56.416713Z",
     "shell.execute_reply": "2023-06-20T03:34:56.414869Z",
     "shell.execute_reply.started": "2023-06-20T03:34:56.409143Z"
    },
    "tags": []
   },
   "source": [
    "## AGE GROUP"
   ]
  },
  {
   "cell_type": "code",
   "execution_count": 398,
   "id": "6b382076-d8da-4fd3-8e75-e2c170c3d1d4",
   "metadata": {
    "execution": {
     "iopub.execute_input": "2023-07-03T15:42:34.388745Z",
     "iopub.status.busy": "2023-07-03T15:42:34.387195Z",
     "iopub.status.idle": "2023-07-03T15:42:34.423366Z",
     "shell.execute_reply": "2023-07-03T15:42:34.421663Z",
     "shell.execute_reply.started": "2023-07-03T15:42:34.388671Z"
    },
    "tags": []
   },
   "outputs": [],
   "source": [
    "#Number of uniqie patients\n",
    "PEDW_UNIQ.query('LOS<=2').drop_duplicates(subset=['ALF_PE'], ignore_index=True).AGEGRP_AT_ADMIS_DT.value_counts().to_csv(\"25_50agegrp_patientcount.csv\")"
   ]
  },
  {
   "cell_type": "code",
   "execution_count": 399,
   "id": "0e73c271-5dc3-4a35-bdce-40d9c43a4bfb",
   "metadata": {
    "execution": {
     "iopub.execute_input": "2023-07-03T15:42:34.873070Z",
     "iopub.status.busy": "2023-07-03T15:42:34.872058Z",
     "iopub.status.idle": "2023-07-03T15:42:34.897749Z",
     "shell.execute_reply": "2023-07-03T15:42:34.897146Z",
     "shell.execute_reply.started": "2023-07-03T15:42:34.873026Z"
    },
    "tags": []
   },
   "outputs": [],
   "source": [
    "#NUMBER OF UNIQUE ADMISSIONS\n",
    "PEDW_UNIQ.query('LOS<=2').AGEGRP_AT_ADMIS_DT.value_counts().to_csv(\"25_50agegrp_count.csv\")"
   ]
  },
  {
   "cell_type": "code",
   "execution_count": 400,
   "id": "1c5bd865-b05c-40dd-b5b4-910eaf2bf893",
   "metadata": {
    "execution": {
     "iopub.execute_input": "2023-07-03T15:42:35.333300Z",
     "iopub.status.busy": "2023-07-03T15:42:35.332810Z",
     "iopub.status.idle": "2023-07-03T15:42:35.364940Z",
     "shell.execute_reply": "2023-07-03T15:42:35.364134Z",
     "shell.execute_reply.started": "2023-07-03T15:42:35.333258Z"
    },
    "tags": []
   },
   "outputs": [],
   "source": [
    "PEDW_UNIQ.query('LOS<=2').groupby(['AGEGRP_AT_ADMIS_DT'])['NUM_ADMISSION_COMORBIDITIES'].agg(['mean', 'std']).reset_index().to_csv(\"25_50Numcom_agegrp.csv\")"
   ]
  },
  {
   "cell_type": "code",
   "execution_count": 401,
   "id": "c8721546-84b8-4374-ba6a-2601ab875b94",
   "metadata": {
    "execution": {
     "iopub.execute_input": "2023-07-03T15:42:35.803395Z",
     "iopub.status.busy": "2023-07-03T15:42:35.802089Z",
     "iopub.status.idle": "2023-07-03T15:42:35.831776Z",
     "shell.execute_reply": "2023-07-03T15:42:35.831139Z",
     "shell.execute_reply.started": "2023-07-03T15:42:35.803341Z"
    },
    "tags": []
   },
   "outputs": [],
   "source": [
    "PEDW_UNIQ.query('LOS<=2').groupby(['AGEGRP_AT_ADMIS_DT'])['LOS'].agg(['mean', 'std']).reset_index().to_csv(\"25_50LOSagegrp.csv\")"
   ]
  },
  {
   "cell_type": "markdown",
   "id": "ae10c22a-0251-46ca-8b18-bb7f55ff4fe9",
   "metadata": {
    "execution": {
     "iopub.execute_input": "2023-06-20T03:34:56.409215Z",
     "iopub.status.busy": "2023-06-20T03:34:56.408315Z",
     "iopub.status.idle": "2023-06-20T03:34:56.416713Z",
     "shell.execute_reply": "2023-06-20T03:34:56.414869Z",
     "shell.execute_reply.started": "2023-06-20T03:34:56.409143Z"
    },
    "tags": []
   },
   "source": [
    "## WIMD"
   ]
  },
  {
   "cell_type": "code",
   "execution_count": 412,
   "id": "b5c51ffb-17cb-4115-ab00-260115824e7e",
   "metadata": {
    "execution": {
     "iopub.execute_input": "2023-07-03T15:52:15.503394Z",
     "iopub.status.busy": "2023-07-03T15:52:15.502845Z",
     "iopub.status.idle": "2023-07-03T15:52:15.537721Z",
     "shell.execute_reply": "2023-07-03T15:52:15.537006Z",
     "shell.execute_reply.started": "2023-07-03T15:52:15.503350Z"
    },
    "tags": []
   },
   "outputs": [],
   "source": [
    "#Number of uniqie patients\n",
    "PEDW_UNIQ.query('LOS<=2').drop_duplicates(subset=['ALF_PE'], ignore_index=True).WIMD2019_QUINTILE_AT_INDEX_DATE.value_counts().to_csv(\"25_50wimd_patientcount.csv\")"
   ]
  },
  {
   "cell_type": "code",
   "execution_count": 413,
   "id": "7a3f9de7-2122-4790-8bfe-b18779485add",
   "metadata": {
    "execution": {
     "iopub.execute_input": "2023-07-03T15:52:15.934488Z",
     "iopub.status.busy": "2023-07-03T15:52:15.934039Z",
     "iopub.status.idle": "2023-07-03T15:52:15.964737Z",
     "shell.execute_reply": "2023-07-03T15:52:15.963710Z",
     "shell.execute_reply.started": "2023-07-03T15:52:15.934447Z"
    },
    "tags": []
   },
   "outputs": [],
   "source": [
    "#NUMBER OF UNIQUE ADMISSIONS\n",
    "PEDW_UNIQ.query('LOS<=2').WIMD2019_QUINTILE_AT_INDEX_DATE.value_counts().to_csv(\"25_50wimd_count.csv\")"
   ]
  },
  {
   "cell_type": "code",
   "execution_count": 415,
   "id": "25a14b2c-e5a4-467a-988b-9c3985bbfd5c",
   "metadata": {
    "execution": {
     "iopub.execute_input": "2023-07-03T15:52:18.181402Z",
     "iopub.status.busy": "2023-07-03T15:52:18.180895Z",
     "iopub.status.idle": "2023-07-03T15:52:18.214011Z",
     "shell.execute_reply": "2023-07-03T15:52:18.213160Z",
     "shell.execute_reply.started": "2023-07-03T15:52:18.181360Z"
    },
    "tags": []
   },
   "outputs": [],
   "source": [
    "PEDW_UNIQ.query('LOS<=2').groupby(['WIMD2019_QUINTILE_AT_INDEX_DATE'])['NUM_ADMISSION_COMORBIDITIES'].agg(['mean', 'std']).reset_index().to_csv(\"25_50Numcom_wimd.csv\")"
   ]
  },
  {
   "cell_type": "code",
   "execution_count": 416,
   "id": "da48d596-6879-401b-bbd2-e31810fa7358",
   "metadata": {
    "execution": {
     "iopub.execute_input": "2023-07-03T15:52:19.644690Z",
     "iopub.status.busy": "2023-07-03T15:52:19.644030Z",
     "iopub.status.idle": "2023-07-03T15:52:19.681156Z",
     "shell.execute_reply": "2023-07-03T15:52:19.679962Z",
     "shell.execute_reply.started": "2023-07-03T15:52:19.644646Z"
    },
    "tags": []
   },
   "outputs": [],
   "source": [
    "PEDW_UNIQ.query('LOS<=2').groupby(['WIMD2019_QUINTILE_AT_INDEX_DATE'])['LOS'].agg(['mean', 'std']).reset_index().to_csv(\"25_50LOSwimd.csv\")"
   ]
  },
  {
   "cell_type": "markdown",
   "id": "c377af1e-7da0-4f3e-9467-664d515bf67b",
   "metadata": {},
   "source": [
    "# ANALYSIS OF QUANTILE 50%-75% (2-8 days)"
   ]
  },
  {
   "cell_type": "markdown",
   "id": "9210ed24-7f2b-4ec9-9604-3c840835605f",
   "metadata": {
    "execution": {
     "iopub.execute_input": "2023-06-20T03:34:56.409215Z",
     "iopub.status.busy": "2023-06-20T03:34:56.408315Z",
     "iopub.status.idle": "2023-06-20T03:34:56.416713Z",
     "shell.execute_reply": "2023-06-20T03:34:56.414869Z",
     "shell.execute_reply.started": "2023-06-20T03:34:56.409143Z"
    }
   },
   "source": [
    "## UNGROUPED"
   ]
  },
  {
   "cell_type": "code",
   "execution_count": null,
   "id": "cf400d5d-b507-469b-bda6-c2c6691c4b12",
   "metadata": {
    "execution": {
     "iopub.execute_input": "2023-07-03T15:57:58.913024Z",
     "iopub.status.busy": "2023-07-03T15:57:58.912319Z",
     "iopub.status.idle": "2023-07-03T15:57:58.941322Z",
     "shell.execute_reply": "2023-07-03T15:57:58.940252Z",
     "shell.execute_reply.started": "2023-07-03T15:57:58.912964Z"
    },
    "tags": []
   },
   "outputs": [],
   "source": [
    "#NUMBER OF UNIQUE PATIENTS\n",
    "PEDW_UNIQ.query('LOS>=2 and LOS<=8').drop_duplicates(subset=['ALF_PE'], ignore_index=True).shape[0]"
   ]
  },
  {
   "cell_type": "code",
   "execution_count": null,
   "id": "a75c06cb-f237-4727-a05a-5e58451e7ea3",
   "metadata": {
    "execution": {
     "iopub.execute_input": "2023-07-03T15:57:59.342505Z",
     "iopub.status.busy": "2023-07-03T15:57:59.342025Z",
     "iopub.status.idle": "2023-07-03T15:57:59.365636Z",
     "shell.execute_reply": "2023-07-03T15:57:59.364990Z",
     "shell.execute_reply.started": "2023-07-03T15:57:59.342461Z"
    },
    "tags": []
   },
   "outputs": [],
   "source": [
    "#NUMBER OF UNIQUE ADMISSIONS\n",
    "PEDW_UNIQ.query('LOS>=2 and LOS<=8').shape[0]"
   ]
  },
  {
   "cell_type": "code",
   "execution_count": null,
   "id": "ed9e64c9-5fa2-4544-8705-46d4b7e1c948",
   "metadata": {
    "execution": {
     "iopub.execute_input": "2023-07-03T15:58:18.661173Z",
     "iopub.status.busy": "2023-07-03T15:58:18.659909Z",
     "iopub.status.idle": "2023-07-03T15:58:18.688762Z",
     "shell.execute_reply": "2023-07-03T15:58:18.687770Z",
     "shell.execute_reply.started": "2023-07-03T15:58:18.661119Z"
    },
    "tags": []
   },
   "outputs": [],
   "source": [
    "# obtain distribution of comorbidity counts per patients across all unique admissions with LOS>=2 and LOS<=8\n",
    "PEDW_UNIQ.query('LOS>=2 and LOS<=8').NUM_ADMISSION_COMORBIDITIES.describe()"
   ]
  },
  {
   "cell_type": "markdown",
   "id": "dd02309e-f8d5-4b0a-adbc-4bb55fc6980c",
   "metadata": {
    "execution": {
     "iopub.execute_input": "2023-06-20T03:34:56.409215Z",
     "iopub.status.busy": "2023-06-20T03:34:56.408315Z",
     "iopub.status.idle": "2023-06-20T03:34:56.416713Z",
     "shell.execute_reply": "2023-06-20T03:34:56.414869Z",
     "shell.execute_reply.started": "2023-06-20T03:34:56.409143Z"
    },
    "tags": []
   },
   "source": [
    "## ETHNICITY"
   ]
  },
  {
   "cell_type": "code",
   "execution_count": 421,
   "id": "fd3a3ad3-f18c-4be2-8d2b-6a5d02345a85",
   "metadata": {
    "execution": {
     "iopub.execute_input": "2023-07-03T15:59:01.589349Z",
     "iopub.status.busy": "2023-07-03T15:59:01.588802Z",
     "iopub.status.idle": "2023-07-03T15:59:01.617222Z",
     "shell.execute_reply": "2023-07-03T15:59:01.616156Z",
     "shell.execute_reply.started": "2023-07-03T15:59:01.589305Z"
    },
    "tags": []
   },
   "outputs": [],
   "source": [
    "#Number of uniqie patients\n",
    "PEDW_UNIQ.query('LOS>=2 and LOS<=8').drop_duplicates(subset=['ALF_PE'], ignore_index=True).ETHN_EC_ONS_DATE_LATEST_DESC.value_counts().to_csv(\"50_75ethn_patientcount.csv\")"
   ]
  },
  {
   "cell_type": "code",
   "execution_count": 422,
   "id": "fc271b2f-ac63-44f8-8a24-44f1e6b383e5",
   "metadata": {
    "execution": {
     "iopub.execute_input": "2023-07-03T15:59:02.013777Z",
     "iopub.status.busy": "2023-07-03T15:59:02.013137Z",
     "iopub.status.idle": "2023-07-03T15:59:02.035567Z",
     "shell.execute_reply": "2023-07-03T15:59:02.034971Z",
     "shell.execute_reply.started": "2023-07-03T15:59:02.013734Z"
    },
    "tags": []
   },
   "outputs": [],
   "source": [
    "#NUMBER OF UNIQUE ADMISSIONS\n",
    "PEDW_UNIQ.query('LOS>=2 and LOS<=8').ETHN_EC_ONS_DATE_LATEST_DESC.value_counts().to_csv(\"50_75ethn_count.csv\")"
   ]
  },
  {
   "cell_type": "code",
   "execution_count": 423,
   "id": "fce28472-c637-4f7a-962d-67a2bd847f34",
   "metadata": {
    "execution": {
     "iopub.execute_input": "2023-07-03T15:59:02.436036Z",
     "iopub.status.busy": "2023-07-03T15:59:02.435447Z",
     "iopub.status.idle": "2023-07-03T15:59:02.459776Z",
     "shell.execute_reply": "2023-07-03T15:59:02.458963Z",
     "shell.execute_reply.started": "2023-07-03T15:59:02.435953Z"
    },
    "tags": []
   },
   "outputs": [],
   "source": [
    "PEDW_UNIQ.query('LOS>=2 and LOS<=8').groupby(['ETHN_EC_ONS_DATE_LATEST_DESC'])['NUM_ADMISSION_COMORBIDITIES'].agg(['mean', 'std']).reset_index().to_csv(\"50_75Numcom_ethn.csv\")"
   ]
  },
  {
   "cell_type": "code",
   "execution_count": 424,
   "id": "43027a14-10ed-47a0-a97e-e46f10e7942e",
   "metadata": {
    "execution": {
     "iopub.execute_input": "2023-07-03T15:59:03.061027Z",
     "iopub.status.busy": "2023-07-03T15:59:03.059934Z",
     "iopub.status.idle": "2023-07-03T15:59:03.086428Z",
     "shell.execute_reply": "2023-07-03T15:59:03.084959Z",
     "shell.execute_reply.started": "2023-07-03T15:59:03.060976Z"
    },
    "tags": []
   },
   "outputs": [],
   "source": [
    "PEDW_UNIQ.query('LOS>=2 and LOS<=8').groupby(['ETHN_EC_ONS_DATE_LATEST_DESC'])['LOS'].agg(['mean', 'std']).reset_index().to_csv(\"50_75LOSethn.csv\")"
   ]
  },
  {
   "cell_type": "markdown",
   "id": "15f6a7f3-e8c9-46d7-868a-417224a9981a",
   "metadata": {
    "execution": {
     "iopub.execute_input": "2023-06-20T03:34:56.409215Z",
     "iopub.status.busy": "2023-06-20T03:34:56.408315Z",
     "iopub.status.idle": "2023-06-20T03:34:56.416713Z",
     "shell.execute_reply": "2023-06-20T03:34:56.414869Z",
     "shell.execute_reply.started": "2023-06-20T03:34:56.409143Z"
    },
    "tags": []
   },
   "source": [
    "## GENDER"
   ]
  },
  {
   "cell_type": "code",
   "execution_count": 425,
   "id": "ba1689af-42d3-46a6-8b6d-cc64dc5d6099",
   "metadata": {
    "execution": {
     "iopub.execute_input": "2023-07-03T16:03:20.084354Z",
     "iopub.status.busy": "2023-07-03T16:03:20.083052Z",
     "iopub.status.idle": "2023-07-03T16:03:20.118785Z",
     "shell.execute_reply": "2023-07-03T16:03:20.117564Z",
     "shell.execute_reply.started": "2023-07-03T16:03:20.084298Z"
    },
    "tags": []
   },
   "outputs": [],
   "source": [
    "#Number of uniqie patients\n",
    "PEDW_UNIQ.query('LOS>=2 and LOS<=8').drop_duplicates(subset=['ALF_PE'], ignore_index=True).GNDR_DESC.value_counts().to_csv(\"50_75gndr_patientcount.csv\")"
   ]
  },
  {
   "cell_type": "code",
   "execution_count": 426,
   "id": "c974ab10-fd88-4bbc-a21d-35a328243c2e",
   "metadata": {
    "execution": {
     "iopub.execute_input": "2023-07-03T16:03:22.079458Z",
     "iopub.status.busy": "2023-07-03T16:03:22.078335Z",
     "iopub.status.idle": "2023-07-03T16:03:22.102464Z",
     "shell.execute_reply": "2023-07-03T16:03:22.101643Z",
     "shell.execute_reply.started": "2023-07-03T16:03:22.079409Z"
    },
    "tags": []
   },
   "outputs": [],
   "source": [
    "#NUMBER OF UNIQUE ADMISSIONS\n",
    "PEDW_UNIQ.query('LOS>=2 and LOS<=8').GNDR_DESC.value_counts().to_csv(\"50_75GNDR_count.csv\")"
   ]
  },
  {
   "cell_type": "code",
   "execution_count": 427,
   "id": "02a8d38e-63bd-435a-baea-3dbdc88a57bf",
   "metadata": {
    "execution": {
     "iopub.execute_input": "2023-07-03T16:03:22.396049Z",
     "iopub.status.busy": "2023-07-03T16:03:22.394799Z",
     "iopub.status.idle": "2023-07-03T16:03:22.425754Z",
     "shell.execute_reply": "2023-07-03T16:03:22.423417Z",
     "shell.execute_reply.started": "2023-07-03T16:03:22.395950Z"
    },
    "tags": []
   },
   "outputs": [],
   "source": [
    "PEDW_UNIQ.query('LOS<=2').groupby(['GNDR_DESC'])['NUM_ADMISSION_COMORBIDITIES'].agg(['mean', 'std']).reset_index().to_csv(\"50_75Numcom_gndr.csv\")"
   ]
  },
  {
   "cell_type": "code",
   "execution_count": 428,
   "id": "6d8fd911-6fc8-4edb-a775-37dfaa989710",
   "metadata": {
    "execution": {
     "iopub.execute_input": "2023-07-03T16:03:22.660857Z",
     "iopub.status.busy": "2023-07-03T16:03:22.659723Z",
     "iopub.status.idle": "2023-07-03T16:03:22.689933Z",
     "shell.execute_reply": "2023-07-03T16:03:22.688745Z",
     "shell.execute_reply.started": "2023-07-03T16:03:22.660794Z"
    },
    "tags": []
   },
   "outputs": [],
   "source": [
    "PEDW_UNIQ.query('LOS>=2 and LOS<=8').groupby(['GNDR_DESC'])['LOS'].agg(['mean', 'std']).reset_index().to_csv(\"50_75LOSgndr.csv\")"
   ]
  },
  {
   "cell_type": "markdown",
   "id": "7c5eea22-b3fb-4f3e-8c15-5371b6ea6984",
   "metadata": {
    "execution": {
     "iopub.execute_input": "2023-06-20T03:34:56.409215Z",
     "iopub.status.busy": "2023-06-20T03:34:56.408315Z",
     "iopub.status.idle": "2023-06-20T03:34:56.416713Z",
     "shell.execute_reply": "2023-06-20T03:34:56.414869Z",
     "shell.execute_reply.started": "2023-06-20T03:34:56.409143Z"
    },
    "tags": []
   },
   "source": [
    "## AGE GROUP"
   ]
  },
  {
   "cell_type": "code",
   "execution_count": 429,
   "id": "ab6e4c0f-9ce5-4bbc-960a-4add31d50854",
   "metadata": {
    "execution": {
     "iopub.execute_input": "2023-07-03T16:36:57.096221Z",
     "iopub.status.busy": "2023-07-03T16:36:57.095456Z",
     "iopub.status.idle": "2023-07-03T16:36:57.134736Z",
     "shell.execute_reply": "2023-07-03T16:36:57.133973Z",
     "shell.execute_reply.started": "2023-07-03T16:36:57.096160Z"
    },
    "tags": []
   },
   "outputs": [],
   "source": [
    "#Number of uniqie patients\n",
    "PEDW_UNIQ.query('LOS>=2 and LOS<=8').drop_duplicates(subset=['ALF_PE'], ignore_index=True).AGEGRP_AT_ADMIS_DT.value_counts().to_csv(\"50_75agegrp_patientcount.csv\")"
   ]
  },
  {
   "cell_type": "code",
   "execution_count": 430,
   "id": "5a4bdb18-e79b-40f6-bab7-a631d9dda255",
   "metadata": {
    "execution": {
     "iopub.execute_input": "2023-07-03T16:36:57.353439Z",
     "iopub.status.busy": "2023-07-03T16:36:57.352979Z",
     "iopub.status.idle": "2023-07-03T16:36:57.378169Z",
     "shell.execute_reply": "2023-07-03T16:36:57.377299Z",
     "shell.execute_reply.started": "2023-07-03T16:36:57.353398Z"
    },
    "tags": []
   },
   "outputs": [],
   "source": [
    "#NUMBER OF UNIQUE ADMISSIONS\n",
    "PEDW_UNIQ.query('LOS>=2 and LOS<=8').AGEGRP_AT_ADMIS_DT.value_counts().to_csv(\"50_75agegrp_count.csv\")"
   ]
  },
  {
   "cell_type": "code",
   "execution_count": 431,
   "id": "4ba25b54-f9c5-4f38-96e0-cd6f92411d35",
   "metadata": {
    "execution": {
     "iopub.execute_input": "2023-07-03T16:36:57.605110Z",
     "iopub.status.busy": "2023-07-03T16:36:57.604662Z",
     "iopub.status.idle": "2023-07-03T16:36:57.631843Z",
     "shell.execute_reply": "2023-07-03T16:36:57.631069Z",
     "shell.execute_reply.started": "2023-07-03T16:36:57.605069Z"
    },
    "tags": []
   },
   "outputs": [],
   "source": [
    "PEDW_UNIQ.query('LOS>=2 and LOS<=8').groupby(['AGEGRP_AT_ADMIS_DT'])['NUM_ADMISSION_COMORBIDITIES'].agg(['mean', 'std']).reset_index().to_csv(\"50_75Numcom_agegrp.csv\")"
   ]
  },
  {
   "cell_type": "code",
   "execution_count": 432,
   "id": "39ac855b-0f32-406c-ab89-f3d7486c3fd2",
   "metadata": {
    "execution": {
     "iopub.execute_input": "2023-07-03T16:36:58.957145Z",
     "iopub.status.busy": "2023-07-03T16:36:58.955884Z",
     "iopub.status.idle": "2023-07-03T16:36:58.985089Z",
     "shell.execute_reply": "2023-07-03T16:36:58.983867Z",
     "shell.execute_reply.started": "2023-07-03T16:36:58.957092Z"
    },
    "tags": []
   },
   "outputs": [],
   "source": [
    "PEDW_UNIQ.query('LOS>=2 and LOS<=8').groupby(['AGEGRP_AT_ADMIS_DT'])['LOS'].agg(['mean', 'std']).reset_index().to_csv(\"50_75LOSagegrp.csv\")"
   ]
  },
  {
   "cell_type": "markdown",
   "id": "cc1e5480-7688-4e3d-b1c0-459349ae4c66",
   "metadata": {
    "execution": {
     "iopub.execute_input": "2023-06-20T03:34:56.409215Z",
     "iopub.status.busy": "2023-06-20T03:34:56.408315Z",
     "iopub.status.idle": "2023-06-20T03:34:56.416713Z",
     "shell.execute_reply": "2023-06-20T03:34:56.414869Z",
     "shell.execute_reply.started": "2023-06-20T03:34:56.409143Z"
    },
    "tags": []
   },
   "source": [
    "## WIMD"
   ]
  },
  {
   "cell_type": "code",
   "execution_count": 433,
   "id": "b5b3f193-9b6d-4ccc-910f-bcaa0dfacbf8",
   "metadata": {
    "execution": {
     "iopub.execute_input": "2023-07-03T16:44:46.440447Z",
     "iopub.status.busy": "2023-07-03T16:44:46.439110Z",
     "iopub.status.idle": "2023-07-03T16:44:46.469726Z",
     "shell.execute_reply": "2023-07-03T16:44:46.468835Z",
     "shell.execute_reply.started": "2023-07-03T16:44:46.440388Z"
    },
    "tags": []
   },
   "outputs": [],
   "source": [
    "#Number of uniqie patients\n",
    "PEDW_UNIQ.query('LOS>=2 and LOS<=8').drop_duplicates(subset=['ALF_PE'], ignore_index=True).WIMD2019_QUINTILE_AT_INDEX_DATE.value_counts().to_csv(\"50_75wimd_patientcount.csv\")"
   ]
  },
  {
   "cell_type": "code",
   "execution_count": 434,
   "id": "52476287-b119-4c0c-8b1c-f3938fb181d0",
   "metadata": {
    "execution": {
     "iopub.execute_input": "2023-07-03T16:44:54.340520Z",
     "iopub.status.busy": "2023-07-03T16:44:54.339538Z",
     "iopub.status.idle": "2023-07-03T16:44:54.368295Z",
     "shell.execute_reply": "2023-07-03T16:44:54.367003Z",
     "shell.execute_reply.started": "2023-07-03T16:44:54.340466Z"
    },
    "tags": []
   },
   "outputs": [],
   "source": [
    "#NUMBER OF UNIQUE ADMISSIONS\n",
    "PEDW_UNIQ.query('LOS>=2 and LOS<=8').WIMD2019_QUINTILE_AT_INDEX_DATE.value_counts().to_csv(\"50_75wimd_count.csv\")"
   ]
  },
  {
   "cell_type": "code",
   "execution_count": 435,
   "id": "f2c8be82-98b5-476d-8ecb-9bb67a49de49",
   "metadata": {
    "execution": {
     "iopub.execute_input": "2023-07-03T16:44:54.855369Z",
     "iopub.status.busy": "2023-07-03T16:44:54.854593Z",
     "iopub.status.idle": "2023-07-03T16:44:54.887783Z",
     "shell.execute_reply": "2023-07-03T16:44:54.886823Z",
     "shell.execute_reply.started": "2023-07-03T16:44:54.855305Z"
    },
    "tags": []
   },
   "outputs": [],
   "source": [
    "PEDW_UNIQ.query('LOS>=2 and LOS<=8').groupby(['WIMD2019_QUINTILE_AT_INDEX_DATE'])['NUM_ADMISSION_COMORBIDITIES'].agg(['mean', 'std']).reset_index().to_csv(\"50_75Numcom_wimd.csv\")"
   ]
  },
  {
   "cell_type": "code",
   "execution_count": 436,
   "id": "c8810699-65fd-4318-bffc-074ad73b1084",
   "metadata": {
    "execution": {
     "iopub.execute_input": "2023-07-03T16:44:55.279082Z",
     "iopub.status.busy": "2023-07-03T16:44:55.278291Z",
     "iopub.status.idle": "2023-07-03T16:44:55.309409Z",
     "shell.execute_reply": "2023-07-03T16:44:55.308319Z",
     "shell.execute_reply.started": "2023-07-03T16:44:55.279016Z"
    },
    "tags": []
   },
   "outputs": [],
   "source": [
    "PEDW_UNIQ.query('LOS>=2 and LOS<=8').groupby(['WIMD2019_QUINTILE_AT_INDEX_DATE'])['LOS'].agg(['mean', 'std']).reset_index().to_csv(\"50_75LOSwimd.csv\")"
   ]
  },
  {
   "cell_type": "markdown",
   "id": "41c2204e-d91c-45a6-94b5-deaddedb4853",
   "metadata": {},
   "source": [
    "# ANALYSIS OF QUANTILE 75%-UPPERBOUND (8-20 days)"
   ]
  },
  {
   "cell_type": "markdown",
   "id": "4df74162-8121-43eb-b0da-7a89b64595a4",
   "metadata": {
    "execution": {
     "iopub.execute_input": "2023-06-20T03:34:56.409215Z",
     "iopub.status.busy": "2023-06-20T03:34:56.408315Z",
     "iopub.status.idle": "2023-06-20T03:34:56.416713Z",
     "shell.execute_reply": "2023-06-20T03:34:56.414869Z",
     "shell.execute_reply.started": "2023-06-20T03:34:56.409143Z"
    }
   },
   "source": [
    "## UNGROUPED"
   ]
  },
  {
   "cell_type": "code",
   "execution_count": null,
   "id": "2cdd47de-97ff-4490-8108-d558dccc5025",
   "metadata": {
    "execution": {
     "iopub.execute_input": "2023-07-03T16:52:03.124576Z",
     "iopub.status.busy": "2023-07-03T16:52:03.123825Z",
     "iopub.status.idle": "2023-07-03T16:52:03.182962Z",
     "shell.execute_reply": "2023-07-03T16:52:03.181615Z",
     "shell.execute_reply.started": "2023-07-03T16:52:03.124529Z"
    },
    "tags": []
   },
   "outputs": [],
   "source": [
    "#NUMBER OF UNIQUE PATIENTS\n",
    "PEDW_UNIQ.query('LOS>=8 and LOS<=@UPPER_BOUND').drop_duplicates(subset=['ALF_PE'], ignore_index=True).shape[0]"
   ]
  },
  {
   "cell_type": "code",
   "execution_count": null,
   "id": "61075af9-74ca-42f6-a237-88ea5759c3f8",
   "metadata": {
    "execution": {
     "iopub.execute_input": "2023-07-03T16:52:51.797528Z",
     "iopub.status.busy": "2023-07-03T16:52:51.796692Z",
     "iopub.status.idle": "2023-07-03T16:52:51.818858Z",
     "shell.execute_reply": "2023-07-03T16:52:51.818135Z",
     "shell.execute_reply.started": "2023-07-03T16:52:51.797469Z"
    },
    "tags": []
   },
   "outputs": [],
   "source": [
    "#NUMBER OF UNIQUE ADMISSIONS\n",
    "PEDW_UNIQ.query('LOS>=8 and LOS<=@UPPER_BOUND').shape[0]"
   ]
  },
  {
   "cell_type": "code",
   "execution_count": null,
   "id": "94dee34f-f81e-4b02-ab01-0d01e2541547",
   "metadata": {
    "execution": {
     "iopub.execute_input": "2023-07-03T16:52:52.281412Z",
     "iopub.status.busy": "2023-07-03T16:52:52.280820Z",
     "iopub.status.idle": "2023-07-03T16:52:52.304145Z",
     "shell.execute_reply": "2023-07-03T16:52:52.303525Z",
     "shell.execute_reply.started": "2023-07-03T16:52:52.281359Z"
    },
    "tags": []
   },
   "outputs": [],
   "source": [
    "# obtain distribution of comorbidity counts per patients across all unique admissions with LOS>=8 and LOS<=@UPPER_BOUND\n",
    "PEDW_UNIQ.query('LOS>=8 and LOS<=@UPPER_BOUND').NUM_ADMISSION_COMORBIDITIES.describe()"
   ]
  },
  {
   "cell_type": "markdown",
   "id": "5fc29c8e-a68d-48a2-bc77-c6e5e93b04a0",
   "metadata": {
    "execution": {
     "iopub.execute_input": "2023-06-20T03:34:56.409215Z",
     "iopub.status.busy": "2023-06-20T03:34:56.408315Z",
     "iopub.status.idle": "2023-06-20T03:34:56.416713Z",
     "shell.execute_reply": "2023-06-20T03:34:56.414869Z",
     "shell.execute_reply.started": "2023-06-20T03:34:56.409143Z"
    },
    "tags": []
   },
   "source": [
    "## ETHNICITY"
   ]
  },
  {
   "cell_type": "code",
   "execution_count": 446,
   "id": "c15cd259-b47f-4fdc-831d-c945376afe51",
   "metadata": {
    "execution": {
     "iopub.execute_input": "2023-07-03T20:02:59.254983Z",
     "iopub.status.busy": "2023-07-03T20:02:59.254027Z",
     "iopub.status.idle": "2023-07-03T20:02:59.289197Z",
     "shell.execute_reply": "2023-07-03T20:02:59.287911Z",
     "shell.execute_reply.started": "2023-07-03T20:02:59.254926Z"
    },
    "tags": []
   },
   "outputs": [],
   "source": [
    "#Number of uniqie patients\n",
    "PEDW_UNIQ.query('LOS>=8 and LOS<=@UPPER_BOUND').drop_duplicates(subset=['ALF_PE'], ignore_index=True).ETHN_EC_ONS_DATE_LATEST_DESC.value_counts().to_csv(\"75_UBethn_patientcount.csv\")"
   ]
  },
  {
   "cell_type": "code",
   "execution_count": 447,
   "id": "febaaf7e-76a7-418b-84b9-267786fcf29a",
   "metadata": {
    "execution": {
     "iopub.execute_input": "2023-07-03T20:02:59.665027Z",
     "iopub.status.busy": "2023-07-03T20:02:59.664561Z",
     "iopub.status.idle": "2023-07-03T20:02:59.689237Z",
     "shell.execute_reply": "2023-07-03T20:02:59.687682Z",
     "shell.execute_reply.started": "2023-07-03T20:02:59.664984Z"
    },
    "tags": []
   },
   "outputs": [],
   "source": [
    "#NUMBER OF UNIQUE ADMISSIONS\n",
    "PEDW_UNIQ.query('LOS>=8 and LOS<=@UPPER_BOUND').ETHN_EC_ONS_DATE_LATEST_DESC.value_counts().to_csv(\"75_UBethn_count.csv\")"
   ]
  },
  {
   "cell_type": "code",
   "execution_count": 448,
   "id": "3d4df87e-0cf4-4763-a162-652d77d7c27c",
   "metadata": {
    "execution": {
     "iopub.execute_input": "2023-07-03T20:03:00.100428Z",
     "iopub.status.busy": "2023-07-03T20:03:00.099805Z",
     "iopub.status.idle": "2023-07-03T20:03:00.125277Z",
     "shell.execute_reply": "2023-07-03T20:03:00.124478Z",
     "shell.execute_reply.started": "2023-07-03T20:03:00.100384Z"
    },
    "tags": []
   },
   "outputs": [],
   "source": [
    "PEDW_UNIQ.query('LOS>=8 and LOS<=@UPPER_BOUND').groupby(['ETHN_EC_ONS_DATE_LATEST_DESC'])['NUM_ADMISSION_COMORBIDITIES'].agg(['mean', 'std']).reset_index().to_csv(\"75_UBNumcom_ethn.csv\")"
   ]
  },
  {
   "cell_type": "code",
   "execution_count": 449,
   "id": "72b59c82-cd06-4b58-bf45-c336ab6b51ec",
   "metadata": {
    "execution": {
     "iopub.execute_input": "2023-07-03T20:03:00.483351Z",
     "iopub.status.busy": "2023-07-03T20:03:00.482742Z",
     "iopub.status.idle": "2023-07-03T20:03:00.509255Z",
     "shell.execute_reply": "2023-07-03T20:03:00.508479Z",
     "shell.execute_reply.started": "2023-07-03T20:03:00.483309Z"
    },
    "tags": []
   },
   "outputs": [],
   "source": [
    "PEDW_UNIQ.query('LOS>=8 and LOS<=@UPPER_BOUND').groupby(['ETHN_EC_ONS_DATE_LATEST_DESC'])['LOS'].agg(['mean', 'std']).reset_index().to_csv(\"75_UBLOSethn.csv\")"
   ]
  },
  {
   "cell_type": "markdown",
   "id": "60022911-153a-43b7-be6a-b4dcad1aedb0",
   "metadata": {
    "execution": {
     "iopub.execute_input": "2023-06-20T03:34:56.409215Z",
     "iopub.status.busy": "2023-06-20T03:34:56.408315Z",
     "iopub.status.idle": "2023-06-20T03:34:56.416713Z",
     "shell.execute_reply": "2023-06-20T03:34:56.414869Z",
     "shell.execute_reply.started": "2023-06-20T03:34:56.409143Z"
    },
    "tags": []
   },
   "source": [
    "## GENDER"
   ]
  },
  {
   "cell_type": "code",
   "execution_count": 442,
   "id": "f1c18ef7-09d1-4dd5-ad70-75141f943c10",
   "metadata": {
    "execution": {
     "iopub.execute_input": "2023-07-03T16:53:25.210142Z",
     "iopub.status.busy": "2023-07-03T16:53:25.209483Z",
     "iopub.status.idle": "2023-07-03T16:53:25.239006Z",
     "shell.execute_reply": "2023-07-03T16:53:25.237886Z",
     "shell.execute_reply.started": "2023-07-03T16:53:25.210070Z"
    },
    "tags": []
   },
   "outputs": [],
   "source": [
    "#Number of uniqie patients\n",
    "PEDW_UNIQ.query('LOS>=8 and LOS<=@UPPER_BOUND').drop_duplicates(subset=['ALF_PE'], ignore_index=True).GNDR_DESC.value_counts().to_csv(\"75_UBgndr_patientcount.csv\")"
   ]
  },
  {
   "cell_type": "code",
   "execution_count": 443,
   "id": "747652ed-795b-4aed-99cf-23f08654cc4a",
   "metadata": {
    "execution": {
     "iopub.execute_input": "2023-07-03T16:53:25.538028Z",
     "iopub.status.busy": "2023-07-03T16:53:25.537571Z",
     "iopub.status.idle": "2023-07-03T16:53:25.561893Z",
     "shell.execute_reply": "2023-07-03T16:53:25.560923Z",
     "shell.execute_reply.started": "2023-07-03T16:53:25.537987Z"
    },
    "tags": []
   },
   "outputs": [],
   "source": [
    "#NUMBER OF UNIQUE ADMISSIONS\n",
    "PEDW_UNIQ.query('LOS>=8 and LOS<=@UPPER_BOUND').GNDR_DESC.value_counts().to_csv(\"75_UBGNDR_count.csv\")"
   ]
  },
  {
   "cell_type": "code",
   "execution_count": 444,
   "id": "cd4867cd-fdc4-47ea-8c52-5154dcd37392",
   "metadata": {
    "execution": {
     "iopub.execute_input": "2023-07-03T16:53:25.999616Z",
     "iopub.status.busy": "2023-07-03T16:53:25.999165Z",
     "iopub.status.idle": "2023-07-03T16:53:26.024904Z",
     "shell.execute_reply": "2023-07-03T16:53:26.023810Z",
     "shell.execute_reply.started": "2023-07-03T16:53:25.999575Z"
    },
    "tags": []
   },
   "outputs": [],
   "source": [
    "PEDW_UNIQ.query('LOS>=8 and LOS<=@UPPER_BOUND').groupby(['GNDR_DESC'])['NUM_ADMISSION_COMORBIDITIES'].agg(['mean', 'std']).reset_index().to_csv(\"75_UBNumcom_gndr.csv\")"
   ]
  },
  {
   "cell_type": "code",
   "execution_count": 445,
   "id": "40ce1b3b-1931-4766-ab30-c7616eeb17c1",
   "metadata": {
    "execution": {
     "iopub.execute_input": "2023-07-03T16:53:26.500477Z",
     "iopub.status.busy": "2023-07-03T16:53:26.499183Z",
     "iopub.status.idle": "2023-07-03T16:53:26.538077Z",
     "shell.execute_reply": "2023-07-03T16:53:26.536827Z",
     "shell.execute_reply.started": "2023-07-03T16:53:26.500425Z"
    },
    "tags": []
   },
   "outputs": [],
   "source": [
    "PEDW_UNIQ.query('LOS>=8 and LOS<=@UPPER_BOUND').groupby(['GNDR_DESC'])['LOS'].agg(['mean', 'std']).reset_index().to_csv(\"75_UBLOSgndr.csv\")"
   ]
  },
  {
   "cell_type": "markdown",
   "id": "a3efeb5d-728c-42ea-a1db-089698b021d9",
   "metadata": {
    "execution": {
     "iopub.execute_input": "2023-06-20T03:34:56.409215Z",
     "iopub.status.busy": "2023-06-20T03:34:56.408315Z",
     "iopub.status.idle": "2023-06-20T03:34:56.416713Z",
     "shell.execute_reply": "2023-06-20T03:34:56.414869Z",
     "shell.execute_reply.started": "2023-06-20T03:34:56.409143Z"
    },
    "tags": []
   },
   "source": [
    "## AGE GROUP"
   ]
  },
  {
   "cell_type": "code",
   "execution_count": 450,
   "id": "05fc2414-1cf9-426a-995b-1763651ccc6c",
   "metadata": {
    "execution": {
     "iopub.execute_input": "2023-07-03T20:07:56.710571Z",
     "iopub.status.busy": "2023-07-03T20:07:56.709958Z",
     "iopub.status.idle": "2023-07-03T20:07:56.750969Z",
     "shell.execute_reply": "2023-07-03T20:07:56.749778Z",
     "shell.execute_reply.started": "2023-07-03T20:07:56.710526Z"
    },
    "tags": []
   },
   "outputs": [],
   "source": [
    "#Number of uniqie patients\n",
    "PEDW_UNIQ.query('LOS>=8 and LOS<=@UPPER_BOUND').drop_duplicates(subset=['ALF_PE'], ignore_index=True).AGEGRP_AT_ADMIS_DT.value_counts().to_csv(\"75_UBagegrp_patientcount.csv\")"
   ]
  },
  {
   "cell_type": "code",
   "execution_count": 451,
   "id": "1a781c35-338a-436d-ada2-91c303cce978",
   "metadata": {
    "execution": {
     "iopub.execute_input": "2023-07-03T20:07:57.239688Z",
     "iopub.status.busy": "2023-07-03T20:07:57.239217Z",
     "iopub.status.idle": "2023-07-03T20:07:57.266531Z",
     "shell.execute_reply": "2023-07-03T20:07:57.265351Z",
     "shell.execute_reply.started": "2023-07-03T20:07:57.239646Z"
    },
    "tags": []
   },
   "outputs": [],
   "source": [
    "#NUMBER OF UNIQUE ADMISSIONS\n",
    "PEDW_UNIQ.query('LOS>=8 and LOS<=@UPPER_BOUND').AGEGRP_AT_ADMIS_DT.value_counts().to_csv(\"75_UBagegrp_count.csv\")"
   ]
  },
  {
   "cell_type": "code",
   "execution_count": 452,
   "id": "2ab52bae-a803-4e5f-95a3-19bdb4949662",
   "metadata": {
    "execution": {
     "iopub.execute_input": "2023-07-03T20:07:57.696599Z",
     "iopub.status.busy": "2023-07-03T20:07:57.695959Z",
     "iopub.status.idle": "2023-07-03T20:07:57.721959Z",
     "shell.execute_reply": "2023-07-03T20:07:57.720894Z",
     "shell.execute_reply.started": "2023-07-03T20:07:57.696554Z"
    },
    "tags": []
   },
   "outputs": [],
   "source": [
    "PEDW_UNIQ.query('LOS>=8 and LOS<=@UPPER_BOUND').groupby(['AGEGRP_AT_ADMIS_DT'])['NUM_ADMISSION_COMORBIDITIES'].agg(['mean', 'std']).reset_index().to_csv(\"75_UBNumcom_agegrp.csv\")"
   ]
  },
  {
   "cell_type": "code",
   "execution_count": 453,
   "id": "b009fcd8-a3bd-4d9f-af98-1e39622995ed",
   "metadata": {
    "execution": {
     "iopub.execute_input": "2023-07-03T20:07:58.191478Z",
     "iopub.status.busy": "2023-07-03T20:07:58.191019Z",
     "iopub.status.idle": "2023-07-03T20:07:58.218659Z",
     "shell.execute_reply": "2023-07-03T20:07:58.216805Z",
     "shell.execute_reply.started": "2023-07-03T20:07:58.191436Z"
    },
    "tags": []
   },
   "outputs": [],
   "source": [
    "PEDW_UNIQ.query('LOS>=8 and LOS<=@UPPER_BOUND').groupby(['AGEGRP_AT_ADMIS_DT'])['LOS'].agg(['mean', 'std']).reset_index().to_csv(\"75_UBLOSagegrp.csv\")"
   ]
  },
  {
   "cell_type": "markdown",
   "id": "69626bae-89da-4d2d-b8b8-54a9b2f458bc",
   "metadata": {
    "execution": {
     "iopub.execute_input": "2023-06-20T03:34:56.409215Z",
     "iopub.status.busy": "2023-06-20T03:34:56.408315Z",
     "iopub.status.idle": "2023-06-20T03:34:56.416713Z",
     "shell.execute_reply": "2023-06-20T03:34:56.414869Z",
     "shell.execute_reply.started": "2023-06-20T03:34:56.409143Z"
    },
    "tags": []
   },
   "source": [
    "## WIMD"
   ]
  },
  {
   "cell_type": "code",
   "execution_count": 458,
   "id": "206e953d-6f1d-407f-a7fd-3e18f0b3240a",
   "metadata": {
    "execution": {
     "iopub.execute_input": "2023-07-03T20:31:35.846952Z",
     "iopub.status.busy": "2023-07-03T20:31:35.846343Z",
     "iopub.status.idle": "2023-07-03T20:31:35.881091Z",
     "shell.execute_reply": "2023-07-03T20:31:35.879797Z",
     "shell.execute_reply.started": "2023-07-03T20:31:35.846906Z"
    },
    "tags": []
   },
   "outputs": [],
   "source": [
    "#Number of uniqie patients\n",
    "PEDW_UNIQ.query('LOS>=8 and LOS<=@UPPER_BOUND').drop_duplicates(subset=['ALF_PE'], ignore_index=True).WIMD2019_QUINTILE_AT_INDEX_DATE.value_counts().to_csv(\"75_UBwimd_patientcount.csv\")"
   ]
  },
  {
   "cell_type": "code",
   "execution_count": 459,
   "id": "319c1716-173b-469b-85f3-9f8f61204a76",
   "metadata": {
    "execution": {
     "iopub.execute_input": "2023-07-03T20:31:36.293456Z",
     "iopub.status.busy": "2023-07-03T20:31:36.292221Z",
     "iopub.status.idle": "2023-07-03T20:31:36.333447Z",
     "shell.execute_reply": "2023-07-03T20:31:36.331908Z",
     "shell.execute_reply.started": "2023-07-03T20:31:36.293406Z"
    },
    "tags": []
   },
   "outputs": [],
   "source": [
    "#NUMBER OF UNIQUE ADMISSIONS\n",
    "PEDW_UNIQ.query('LOS>=8 and LOS<=@UPPER_BOUND').WIMD2019_QUINTILE_AT_INDEX_DATE.value_counts().to_csv(\"75_UBwimd_count.csv\")"
   ]
  },
  {
   "cell_type": "code",
   "execution_count": 460,
   "id": "fdc5f54b-bd34-4f90-af1d-9843cdd378bd",
   "metadata": {
    "execution": {
     "iopub.execute_input": "2023-07-03T20:31:36.531450Z",
     "iopub.status.busy": "2023-07-03T20:31:36.530987Z",
     "iopub.status.idle": "2023-07-03T20:31:36.558787Z",
     "shell.execute_reply": "2023-07-03T20:31:36.557452Z",
     "shell.execute_reply.started": "2023-07-03T20:31:36.531408Z"
    },
    "tags": []
   },
   "outputs": [],
   "source": [
    "PEDW_UNIQ.query('LOS>=8 and LOS<=@UPPER_BOUND').groupby(['WIMD2019_QUINTILE_AT_INDEX_DATE'])['NUM_ADMISSION_COMORBIDITIES'].agg(['mean', 'std']).reset_index().to_csv(\"75_UBNumcom_wimd.csv\")"
   ]
  },
  {
   "cell_type": "code",
   "execution_count": 461,
   "id": "de0d084e-b5dc-46f3-801f-f7d6c1e7345e",
   "metadata": {
    "execution": {
     "iopub.execute_input": "2023-07-03T20:31:36.933124Z",
     "iopub.status.busy": "2023-07-03T20:31:36.932070Z",
     "iopub.status.idle": "2023-07-03T20:31:36.963834Z",
     "shell.execute_reply": "2023-07-03T20:31:36.962612Z",
     "shell.execute_reply.started": "2023-07-03T20:31:36.933078Z"
    },
    "tags": []
   },
   "outputs": [],
   "source": [
    "PEDW_UNIQ.query('LOS>=8 and LOS<=@UPPER_BOUND').groupby(['WIMD2019_QUINTILE_AT_INDEX_DATE'])['LOS'].agg(['mean', 'std']).reset_index().to_csv(\"75_UBLOSwimd.csv\")"
   ]
  },
  {
   "cell_type": "markdown",
   "id": "13ea198c-3c8d-455c-b699-90b12f0e71e9",
   "metadata": {},
   "source": [
    "# ANALYSIS OF STAYS >UPPERBOUND"
   ]
  },
  {
   "cell_type": "markdown",
   "id": "a6fb8e7f-bd1c-47b1-bb90-152a16c4d575",
   "metadata": {
    "execution": {
     "iopub.execute_input": "2023-06-20T03:34:56.409215Z",
     "iopub.status.busy": "2023-06-20T03:34:56.408315Z",
     "iopub.status.idle": "2023-06-20T03:34:56.416713Z",
     "shell.execute_reply": "2023-06-20T03:34:56.414869Z",
     "shell.execute_reply.started": "2023-06-20T03:34:56.409143Z"
    }
   },
   "source": [
    "## UNGROUPED"
   ]
  },
  {
   "cell_type": "code",
   "execution_count": null,
   "id": "3b741b89-72a4-42d1-8c94-ecc1b835753b",
   "metadata": {
    "execution": {
     "iopub.execute_input": "2024-02-05T14:25:59.741057Z",
     "iopub.status.busy": "2024-02-05T14:25:59.740532Z",
     "iopub.status.idle": "2024-02-05T14:25:59.769369Z",
     "shell.execute_reply": "2024-02-05T14:25:59.768632Z",
     "shell.execute_reply.started": "2024-02-05T14:25:59.741012Z"
    },
    "tags": []
   },
   "outputs": [],
   "source": [
    "#NUMBER OF UNIQUE PATIENTS\n",
    "PEDW_UNIQ.query('LOS>=@UPPER_BOUND').drop_duplicates(subset=['ALF_PE'], ignore_index=True).shape[0]"
   ]
  },
  {
   "cell_type": "code",
   "execution_count": null,
   "id": "d5761a41-837a-452f-a089-ec73dc39ca79",
   "metadata": {
    "execution": {
     "iopub.execute_input": "2024-02-05T14:26:00.828424Z",
     "iopub.status.busy": "2024-02-05T14:26:00.827942Z",
     "iopub.status.idle": "2024-02-05T14:26:00.847132Z",
     "shell.execute_reply": "2024-02-05T14:26:00.846617Z",
     "shell.execute_reply.started": "2024-02-05T14:26:00.828381Z"
    },
    "tags": []
   },
   "outputs": [],
   "source": [
    "#NUMBER OF UNIQUE ADMISSIONS\n",
    "PEDW_UNIQ.query('LOS>=@UPPER_BOUND').shape[0]"
   ]
  },
  {
   "cell_type": "code",
   "execution_count": null,
   "id": "2c4c9f15-3470-43dd-a127-211edda7b2d6",
   "metadata": {
    "execution": {
     "iopub.execute_input": "2024-02-05T14:26:38.324217Z",
     "iopub.status.busy": "2024-02-05T14:26:38.323708Z",
     "iopub.status.idle": "2024-02-05T14:26:38.349023Z",
     "shell.execute_reply": "2024-02-05T14:26:38.347725Z",
     "shell.execute_reply.started": "2024-02-05T14:26:38.324172Z"
    },
    "tags": []
   },
   "outputs": [],
   "source": [
    "# obtain distribution of comorbidity counts per patients across all unique admissions with LOS>=@UPPER_BOUND\n",
    "PEDW_UNIQ.query('LOS>=@UPPER_BOUND').NUM_ADMISSION_COMORBIDITIES.describe()"
   ]
  },
  {
   "cell_type": "markdown",
   "id": "a3410265-130f-4c30-a3a8-710eb6f19fba",
   "metadata": {
    "execution": {
     "iopub.execute_input": "2023-06-20T03:34:56.409215Z",
     "iopub.status.busy": "2023-06-20T03:34:56.408315Z",
     "iopub.status.idle": "2023-06-20T03:34:56.416713Z",
     "shell.execute_reply": "2023-06-20T03:34:56.414869Z",
     "shell.execute_reply.started": "2023-06-20T03:34:56.409143Z"
    },
    "tags": []
   },
   "source": [
    "## ETHNICITY"
   ]
  },
  {
   "cell_type": "code",
   "execution_count": 468,
   "id": "64702a63-5a2c-4c14-993f-976627da34e5",
   "metadata": {
    "execution": {
     "iopub.execute_input": "2023-07-03T20:42:39.882799Z",
     "iopub.status.busy": "2023-07-03T20:42:39.881958Z",
     "iopub.status.idle": "2023-07-03T20:42:39.932926Z",
     "shell.execute_reply": "2023-07-03T20:42:39.931337Z",
     "shell.execute_reply.started": "2023-07-03T20:42:39.882750Z"
    },
    "tags": []
   },
   "outputs": [],
   "source": [
    "#Number of uniqie patients\n",
    "PEDW_UNIQ.query('LOS>@UPPER_BOUND').drop_duplicates(subset=['ALF_PE'], ignore_index=True).ETHN_EC_ONS_DATE_LATEST_DESC.value_counts().to_csv(\"UBethn_patientcount.csv\")"
   ]
  },
  {
   "cell_type": "code",
   "execution_count": 469,
   "id": "14373711-7444-4b59-8357-fc7acd13f667",
   "metadata": {
    "execution": {
     "iopub.execute_input": "2023-07-03T20:42:40.443118Z",
     "iopub.status.busy": "2023-07-03T20:42:40.442560Z",
     "iopub.status.idle": "2023-07-03T20:42:40.468131Z",
     "shell.execute_reply": "2023-07-03T20:42:40.466900Z",
     "shell.execute_reply.started": "2023-07-03T20:42:40.443069Z"
    },
    "tags": []
   },
   "outputs": [],
   "source": [
    "#NUMBER OF UNIQUE ADMISSIONS\n",
    "PEDW_UNIQ.query('LOS>@UPPER_BOUND').ETHN_EC_ONS_DATE_LATEST_DESC.value_counts().to_csv(\"UBethn_count.csv\")"
   ]
  },
  {
   "cell_type": "code",
   "execution_count": 470,
   "id": "9a0fccfc-4518-4281-9ff5-072e8bfb5bb4",
   "metadata": {
    "execution": {
     "iopub.execute_input": "2023-07-03T20:42:40.966488Z",
     "iopub.status.busy": "2023-07-03T20:42:40.966019Z",
     "iopub.status.idle": "2023-07-03T20:42:40.990686Z",
     "shell.execute_reply": "2023-07-03T20:42:40.989358Z",
     "shell.execute_reply.started": "2023-07-03T20:42:40.966447Z"
    },
    "tags": []
   },
   "outputs": [],
   "source": [
    "PEDW_UNIQ.query('LOS>@UPPER_BOUND').groupby(['ETHN_EC_ONS_DATE_LATEST_DESC'])['NUM_ADMISSION_COMORBIDITIES'].agg(['mean', 'std']).reset_index().to_csv(\"UBNumcom_ethn.csv\")"
   ]
  },
  {
   "cell_type": "code",
   "execution_count": 471,
   "id": "cc0561e5-207e-4522-82bb-24b6c8468c89",
   "metadata": {
    "execution": {
     "iopub.execute_input": "2023-07-03T20:42:41.517024Z",
     "iopub.status.busy": "2023-07-03T20:42:41.516555Z",
     "iopub.status.idle": "2023-07-03T20:42:41.543160Z",
     "shell.execute_reply": "2023-07-03T20:42:41.541952Z",
     "shell.execute_reply.started": "2023-07-03T20:42:41.516983Z"
    },
    "tags": []
   },
   "outputs": [],
   "source": [
    "PEDW_UNIQ.query('LOS>@UPPER_BOUND').groupby(['ETHN_EC_ONS_DATE_LATEST_DESC'])['LOS'].agg(['mean', 'std']).reset_index().to_csv(\"UBLOSethn.csv\")"
   ]
  },
  {
   "cell_type": "markdown",
   "id": "9d0da9da-bc48-4db2-913f-91d9eb4c48d3",
   "metadata": {
    "execution": {
     "iopub.execute_input": "2023-06-20T03:34:56.409215Z",
     "iopub.status.busy": "2023-06-20T03:34:56.408315Z",
     "iopub.status.idle": "2023-06-20T03:34:56.416713Z",
     "shell.execute_reply": "2023-06-20T03:34:56.414869Z",
     "shell.execute_reply.started": "2023-06-20T03:34:56.409143Z"
    },
    "tags": []
   },
   "source": [
    "## GENDER"
   ]
  },
  {
   "cell_type": "code",
   "execution_count": null,
   "id": "916743aa-0bc4-4d64-8a33-4d69a7edc8fb",
   "metadata": {
    "execution": {
     "iopub.execute_input": "2023-06-20T08:07:41.203146Z",
     "iopub.status.busy": "2023-06-20T08:07:41.202669Z",
     "iopub.status.idle": "2023-06-20T08:07:41.225203Z",
     "shell.execute_reply": "2023-06-20T08:07:41.224649Z",
     "shell.execute_reply.started": "2023-06-20T08:07:41.203106Z"
    },
    "tags": []
   },
   "outputs": [],
   "source": [
    "#Number of uniqie patients\n",
    "PEDW_UNIQ.query('LOS>@UPPER_BOUND').drop_duplicates(subset=['ALF_PE'], ignore_index=True).GNDR_DESC.value_counts().to_csv(\"UBgndr_patientcount.csv\")"
   ]
  },
  {
   "cell_type": "code",
   "execution_count": null,
   "id": "929fac3d-4bce-41af-8a5b-b49678fa0e7e",
   "metadata": {
    "execution": {
     "iopub.execute_input": "2023-06-20T08:12:00.002675Z",
     "iopub.status.busy": "2023-06-20T08:12:00.002026Z",
     "iopub.status.idle": "2023-06-20T08:12:00.023077Z",
     "shell.execute_reply": "2023-06-20T08:12:00.022197Z",
     "shell.execute_reply.started": "2023-06-20T08:12:00.002631Z"
    },
    "tags": []
   },
   "outputs": [],
   "source": [
    "#NUMBER OF UNIQUE ADMISSIONS\n",
    "PEDW_UNIQ.query('LOS>@UPPER_BOUND').GNDR_DESC.value_counts().to_csv(\"UBGNDR_count.csv\")"
   ]
  },
  {
   "cell_type": "code",
   "execution_count": null,
   "id": "749c0b1c-b905-4cf8-8b6c-8ca2925a2687",
   "metadata": {
    "execution": {
     "iopub.execute_input": "2023-06-20T08:07:41.765974Z",
     "iopub.status.busy": "2023-06-20T08:07:41.765506Z",
     "iopub.status.idle": "2023-06-20T08:07:41.787937Z",
     "shell.execute_reply": "2023-06-20T08:07:41.787125Z",
     "shell.execute_reply.started": "2023-06-20T08:07:41.765933Z"
    },
    "tags": []
   },
   "outputs": [],
   "source": [
    "PEDW_UNIQ.query('LOS>@UPPER_BOUND').groupby(['GNDR_DESC'])['NUM_ADMISSION_COMORBIDITIES'].agg(['mean', 'std']).reset_index().to_csv(\"UBNumcom_gndr.csv\")"
   ]
  },
  {
   "cell_type": "code",
   "execution_count": null,
   "id": "f441e02e-0085-4c0e-b984-b78eb63c76f9",
   "metadata": {
    "execution": {
     "iopub.execute_input": "2023-06-20T08:07:42.033290Z",
     "iopub.status.busy": "2023-06-20T08:07:42.032846Z",
     "iopub.status.idle": "2023-06-20T08:07:42.056641Z",
     "shell.execute_reply": "2023-06-20T08:07:42.055317Z",
     "shell.execute_reply.started": "2023-06-20T08:07:42.033251Z"
    },
    "tags": []
   },
   "outputs": [],
   "source": [
    "PEDW_UNIQ.query('LOS>@UPPER_BOUND').groupby(['GNDR_DESC'])['LOS'].agg(['mean', 'std']).reset_index().to_csv(\"UBLOSgndr.csv\")"
   ]
  },
  {
   "cell_type": "markdown",
   "id": "173122be-bb5f-40af-8cf2-8ce0cf182db5",
   "metadata": {
    "execution": {
     "iopub.execute_input": "2023-06-20T03:34:56.409215Z",
     "iopub.status.busy": "2023-06-20T03:34:56.408315Z",
     "iopub.status.idle": "2023-06-20T03:34:56.416713Z",
     "shell.execute_reply": "2023-06-20T03:34:56.414869Z",
     "shell.execute_reply.started": "2023-06-20T03:34:56.409143Z"
    },
    "tags": []
   },
   "source": [
    "## AGE GROUP"
   ]
  },
  {
   "cell_type": "code",
   "execution_count": 472,
   "id": "3513f81a-c498-49d2-bcac-d26674bd6f89",
   "metadata": {
    "execution": {
     "iopub.execute_input": "2023-07-03T21:36:08.192632Z",
     "iopub.status.busy": "2023-07-03T21:36:08.191895Z",
     "iopub.status.idle": "2023-07-03T21:36:08.220570Z",
     "shell.execute_reply": "2023-07-03T21:36:08.219919Z",
     "shell.execute_reply.started": "2023-07-03T21:36:08.192587Z"
    },
    "tags": []
   },
   "outputs": [],
   "source": [
    "#Number of uniqie patients\n",
    "PEDW_UNIQ.query('LOS>@UPPER_BOUND').drop_duplicates(subset=['ALF_PE'], ignore_index=True).AGEGRP_AT_ADMIS_DT.value_counts().to_csv(\"UBagegrp_patientcount.csv\")"
   ]
  },
  {
   "cell_type": "code",
   "execution_count": 473,
   "id": "4dd88ea5-2714-4169-9a44-6ca702d603a1",
   "metadata": {
    "execution": {
     "iopub.execute_input": "2023-07-03T21:36:08.647080Z",
     "iopub.status.busy": "2023-07-03T21:36:08.646212Z",
     "iopub.status.idle": "2023-07-03T21:36:08.670977Z",
     "shell.execute_reply": "2023-07-03T21:36:08.670083Z",
     "shell.execute_reply.started": "2023-07-03T21:36:08.647029Z"
    },
    "tags": []
   },
   "outputs": [],
   "source": [
    "#NUMBER OF UNIQUE ADMISSIONS\n",
    "PEDW_UNIQ.query('LOS>@UPPER_BOUND').AGEGRP_AT_ADMIS_DT.value_counts().to_csv(\"UBagegrp_count.csv\")"
   ]
  },
  {
   "cell_type": "code",
   "execution_count": 474,
   "id": "a5cbc21c-7567-415f-a285-d074f0f5ae1e",
   "metadata": {
    "execution": {
     "iopub.execute_input": "2023-07-03T21:36:09.075598Z",
     "iopub.status.busy": "2023-07-03T21:36:09.075130Z",
     "iopub.status.idle": "2023-07-03T21:36:09.099164Z",
     "shell.execute_reply": "2023-07-03T21:36:09.098165Z",
     "shell.execute_reply.started": "2023-07-03T21:36:09.075556Z"
    },
    "tags": []
   },
   "outputs": [],
   "source": [
    "PEDW_UNIQ.query('LOS>@UPPER_BOUND').groupby(['AGEGRP_AT_ADMIS_DT'])['NUM_ADMISSION_COMORBIDITIES'].agg(['mean', 'std']).reset_index().to_csv(\"UBNumcom_agegrp.csv\")"
   ]
  },
  {
   "cell_type": "code",
   "execution_count": 475,
   "id": "63cd2360-cda7-47de-8d25-321efc0e6ea6",
   "metadata": {
    "execution": {
     "iopub.execute_input": "2023-07-03T21:36:09.484467Z",
     "iopub.status.busy": "2023-07-03T21:36:09.483708Z",
     "iopub.status.idle": "2023-07-03T21:36:09.509897Z",
     "shell.execute_reply": "2023-07-03T21:36:09.509074Z",
     "shell.execute_reply.started": "2023-07-03T21:36:09.484394Z"
    },
    "tags": []
   },
   "outputs": [],
   "source": [
    "PEDW_UNIQ.query('LOS>@UPPER_BOUND').groupby(['AGEGRP_AT_ADMIS_DT'])['LOS'].agg(['mean', 'std']).reset_index().to_csv(\"UBLOSagegrp.csv\")"
   ]
  },
  {
   "cell_type": "markdown",
   "id": "1c6208ce-4768-4359-b445-55a1b76b698c",
   "metadata": {
    "execution": {
     "iopub.execute_input": "2023-06-20T03:34:56.409215Z",
     "iopub.status.busy": "2023-06-20T03:34:56.408315Z",
     "iopub.status.idle": "2023-06-20T03:34:56.416713Z",
     "shell.execute_reply": "2023-06-20T03:34:56.414869Z",
     "shell.execute_reply.started": "2023-06-20T03:34:56.409143Z"
    },
    "tags": []
   },
   "source": [
    "## WIMD"
   ]
  },
  {
   "cell_type": "code",
   "execution_count": null,
   "id": "0e941861-8b7c-437f-babd-198172a3370f",
   "metadata": {
    "execution": {
     "iopub.execute_input": "2023-06-20T08:27:40.293871Z",
     "iopub.status.busy": "2023-06-20T08:27:40.292727Z",
     "iopub.status.idle": "2023-06-20T08:27:40.315849Z",
     "shell.execute_reply": "2023-06-20T08:27:40.315244Z",
     "shell.execute_reply.started": "2023-06-20T08:27:40.293822Z"
    },
    "tags": []
   },
   "outputs": [],
   "source": [
    "#Number of uniqie patients\n",
    "PEDW_UNIQ.query('LOS>@UPPER_BOUND').drop_duplicates(subset=['ALF_PE'], ignore_index=True).WIMD2019_QUINTILE_AT_INDEX_DATE.value_counts().to_csv(\"UBwimd_patientcount.csv\")"
   ]
  },
  {
   "cell_type": "code",
   "execution_count": 476,
   "id": "d08374c0-5a21-4937-96e1-c0e78995e408",
   "metadata": {
    "execution": {
     "iopub.execute_input": "2023-07-03T22:44:43.689482Z",
     "iopub.status.busy": "2023-07-03T22:44:43.688916Z",
     "iopub.status.idle": "2023-07-03T22:44:43.713254Z",
     "shell.execute_reply": "2023-07-03T22:44:43.712368Z",
     "shell.execute_reply.started": "2023-07-03T22:44:43.689437Z"
    },
    "tags": []
   },
   "outputs": [],
   "source": [
    "#NUMBER OF UNIQUE ADMISSIONS\n",
    "PEDW_UNIQ.query('LOS>@UPPER_BOUND').WIMD2019_QUINTILE_AT_INDEX_DATE.value_counts().to_csv(\"UBwimd_count.csv\")"
   ]
  },
  {
   "cell_type": "code",
   "execution_count": 477,
   "id": "03b7ee74-1ef0-4b8a-85bf-6b8b9945166d",
   "metadata": {
    "execution": {
     "iopub.execute_input": "2023-07-03T22:44:44.177584Z",
     "iopub.status.busy": "2023-07-03T22:44:44.176986Z",
     "iopub.status.idle": "2023-07-03T22:44:44.202977Z",
     "shell.execute_reply": "2023-07-03T22:44:44.202372Z",
     "shell.execute_reply.started": "2023-07-03T22:44:44.177539Z"
    },
    "tags": []
   },
   "outputs": [],
   "source": [
    "PEDW_UNIQ.query('LOS>@UPPER_BOUND').groupby(['WIMD2019_QUINTILE_AT_INDEX_DATE'])['NUM_ADMISSION_COMORBIDITIES'].agg(['mean', 'std']).reset_index().to_csv(\"UBNumcom_wimd.csv\")"
   ]
  },
  {
   "cell_type": "code",
   "execution_count": 478,
   "id": "99470700-2ed6-4b6f-8444-73b030f996d4",
   "metadata": {
    "execution": {
     "iopub.execute_input": "2023-07-03T22:44:44.633406Z",
     "iopub.status.busy": "2023-07-03T22:44:44.632918Z",
     "iopub.status.idle": "2023-07-03T22:44:44.659741Z",
     "shell.execute_reply": "2023-07-03T22:44:44.658530Z",
     "shell.execute_reply.started": "2023-07-03T22:44:44.633363Z"
    },
    "tags": []
   },
   "outputs": [],
   "source": [
    "PEDW_UNIQ.query('LOS>@UPPER_BOUND').groupby(['WIMD2019_QUINTILE_AT_INDEX_DATE_DESC'])['LOS'].agg(['mean', 'std']).reset_index().to_csv(\"UBLOSwimd.csv\")"
   ]
  }
 ],
 "metadata": {
  "kernelspec": {
   "display_name": "Python 3 (ipykernel)",
   "language": "python",
   "name": "python3"
  },
  "language_info": {
   "codemirror_mode": {
    "name": "ipython",
    "version": 3
   },
   "file_extension": ".py",
   "mimetype": "text/x-python",
   "name": "python",
   "nbconvert_exporter": "python",
   "pygments_lexer": "ipython3",
   "version": "3.9.13"
  }
 },
 "nbformat": 4,
 "nbformat_minor": 5
}
