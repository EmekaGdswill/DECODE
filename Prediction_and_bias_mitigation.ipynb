{
 "cells": [
  {
   "cell_type": "code",
   "execution_count": null,
   "id": "48b29cb6",
   "metadata": {},
   "outputs": [],
   "source": [
    "#\n",
    "#File name: Prediction_and_bias_mitigation\n",
    "#\n",
    "#\n",
    "# Programmed by Emeka Abakasanga\n",
    "# Last revised:  February 2025\n",
    "# Reference: Emeka Abakasanga*, Georgina Cosma*, Gyuchan Thomas Jun, Satheesh Gangadharan, Reza Kiani, \n",
    "# Danielle Fitt, Navjot Kaur, Francesco Zaccardi, Ashley Akbari, Rania Kousovista. \n",
    "\n",
    "# TITLE: Equitable Hospital Length of Stay Prediction for Patients with Learning Disabilities and \n",
    "# Multiple Long-term Conditions Using Machine Learning\n",
    "# In: Frontiers in Digital Health \n",
    "# \n",
    "# Copyright (c) 2025 Emeka Abakasanga <E.Abakasanga@lboro.ac.uk>.\n",
    "\n",
    "# https://www.frontiersin.org/journals/digital-health/articles/10.3389/fdgth.2025.1538793/abstract"
   ]
  },
  {
   "cell_type": "code",
   "execution_count": null,
   "id": "b5cd8adb-9292-4181-9f30-5a737be1e0b5",
   "metadata": {
    "execution": {
     "iopub.execute_input": "2023-08-07T16:13:44.506893Z",
     "iopub.status.busy": "2023-08-07T16:13:44.506043Z",
     "iopub.status.idle": "2023-08-07T16:14:07.694982Z",
     "shell.execute_reply": "2023-08-07T16:14:07.692462Z",
     "shell.execute_reply.started": "2023-08-07T16:13:44.506836Z"
    },
    "tags": []
   },
   "outputs": [],
   "source": [
    "conda install -c conda-forge fairlearn\n",
    "conda install -c conda-forge scikit-learn\n",
    "conda install -c conda-forge xgboost\n",
    "conda install seaborn -c conda-forge"
   ]
  },
  {
   "cell_type": "code",
   "execution_count": null,
   "id": "8d05a03d-5f18-439e-b2ca-ad9febeb54f0",
   "metadata": {
    "execution": {
     "iopub.execute_input": "2024-01-16T13:14:35.415946Z",
     "iopub.status.busy": "2024-01-16T13:14:35.415204Z",
     "iopub.status.idle": "2024-01-16T13:18:38.036290Z",
     "shell.execute_reply": "2024-01-16T13:18:38.033982Z",
     "shell.execute_reply.started": "2024-01-16T13:14:35.415897Z"
    }
   },
   "outputs": [],
   "source": [
    "conda install conda-forge::pytorch-model-summary"
   ]
  },
  {
   "cell_type": "code",
   "execution_count": 1,
   "id": "b860c81b-766e-4e42-b0d3-506dc41d110e",
   "metadata": {
    "execution": {
     "iopub.execute_input": "2024-02-16T15:57:20.437195Z",
     "iopub.status.busy": "2024-02-16T15:57:20.436433Z",
     "iopub.status.idle": "2024-02-16T15:57:24.338374Z",
     "shell.execute_reply": "2024-02-16T15:57:24.336960Z",
     "shell.execute_reply.started": "2024-02-16T15:57:20.437139Z"
    },
    "tags": []
   },
   "outputs": [],
   "source": [
    "import numpy as np\n",
    "import pandas as pd\n",
    "import matplotlib.pyplot as plt\n",
    "import seaborn as sns\n",
    "sns.set()\n",
    "from dateutil.relativedelta import relativedelta\n",
    "import datetime\n",
    "import xgboost\n",
    "\n",
    "pd.set_option(\"display.float_format\", \"{:.3f}\".format)"
   ]
  },
  {
   "cell_type": "code",
   "execution_count": null,
   "id": "33c02272-55c2-4517-8fce-ae53763f24e3",
   "metadata": {
    "execution": {
     "iopub.execute_input": "2024-02-16T15:57:24.340526Z",
     "iopub.status.busy": "2024-02-16T15:57:24.340119Z",
     "iopub.status.idle": "2024-02-16T15:57:24.697204Z",
     "shell.execute_reply": "2024-02-16T15:57:24.696079Z",
     "shell.execute_reply.started": "2024-02-16T15:57:24.340498Z"
    },
    "tags": []
   },
   "outputs": [],
   "source": [
    "# changed from the original code as the ROC Curve function is not\n",
    "from sklearn.linear_model import LogisticRegression\n",
    "from sklearn.svm import SVC\n",
    "from sklearn.neighbors import KNeighborsClassifier\n",
    "from sklearn.ensemble import RandomForestClassifier\n",
    "from sklearn.model_selection import LeaveOneOut\n",
    "from xgboost import XGBClassifier\n",
    "from sklearn.model_selection import cross_validate\n",
    "from sklearn.metrics import make_scorer\n",
    "from sklearn.metrics import recall_score\n",
    "from sklearn.metrics import precision_score\n",
    "from sklearn.model_selection import train_test_split\n",
    "from sklearn.preprocessing import StandardScaler\n",
    "from sklearn.pipeline import Pipeline\n",
    "from sklearn.utils import Bunch\n",
    "from sklearn.metrics import (\n",
    "    balanced_accuracy_score,\n",
    "    roc_auc_score,\n",
    "    accuracy_score,\n",
    "    recall_score,\n",
    "    confusion_matrix,\n",
    "    roc_auc_score,\n",
    "    roc_curve,\n",
    "    RocCurveDisplay)\n",
    "from sklearn import set_config\n",
    "\n",
    "set_config(display=\"diagram\")\n",
    "plt.style.use('seaborn-whitegrid')"
   ]
  },
  {
   "cell_type": "code",
   "execution_count": 3,
   "id": "efa90ed6-829f-41a0-9f12-bf04be321a13",
   "metadata": {
    "execution": {
     "iopub.execute_input": "2024-02-16T15:57:24.705990Z",
     "iopub.status.busy": "2024-02-16T15:57:24.705668Z",
     "iopub.status.idle": "2024-02-16T15:57:24.758143Z",
     "shell.execute_reply": "2024-02-16T15:57:24.756937Z",
     "shell.execute_reply.started": "2024-02-16T15:57:24.705972Z"
    },
    "tags": []
   },
   "outputs": [],
   "source": [
    "from fairlearn.metrics import (\n",
    "    MetricFrame,\n",
    "    true_positive_rate,\n",
    "    false_positive_rate,\n",
    "    false_negative_rate,\n",
    "    selection_rate,\n",
    "    count,\n",
    "    false_negative_rate_difference\n",
    ")\n",
    "\n",
    "from fairlearn.postprocessing import ThresholdOptimizer, plot_threshold_optimizer\n",
    "from fairlearn.postprocessing._interpolated_thresholder import InterpolatedThresholder\n",
    "from fairlearn.postprocessing._threshold_operation import ThresholdOperation\n",
    "from fairlearn.reductions import ExponentiatedGradient, EqualizedOdds, TruePositiveRateParity, FalsePositiveRateParity"
   ]
  },
  {
   "cell_type": "markdown",
   "id": "cd4c5bb7-c0a6-4bca-b89e-8e7fd99fbfc8",
   "metadata": {
    "id": "4OoPTetsDv-v",
    "tags": []
   },
   "source": [
    "# **Overview of fairness in AI systems**"
   ]
  },
  {
   "cell_type": "markdown",
   "id": "aed4aeef-e1b8-4762-8a1f-cf445581a9bd",
   "metadata": {
    "id": "0gZTFumIxCfK"
   },
   "source": [
    "# **Fairlearn Bias Mitigation for Hospital Length Of Stay Prediction**\n"
   ]
  },
  {
   "cell_type": "markdown",
   "id": "68fc9146-4de7-4f8d-8be8-206b2df14532",
   "metadata": {
    "id": "7KhsuCB-imFk"
   },
   "source": [
    "This Notebook builds on the following open source projects:\n",
    "\n",
    "* **machine learning and data processing**: _scikit-learn_, _pandas_, _numpy_\n",
    "* **plotting**: _seaborn_, _matplotlib_\n",
    "* **AI fairness**: _Fairlearn_, _Model Card Toolkit_"
   ]
  },
  {
   "cell_type": "markdown",
   "id": "0d8d9cf1-8aac-4825-9d0c-f3181fdac133",
   "metadata": {
    "id": "ORfTAukTuEPN"
   },
   "source": [
    "### [Fairlearn](https://fairlearn.org)\n",
    "\n",
    "Fairlearn is an open-source, community-driven project to help data scientists improve fairness of AI systems. It includes:\n",
    "\n",
    "* A Python library for fairness assessment and improvement (fairness metrics, mitigation algorithms, plotting, etc.)\n",
    "\n",
    "* Educational resources covering organizational and technical processes for unfairness mitigation (user guide, case studies, Jupyter notebooks, etc.)\n"
   ]
  },
  {
   "cell_type": "markdown",
   "id": "1a729a7b-6389-4992-9f76-9db2f3c695df",
   "metadata": {
    "id": "_j1vtg6TD7Fi"
   },
   "source": [
    "# Healthcare Dataset and task"
   ]
  },
  {
   "cell_type": "markdown",
   "id": "da355289-1832-4bec-8435-d9ebff3a73bc",
   "metadata": {
    "id": "HUkG_zdEylGU"
   },
   "source": [
    "This study demonstrates the feasibility of applying ML models to predict LOS for patients with learning disabilities and multiple long term conditions, while addressing fairness through bias mitigation techniques. The findings highlight the potential for equitable healthcare predictions using EHR data, paving the way for improved clinical decision-making and resource management.\n",
    "\n",
    "The study analyses hospitalisations of 9,618 patients with LD in Wales using electronic health records (EHR) from the SAIL Databank. Several ML models were applied to predict hospital LOS, incorporating demographics, medication history, lifestyle factors, and 39 long-term conditions and the optimal model was selected. To address fairness concerns, two bias mitigation techniques were applied on the optimal model: a post-processing threshold optimizer and an in-processing reductions method using an exponentiated gradient. These methods aimed to minimise performance discrepancies across ethnic groups while ensuring robust model performance.\n",
    "\n",
    "\n",
    "\n",
    "**Convenience restriction**\n",
    "\n",
    "* The datasets presented in the study are not readily available as all proposals to use SAIL data are subject to review by the independent IGRP. The anonymised individual-level data sources used in this study are available in the SAIL Databank at Swansea University, Swansea, UK, Before any data can be accessed, approval must be given by the IGRP. The IGRP gives careful consideration to each project to ensure proper and appropriate use of SAIL data. When access has been granted, it is gained through a privacy-protecting safe haven and remote access system referred to as the SAIL Gateway. SAIL has established an application process to be followed by anyone who would like to access data via SAIL at: https://www.saildatabank.com/application-process/."
   ]
  },
  {
   "cell_type": "markdown",
   "id": "79993b12-4025-43e6-a149-55f566c00696",
   "metadata": {
    "id": "q-j4KN95wLLS"
   },
   "source": []
  },
  {
   "cell_type": "markdown",
   "id": "73f0855e-4105-477c-a9f7-42521f1d745a",
   "metadata": {
    "id": "2BE26iXWwUqr"
   },
   "source": [
    "## Fairness considerations"
   ]
  },
  {
   "cell_type": "markdown",
   "id": "60e40aeb-0931-4930-8c9a-8d08432aa56e",
   "metadata": {
    "id": "eZUcQVZYyRvz"
   },
   "source": [
    "* _Which groups are most likely to be disproportionately negatively affected? Previous work suggests that patients from different ethnic groups might be affected.\n",
    "\n",
    "* Because of the class imbalance, we will be measuring our performance via **balanced accuracy**. Another key performance consideration is the **false negative and false positive rate**.\n",
    "\n",
    "* _What are the harms?_ The key harms here are allocation harms. In particular, false negatives, i.e., Recommending a patient to be discharged when they do need to stay in hospital admission.\n",
    "\n",
    "* _How should we measure those harms?_\n"
   ]
  },
  {
   "cell_type": "markdown",
   "id": "2ebcc1e5-c737-4d1a-98ac-3b629715edca",
   "metadata": {
    "id": "FkTmOAh8Bp1D",
    "jp-MarkdownHeadingCollapsed": true,
    "tags": []
   },
   "source": [
    "<a name=\"discussion-fairness-issues\"></a>\n",
    "## Discussion: Fairness-related harms\n",
    "\n",
    "* How can we determine which type of harm is relevant in a particular scenario?\n",
    "* What are ways to find out which (groups of) individuals are most likely to be disproportionately negatively affected?\n"
   ]
  },
  {
   "cell_type": "markdown",
   "id": "5726d39e-c6db-4dec-af81-84860bd52f61",
   "metadata": {
    "id": "3-ABnntZT8Fn"
   },
   "source": [
    "## Load the dataset\n"
   ]
  },
  {
   "cell_type": "markdown",
   "id": "57733b0f-61b2-4a7e-adc6-6ce0e3e63912",
   "metadata": {
    "id": "bvyHqcLIT8Fo"
   },
   "source": [
    "We next load the dataset and review the meaning of its columns.\n"
   ]
  },
  {
   "cell_type": "code",
   "execution_count": 17,
   "id": "3fc5a15e-c599-478c-8abf-b3873d3cd7a5",
   "metadata": {
    "execution": {
     "iopub.execute_input": "2024-02-18T17:05:54.397291Z",
     "iopub.status.busy": "2024-02-18T17:05:54.395239Z",
     "iopub.status.idle": "2024-02-18T17:05:55.586354Z",
     "shell.execute_reply": "2024-02-18T17:05:55.585052Z",
     "shell.execute_reply.started": "2024-02-18T17:05:54.397196Z"
    },
    "tags": []
   },
   "outputs": [
    {
     "data": {
      "text/plain": [
       "Index(['ALF_PE', 'DATE', 'DISCH_DT', 'EPI_STR_DT', 'EPI_END_DT', 'DIAG_NUM',\n",
       "       'DIAG_CODE', 'DIAG_DESC', 'PROV_UNIT_CD', 'CONDITION', 'CODE_SYSTEM',\n",
       "       'WOB', 'AGE_AT_INDEX_DATE', 'AGE_GRPS_AT_INDEX_DATE',\n",
       "       'AGE_GRPS_AT_INDEX_DATE_DESC', 'DOD', 'GNDR_CD', 'GNDR_DESC',\n",
       "       'LSOA2011_CD_AT_INDEX_DATE', 'WIMD2019_QUINTILE_AT_INDEX_DATE',\n",
       "       'WIMD2019_QUINTILE_AT_INDEX_DATE_DESC',\n",
       "       'TOWNSEND2011_QUINTILE_AT_INDEX_DATE',\n",
       "       'TOWNSEND2011_QUINTILE_AT_INDEX_DATE_DESC',\n",
       "       'ETHN_EC_ONS_DATE_LATEST_CODE', 'ETHN_EC_ONS_DATE_LATEST_DESC',\n",
       "       'ETHN_EC_NER_DATE_LATEST_CODE', 'ETHN_EC_NER_DATE_LATEST_DESC',\n",
       "       'AGE_AT_DATE', 'AGEGRP_AT_DATE', 'MORTALITY', 'COM_SEQ',\n",
       "       'COMORBIDITY_COUNT', 'AUTISM', 'BEHAVIOR_DISORDER', 'ALCOHOL_HISTORY',\n",
       "       'PresenceAlcRec', 'PresenceALCchange', 'SMOKING_HISTORY',\n",
       "       'PresenceSMOKchange', 'PresenceSmokRec', 'MEDICATIONS',\n",
       "       'PresenceMEDIchange', 'PHYSICAL', 'PresencePHYSRec',\n",
       "       'PresencePHYSchange', 'BMI', 'PresenceBMIchange', 'AGE_AT_ADMIS_DT',\n",
       "       'AGEGRP_AT_ADMIS_DT', 'LOS', 'NUM_PRVADMISSION_1YR',\n",
       "       'NUM_PRVEPISODES_1YR', 'YEAR_BEFORE_ADMIS', '3YEARS_BEFORE_ADMIS',\n",
       "       'NUM_PRVCOMORBID_1YR', 'NUM_PRVCOMORBID_3YR', 'NUM_PRVEPISODES_3YR',\n",
       "       'DATE_AFTER_ADMIS', 'NUMEPISODES_24HRS', 'NUMCOMORBIDITIES_24HRS',\n",
       "       'NUM_ADMISSION_COMORBIDITIES', 'NUM_PRVADMISSION_1YR_COND',\n",
       "       'NUM_PRVADMISSION_3YR', 'NUM_PRVADMISSION_3YR_COND',\n",
       "       'NUM_PRVHOSPITAL_DAYS_1YR', 'NUM_PRVHOSPITAL_DAYS_3YR',\n",
       "       'TOTAL_UNIQ_HOSPITALIZATIONS_AT_ENDDATE', 'HOSP_MORTALITY'],\n",
       "      dtype='object')"
      ]
     },
     "execution_count": 17,
     "metadata": {},
     "output_type": "execute_result"
    }
   ],
   "source": [
    "df = pd.read_csv(\"WP2_df_PEDW_TOTALEPISODES.csv\")\n",
    "df=df.drop('Unnamed: 0', axis=1)\n",
    "df['DATE']=pd.to_datetime(df['DATE'])\n",
    "df.columns"
   ]
  },
  {
   "cell_type": "code",
   "execution_count": 18,
   "id": "48dd844f-5248-47c2-93f7-566578c5c22c",
   "metadata": {
    "execution": {
     "iopub.execute_input": "2024-02-18T17:05:55.600138Z",
     "iopub.status.busy": "2024-02-18T17:05:55.599975Z",
     "iopub.status.idle": "2024-02-18T17:05:55.681258Z",
     "shell.execute_reply": "2024-02-18T17:05:55.680025Z",
     "shell.execute_reply.started": "2024-02-18T17:05:55.600124Z"
    },
    "tags": []
   },
   "outputs": [],
   "source": [
    "#ADJUST COHORT TO ONLY TAKE IN ADMISSIONS FROM 2000\n",
    "dte=pd.to_datetime('2000-01-01 00:00:00')\n",
    "df=df.query('DATE>=@dte')"
   ]
  },
  {
   "cell_type": "code",
   "execution_count": 19,
   "id": "16de91ce-1523-4352-98b5-e75d3a32a5f7",
   "metadata": {
    "execution": {
     "iopub.execute_input": "2024-02-18T17:05:55.807829Z",
     "iopub.status.busy": "2024-02-18T17:05:55.807314Z",
     "iopub.status.idle": "2024-02-18T17:05:55.832184Z",
     "shell.execute_reply": "2024-02-18T17:05:55.831069Z",
     "shell.execute_reply.started": "2024-02-18T17:05:55.807784Z"
    },
    "tags": []
   },
   "outputs": [],
   "source": [
    "#OBTAIN TIMES CONDITIONS WERE TREATED DURING UNIQUE ADMISSIONS\n",
    "df.CONDITION.value_counts().to_csv('Cond_Total.csv')"
   ]
  },
  {
   "cell_type": "code",
   "execution_count": null,
   "id": "f1834ebd-52d5-4af6-96e2-bdeb014831ca",
   "metadata": {
    "execution": {
     "iopub.execute_input": "2024-02-18T17:05:56.212723Z",
     "iopub.status.busy": "2024-02-18T17:05:56.212238Z",
     "iopub.status.idle": "2024-02-18T17:05:56.224684Z",
     "shell.execute_reply": "2024-02-18T17:05:56.223186Z",
     "shell.execute_reply.started": "2024-02-18T17:05:56.212679Z"
    },
    "tags": []
   },
   "outputs": [],
   "source": [
    "# NUMBE ROF OF UNIQUE PATIENTS\n",
    "df.ALF_PE.nunique()"
   ]
  },
  {
   "cell_type": "markdown",
   "id": "bd697411-c83b-4c6a-9843-7db6eb53aaf5",
   "metadata": {},
   "source": [
    "MORTALITY DISTRIBUTION"
   ]
  },
  {
   "cell_type": "code",
   "execution_count": null,
   "id": "cb67a1c8-d78c-49a4-b30c-c876022b8344",
   "metadata": {
    "execution": {
     "iopub.execute_input": "2024-02-18T17:05:56.770780Z",
     "iopub.status.busy": "2024-02-18T17:05:56.769536Z",
     "iopub.status.idle": "2024-02-18T17:05:56.795415Z",
     "shell.execute_reply": "2024-02-18T17:05:56.794246Z",
     "shell.execute_reply.started": "2024-02-18T17:05:56.770731Z"
    },
    "tags": []
   },
   "outputs": [],
   "source": [
    "df.query('HOSP_MORTALITY==1').drop_duplicates(subset=['ALF_PE'], ignore_index=True,  keep='last').shape[0]"
   ]
  },
  {
   "cell_type": "code",
   "execution_count": 22,
   "id": "2477d938-b4b6-489c-ab21-4dcb84f749d5",
   "metadata": {
    "execution": {
     "iopub.execute_input": "2024-02-18T17:05:57.042745Z",
     "iopub.status.busy": "2024-02-18T17:05:57.042263Z",
     "iopub.status.idle": "2024-02-18T17:05:57.068211Z",
     "shell.execute_reply": "2024-02-18T17:05:57.066707Z",
     "shell.execute_reply.started": "2024-02-18T17:05:57.042702Z"
    },
    "tags": []
   },
   "outputs": [],
   "source": [
    "MALE_IHM=df.query(\"HOSP_MORTALITY==1 and GNDR_DESC=='MALE'\").drop_duplicates(subset=['ALF_PE'], ignore_index=True,  keep='last')"
   ]
  },
  {
   "cell_type": "code",
   "execution_count": 23,
   "id": "b2f30a64-71c3-4ec3-ac46-ec70556618d4",
   "metadata": {
    "execution": {
     "iopub.execute_input": "2024-02-18T17:05:57.283342Z",
     "iopub.status.busy": "2024-02-18T17:05:57.282818Z",
     "iopub.status.idle": "2024-02-18T17:05:57.307984Z",
     "shell.execute_reply": "2024-02-18T17:05:57.306631Z",
     "shell.execute_reply.started": "2024-02-18T17:05:57.283298Z"
    },
    "tags": []
   },
   "outputs": [],
   "source": [
    "FEMALE_IHM=df.query(\"HOSP_MORTALITY==1 and GNDR_DESC=='FEMALE'\").drop_duplicates(subset=['ALF_PE'], ignore_index=True,  keep='last')"
   ]
  },
  {
   "cell_type": "code",
   "execution_count": null,
   "id": "81c54c42-3513-4ce9-9f81-778663c4fe1e",
   "metadata": {
    "execution": {
     "iopub.execute_input": "2024-02-18T17:05:57.465335Z",
     "iopub.status.busy": "2024-02-18T17:05:57.464858Z",
     "iopub.status.idle": "2024-02-18T17:05:57.475980Z",
     "shell.execute_reply": "2024-02-18T17:05:57.474782Z",
     "shell.execute_reply.started": "2024-02-18T17:05:57.465291Z"
    },
    "tags": []
   },
   "outputs": [],
   "source": [
    "MALE_IHM['WIMD2019_QUINTILE_AT_INDEX_DATE'].value_counts()"
   ]
  },
  {
   "cell_type": "code",
   "execution_count": null,
   "id": "c0972d08-ff8c-4893-a0fd-2eee97425646",
   "metadata": {
    "execution": {
     "iopub.execute_input": "2024-02-18T17:05:58.555822Z",
     "iopub.status.busy": "2024-02-18T17:05:58.555266Z",
     "iopub.status.idle": "2024-02-18T17:05:58.566559Z",
     "shell.execute_reply": "2024-02-18T17:05:58.565036Z",
     "shell.execute_reply.started": "2024-02-18T17:05:58.555775Z"
    },
    "tags": []
   },
   "outputs": [],
   "source": [
    "FEMALE_IHM['WIMD2019_QUINTILE_AT_INDEX_DATE'].value_counts()"
   ]
  },
  {
   "cell_type": "markdown",
   "id": "53ec1b5b-ae26-4a05-ac1a-0bf63fd3ca2c",
   "metadata": {},
   "source": [
    "QUERY DATA TO ONLY INCLUDE INFORMATION OF FIRST 24 HOURS OF ADMISSION"
   ]
  },
  {
   "cell_type": "code",
   "execution_count": 26,
   "id": "a15b413a-2141-4bef-b535-b7f76d6cc372",
   "metadata": {
    "execution": {
     "iopub.execute_input": "2024-02-18T17:05:59.142260Z",
     "iopub.status.busy": "2024-02-18T17:05:59.141563Z",
     "iopub.status.idle": "2024-02-18T17:05:59.427530Z",
     "shell.execute_reply": "2024-02-18T17:05:59.426062Z",
     "shell.execute_reply.started": "2024-02-18T17:05:59.142215Z"
    },
    "tags": []
   },
   "outputs": [],
   "source": [
    "df=df.query('EPI_STR_DT<=DATE_AFTER_ADMIS').reset_index(drop=True) #OBTAIN ONLY DATA WITHIN 24 HOURS OF ADMISSION\n",
    "df=df.sort_values(by=['ALF_PE','DATE', 'DISCH_DT','EPI_STR_DT'], ignore_index=True)\n",
    "df=df.drop_duplicates(subset=['ALF_PE','DATE', 'DISCH_DT','CONDITION'], ignore_index=True)#DROP DUPLICATE CONDITIONS WITHIN AN ADMISSION\n",
    "\n",
    "# DEFINE COLUMN FOR TARGET VARIABLE\n",
    "df['LOSClass']=0\n",
    "df.loc[df['LOS']>=4, 'LOSClass']=1"
   ]
  },
  {
   "cell_type": "code",
   "execution_count": 29,
   "id": "e44d5358-9be8-4062-82f6-531a82229e14",
   "metadata": {
    "execution": {
     "iopub.execute_input": "2024-02-18T17:06:00.075467Z",
     "iopub.status.busy": "2024-02-18T17:06:00.075146Z",
     "iopub.status.idle": "2024-02-18T17:06:03.733954Z",
     "shell.execute_reply": "2024-02-18T17:06:03.731985Z",
     "shell.execute_reply.started": "2024-02-18T17:06:00.075446Z"
    },
    "tags": []
   },
   "outputs": [],
   "source": [
    "# MAKE UNIQUE GROUPINGS OF ALL CONDITIONS IN THE FIRST 24 HOURS OF EACH UNIQUE ADMISSION\n",
    "df.sort_values(by=['ALF_PE','DATE', 'DISCH_DT'], ignore_index=True)\n",
    "DF_CHECK=df\n",
    "DF_CHECK=DF_CHECK.sort_values(by=['ALF_PE','DATE', 'DISCH_DT'], ignore_index=True)\n",
    "DF_CHECK=DF_CHECK.drop_duplicates(subset=['ALF_PE','DATE', 'DISCH_DT'], ignore_index=True)\n",
    "s=df.groupby(['ALF_PE','DATE', 'DISCH_DT'],group_keys=False)['CONDITION'].unique().to_frame('COND').reset_index()\n",
    "\n",
    "DF_CHECK['COND']=s['COND']\n",
    "df=pd.merge(df,DF_CHECK[['ALF_PE','DATE','DISCH_DT','COND']])"
   ]
  },
  {
   "cell_type": "code",
   "execution_count": 31,
   "id": "e5e328ab-ef45-48db-950e-7d2b60a3beb5",
   "metadata": {
    "execution": {
     "iopub.execute_input": "2024-02-18T17:06:03.760275Z",
     "iopub.status.busy": "2024-02-18T17:06:03.760102Z",
     "iopub.status.idle": "2024-02-18T17:06:03.868148Z",
     "shell.execute_reply": "2024-02-18T17:06:03.866912Z",
     "shell.execute_reply.started": "2024-02-18T17:06:03.760260Z"
    },
    "tags": []
   },
   "outputs": [],
   "source": [
    "#OBTAIN TOTAL COMORBIDITY AS AT 24 HRS OF ADMISSION\n",
    "s= df.groupby(['ALF_PE','DATE', 'DISCH_DT'],group_keys=False)['COMORBIDITY_COUNT'].max().to_frame('TOTAL_COMORBIDITY').reset_index()\n",
    "\n",
    "df= pd.merge(df,s[['ALF_PE','DATE','DISCH_DT','TOTAL_COMORBIDITY']])"
   ]
  },
  {
   "cell_type": "code",
   "execution_count": 32,
   "id": "f861c17b-c9ac-4209-896d-986f77b59218",
   "metadata": {
    "execution": {
     "iopub.execute_input": "2024-02-18T17:06:03.869649Z",
     "iopub.status.busy": "2024-02-18T17:06:03.869357Z",
     "iopub.status.idle": "2024-02-18T17:06:03.924028Z",
     "shell.execute_reply": "2024-02-18T17:06:03.922559Z",
     "shell.execute_reply.started": "2024-02-18T17:06:03.869622Z"
    },
    "tags": []
   },
   "outputs": [],
   "source": [
    "df=df.drop_duplicates(subset=['ALF_PE','DATE', 'DISCH_DT'], ignore_index=True,  keep='last')"
   ]
  },
  {
   "cell_type": "code",
   "execution_count": null,
   "id": "74846690-e3d0-414e-914c-3db1ac7e3cf2",
   "metadata": {
    "execution": {
     "iopub.execute_input": "2024-02-18T17:06:04.150846Z",
     "iopub.status.busy": "2024-02-18T17:06:04.149843Z",
     "iopub.status.idle": "2024-02-18T17:06:04.261373Z",
     "shell.execute_reply": "2024-02-18T17:06:04.260324Z",
     "shell.execute_reply.started": "2024-02-18T17:06:04.150801Z"
    },
    "id": "gkfwniFQT8Fp",
    "tags": []
   },
   "outputs": [],
   "source": [
    "#sELECT THE REQUIRED  VARIABLES \n",
    "df = df[['ALF_PE','DISCH_DT',\n",
    "         'DATE',\n",
    "         'CONDITION',\n",
    "         'COND',\n",
    "         'GNDR_DESC',\n",
    "         'WIMD2019_QUINTILE_AT_INDEX_DATE',\n",
    "         'TOWNSEND2011_QUINTILE_AT_INDEX_DATE',\n",
    "         'ETHN_EC_ONS_DATE_LATEST_DESC',\n",
    "         'LOS',\n",
    "         'COM_SEQ', 'COMORBIDITY_COUNT', 'AUTISM',\n",
    "         'ALCOHOL_HISTORY',\n",
    "         'SMOKING_HISTORY',\n",
    "         'MEDICATIONS', 'PHYSICAL', \n",
    "         'BMI', 'AGEGRP_AT_ADMIS_DT',\n",
    "          'NUM_PRVEPISODES_1YR', 'NUM_PRVCOMORBID_1YR', 'NUM_PRVCOMORBID_3YR',\n",
    "         'NUM_PRVEPISODES_3YR','NUMEPISODES_24HRS',\n",
    "         'NUMCOMORBIDITIES_24HRS', 'NUM_PRVADMISSION_1YR_COND',\n",
    "         'NUM_PRVADMISSION_3YR_COND','NUM_PRVADMISSION_1YR','NUM_PRVADMISSION_3YR',\n",
    "         'NUM_PRVHOSPITAL_DAYS_1YR', 'NUM_PRVHOSPITAL_DAYS_3YR',\n",
    "         'LOSClass', 'LOSClass2','TOTAL_COMORBIDITY']]\n",
    "\n",
    "\n",
    "df.rename(columns={'ETHN_EC_ONS_DATE_LATEST_DESC': 'Ethnicity'}, inplace=True)\n",
    "\n",
    "#MERGE 'MIXED' AND 'OTHER' ETHNICITY GROUPS\n",
    "df['Ethnicity']=df['Ethnicity'].replace({\"Mixed\":\"Other\"})\n",
    "\n",
    "#RENAME AGEGROUP\n",
    "df['AGEGRP_AT_ADMIS_DT']=df['AGEGRP_AT_ADMIS_DT'].replace({\"<20\":\"0-20\"})\n",
    "\n",
    "\n",
    "\n",
    "# REPLACE MISSING CATEGORICAL VALUES WITH 'UNKNOWN' FOR ETHNICITY, GENDER AND WIMD \n",
    "df['Ethnicity'].fillna(\"Unknown\", inplace=True)\n",
    "df['WIMD2019_QUINTILE_AT_INDEX_DATE'].fillna(\"Unknown\", inplace=True)\n",
    "df['GNDR_DESC'].fillna(\"Unknown\", inplace=True)\n",
    "\n",
    "#FILTER ONLY FEMALE PATIENTS\n",
    "df_female=df.query('GNDR_DESC==\"FEMALE\"')\n",
    "\n",
    "\n",
    "df_female=df_female.drop(['DATE', 'DISCH_DT'], axis=1).reset_index(drop=True) \n",
    "df1=df1.drop(['DATE', 'DISCH_DT'], axis=1).reset_index(drop=True)"
   ]
  },
  {
   "cell_type": "code",
   "execution_count": null,
   "id": "80853178-ddef-4c12-9c75-d57209562ee0",
   "metadata": {
    "execution": {
     "iopub.execute_input": "2024-02-18T17:06:05.211027Z",
     "iopub.status.busy": "2024-02-18T17:06:05.209854Z",
     "iopub.status.idle": "2024-02-18T17:06:05.219341Z",
     "shell.execute_reply": "2024-02-18T17:06:05.217821Z",
     "shell.execute_reply.started": "2024-02-18T17:06:05.210976Z"
    },
    "tags": []
   },
   "outputs": [],
   "source": [
    "#NUMBER OF UNIQUE ADMISSIONS\n",
    "df_female.shape[0]"
   ]
  },
  {
   "cell_type": "code",
   "execution_count": null,
   "id": "0d4227b1-234c-4a23-a6cc-ace425f600dc",
   "metadata": {
    "execution": {
     "iopub.execute_input": "2024-02-18T17:06:06.370665Z",
     "iopub.status.busy": "2024-02-18T17:06:06.370159Z",
     "iopub.status.idle": "2024-02-18T17:06:06.381778Z",
     "shell.execute_reply": "2024-02-18T17:06:06.380547Z",
     "shell.execute_reply.started": "2024-02-18T17:06:06.370620Z"
    },
    "tags": []
   },
   "outputs": [],
   "source": [
    "#OBTAIN NORMALISED CONUTS OF LOSClass\n",
    "df_female.LOSClass.value_counts(normalize=True)"
   ]
  },
  {
   "cell_type": "code",
   "execution_count": null,
   "id": "6cd9c456-b2a3-4542-91a2-5b740b17973b",
   "metadata": {
    "execution": {
     "iopub.execute_input": "2024-02-18T17:06:07.887068Z",
     "iopub.status.busy": "2024-02-18T17:06:07.886529Z",
     "iopub.status.idle": "2024-02-18T17:06:07.900394Z",
     "shell.execute_reply": "2024-02-18T17:06:07.899477Z",
     "shell.execute_reply.started": "2024-02-18T17:06:07.887022Z"
    },
    "tags": []
   },
   "outputs": [],
   "source": [
    "#Ethbnicity value counts\n",
    "df_female.Ethnicity.value_counts()"
   ]
  },
  {
   "cell_type": "code",
   "execution_count": null,
   "id": "b08fd8e2-5acc-4c82-85a9-4c891895f452",
   "metadata": {
    "execution": {
     "iopub.execute_input": "2024-02-18T17:06:10.092830Z",
     "iopub.status.busy": "2024-02-18T17:06:10.092315Z",
     "iopub.status.idle": "2024-02-18T17:06:10.103811Z",
     "shell.execute_reply": "2024-02-18T17:06:10.102541Z",
     "shell.execute_reply.started": "2024-02-18T17:06:10.092784Z"
    },
    "tags": []
   },
   "outputs": [],
   "source": [
    "# number of unique conditions throughout all admissions \n",
    "df_female.CONDITION.nunique()"
   ]
  },
  {
   "cell_type": "code",
   "execution_count": 42,
   "id": "41c0ce0e-390b-4ad1-a8ba-012e0b9c9b47",
   "metadata": {
    "execution": {
     "iopub.execute_input": "2024-02-18T17:06:13.946192Z",
     "iopub.status.busy": "2024-02-18T17:06:13.945332Z",
     "iopub.status.idle": "2024-02-18T17:06:13.952524Z",
     "shell.execute_reply": "2024-02-18T17:06:13.951024Z",
     "shell.execute_reply.started": "2024-02-18T17:06:13.946141Z"
    },
    "tags": []
   },
   "outputs": [],
   "source": [
    "# df_female.to_csv('df_ML_female.csv')"
   ]
  },
  {
   "cell_type": "code",
   "execution_count": null,
   "id": "f47825ad-befc-4de4-88a0-58442f1fce6a",
   "metadata": {
    "execution": {
     "iopub.execute_input": "2024-02-18T17:06:14.283315Z",
     "iopub.status.busy": "2024-02-18T17:06:14.282818Z",
     "iopub.status.idle": "2024-02-18T17:06:14.335118Z",
     "shell.execute_reply": "2024-02-18T17:06:14.334028Z",
     "shell.execute_reply.started": "2024-02-18T17:06:14.283271Z"
    },
    "tags": []
   },
   "outputs": [],
   "source": [
    "# CATEGORTICAL VARIABLES\n",
    "categorical_values = {}\n",
    "for col in df_female:\n",
    "  if col not in {'ALF_PE','COMORBIDITY_COUNT', 'LOS', 'NUM_PRVADMISSION_1YR', 'NUM_PRVADMISSION_1YR_COND', 'CONDITION',\n",
    "       'NUM_PRVADMISSION_3YR', 'NUM_PRVADMISSION_3YR_COND','AGE_AT_ADMIS_DT',\n",
    "       'NUM_PRVHOSPITAL_DAYS_1YR', 'NUM_PRVHOSPITAL_DAYS_3YR','COM_SEQ',\n",
    "       'TOTAL_UNIQ_HOSPITALIZATIONS_AT_ENDDATE', 'NUM_PRVEPISODES_1YR', 'NUM_PRVCOMORBID_1YR',\n",
    "       'NUM_PRVCOMORBID_3YR','NUMEPISODES_24HRS', 'NUMCOMORBIDITIES_24HRS','NUM_PRVEPISODES_3YR','NUM_ADMISSION_COMORBIDITIES','TOTAL_COMORBIDITY'}:\n",
    "    categorical_values[col] = pd.Series(df_female[col].value_counts().index.values)\n",
    "categorical_values_df = pd.DataFrame(categorical_values)\n",
    "categorical_values_df.T"
   ]
  },
  {
   "cell_type": "markdown",
   "id": "486a9c13-0540-460e-94a3-ccff11b7cee7",
   "metadata": {
    "id": "8loEiuFSWb8A"
   },
   "source": [
    "We mark all categorical features: "
   ]
  },
  {
   "cell_type": "code",
   "execution_count": 44,
   "id": "56f88cd7-037b-4b9b-83aa-66a88f5db26b",
   "metadata": {
    "execution": {
     "iopub.execute_input": "2024-02-18T17:06:14.687520Z",
     "iopub.status.busy": "2024-02-18T17:06:14.686968Z",
     "iopub.status.idle": "2024-02-18T17:06:14.694714Z",
     "shell.execute_reply": "2024-02-18T17:06:14.693407Z",
     "shell.execute_reply.started": "2024-02-18T17:06:14.687471Z"
    },
    "id": "P4y1FRMdWduE",
    "tags": []
   },
   "outputs": [],
   "source": [
    "categorical_features = [\n",
    "        'CONDITION',\n",
    "         'GNDR_DESC',\n",
    "         'WIMD2019_QUINTILE_AT_INDEX_DATE',\n",
    "         'TOWNSEND2011_QUINTILE_AT_INDEX_DATE',\n",
    "         'Ethnicity',\n",
    "         'AUTISM',\n",
    "         'ALCOHOL_HISTORY',\n",
    "         'SMOKING_HISTORY',\n",
    "         'MEDICATIONS', \n",
    "         'PHYSICAL',\n",
    "         'BMI', \n",
    "         'AGEGRP_AT_ADMIS_DT',\n",
    "         'LOSClass',\n",
    "         'LOSClass2'\n",
    "]"
   ]
  },
  {
   "cell_type": "code",
   "execution_count": 45,
   "id": "512b2224-9756-4057-8b60-2ca70aacbedc",
   "metadata": {
    "execution": {
     "iopub.execute_input": "2024-02-18T17:06:14.968734Z",
     "iopub.status.busy": "2024-02-18T17:06:14.968239Z",
     "iopub.status.idle": "2024-02-18T17:06:15.012665Z",
     "shell.execute_reply": "2024-02-18T17:06:15.011503Z",
     "shell.execute_reply.started": "2024-02-18T17:06:14.968691Z"
    },
    "id": "Qyo3GQ4RWduG",
    "tags": []
   },
   "outputs": [],
   "source": [
    "# set category type categorical variables\n",
    "for col_name in categorical_features:\n",
    "    df_female[col_name] = df_female[col_name].astype(\"category\")"
   ]
  },
  {
   "cell_type": "code",
   "execution_count": 51,
   "id": "7e4a0d17-dd44-4f6e-990b-0702492d9ab9",
   "metadata": {
    "execution": {
     "iopub.execute_input": "2024-02-19T13:51:13.636731Z",
     "iopub.status.busy": "2024-02-19T13:51:13.636010Z",
     "iopub.status.idle": "2024-02-19T13:51:13.693560Z",
     "shell.execute_reply": "2024-02-19T13:51:13.692186Z",
     "shell.execute_reply.started": "2024-02-19T13:51:13.636679Z"
    },
    "tags": []
   },
   "outputs": [],
   "source": [
    "# OBTAIN THE DISTRIBUTION OF LOSClass ACROSS SOME CATEGORICAL VARIABLES\n",
    "cat_list=[\n",
    "       'WIMD2019_QUINTILE_AT_INDEX_DATE',\n",
    "       'AUTISM', 'ALCOHOL_HISTORY', 'SMOKING_HISTORY',\n",
    "       'MEDICATIONS', 'PHYSICAL', 'BMI', 'AGEGRP_AT_ADMIS_DT'\n",
    "       ]\n",
    "\n",
    "a=df1.groupby('Ethnicity')['LOSClass'].agg(['count','mean']).reset_index()\n",
    "\n",
    "for ii in range(len(cat_list)):\n",
    "    b=df1.groupby(cat_list[ii])['LOSClass'].agg(['count','mean']).reset_index()\n",
    "    a=pd.concat([a,b], axis=0)\n",
    "    \n",
    "a.to_csv('Group_StatFemale.csv')"
   ]
  },
  {
   "cell_type": "code",
   "execution_count": null,
   "id": "6fc8dfb8-8999-4698-88ad-54919f948b35",
   "metadata": {
    "execution": {
     "iopub.execute_input": "2024-02-18T17:06:16.329317Z",
     "iopub.status.busy": "2024-02-18T17:06:16.328825Z",
     "iopub.status.idle": "2024-02-18T17:06:16.353437Z",
     "shell.execute_reply": "2024-02-18T17:06:16.352633Z",
     "shell.execute_reply.started": "2024-02-18T17:06:16.329272Z"
    },
    "tags": []
   },
   "outputs": [],
   "source": [
    "df1.query(\"LOSClass==1\").Ethnicity.value_counts()"
   ]
  },
  {
   "cell_type": "markdown",
   "id": "34731c4a-f1e3-4464-a408-8cab3f5efdee",
   "metadata": {
    "id": "ft28kXKHm4q9"
   },
   "source": [
    "**Ethnicity statistics**"
   ]
  },
  {
   "cell_type": "code",
   "execution_count": 61,
   "id": "536e6862-3f05-446d-b270-85514d65cda3",
   "metadata": {
    "execution": {
     "iopub.execute_input": "2024-02-06T11:35:14.694182Z",
     "iopub.status.busy": "2024-02-06T11:35:14.693420Z",
     "iopub.status.idle": "2024-02-06T11:35:14.707729Z",
     "shell.execute_reply": "2024-02-06T11:35:14.706732Z",
     "shell.execute_reply.started": "2024-02-06T11:35:14.694134Z"
    },
    "tags": []
   },
   "outputs": [],
   "source": [
    "# Ethnicity based on number of admissions\n",
    "df1['Ethnicity'].value_counts().to_csv(\"ethnicity_row_based_fem.csv\")"
   ]
  },
  {
   "cell_type": "code",
   "execution_count": 62,
   "id": "ce7a2e29-d0d7-4b02-9ef5-280cae962c17",
   "metadata": {
    "execution": {
     "iopub.execute_input": "2024-02-06T11:35:17.680606Z",
     "iopub.status.busy": "2024-02-06T11:35:17.680069Z",
     "iopub.status.idle": "2024-02-06T11:35:17.698091Z",
     "shell.execute_reply": "2024-02-06T11:35:17.696776Z",
     "shell.execute_reply.started": "2024-02-06T11:35:17.680561Z"
    },
    "tags": []
   },
   "outputs": [],
   "source": [
    "# Ethnicity based on number of users\n",
    "df1[['ALF_PE', 'Ethnicity']].drop_duplicates()['Ethnicity'].value_counts().to_csv(\"ethnicity_patient_based_fem.csv\")"
   ]
  },
  {
   "cell_type": "code",
   "execution_count": null,
   "id": "8ec0f273-0b99-471a-b485-025dba0d2fcd",
   "metadata": {
    "execution": {
     "iopub.execute_input": "2024-02-06T11:35:21.046222Z",
     "iopub.status.busy": "2024-02-06T11:35:21.044975Z",
     "iopub.status.idle": "2024-02-06T11:35:21.658412Z",
     "shell.execute_reply": "2024-02-06T11:35:21.657764Z",
     "shell.execute_reply.started": "2024-02-06T11:35:21.046168Z"
    },
    "id": "HznSDLWEm4q-",
    "tags": []
   },
   "outputs": [],
   "source": [
    "# Plot Ethnicity based on rows with log scale\n",
    "fig = plt.figure()\n",
    "sns.countplot(x='Ethnicity', data=df1)\n",
    "plt.xlabel(\"Ethnicity\")\n",
    "plt.ylabel(\"Count (log scale)\")\n",
    "plt.yscale('log')\n",
    "plt.show\n",
    "fig.savefig(\"ethnicity_row_based_log_fem.png\", dpi=300, bbox_inches= \"tight\")"
   ]
  },
  {
   "cell_type": "code",
   "execution_count": null,
   "id": "c6f6b1f7-e843-4dd9-b5ce-50e644801001",
   "metadata": {
    "execution": {
     "iopub.execute_input": "2024-02-06T11:35:21.683666Z",
     "iopub.status.busy": "2024-02-06T11:35:21.683438Z",
     "iopub.status.idle": "2024-02-06T11:35:22.008160Z",
     "shell.execute_reply": "2024-02-06T11:35:22.007527Z",
     "shell.execute_reply.started": "2024-02-06T11:35:21.683644Z"
    },
    "tags": []
   },
   "outputs": [],
   "source": [
    "# Plot Ethnicity without log scale across admissions\n",
    "fig = plt.figure()\n",
    "sns.countplot(x='Ethnicity', data=df1)\n",
    "plt.xlabel(\"Ethnicity\")\n",
    "plt.ylabel(\"Count\")\n",
    "plt.show\n",
    "fig.savefig(\"ethnicity_row_based_fem.png\", dpi=300, bbox_inches= \"tight\")"
   ]
  },
  {
   "cell_type": "code",
   "execution_count": null,
   "id": "8cc319de-7e87-4946-a296-43573ad3cb9e",
   "metadata": {
    "execution": {
     "iopub.execute_input": "2024-02-06T11:35:22.373380Z",
     "iopub.status.busy": "2024-02-06T11:35:22.372767Z",
     "iopub.status.idle": "2024-02-06T11:35:22.816490Z",
     "shell.execute_reply": "2024-02-06T11:35:22.815849Z",
     "shell.execute_reply.started": "2024-02-06T11:35:22.373319Z"
    },
    "tags": []
   },
   "outputs": [],
   "source": [
    "# with log scale unique Patient ethnicity count plot \n",
    "df_ethn_user = df1[['ALF_PE', 'Ethnicity']].drop_duplicates()\n",
    "fig = plt.figure()\n",
    "sns.countplot(x='Ethnicity', data=df_ethn_user)\n",
    "plt.xlabel(\"Ethnicity\")\n",
    "plt.ylabel(\"Count (log scale)\")\n",
    "plt.yscale('log')\n",
    "plt.show\n",
    "fig.savefig(\"ethnicity_user_based_log_fem.png\", dpi=300, bbox_inches= \"tight\")"
   ]
  },
  {
   "cell_type": "code",
   "execution_count": null,
   "id": "dbc77397-08d0-458a-9ce5-b07ef8eb4414",
   "metadata": {
    "execution": {
     "iopub.execute_input": "2024-02-06T11:35:23.655410Z",
     "iopub.status.busy": "2024-02-06T11:35:23.654846Z",
     "iopub.status.idle": "2024-02-06T11:35:24.005104Z",
     "shell.execute_reply": "2024-02-06T11:35:24.004493Z",
     "shell.execute_reply.started": "2024-02-06T11:35:23.655362Z"
    },
    "tags": []
   },
   "outputs": [],
   "source": [
    "# without log scale unique Patient ethnicity count plot\n",
    "fig = plt.figure()\n",
    "sns.countplot(x='Ethnicity', data=df_ethn_user)\n",
    "plt.xlabel(\"Ethnicity\")\n",
    "plt.ylabel(\"Count\")\n",
    "plt.show\n",
    "fig.savefig(\"ethnicity_user_based_fem.png\", dpi=300, bbox_inches= \"tight\")"
   ]
  },
  {
   "cell_type": "code",
   "execution_count": 68,
   "id": "586e77fe-cfbd-4748-bcb7-dec6ae1d4c57",
   "metadata": {
    "execution": {
     "iopub.execute_input": "2024-02-06T11:35:30.077683Z",
     "iopub.status.busy": "2024-02-06T11:35:30.077124Z",
     "iopub.status.idle": "2024-02-06T11:35:30.091472Z",
     "shell.execute_reply": "2024-02-06T11:35:30.090526Z",
     "shell.execute_reply.started": "2024-02-06T11:35:30.077637Z"
    },
    "tags": []
   },
   "outputs": [],
   "source": [
    "# per admissions\n",
    "df1['Ethnicity'].value_counts(normalize=True).to_csv(\"ethn_normal_per_row_fem.csv\")"
   ]
  },
  {
   "cell_type": "code",
   "execution_count": 69,
   "id": "115c07dc-2566-4c58-9983-63dbcdc41605",
   "metadata": {
    "execution": {
     "iopub.execute_input": "2024-02-06T11:35:44.016587Z",
     "iopub.status.busy": "2024-02-06T11:35:44.016024Z",
     "iopub.status.idle": "2024-02-06T11:35:44.032663Z",
     "shell.execute_reply": "2024-02-06T11:35:44.031866Z",
     "shell.execute_reply.started": "2024-02-06T11:35:44.016540Z"
    },
    "tags": []
   },
   "outputs": [],
   "source": [
    "# per patient\n",
    "df1[['ALF_PE', 'Ethnicity']].drop_duplicates()['Ethnicity'].value_counts(normalize=True).to_csv(\"ethn_normal_per_user_fem.csv\")"
   ]
  },
  {
   "cell_type": "code",
   "execution_count": 70,
   "id": "f4b54423-e781-4580-a17f-1f8ce2aaea9f",
   "metadata": {
    "execution": {
     "iopub.execute_input": "2024-02-06T11:35:45.814095Z",
     "iopub.status.busy": "2024-02-06T11:35:45.813496Z",
     "iopub.status.idle": "2024-02-06T11:35:45.830910Z",
     "shell.execute_reply": "2024-02-06T11:35:45.830004Z",
     "shell.execute_reply.started": "2024-02-06T11:35:45.814047Z"
    },
    "tags": []
   },
   "outputs": [],
   "source": [
    "df1.groupby('Ethnicity')['LOSClass'].agg(['count','mean']).reset_index().to_csv('row_ethn_LOS_fem.csv')"
   ]
  },
  {
   "cell_type": "markdown",
   "id": "d49f6e06-be50-4bf0-9836-42617f797dcc",
   "metadata": {
    "id": "ft28kXKHm4q9"
   },
   "source": [
    "**WIMD statistics**"
   ]
  },
  {
   "cell_type": "code",
   "execution_count": 72,
   "id": "aff4f3dc-c1ca-420e-854c-5dcac8f5fa35",
   "metadata": {
    "execution": {
     "iopub.execute_input": "2024-02-06T11:35:56.387554Z",
     "iopub.status.busy": "2024-02-06T11:35:56.386714Z",
     "iopub.status.idle": "2024-02-06T11:35:56.400180Z",
     "shell.execute_reply": "2024-02-06T11:35:56.399398Z",
     "shell.execute_reply.started": "2024-02-06T11:35:56.387477Z"
    },
    "tags": []
   },
   "outputs": [],
   "source": [
    "# Ethnicity based on number of rows\n",
    "df1['WIMD2019_QUINTILE_AT_INDEX_DATE'].value_counts().to_csv(\"wimd_row_based_fem.csv\")"
   ]
  },
  {
   "cell_type": "code",
   "execution_count": null,
   "id": "8c4115c4-5830-463e-87cd-0ed6e4ae6db6",
   "metadata": {
    "execution": {
     "iopub.execute_input": "2024-02-06T11:35:57.498834Z",
     "iopub.status.busy": "2024-02-06T11:35:57.498105Z",
     "iopub.status.idle": "2024-02-06T11:35:57.513277Z",
     "shell.execute_reply": "2024-02-06T11:35:57.512322Z",
     "shell.execute_reply.started": "2024-02-06T11:35:57.498786Z"
    },
    "tags": []
   },
   "outputs": [],
   "source": [
    "df1['WIMD2019_QUINTILE_AT_INDEX_DATE'].value_counts()"
   ]
  },
  {
   "cell_type": "code",
   "execution_count": 74,
   "id": "dcf06ea3-d7df-4b53-bf4d-6bc33a0a30b3",
   "metadata": {
    "execution": {
     "iopub.execute_input": "2024-02-06T11:35:58.487748Z",
     "iopub.status.busy": "2024-02-06T11:35:58.487031Z",
     "iopub.status.idle": "2024-02-06T11:35:58.514569Z",
     "shell.execute_reply": "2024-02-06T11:35:58.512158Z",
     "shell.execute_reply.started": "2024-02-06T11:35:58.487699Z"
    },
    "tags": []
   },
   "outputs": [],
   "source": [
    "# WIMD based on number of users\n",
    "df1[['ALF_PE', 'WIMD2019_QUINTILE_AT_INDEX_DATE']].drop_duplicates()['WIMD2019_QUINTILE_AT_INDEX_DATE'].value_counts().to_csv(\"wimd_user_based_fem.csv\")"
   ]
  },
  {
   "cell_type": "code",
   "execution_count": null,
   "id": "6b3c2bb8-4cf8-4eea-a203-2f0b2bfd897c",
   "metadata": {
    "execution": {
     "iopub.execute_input": "2024-02-06T11:36:00.179686Z",
     "iopub.status.busy": "2024-02-06T11:36:00.178946Z",
     "iopub.status.idle": "2024-02-06T11:36:00.551850Z",
     "shell.execute_reply": "2024-02-06T11:36:00.550990Z",
     "shell.execute_reply.started": "2024-02-06T11:36:00.179636Z"
    },
    "id": "HznSDLWEm4q-",
    "tags": []
   },
   "outputs": [],
   "source": [
    "# WIMD based on rows with normal scale\n",
    "fig = plt.figure()\n",
    "sns.countplot(x='WIMD2019_QUINTILE_AT_INDEX_DATE', data=df1)\n",
    "plt.xlabel(\"WIMD 2019 - Quintile\")\n",
    "plt.ylabel(\"Count\")\n",
    "plt.show\n",
    "fig.savefig(\"wimd_row_based_fem.png\", dpi=300, bbox_inches= \"tight\")"
   ]
  },
  {
   "cell_type": "code",
   "execution_count": null,
   "id": "ca1131ab-59b0-48ab-ac43-e7938b4d085f",
   "metadata": {
    "execution": {
     "iopub.execute_input": "2024-02-06T11:36:14.838414Z",
     "iopub.status.busy": "2024-02-06T11:36:14.837665Z",
     "iopub.status.idle": "2024-02-06T11:36:15.221907Z",
     "shell.execute_reply": "2024-02-06T11:36:15.220889Z",
     "shell.execute_reply.started": "2024-02-06T11:36:14.838365Z"
    },
    "tags": []
   },
   "outputs": [],
   "source": [
    "# WIMD without log scale per user\n",
    "df_wimd_user = df1[['ALF_PE', 'WIMD2019_QUINTILE_AT_INDEX_DATE']].drop_duplicates()\n",
    "fig = plt.figure()\n",
    "sns.countplot(x='WIMD2019_QUINTILE_AT_INDEX_DATE', data=df_wimd_user)\n",
    "plt.xlabel(\"WIMD 2019 - Quintile\")\n",
    "plt.ylabel(\"Count\")\n",
    "plt.show\n",
    "fig.savefig(\"wimd_user_based_fem.png\", dpi=300, bbox_inches= \"tight\")\n"
   ]
  },
  {
   "cell_type": "code",
   "execution_count": 77,
   "id": "f1f15e25-28ba-46a3-801b-a675c7b14386",
   "metadata": {
    "execution": {
     "iopub.execute_input": "2024-02-06T11:36:16.914269Z",
     "iopub.status.busy": "2024-02-06T11:36:16.913495Z",
     "iopub.status.idle": "2024-02-06T11:36:16.930598Z",
     "shell.execute_reply": "2024-02-06T11:36:16.929673Z",
     "shell.execute_reply.started": "2024-02-06T11:36:16.914221Z"
    },
    "tags": []
   },
   "outputs": [],
   "source": [
    "# WIMD per row\n",
    "df1['WIMD2019_QUINTILE_AT_INDEX_DATE'].value_counts(normalize=True).to_csv(\"wimd_normal_per_row_fem.csv\")"
   ]
  },
  {
   "cell_type": "code",
   "execution_count": 78,
   "id": "1695114a-d5be-4268-bcc7-3b39d25590d8",
   "metadata": {
    "execution": {
     "iopub.execute_input": "2024-02-06T11:36:17.517443Z",
     "iopub.status.busy": "2024-02-06T11:36:17.516728Z",
     "iopub.status.idle": "2024-02-06T11:36:17.536977Z",
     "shell.execute_reply": "2024-02-06T11:36:17.535775Z",
     "shell.execute_reply.started": "2024-02-06T11:36:17.517396Z"
    },
    "tags": []
   },
   "outputs": [],
   "source": [
    "# WIMD per user\n",
    "df1[['ALF_PE', 'WIMD2019_QUINTILE_AT_INDEX_DATE']].drop_duplicates()['WIMD2019_QUINTILE_AT_INDEX_DATE'].value_counts(normalize=True).to_csv(\"wimd_normal_per_user_fem.csv\")"
   ]
  },
  {
   "cell_type": "code",
   "execution_count": 79,
   "id": "02dd1779-884b-44c1-b93e-0bc0ed2cf605",
   "metadata": {
    "execution": {
     "iopub.execute_input": "2024-02-06T11:36:17.801144Z",
     "iopub.status.busy": "2024-02-06T11:36:17.800479Z",
     "iopub.status.idle": "2024-02-06T11:36:17.817511Z",
     "shell.execute_reply": "2024-02-06T11:36:17.816578Z",
     "shell.execute_reply.started": "2024-02-06T11:36:17.801099Z"
    },
    "tags": []
   },
   "outputs": [],
   "source": [
    "df1.groupby('WIMD2019_QUINTILE_AT_INDEX_DATE')['LOSClass'].agg(['mean']).reset_index().to_csv('row_wimd_LOS_fem.csv')"
   ]
  },
  {
   "cell_type": "markdown",
   "id": "9c63e64a-9e50-452e-aa69-df6e73b736df",
   "metadata": {
    "id": "ft28kXKHm4q9"
   },
   "source": [
    "**Age**"
   ]
  },
  {
   "cell_type": "code",
   "execution_count": 80,
   "id": "9b64ffb9-91fc-471b-924d-4798444fcd53",
   "metadata": {
    "execution": {
     "iopub.execute_input": "2024-02-06T11:36:18.671931Z",
     "iopub.status.busy": "2024-02-06T11:36:18.671210Z",
     "iopub.status.idle": "2024-02-06T11:36:18.686168Z",
     "shell.execute_reply": "2024-02-06T11:36:18.685010Z",
     "shell.execute_reply.started": "2024-02-06T11:36:18.671883Z"
    },
    "tags": []
   },
   "outputs": [],
   "source": [
    "# df_age = df1[['ALF_PE', 'AGEGRP_AT_ADMIS_DT']].drop_duplicates(keep='last')\n",
    "df_age = df1.drop_duplicates(subset=['ALF_PE'],keep='last')"
   ]
  },
  {
   "cell_type": "code",
   "execution_count": null,
   "id": "8cf0c7f2-5aa4-4250-a2b6-0069f605a7e9",
   "metadata": {
    "execution": {
     "iopub.execute_input": "2024-02-06T11:36:21.062046Z",
     "iopub.status.busy": "2024-02-06T11:36:21.061146Z",
     "iopub.status.idle": "2024-02-06T11:36:21.070153Z",
     "shell.execute_reply": "2024-02-06T11:36:21.068825Z",
     "shell.execute_reply.started": "2024-02-06T11:36:21.061980Z"
    },
    "tags": []
   },
   "outputs": [],
   "source": [
    "df_age.shape"
   ]
  },
  {
   "cell_type": "code",
   "execution_count": 85,
   "id": "5c2efd42-0cc6-447f-9ba6-1a7569761731",
   "metadata": {
    "execution": {
     "iopub.execute_input": "2024-02-06T11:36:37.085516Z",
     "iopub.status.busy": "2024-02-06T11:36:37.084765Z",
     "iopub.status.idle": "2024-02-06T11:36:37.096256Z",
     "shell.execute_reply": "2024-02-06T11:36:37.095052Z",
     "shell.execute_reply.started": "2024-02-06T11:36:37.085468Z"
    },
    "tags": []
   },
   "outputs": [],
   "source": [
    "df_age[\"AGEGRP_AT_ADMIS_DT\"].value_counts().to_csv(\"user_age_fem.csv\")"
   ]
  },
  {
   "cell_type": "code",
   "execution_count": 86,
   "id": "7710b639-7b42-4a04-b1cc-44976ab92bbc",
   "metadata": {
    "execution": {
     "iopub.execute_input": "2024-02-06T11:36:37.639160Z",
     "iopub.status.busy": "2024-02-06T11:36:37.638480Z",
     "iopub.status.idle": "2024-02-06T11:36:37.649469Z",
     "shell.execute_reply": "2024-02-06T11:36:37.648054Z",
     "shell.execute_reply.started": "2024-02-06T11:36:37.639113Z"
    },
    "tags": []
   },
   "outputs": [],
   "source": [
    "df_age[\"AGEGRP_AT_ADMIS_DT\"].value_counts(normalize=True).to_csv(\"user_age_norm_fem.csv\")"
   ]
  },
  {
   "cell_type": "code",
   "execution_count": 87,
   "id": "2faa71c0-bb32-4c8a-95ef-513880fe630f",
   "metadata": {
    "execution": {
     "iopub.execute_input": "2024-02-06T11:36:38.176697Z",
     "iopub.status.busy": "2024-02-06T11:36:38.175993Z",
     "iopub.status.idle": "2024-02-06T11:36:38.188769Z",
     "shell.execute_reply": "2024-02-06T11:36:38.187607Z",
     "shell.execute_reply.started": "2024-02-06T11:36:38.176650Z"
    },
    "tags": []
   },
   "outputs": [],
   "source": [
    "df1[\"AGEGRP_AT_ADMIS_DT\"].value_counts().to_csv(\"row_age_fem.csv\")"
   ]
  },
  {
   "cell_type": "code",
   "execution_count": 88,
   "id": "6f431e2a-609d-4fea-bfff-2c57fb2d0e52",
   "metadata": {
    "execution": {
     "iopub.execute_input": "2024-02-06T11:36:38.585296Z",
     "iopub.status.busy": "2024-02-06T11:36:38.584627Z",
     "iopub.status.idle": "2024-02-06T11:36:38.597918Z",
     "shell.execute_reply": "2024-02-06T11:36:38.597029Z",
     "shell.execute_reply.started": "2024-02-06T11:36:38.585250Z"
    },
    "tags": []
   },
   "outputs": [],
   "source": [
    "df1[\"AGEGRP_AT_ADMIS_DT\"].value_counts(normalize=True).to_csv(\"row_age_norm_fem.csv\")"
   ]
  },
  {
   "cell_type": "code",
   "execution_count": null,
   "id": "fee8645c-71b4-4276-8de7-fb7fce20ff69",
   "metadata": {
    "execution": {
     "iopub.execute_input": "2024-02-06T11:36:39.161289Z",
     "iopub.status.busy": "2024-02-06T11:36:39.161055Z",
     "iopub.status.idle": "2024-02-06T11:36:39.855489Z",
     "shell.execute_reply": "2024-02-06T11:36:39.854577Z",
     "shell.execute_reply.started": "2024-02-06T11:36:39.161269Z"
    },
    "tags": []
   },
   "outputs": [],
   "source": [
    "fig = plt.figure(figsize=(20,7))\n",
    "category_order = sorted(df['AGEGRP_AT_ADMIS_DT'].unique())\n",
    "sns.countplot(x='AGEGRP_AT_ADMIS_DT', data=df_age, order = category_order)\n",
    "plt.xlabel(\"Age group\")\n",
    "plt.ylabel(\"Count\")\n",
    "plt.show()\n",
    "fig.savefig(\"user_age_fem.png\", dpi=300, bbox_inches = \"tight\")"
   ]
  },
  {
   "cell_type": "code",
   "execution_count": null,
   "id": "0af9cd55-658a-4a5e-8816-211edf7698d0",
   "metadata": {
    "execution": {
     "iopub.execute_input": "2024-02-06T11:36:41.183132Z",
     "iopub.status.busy": "2024-02-06T11:36:41.182219Z",
     "iopub.status.idle": "2024-02-06T11:36:41.839989Z",
     "shell.execute_reply": "2024-02-06T11:36:41.839010Z",
     "shell.execute_reply.started": "2024-02-06T11:36:41.183084Z"
    },
    "tags": []
   },
   "outputs": [],
   "source": [
    "fig = plt.figure(figsize=(20,7))\n",
    "category_order = sorted(df['AGEGRP_AT_ADMIS_DT'].unique())\n",
    "sns.countplot(x='AGEGRP_AT_ADMIS_DT', data=df1, order = category_order)\n",
    "plt.xlabel(\"Age group\")\n",
    "plt.ylabel(\"Count\")\n",
    "plt.show()\n",
    "fig.savefig(\"row_age_fem.png\", dpi=300, bbox_inches = \"tight\")"
   ]
  },
  {
   "cell_type": "code",
   "execution_count": 91,
   "id": "ae551d05-4616-404c-8b3a-78917132668f",
   "metadata": {
    "execution": {
     "iopub.execute_input": "2024-02-06T11:37:26.192946Z",
     "iopub.status.busy": "2024-02-06T11:37:26.192155Z",
     "iopub.status.idle": "2024-02-06T11:37:26.210734Z",
     "shell.execute_reply": "2024-02-06T11:37:26.209703Z",
     "shell.execute_reply.started": "2024-02-06T11:37:26.192896Z"
    },
    "tags": []
   },
   "outputs": [],
   "source": [
    "#obtain LOSClass distribution across each age group in unique admissions\n",
    "df1.groupby('AGEGRP_AT_ADMIS_DT')['LOSClass'].agg(['mean']).reset_index().to_csv('row_age_LOS_fem.csv')"
   ]
  },
  {
   "cell_type": "code",
   "execution_count": null,
   "id": "71f623a6-1138-4a75-8789-a0f6c4cf3409",
   "metadata": {
    "execution": {
     "iopub.execute_input": "2024-02-06T11:37:29.993907Z",
     "iopub.status.busy": "2024-02-06T11:37:29.992525Z",
     "iopub.status.idle": "2024-02-06T11:37:30.009309Z",
     "shell.execute_reply": "2024-02-06T11:37:30.008361Z",
     "shell.execute_reply.started": "2024-02-06T11:37:29.993849Z"
    },
    "tags": []
   },
   "outputs": [],
   "source": [
    "df1.LOSClass.describe()"
   ]
  },
  {
   "cell_type": "markdown",
   "id": "81aa72cc-0af4-4e66-bdc0-d91f6140f70a",
   "metadata": {},
   "source": [
    "LOS CLASSIFICATION\n",
    "CASES WITH LOS > THRESHOLD (4 DAYS) WILL BE CLASSIFIED AS 1; CASES WITH LOS <= THRESHOLD (4 DAYS) WILL BE CLASSIFIED AS 0"
   ]
  },
  {
   "cell_type": "code",
   "execution_count": null,
   "id": "5d438a6b-2b0e-436d-8110-c3c13675f2f3",
   "metadata": {
    "execution": {
     "iopub.execute_input": "2024-02-06T14:22:52.508190Z",
     "iopub.status.busy": "2024-02-06T14:22:52.507330Z",
     "iopub.status.idle": "2024-02-06T14:22:52.520769Z",
     "shell.execute_reply": "2024-02-06T14:22:52.519704Z",
     "shell.execute_reply.started": "2024-02-06T14:22:52.508125Z"
    },
    "tags": []
   },
   "outputs": [],
   "source": [
    "df_female[\"LOSClass\"].value_counts(normalize=True)"
   ]
  },
  {
   "cell_type": "code",
   "execution_count": 134,
   "id": "95f98e46-efdf-4142-8b01-b31f8c917ac5",
   "metadata": {
    "execution": {
     "iopub.execute_input": "2024-02-06T14:13:07.395631Z",
     "iopub.status.busy": "2024-02-06T14:13:07.394440Z",
     "iopub.status.idle": "2024-02-06T14:13:07.404295Z",
     "shell.execute_reply": "2024-02-06T14:13:07.403439Z",
     "shell.execute_reply.started": "2024-02-06T14:13:07.395577Z"
    },
    "tags": []
   },
   "outputs": [],
   "source": [
    "df_female[\"LOSClass\"].value_counts().to_csv(\"row_LOS_fem.csv\")"
   ]
  },
  {
   "cell_type": "code",
   "execution_count": 53,
   "id": "7127f949-b7fd-4015-94e5-87aae70f1c87",
   "metadata": {
    "execution": {
     "iopub.execute_input": "2023-07-05T12:25:13.699485Z",
     "iopub.status.busy": "2023-07-05T12:25:13.698957Z",
     "iopub.status.idle": "2023-07-05T12:25:13.707759Z",
     "shell.execute_reply": "2023-07-05T12:25:13.706727Z",
     "shell.execute_reply.started": "2023-07-05T12:25:13.699442Z"
    },
    "id": "UTbI5v48m4rA",
    "tags": []
   },
   "outputs": [
    {
     "data": {
      "text/plain": [
       "Index(['ALF_PE', 'CONDITION', 'GNDR_DESC', 'WIMD2019_QUINTILE_AT_INDEX_DATE',\n",
       "       'TOWNSEND2011_QUINTILE_AT_INDEX_DATE', 'Ethnicity', 'LOS', 'COM_SEQ',\n",
       "       'COMORBIDITY_COUNT', 'AUTISM', 'ALCOHOL_HISTORY', 'SMOKING_HISTORY',\n",
       "       'MEDICATIONS', 'PHYSICAL', 'BMI', 'AGEGRP_AT_ADMIS_DT',\n",
       "       'NUM_PRVADMISSION_1YR', 'NUM_PRVEPISODES_1YR', 'NUM_PRVCOMORBID_1YR',\n",
       "       'NUM_PRVCOMORBID_3YR', 'NUM_PRVEPISODES_3YR', 'NUMEPISODES_24HRS',\n",
       "       'NUMCOMORBIDITIES_24HRS', 'NUM_PRVADMISSION_1YR_COND',\n",
       "       'NUM_PRVADMISSION_3YR', 'NUM_PRVADMISSION_3YR_COND',\n",
       "       'NUM_PRVHOSPITAL_DAYS_1YR', 'NUM_PRVHOSPITAL_DAYS_3YR', 'LOSClass',\n",
       "       'LOSClass2'],\n",
       "      dtype='object')"
      ]
     },
     "execution_count": 53,
     "metadata": {},
     "output_type": "execute_result"
    }
   ],
   "source": [
    "df_female.columns"
   ]
  },
  {
   "cell_type": "markdown",
   "id": "853ab2c6",
   "metadata": {},
   "source": [
    "    POINT PLOTS TO SHOW THE RELATIONSHIP BETWEEN NUMERICAL VARIABLES AND THE LOS CLASSES"
   ]
  },
  {
   "cell_type": "code",
   "execution_count": null,
   "id": "62ab254a-8d86-4acb-9770-61739060de69",
   "metadata": {
    "execution": {
     "iopub.execute_input": "2024-02-08T14:36:30.012966Z",
     "iopub.status.busy": "2024-02-08T14:36:30.012438Z",
     "iopub.status.idle": "2024-02-08T14:36:30.476946Z",
     "shell.execute_reply": "2024-02-08T14:36:30.476186Z",
     "shell.execute_reply.started": "2024-02-08T14:36:30.012921Z"
    },
    "id": "3t11OgTgZfV8",
    "tags": []
   },
   "outputs": [],
   "source": [
    "fig = plt.figure()\n",
    "sns.pointplot(y=\"TOTAL_COMORBIDITY\", x=\"LOSClass\", data=df_female, ci=95, join=False);\n",
    "plt.xlabel(\"LOS$\\geq$4 DAYS\")\n",
    "plt.ylabel(\"TOTAL_COMORBIDITY\")\n",
    "plt.show\n",
    "fig.savefig(\"TOTAL_COMORBIDITYfemale.png\", dpi=300, bbox_inches= \"tight\")"
   ]
  },
  {
   "cell_type": "code",
   "execution_count": null,
   "id": "00fb0815-0fa8-4b00-a7e1-4148ef3235bb",
   "metadata": {
    "execution": {
     "iopub.execute_input": "2024-02-08T14:36:35.683909Z",
     "iopub.status.busy": "2024-02-08T14:36:35.683379Z",
     "iopub.status.idle": "2024-02-08T14:36:36.113185Z",
     "shell.execute_reply": "2024-02-08T14:36:36.112715Z",
     "shell.execute_reply.started": "2024-02-08T14:36:35.683864Z"
    },
    "id": "3t11OgTgZfV8",
    "tags": []
   },
   "outputs": [],
   "source": [
    "fig = plt.figure()\n",
    "sns.pointplot(y=\"NUM_PRVHOSPITAL_DAYS_3YR\", x=\"LOSClass\", data=df_female, ci=95, join=False);\n",
    "plt.xlabel(\"LOS$\\geq$4 DAYS\")\n",
    "plt.ylabel(\"NUM_PRVHOSPITAL_DAYS_3YR\")\n",
    "plt.show\n",
    "fig.savefig(\"NUM_PRVHOSPITAL_DAYS_3YRfemale.png\", dpi=300, bbox_inches= \"tight\")"
   ]
  },
  {
   "cell_type": "code",
   "execution_count": null,
   "id": "e28afaa1-1d14-4e35-9d9f-93c97189fd66",
   "metadata": {
    "execution": {
     "iopub.execute_input": "2024-02-08T14:36:38.320195Z",
     "iopub.status.busy": "2024-02-08T14:36:38.319665Z",
     "iopub.status.idle": "2024-02-08T14:36:38.762649Z",
     "shell.execute_reply": "2024-02-08T14:36:38.762080Z",
     "shell.execute_reply.started": "2024-02-08T14:36:38.320148Z"
    },
    "id": "3t11OgTgZfV8",
    "tags": []
   },
   "outputs": [],
   "source": [
    "fig = plt.figure()\n",
    "sns.pointplot(y=\"NUM_PRVHOSPITAL_DAYS_1YR\", x=\"LOSClass\", data=df_female, ci=95, join=False);\n",
    "plt.xlabel(\"LOS$\\geq$4 DAYS\")\n",
    "plt.ylabel(\"NUM_PRVHOSPITAL_DAYS_1YR\")\n",
    "plt.show\n",
    "fig.savefig(\"NUM_PRVHOSPITAL_DAYS_1YRfemale.png\", dpi=300, bbox_inches= \"tight\")"
   ]
  },
  {
   "cell_type": "code",
   "execution_count": null,
   "id": "0294782c-7c95-48c9-b6f5-bbe4ea4e8e4d",
   "metadata": {
    "execution": {
     "iopub.execute_input": "2024-02-08T14:36:40.500062Z",
     "iopub.status.busy": "2024-02-08T14:36:40.499529Z",
     "iopub.status.idle": "2024-02-08T14:36:40.957973Z",
     "shell.execute_reply": "2024-02-08T14:36:40.957143Z",
     "shell.execute_reply.started": "2024-02-08T14:36:40.500016Z"
    },
    "id": "3t11OgTgZfV8",
    "tags": []
   },
   "outputs": [],
   "source": [
    "fig = plt.figure()\n",
    "sns.pointplot(y=\"NUM_PRVCOMORBID_1YR\", x=\"LOSClass\", data=df_female, ci=95, join=False);\n",
    "plt.xlabel(\"LOS$\\geq$4 DAYS\")\n",
    "plt.ylabel(\"NUM_PRVCOMORBID_1YR\")\n",
    "plt.show\n",
    "fig.savefig(\"NUM_PRVCOMORBID_1YRfemale.png\", dpi=300, bbox_inches= \"tight\")"
   ]
  },
  {
   "cell_type": "code",
   "execution_count": null,
   "id": "36fbe812-7657-45f3-b55d-7d0ffd178849",
   "metadata": {
    "execution": {
     "iopub.execute_input": "2024-02-08T14:36:42.424737Z",
     "iopub.status.busy": "2024-02-08T14:36:42.424187Z",
     "iopub.status.idle": "2024-02-08T14:36:42.895451Z",
     "shell.execute_reply": "2024-02-08T14:36:42.894820Z",
     "shell.execute_reply.started": "2024-02-08T14:36:42.424690Z"
    },
    "id": "3t11OgTgZfV8",
    "tags": []
   },
   "outputs": [],
   "source": [
    "fig = plt.figure()\n",
    "sns.pointplot(y=\"NUM_PRVCOMORBID_3YR\", x=\"LOSClass\", data=df_female, ci=95, join=False);\n",
    "plt.xlabel(\"LOS$\\geq$4 DAYS\")\n",
    "plt.ylabel(\"NUM_PRVCOMORBID_3YR\")\n",
    "plt.show\n",
    "fig.savefig(\"NUM_PRVCOMORBID_3YRfemale.png\", dpi=300, bbox_inches= \"tight\")"
   ]
  },
  {
   "cell_type": "code",
   "execution_count": null,
   "id": "e8f02049-b23a-4ab6-ae7a-f30d7b689100",
   "metadata": {
    "execution": {
     "iopub.execute_input": "2024-02-08T14:36:44.247033Z",
     "iopub.status.busy": "2024-02-08T14:36:44.246483Z",
     "iopub.status.idle": "2024-02-08T14:36:44.711955Z",
     "shell.execute_reply": "2024-02-08T14:36:44.711303Z",
     "shell.execute_reply.started": "2024-02-08T14:36:44.246985Z"
    },
    "id": "3t11OgTgZfV8",
    "tags": []
   },
   "outputs": [],
   "source": [
    "fig = plt.figure()\n",
    "sns.pointplot(y=\"NUM_PRVEPISODES_1YR\", x=\"LOSClass\", data=df_female, ci=95, join=False);\n",
    "plt.xlabel(\"LOS$\\geq$4 DAYS\")\n",
    "plt.ylabel(\"NUM_PRVEPISODES_1YR\")\n",
    "plt.show\n",
    "fig.savefig(\"NUM_PRVEPISODES_1YRfemale.png\", dpi=300, bbox_inches= \"tight\")"
   ]
  },
  {
   "cell_type": "code",
   "execution_count": null,
   "id": "c04b9636-e2f3-45a9-a73c-f49900099c7b",
   "metadata": {
    "execution": {
     "iopub.execute_input": "2024-02-08T14:36:47.306144Z",
     "iopub.status.busy": "2024-02-08T14:36:47.305427Z",
     "iopub.status.idle": "2024-02-08T14:36:47.762376Z",
     "shell.execute_reply": "2024-02-08T14:36:47.761528Z",
     "shell.execute_reply.started": "2024-02-08T14:36:47.306095Z"
    },
    "id": "3t11OgTgZfV8",
    "tags": []
   },
   "outputs": [],
   "source": [
    "fig = plt.figure()\n",
    "sns.pointplot(y=\"NUM_PRVEPISODES_3YR\", x=\"LOSClass\", data=df_female, ci=95, join=False);\n",
    "plt.xlabel(\"LOS$\\geq$4 DAYS\")\n",
    "plt.ylabel(\"NUM_PRVEPISODES_3YR\")\n",
    "plt.show\n",
    "fig.savefig(\"NUM_PRVEPISODES_3YRfemale.png\", dpi=300, bbox_inches= \"tight\")"
   ]
  },
  {
   "cell_type": "code",
   "execution_count": null,
   "id": "1beabddf-fe7e-43ca-a4d9-d68862ec25d8",
   "metadata": {
    "execution": {
     "iopub.execute_input": "2024-02-08T14:36:49.331031Z",
     "iopub.status.busy": "2024-02-08T14:36:49.330343Z",
     "iopub.status.idle": "2024-02-08T14:36:49.794340Z",
     "shell.execute_reply": "2024-02-08T14:36:49.793613Z",
     "shell.execute_reply.started": "2024-02-08T14:36:49.330969Z"
    },
    "id": "3t11OgTgZfV8",
    "tags": []
   },
   "outputs": [],
   "source": [
    "fig = plt.figure()\n",
    "sns.pointplot(y=\"NUMEPISODES_24HRS\", x=\"LOSClass\", data=df_female, ci=95, join=False);\n",
    "plt.xlabel(\"LOS$\\geq$4 DAYS\")\n",
    "plt.ylabel(\"NUMEPISODES_24HRS\")\n",
    "plt.show\n",
    "fig.savefig(\"NUMEPISODES_24HRSfemale.png\", dpi=300, bbox_inches= \"tight\")"
   ]
  },
  {
   "cell_type": "code",
   "execution_count": null,
   "id": "e91638af-2977-4a70-a40e-b95edb016115",
   "metadata": {
    "execution": {
     "iopub.execute_input": "2024-02-08T14:36:53.620342Z",
     "iopub.status.busy": "2024-02-08T14:36:53.619812Z",
     "iopub.status.idle": "2024-02-08T14:36:54.098595Z",
     "shell.execute_reply": "2024-02-08T14:36:54.098008Z",
     "shell.execute_reply.started": "2024-02-08T14:36:53.620297Z"
    },
    "id": "3t11OgTgZfV8",
    "tags": []
   },
   "outputs": [],
   "source": [
    "fig = plt.figure()\n",
    "sns.pointplot(y=\"NUMCOMORBIDITIES_24HRS\", x=\"LOSClass\", data=df_female, ci=95, join=False);\n",
    "plt.xlabel(\"LOS$\\geq$4 DAYS\")\n",
    "plt.ylabel(\"NUMCOMORBIDITIES_24HRS\")\n",
    "plt.show\n",
    "fig.savefig(\"NUMCOMORBIDITIES_24HRSfemale.png\", dpi=300, bbox_inches= \"tight\")"
   ]
  },
  {
   "cell_type": "code",
   "execution_count": null,
   "id": "4d5b1cd0-e736-4c4b-8668-faee9c4087a4",
   "metadata": {
    "execution": {
     "iopub.execute_input": "2024-02-08T14:36:56.027201Z",
     "iopub.status.busy": "2024-02-08T14:36:56.026681Z",
     "iopub.status.idle": "2024-02-08T14:36:56.487143Z",
     "shell.execute_reply": "2024-02-08T14:36:56.486439Z",
     "shell.execute_reply.started": "2024-02-08T14:36:56.027156Z"
    },
    "id": "3t11OgTgZfV8",
    "tags": []
   },
   "outputs": [],
   "source": [
    "fig = plt.figure()\n",
    "sns.pointplot(y=\"NUM_PRVADMISSION_1YR\", x=\"LOSClass\", data=df_female, ci=95, join=False);\n",
    "plt.xlabel(\"LOS$\\geq$4 DAYS\")\n",
    "plt.ylabel(\"NUM_PRVADMISSION_1YR\")\n",
    "plt.show\n",
    "fig.savefig(\"NUM_PRVADMISSION_1YRfemale.png\", dpi=300, bbox_inches= \"tight\")"
   ]
  },
  {
   "cell_type": "code",
   "execution_count": null,
   "id": "a6899581-8cbf-40f4-8319-911476e3c96a",
   "metadata": {
    "execution": {
     "iopub.execute_input": "2024-02-08T14:36:57.930642Z",
     "iopub.status.busy": "2024-02-08T14:36:57.929709Z",
     "iopub.status.idle": "2024-02-08T14:36:58.380829Z",
     "shell.execute_reply": "2024-02-08T14:36:58.380248Z",
     "shell.execute_reply.started": "2024-02-08T14:36:57.930590Z"
    },
    "id": "3t11OgTgZfV8",
    "tags": []
   },
   "outputs": [],
   "source": [
    "fig = plt.figure()\n",
    "sns.pointplot(y=\"NUM_PRVADMISSION_3YR\", x=\"LOSClass\", data=df_female, ci=95, join=False);\n",
    "plt.xlabel(\"LOS$\\geq$4 DAYS\")\n",
    "plt.ylabel(\"NUM_PRVADMISSION_3YR\")\n",
    "plt.show\n",
    "fig.savefig(\"NUM_PRVADMISSION_3YRfemale.png\", dpi=300, bbox_inches= \"tight\")"
   ]
  },
  {
   "cell_type": "code",
   "execution_count": 135,
   "id": "4a7d490b-0107-4a65-9243-703a627563fc",
   "metadata": {
    "execution": {
     "iopub.execute_input": "2024-02-06T14:13:20.889829Z",
     "iopub.status.busy": "2024-02-06T14:13:20.888819Z",
     "iopub.status.idle": "2024-02-06T14:13:20.900416Z",
     "shell.execute_reply": "2024-02-06T14:13:20.898896Z",
     "shell.execute_reply.started": "2024-02-06T14:13:20.889773Z"
    },
    "tags": []
   },
   "outputs": [],
   "source": [
    "df_female[\"LOSClass\"].value_counts(normalize=True).to_csv(\"row_LOS_norm_fem.csv\")"
   ]
  },
  {
   "cell_type": "markdown",
   "id": "6e5224e2-6c60-463b-9ff6-df099743e3cd",
   "metadata": {},
   "source": [
    "VALIDITY OF NUM_PRVADMISSION_1YR IN OUR PREDICTION OF LOS FOR 7 DAYS THRESHOLD"
   ]
  },
  {
   "cell_type": "code",
   "execution_count": 351,
   "id": "11723cd6-4eda-4c6e-ab3a-eb68f6b12a54",
   "metadata": {
    "execution": {
     "iopub.execute_input": "2023-07-04T13:58:46.445407Z",
     "iopub.status.busy": "2023-07-04T13:58:46.444955Z",
     "iopub.status.idle": "2023-07-04T13:58:46.468279Z",
     "shell.execute_reply": "2023-07-04T13:58:46.467053Z",
     "shell.execute_reply.started": "2023-07-04T13:58:46.445368Z"
    },
    "id": "3t11OgTgZfV8",
    "tags": []
   },
   "outputs": [],
   "source": [
    "df_female.groupby(['LOSClass2', 'Ethnicity'])['NUM_PRVADMISSION_1YR'].agg(['mean', 'std']).reset_index().to_csv(\"prev_adm_LOS2_ethn_stat.csv\")"
   ]
  },
  {
   "cell_type": "code",
   "execution_count": 352,
   "id": "381691cf-21ae-49c9-945f-e7c436f5dfb6",
   "metadata": {
    "execution": {
     "iopub.execute_input": "2023-07-04T13:58:46.679796Z",
     "iopub.status.busy": "2023-07-04T13:58:46.679353Z",
     "iopub.status.idle": "2023-07-04T13:58:46.698385Z",
     "shell.execute_reply": "2023-07-04T13:58:46.697299Z",
     "shell.execute_reply.started": "2023-07-04T13:58:46.679756Z"
    },
    "id": "3t11OgTgZfV8",
    "tags": []
   },
   "outputs": [],
   "source": [
    "# PREVADMISSIONS _READMIT30DAYS STAT_GENDER Stat\n",
    "df_female.groupby(['LOSClass2', 'GNDR_DESC'])['NUM_PRVADMISSION_1YR'].agg(['mean', 'std']).reset_index().to_csv(\"prev_adm_LOS2_gender_stat.csv\")"
   ]
  },
  {
   "cell_type": "code",
   "execution_count": 353,
   "id": "0dccf084-e535-46d8-954a-3ba8e902b48c",
   "metadata": {
    "execution": {
     "iopub.execute_input": "2023-07-04T13:58:46.937247Z",
     "iopub.status.busy": "2023-07-04T13:58:46.936809Z",
     "iopub.status.idle": "2023-07-04T13:58:46.956418Z",
     "shell.execute_reply": "2023-07-04T13:58:46.955557Z",
     "shell.execute_reply.started": "2023-07-04T13:58:46.937208Z"
    },
    "id": "3t11OgTgZfV8",
    "tags": []
   },
   "outputs": [],
   "source": [
    "df_female.groupby(['LOSClass2', 'WIMD2019_QUINTILE_AT_INDEX_DATE'])['NUM_PRVADMISSION_1YR'].agg(['mean', 'std']).reset_index().to_csv(\"prev_adm_LOS2_wimd_stat.csv\")"
   ]
  },
  {
   "cell_type": "code",
   "execution_count": 354,
   "id": "9a0bba40-d07d-4290-92aa-2b2a16b00f10",
   "metadata": {
    "execution": {
     "iopub.execute_input": "2023-07-04T13:58:47.206846Z",
     "iopub.status.busy": "2023-07-04T13:58:47.206408Z",
     "iopub.status.idle": "2023-07-04T13:58:47.221444Z",
     "shell.execute_reply": "2023-07-04T13:58:47.220293Z",
     "shell.execute_reply.started": "2023-07-04T13:58:47.206808Z"
    },
    "tags": []
   },
   "outputs": [],
   "source": [
    "df_female.groupby(['LOSClass2'])['NUM_PRVADMISSION_1YR'].agg(['mean', 'std']).reset_index().to_csv(\"prev_adm_LOS2.csv\")"
   ]
  },
  {
   "cell_type": "code",
   "execution_count": 355,
   "id": "f7bbb684-cc7a-4b8d-acc5-557c3bd3e4a3",
   "metadata": {
    "execution": {
     "iopub.execute_input": "2023-07-04T13:58:47.466573Z",
     "iopub.status.busy": "2023-07-04T13:58:47.466140Z",
     "iopub.status.idle": "2023-07-04T13:58:47.476157Z",
     "shell.execute_reply": "2023-07-04T13:58:47.474502Z",
     "shell.execute_reply.started": "2023-07-04T13:58:47.466534Z"
    },
    "tags": []
   },
   "outputs": [
    {
     "data": {
      "text/plain": [
       "Index(['ALF_PE', 'CONDITION', 'GNDR_DESC', 'WIMD2019_QUINTILE_AT_INDEX_DATE',\n",
       "       'TOWNSEND2011_QUINTILE_AT_INDEX_DATE', 'Ethnicity', 'LOS', 'COM_SEQ',\n",
       "       'COMORBIDITY_COUNT', 'AUTISM', 'ALCOHOL_HISTORY', 'SMOKING_HISTORY',\n",
       "       'MEDICATIONS', 'PHYSICAL', 'BMI', 'AGEGRP_AT_ADMIS_DT',\n",
       "       'NUM_PRVADMISSION_1YR', 'NUM_PRVEPISODES_1YR', 'NUM_PRVCOMORBID_1YR',\n",
       "       'NUM_PRVCOMORBID_3YR', 'NUM_PRVEPISODES_3YR', 'NUMEPISODES_24HRS',\n",
       "       'NUMCOMORBIDITIES_24HRS', 'NUM_PRVADMISSION_1YR_COND',\n",
       "       'NUM_PRVADMISSION_3YR', 'NUM_PRVADMISSION_3YR_COND',\n",
       "       'NUM_PRVHOSPITAL_DAYS_1YR', 'NUM_PRVHOSPITAL_DAYS_3YR', 'LOSClass',\n",
       "       'LOSClass2'],\n",
       "      dtype='object')"
      ]
     },
     "execution_count": 355,
     "metadata": {},
     "output_type": "execute_result"
    }
   ],
   "source": [
    "df_female.columns"
   ]
  },
  {
   "cell_type": "code",
   "execution_count": null,
   "id": "39125e0c-8cd1-4081-b1a4-d1aa8b08f260",
   "metadata": {
    "execution": {
     "iopub.execute_input": "2023-07-05T12:26:20.683637Z",
     "iopub.status.busy": "2023-07-05T12:26:20.682958Z",
     "iopub.status.idle": "2023-07-05T12:26:21.658848Z",
     "shell.execute_reply": "2023-07-05T12:26:21.657569Z",
     "shell.execute_reply.started": "2023-07-05T12:26:20.683591Z"
    },
    "tags": []
   },
   "outputs": [],
   "source": [
    "# previous admissions- readmission - ethnicity figure (dodge)\n",
    "fig = plt.figure()\n",
    "sns.pointplot(y=\"NUM_PRVADMISSION_1YR\", x=\"LOSClass2\", hue=\"Ethnicity\",\n",
    "             data=df_female, ci=95, join=False, dodge=True);\n",
    "plt.xlabel(\"LOS_7DAYS\")\n",
    "plt.ylabel(\"Number of Admissions in Previous year\")\n",
    "plt.show\n",
    "fig.savefig(\"prev_adm__LOS2_ethn_dodge.png\", dpi=300, bbox_inches= \"tight\")"
   ]
  },
  {
   "cell_type": "code",
   "execution_count": null,
   "id": "78651b30-639e-4db2-b88b-1ca78a60bd93",
   "metadata": {
    "execution": {
     "iopub.execute_input": "2023-07-05T12:28:45.419449Z",
     "iopub.status.busy": "2023-07-05T12:28:45.418916Z",
     "iopub.status.idle": "2023-07-05T12:28:46.046731Z",
     "shell.execute_reply": "2023-07-05T12:28:46.046158Z",
     "shell.execute_reply.started": "2023-07-05T12:28:45.419405Z"
    },
    "id": "3t11OgTgZfV8",
    "tags": []
   },
   "outputs": [],
   "source": [
    "# PREVADMISSIONS _READMIT30DAYS STAT_GENDER figure normal\n",
    "fig = plt.figure()\n",
    "aa = sns.pointplot(y=\"NUM_PRVADMISSION_1YR\", x=\"LOSClass2\", hue=\"GNDR_DESC\",\n",
    "             data=df_female, ci=95, join=False, dodge=True);\n",
    "\n",
    "plt.xlabel(\"LOS_7DAYS\")\n",
    "plt.ylabel(\"Number of Admissions in Previous year\")\n",
    "sns.move_legend(aa, loc='upper left', bbox_to_anchor=(1,1))\n",
    "plt.legend(title=\"Gender\")\n",
    "plt.show\n",
    "fig.savefig(\"prev_adm__LOS2_gender.png\", dpi=300, bbox_inches= \"tight\")"
   ]
  },
  {
   "cell_type": "code",
   "execution_count": null,
   "id": "8ae05e61-9870-40d4-88cf-42edeb381154",
   "metadata": {
    "execution": {
     "iopub.execute_input": "2023-07-05T12:29:09.613964Z",
     "iopub.status.busy": "2023-07-05T12:29:09.613443Z",
     "iopub.status.idle": "2023-07-05T12:29:10.583720Z",
     "shell.execute_reply": "2023-07-05T12:29:10.583000Z",
     "shell.execute_reply.started": "2023-07-05T12:29:09.613922Z"
    },
    "id": "3t11OgTgZfV8",
    "tags": []
   },
   "outputs": [],
   "source": [
    "# PREVADMISSIONS _READMIT30DAYS WIMD2019_QUINTILE_AT_INDEX_DATE Figure (dodge)\n",
    "fig = plt.figure()\n",
    "aa = sns.pointplot(y=\"NUM_PRVADMISSION_1YR\", x=\"LOSClass2\", hue=\"WIMD2019_QUINTILE_AT_INDEX_DATE\",\n",
    "             data=df_female, ci=95, dodge=True,  join=False);\n",
    "plt.xlabel(\"LOS_7DAYS\")\n",
    "plt.ylabel(\"Number of Admissions in Previous year\")\n",
    "sns.move_legend(aa, 'upper left', bbox_to_anchor=(1,1))\n",
    "plt.legend(title=\"WIMD 2019 - Quintile\")\n",
    "plt.show\n",
    "fig.savefig(\"prev_adm__LOS2_wimd_dodge.png\", dpi=300, bbox_inches= \"tight\")"
   ]
  },
  {
   "cell_type": "code",
   "execution_count": null,
   "id": "e185f154-5391-4952-ae23-c7484aeb84bc",
   "metadata": {
    "execution": {
     "iopub.execute_input": "2023-07-04T13:58:51.134616Z",
     "iopub.status.busy": "2023-07-04T13:58:51.134043Z",
     "iopub.status.idle": "2023-07-04T13:58:51.966897Z",
     "shell.execute_reply": "2023-07-04T13:58:51.965391Z",
     "shell.execute_reply.started": "2023-07-04T13:58:51.134571Z"
    },
    "id": "3t11OgTgZfV8",
    "tags": []
   },
   "outputs": [],
   "source": [
    "fig = plt.figure()\n",
    "sns.pointplot(y=\"NUM_PRVADMISSION_1YR\", x=\"LOSClass2\", data=df_female, ci=95, join=False);\n",
    "plt.xlabel(\"LOS_7DAYS\")\n",
    "plt.ylabel(\"Number of Admissions in Previous year\")\n",
    "plt.show\n",
    "fig.savefig(\"prev_adm_LOS2.png\", dpi=300, bbox_inches= \"tight\")"
   ]
  },
  {
   "cell_type": "markdown",
   "id": "a127a72f-b439-423d-9ded-074116069aac",
   "metadata": {},
   "source": [
    "VALIDITY OF NUM_PRVADMISSION_1YR IN OUR PREDICTION OF LOS FOR 4 DAYS THRESHOLD"
   ]
  },
  {
   "cell_type": "code",
   "execution_count": 303,
   "id": "cbe713d4-5b1a-4bbf-b456-fec516f91900",
   "metadata": {
    "execution": {
     "iopub.execute_input": "2023-07-07T08:35:41.216533Z",
     "iopub.status.busy": "2023-07-07T08:35:41.215765Z",
     "iopub.status.idle": "2023-07-07T08:35:41.238219Z",
     "shell.execute_reply": "2023-07-07T08:35:41.236784Z",
     "shell.execute_reply.started": "2023-07-07T08:35:41.216482Z"
    },
    "id": "3t11OgTgZfV8",
    "tags": []
   },
   "outputs": [],
   "source": [
    "df_female.groupby(['LOSClass', 'Ethnicity'])['NUM_PRVADMISSION_1YR'].agg(['mean', 'std']).reset_index().to_csv(\"prev_adm_LOS_ethn_stat.csv\")"
   ]
  },
  {
   "cell_type": "code",
   "execution_count": 304,
   "id": "fc9d8785-5cdb-496d-8665-12bf9c8b5f8c",
   "metadata": {
    "execution": {
     "iopub.execute_input": "2023-07-07T08:35:42.238494Z",
     "iopub.status.busy": "2023-07-07T08:35:42.237967Z",
     "iopub.status.idle": "2023-07-07T08:35:42.261995Z",
     "shell.execute_reply": "2023-07-07T08:35:42.260942Z",
     "shell.execute_reply.started": "2023-07-07T08:35:42.238446Z"
    },
    "id": "3t11OgTgZfV8",
    "tags": []
   },
   "outputs": [],
   "source": [
    "# PREVADMISSIONS _READMIT30DAYS STAT_GENDER Stat\n",
    "df_female.groupby(['LOSClass', 'GNDR_DESC'])['NUM_PRVADMISSION_1YR'].agg(['mean', 'std']).reset_index().to_csv(\"prev_adm_LOS_gender_stat.csv\")"
   ]
  },
  {
   "cell_type": "code",
   "execution_count": 305,
   "id": "d75ea3bf-3b2e-4e41-9dd8-82ebafa84bc8",
   "metadata": {
    "execution": {
     "iopub.execute_input": "2023-07-07T08:35:43.120669Z",
     "iopub.status.busy": "2023-07-07T08:35:43.119707Z",
     "iopub.status.idle": "2023-07-07T08:35:43.140125Z",
     "shell.execute_reply": "2023-07-07T08:35:43.139162Z",
     "shell.execute_reply.started": "2023-07-07T08:35:43.120622Z"
    },
    "id": "3t11OgTgZfV8",
    "tags": []
   },
   "outputs": [],
   "source": [
    "df_female.groupby(['LOSClass', 'WIMD2019_QUINTILE_AT_INDEX_DATE'])['NUM_PRVADMISSION_1YR'].agg(['mean', 'std']).reset_index().to_csv(\"prev_adm_LOS_wimd_stat.csv\")"
   ]
  },
  {
   "cell_type": "code",
   "execution_count": 306,
   "id": "1865abf7-3764-4f72-8b26-1ab08608f0a5",
   "metadata": {
    "execution": {
     "iopub.execute_input": "2023-07-07T08:35:43.642569Z",
     "iopub.status.busy": "2023-07-07T08:35:43.641619Z",
     "iopub.status.idle": "2023-07-07T08:35:43.655921Z",
     "shell.execute_reply": "2023-07-07T08:35:43.654856Z",
     "shell.execute_reply.started": "2023-07-07T08:35:43.642518Z"
    },
    "tags": []
   },
   "outputs": [],
   "source": [
    "df_female.groupby(['LOSClass'])['NUM_PRVADMISSION_1YR'].agg(['mean', 'std']).reset_index().to_csv(\"prev_adm_LOS.csv\")"
   ]
  },
  {
   "cell_type": "code",
   "execution_count": 307,
   "id": "d9237b95-6e7d-4acd-8631-d932b56df0ee",
   "metadata": {
    "execution": {
     "iopub.execute_input": "2023-07-07T08:35:45.091777Z",
     "iopub.status.busy": "2023-07-07T08:35:45.091215Z",
     "iopub.status.idle": "2023-07-07T08:35:45.101419Z",
     "shell.execute_reply": "2023-07-07T08:35:45.100026Z",
     "shell.execute_reply.started": "2023-07-07T08:35:45.091733Z"
    },
    "tags": []
   },
   "outputs": [
    {
     "data": {
      "text/plain": [
       "Index(['ALF_PE', 'CONDITION', 'GNDR_DESC', 'WIMD2019_QUINTILE_AT_INDEX_DATE',\n",
       "       'TOWNSEND2011_QUINTILE_AT_INDEX_DATE', 'Ethnicity', 'LOS', 'COM_SEQ',\n",
       "       'COMORBIDITY_COUNT', 'AUTISM', 'ALCOHOL_HISTORY', 'SMOKING_HISTORY',\n",
       "       'MEDICATIONS', 'PHYSICAL', 'BMI', 'AGEGRP_AT_ADMIS_DT',\n",
       "       'NUM_PRVADMISSION_1YR', 'NUM_PRVEPISODES_1YR', 'NUM_PRVCOMORBID_1YR',\n",
       "       'NUM_PRVCOMORBID_3YR', 'NUM_PRVEPISODES_3YR', 'NUMEPISODES_24HRS',\n",
       "       'NUMCOMORBIDITIES_24HRS', 'NUM_PRVADMISSION_1YR_COND',\n",
       "       'NUM_PRVADMISSION_3YR', 'NUM_PRVADMISSION_3YR_COND',\n",
       "       'NUM_PRVHOSPITAL_DAYS_1YR', 'NUM_PRVHOSPITAL_DAYS_3YR', 'LOSClass',\n",
       "       'LOSClass2'],\n",
       "      dtype='object')"
      ]
     },
     "execution_count": 307,
     "metadata": {},
     "output_type": "execute_result"
    }
   ],
   "source": [
    "df_female.columns"
   ]
  },
  {
   "cell_type": "code",
   "execution_count": null,
   "id": "5f10a989-df3b-49ba-b3fa-f9cfabfd711f",
   "metadata": {
    "execution": {
     "iopub.execute_input": "2023-10-04T17:13:46.607654Z",
     "iopub.status.busy": "2023-10-04T17:13:46.607072Z",
     "iopub.status.idle": "2023-10-04T17:13:47.392403Z",
     "shell.execute_reply": "2023-10-04T17:13:47.391571Z",
     "shell.execute_reply.started": "2023-10-04T17:13:46.607610Z"
    },
    "tags": []
   },
   "outputs": [],
   "source": [
    "# previous admissions- readmission - ethnicity figure (dodge)\n",
    "fig = plt.figure()\n",
    "sns.pointplot(y=\"NUM_PRVADMISSION_1YR\", x=\"LOSClass\", hue=\"Ethnicity\",\n",
    "             data=df_female, ci=95, join=False, dodge=True);\n",
    "plt.xlabel(\"LOS_4DAYS\")\n",
    "plt.ylabel(\"Number of Admissions in Previous year\")\n",
    "plt.show\n",
    "fig.savefig(\"prev_adm__LOS_ethn_dodge.png\", dpi=300, bbox_inches= \"tight\")"
   ]
  },
  {
   "cell_type": "code",
   "execution_count": null,
   "id": "f3d499f0-55d1-474f-8503-910f494ea04e",
   "metadata": {
    "execution": {
     "iopub.execute_input": "2023-07-07T08:36:06.736731Z",
     "iopub.status.busy": "2023-07-07T08:36:06.735963Z",
     "iopub.status.idle": "2023-07-07T08:36:07.355886Z",
     "shell.execute_reply": "2023-07-07T08:36:07.355404Z",
     "shell.execute_reply.started": "2023-07-07T08:36:06.736683Z"
    },
    "id": "3t11OgTgZfV8",
    "tags": []
   },
   "outputs": [],
   "source": [
    "# PREVADMISSIONS _READMIT30DAYS STAT_GENDER figure normal\n",
    "fig = plt.figure()\n",
    "aa = sns.pointplot(y=\"NUM_PRVADMISSION_1YR\", x=\"LOSClass\", hue=\"GNDR_DESC\",\n",
    "             data=df_female, ci=95, join=False, dodge=True);\n",
    "\n",
    "plt.xlabel(\"LOS_4DAYS\")\n",
    "plt.ylabel(\"Number of Admissions in Previous year\")\n",
    "sns.move_legend(aa, loc='upper left', bbox_to_anchor=(1,1))\n",
    "plt.legend(title=\"Gender\")\n",
    "plt.show\n",
    "fig.savefig(\"prev_adm__LOS_gender.png\", dpi=300, bbox_inches= \"tight\")"
   ]
  },
  {
   "cell_type": "code",
   "execution_count": null,
   "id": "0d9a7fc5-0f90-48d6-b67d-57cb70bda398",
   "metadata": {
    "execution": {
     "iopub.execute_input": "2023-07-04T13:58:54.466933Z",
     "iopub.status.busy": "2023-07-04T13:58:54.466490Z",
     "iopub.status.idle": "2023-07-04T13:58:55.661554Z",
     "shell.execute_reply": "2023-07-04T13:58:55.661029Z",
     "shell.execute_reply.started": "2023-07-04T13:58:54.466892Z"
    },
    "id": "3t11OgTgZfV8",
    "tags": []
   },
   "outputs": [],
   "source": [
    "# PREVADMISSIONS _READMIT30DAYS WIMD2019_QUINTILE_AT_INDEX_DATE Figure (dodge)\n",
    "fig = plt.figure()\n",
    "aa = sns.pointplot(y=\"NUM_PRVADMISSION_1YR\", x=\"LOSClass\", hue=\"WIMD2019_QUINTILE_AT_INDEX_DATE\",\n",
    "             data=df_female, ci=95, dodge=True,  join=False);\n",
    "plt.xlabel(\"LOS_4DAYS\")\n",
    "plt.ylabel(\"Number of Admissions in Previous year\")\n",
    "sns.move_legend(aa, 'upper left', bbox_to_anchor=(1,1))\n",
    "plt.legend(title=\"WIMD 2019 - Quintile\")\n",
    "plt.show\n",
    "fig.savefig(\"prev_adm__LOS_wimd_dodge.png\", dpi=300, bbox_inches= \"tight\")"
   ]
  },
  {
   "cell_type": "code",
   "execution_count": null,
   "id": "b4146ccc-faaf-4516-8500-bea9a00d1aca",
   "metadata": {},
   "outputs": [],
   "source": []
  },
  {
   "cell_type": "code",
   "execution_count": null,
   "id": "bde28f5b-8483-4ebb-a585-d2afef620d3e",
   "metadata": {
    "execution": {
     "iopub.execute_input": "2023-07-07T08:47:13.099253Z",
     "iopub.status.busy": "2023-07-07T08:47:13.098519Z",
     "iopub.status.idle": "2023-07-07T08:47:13.511175Z",
     "shell.execute_reply": "2023-07-07T08:47:13.510401Z",
     "shell.execute_reply.started": "2023-07-07T08:47:13.099206Z"
    },
    "id": "3t11OgTgZfV8",
    "tags": []
   },
   "outputs": [],
   "source": [
    "fig = plt.figure()\n",
    "sns.pointplot(y=\"NUM_PRVADMISSION_3YR_COND\", x=\"LOSClass\", data=df_female, ci=95, join=False);\n",
    "plt.xlabel(\"LOS_4DAYS\")\n",
    "plt.ylabel(\"Number of Admissions in Previous 3 years\")\n",
    "plt.show\n",
    "#fig.savefig(\"prev_adm_LOS.png\", dpi=300, bbox_inches= \"tight\")"
   ]
  },
  {
   "cell_type": "code",
   "execution_count": null,
   "id": "3f9dea50-76ed-4e67-b80c-40343cdaca15",
   "metadata": {
    "execution": {
     "iopub.execute_input": "2023-07-07T08:47:37.480893Z",
     "iopub.status.busy": "2023-07-07T08:47:37.479908Z",
     "iopub.status.idle": "2023-07-07T08:47:38.044093Z",
     "shell.execute_reply": "2023-07-07T08:47:38.043526Z",
     "shell.execute_reply.started": "2023-07-07T08:47:37.480837Z"
    },
    "id": "3t11OgTgZfV8",
    "tags": []
   },
   "outputs": [],
   "source": [
    "fig = plt.figure()\n",
    "sns.pointplot(y=\"NUM_PRVADMISSION_1YR\", x=\"LOSClass\", data=df_female, ci=95, join=False);\n",
    "plt.xlabel(\"LOS_4DAYS\")\n",
    "plt.ylabel(\"Number of Admissions in Previous year\")\n",
    "plt.show\n",
    "fig.savefig(\"prev_adm_LOS.png\", dpi=300, bbox_inches= \"tight\")"
   ]
  },
  {
   "cell_type": "markdown",
   "id": "2667efed-57b7-4a11-805b-fb788a7db0be",
   "metadata": {},
   "source": [
    "VALIDITY OF NUM_PRVHOSPITAL_DAYS_1YR IN OUR PREDICTION OF LOS FOR 7 DAYS THRESHOLD"
   ]
  },
  {
   "cell_type": "code",
   "execution_count": 369,
   "id": "bf5113e3-6739-4048-a9c7-f80f5cf48831",
   "metadata": {
    "execution": {
     "iopub.execute_input": "2023-07-04T13:58:56.480129Z",
     "iopub.status.busy": "2023-07-04T13:58:56.479943Z",
     "iopub.status.idle": "2023-07-04T13:58:56.495471Z",
     "shell.execute_reply": "2023-07-04T13:58:56.494621Z",
     "shell.execute_reply.started": "2023-07-04T13:58:56.480114Z"
    },
    "id": "3t11OgTgZfV8",
    "tags": []
   },
   "outputs": [],
   "source": [
    "df_female.groupby(['LOSClass2', 'Ethnicity'])['NUM_PRVHOSPITAL_DAYS_1YR'].agg(['mean', 'std']).reset_index().to_csv(\"prev_days_LOS2_ethn_stat.csv\")"
   ]
  },
  {
   "cell_type": "code",
   "execution_count": 370,
   "id": "056f75ba-6d00-4600-87f6-3669b8b8511a",
   "metadata": {
    "execution": {
     "iopub.execute_input": "2023-07-04T13:58:56.543355Z",
     "iopub.status.busy": "2023-07-04T13:58:56.543202Z",
     "iopub.status.idle": "2023-07-04T13:58:56.554057Z",
     "shell.execute_reply": "2023-07-04T13:58:56.553557Z",
     "shell.execute_reply.started": "2023-07-04T13:58:56.543341Z"
    },
    "id": "3t11OgTgZfV8",
    "tags": []
   },
   "outputs": [],
   "source": [
    "# PREVADMISSIONS _READMIT30DAYS STAT_GENDER Stat\n",
    "df_female.groupby(['LOSClass2', 'GNDR_DESC'])['NUM_PRVHOSPITAL_DAYS_1YR'].agg(['mean', 'std']).reset_index().to_csv(\"prev_days_LOS2_gender_stat.csv\")"
   ]
  },
  {
   "cell_type": "code",
   "execution_count": 371,
   "id": "c9a9af18-ce06-48c5-8ae0-8a20d7307cd8",
   "metadata": {
    "execution": {
     "iopub.execute_input": "2023-07-04T13:58:56.554930Z",
     "iopub.status.busy": "2023-07-04T13:58:56.554622Z",
     "iopub.status.idle": "2023-07-04T13:58:56.570804Z",
     "shell.execute_reply": "2023-07-04T13:58:56.570007Z",
     "shell.execute_reply.started": "2023-07-04T13:58:56.554915Z"
    },
    "id": "3t11OgTgZfV8",
    "tags": []
   },
   "outputs": [],
   "source": [
    "df_female.groupby(['LOSClass2', 'WIMD2019_QUINTILE_AT_INDEX_DATE'])['NUM_PRVHOSPITAL_DAYS_1YR'].agg(['mean', 'std']).reset_index().to_csv(\"prev_days_LOS2_wimd_stat.csv\")"
   ]
  },
  {
   "cell_type": "code",
   "execution_count": 372,
   "id": "66f59544-4a2d-41b1-879e-8e05aedaac90",
   "metadata": {
    "execution": {
     "iopub.execute_input": "2023-07-04T13:58:56.571613Z",
     "iopub.status.busy": "2023-07-04T13:58:56.571461Z",
     "iopub.status.idle": "2023-07-04T13:58:56.581290Z",
     "shell.execute_reply": "2023-07-04T13:58:56.580263Z",
     "shell.execute_reply.started": "2023-07-04T13:58:56.571599Z"
    },
    "tags": []
   },
   "outputs": [],
   "source": [
    "df_female.groupby(['LOSClass2'])['NUM_PRVHOSPITAL_DAYS_1YR'].agg(['mean', 'std']).reset_index().to_csv(\"prev_days_LOS2.csv\")"
   ]
  },
  {
   "cell_type": "code",
   "execution_count": 373,
   "id": "4dc9e4f1-d55a-4e19-9269-343149b36105",
   "metadata": {
    "execution": {
     "iopub.execute_input": "2023-07-04T13:58:56.671635Z",
     "iopub.status.busy": "2023-07-04T13:58:56.671486Z",
     "iopub.status.idle": "2023-07-04T13:58:56.676148Z",
     "shell.execute_reply": "2023-07-04T13:58:56.675470Z",
     "shell.execute_reply.started": "2023-07-04T13:58:56.671622Z"
    },
    "tags": []
   },
   "outputs": [
    {
     "data": {
      "text/plain": [
       "Index(['ALF_PE', 'CONDITION', 'GNDR_DESC', 'WIMD2019_QUINTILE_AT_INDEX_DATE',\n",
       "       'TOWNSEND2011_QUINTILE_AT_INDEX_DATE', 'Ethnicity', 'LOS', 'COM_SEQ',\n",
       "       'COMORBIDITY_COUNT', 'AUTISM', 'ALCOHOL_HISTORY', 'SMOKING_HISTORY',\n",
       "       'MEDICATIONS', 'PHYSICAL', 'BMI', 'AGEGRP_AT_ADMIS_DT',\n",
       "       'NUM_PRVADMISSION_1YR', 'NUM_PRVEPISODES_1YR', 'NUM_PRVCOMORBID_1YR',\n",
       "       'NUM_PRVCOMORBID_3YR', 'NUM_PRVEPISODES_3YR', 'NUMEPISODES_24HRS',\n",
       "       'NUMCOMORBIDITIES_24HRS', 'NUM_PRVADMISSION_1YR_COND',\n",
       "       'NUM_PRVADMISSION_3YR', 'NUM_PRVADMISSION_3YR_COND',\n",
       "       'NUM_PRVHOSPITAL_DAYS_1YR', 'NUM_PRVHOSPITAL_DAYS_3YR', 'LOSClass',\n",
       "       'LOSClass2'],\n",
       "      dtype='object')"
      ]
     },
     "execution_count": 373,
     "metadata": {},
     "output_type": "execute_result"
    }
   ],
   "source": [
    "df_female.columns"
   ]
  },
  {
   "cell_type": "code",
   "execution_count": null,
   "id": "24f6602c-685e-4879-ad48-4f02d0f9e164",
   "metadata": {
    "execution": {
     "iopub.execute_input": "2023-07-05T12:30:42.030920Z",
     "iopub.status.busy": "2023-07-05T12:30:42.030115Z",
     "iopub.status.idle": "2023-07-05T12:30:42.944422Z",
     "shell.execute_reply": "2023-07-05T12:30:42.943742Z",
     "shell.execute_reply.started": "2023-07-05T12:30:42.030874Z"
    },
    "tags": []
   },
   "outputs": [],
   "source": [
    "# previous admissions- readmission - ethnicity figure (dodge)\n",
    "fig = plt.figure()\n",
    "sns.pointplot(y=\"NUM_PRVHOSPITAL_DAYS_1YR\", x=\"LOSClass2\", hue=\"Ethnicity\",\n",
    "             data=df_female, ci=95, join=False, dodge=True);\n",
    "plt.xlabel(\"LOS_7DAYS\")\n",
    "plt.ylabel(\"Number of Hospital Days in Previous year\")\n",
    "plt.show\n",
    "fig.savefig(\"prev_days__LOS2_ethn_dodge.png\", dpi=300, bbox_inches= \"tight\")"
   ]
  },
  {
   "cell_type": "code",
   "execution_count": null,
   "id": "299c37a3-4af6-4b18-877b-6ddce6f29bd7",
   "metadata": {
    "execution": {
     "iopub.execute_input": "2023-07-05T12:31:43.665701Z",
     "iopub.status.busy": "2023-07-05T12:31:43.664901Z",
     "iopub.status.idle": "2023-07-05T12:31:44.614826Z",
     "shell.execute_reply": "2023-07-05T12:31:44.614092Z",
     "shell.execute_reply.started": "2023-07-05T12:31:43.665628Z"
    },
    "id": "3t11OgTgZfV8",
    "tags": []
   },
   "outputs": [],
   "source": [
    "# PREVADMISSIONS _READMIT30DAYS WIMD2019_QUINTILE_AT_INDEX_DATE Figure (dodge)\n",
    "fig = plt.figure()\n",
    "aa = sns.pointplot(y=\"NUM_PRVHOSPITAL_DAYS_1YR\", x=\"LOSClass2\", hue=\"WIMD2019_QUINTILE_AT_INDEX_DATE\",\n",
    "             data=df_female, ci=95, dodge=True,  join=False);\n",
    "plt.xlabel(\"LOS_7DAYS\")\n",
    "plt.ylabel(\"Number of Hospital Days in Previous year\")\n",
    "sns.move_legend(aa, 'upper left', bbox_to_anchor=(1,1))\n",
    "plt.legend(title=\"WIMD 2019 - Quintile\")\n",
    "plt.show\n",
    "fig.savefig(\"prev_days__LOS2_wimd_dodge.png\", dpi=300, bbox_inches= \"tight\")"
   ]
  },
  {
   "cell_type": "code",
   "execution_count": null,
   "id": "4e0d03ec-75d3-47eb-8129-9da4812d45c6",
   "metadata": {
    "execution": {
     "iopub.execute_input": "2023-07-05T12:31:52.459265Z",
     "iopub.status.busy": "2023-07-05T12:31:52.458237Z",
     "iopub.status.idle": "2023-07-05T12:31:53.019341Z",
     "shell.execute_reply": "2023-07-05T12:31:53.018128Z",
     "shell.execute_reply.started": "2023-07-05T12:31:52.459216Z"
    },
    "id": "3t11OgTgZfV8",
    "tags": []
   },
   "outputs": [],
   "source": [
    "fig = plt.figure()\n",
    "sns.pointplot(y=\"NUM_PRVHOSPITAL_DAYS_1YR\", x=\"LOSClass2\", data=df_female, ci=95, join=False);\n",
    "plt.xlabel(\"LOS_7DAYS\")\n",
    "plt.ylabel(\"Number of Hospital Days in Previous year\")\n",
    "plt.show\n",
    "fig.savefig(\"prev_days_LOS2.png\", dpi=300, bbox_inches= \"tight\")"
   ]
  },
  {
   "cell_type": "markdown",
   "id": "e2fbc0c0-c03e-4ade-8fe2-557a0a4e8ef1",
   "metadata": {
    "tags": []
   },
   "source": [
    "#### VALIDITY OF NUM_PRVHOSPITAL_DAYS_1YR IN OUR PREDICTION OF LOS FOR 4 DAYS THRESHOLD"
   ]
  },
  {
   "cell_type": "code",
   "execution_count": 378,
   "id": "d9659531-18de-4f59-8b02-5d0ee02d2eb9",
   "metadata": {
    "execution": {
     "iopub.execute_input": "2023-07-04T13:59:00.869708Z",
     "iopub.status.busy": "2023-07-04T13:59:00.869538Z",
     "iopub.status.idle": "2023-07-04T13:59:00.885139Z",
     "shell.execute_reply": "2023-07-04T13:59:00.884355Z",
     "shell.execute_reply.started": "2023-07-04T13:59:00.869693Z"
    },
    "id": "3t11OgTgZfV8",
    "tags": []
   },
   "outputs": [],
   "source": [
    "df_female.groupby(['LOSClass', 'Ethnicity'])['NUM_PRVHOSPITAL_DAYS_1YR'].agg(['mean', 'std']).reset_index().to_csv(\"prev_days_LOS_ethn_stat.csv\")"
   ]
  },
  {
   "cell_type": "code",
   "execution_count": 379,
   "id": "2dfdd451-fe72-44a5-a643-c4dd92f78728",
   "metadata": {
    "execution": {
     "iopub.execute_input": "2023-07-04T13:59:00.885989Z",
     "iopub.status.busy": "2023-07-04T13:59:00.885825Z",
     "iopub.status.idle": "2023-07-04T13:59:00.910683Z",
     "shell.execute_reply": "2023-07-04T13:59:00.909907Z",
     "shell.execute_reply.started": "2023-07-04T13:59:00.885975Z"
    },
    "id": "3t11OgTgZfV8",
    "tags": []
   },
   "outputs": [],
   "source": [
    "# PREVADMISSIONS _READMIT30DAYS STAT_GENDER Stat\n",
    "df_female.groupby(['LOSClass', 'GNDR_DESC'])['NUM_PRVHOSPITAL_DAYS_1YR'].agg(['mean', 'std']).reset_index().to_csv(\"prev_days_LOS_gender_stat.csv\")"
   ]
  },
  {
   "cell_type": "code",
   "execution_count": 380,
   "id": "4890e47c-36fc-4b75-b21d-415e7e42a3e7",
   "metadata": {
    "execution": {
     "iopub.execute_input": "2023-07-04T13:59:00.911690Z",
     "iopub.status.busy": "2023-07-04T13:59:00.911491Z",
     "iopub.status.idle": "2023-07-04T13:59:00.922910Z",
     "shell.execute_reply": "2023-07-04T13:59:00.921978Z",
     "shell.execute_reply.started": "2023-07-04T13:59:00.911672Z"
    },
    "id": "3t11OgTgZfV8",
    "tags": []
   },
   "outputs": [],
   "source": [
    "df_female.groupby(['LOSClass', 'WIMD2019_QUINTILE_AT_INDEX_DATE'])['NUM_PRVHOSPITAL_DAYS_1YR'].agg(['mean', 'std']).reset_index().to_csv(\"prev_days_LOS_wimd_stat.csv\")"
   ]
  },
  {
   "cell_type": "code",
   "execution_count": 381,
   "id": "23f8f594-a1ef-4f05-8eb1-660eee9917d8",
   "metadata": {
    "execution": {
     "iopub.execute_input": "2023-07-04T13:59:00.923723Z",
     "iopub.status.busy": "2023-07-04T13:59:00.923560Z",
     "iopub.status.idle": "2023-07-04T13:59:00.936152Z",
     "shell.execute_reply": "2023-07-04T13:59:00.935302Z",
     "shell.execute_reply.started": "2023-07-04T13:59:00.923709Z"
    },
    "tags": []
   },
   "outputs": [],
   "source": [
    "df.groupby(['LOSClass'])['NUM_PRVHOSPITAL_DAYS_1YR'].agg(['mean', 'std']).reset_index().to_csv(\"prev_days_LOS.csv\")"
   ]
  },
  {
   "cell_type": "code",
   "execution_count": null,
   "id": "9d7a373e-aa22-4fbd-90b9-7eb8c3042bb9",
   "metadata": {
    "execution": {
     "iopub.execute_input": "2023-07-05T12:33:56.061733Z",
     "iopub.status.busy": "2023-07-05T12:33:56.060594Z",
     "iopub.status.idle": "2023-07-05T12:33:56.961942Z",
     "shell.execute_reply": "2023-07-05T12:33:56.961154Z",
     "shell.execute_reply.started": "2023-07-05T12:33:56.061681Z"
    },
    "tags": []
   },
   "outputs": [],
   "source": [
    "# previous admissions- readmission - ethnicity figure (dodge)\n",
    "fig = plt.figure()\n",
    "sns.pointplot(y=\"NUM_PRVHOSPITAL_DAYS_1YR\", x=\"LOSClass\", hue=\"Ethnicity\",\n",
    "             data=df_female, ci=95, join=False, dodge=True);\n",
    "plt.xlabel(\"LOS_4DAYS\")\n",
    "plt.ylabel(\"Number of Hospital Days in Previous year\")\n",
    "plt.show\n",
    "fig.savefig(\"prev_days__LOS_ethn_dodge.png\", dpi=300, bbox_inches= \"tight\")"
   ]
  },
  {
   "cell_type": "code",
   "execution_count": null,
   "id": "30c22dba-bbe8-4115-96d3-781c6471094d",
   "metadata": {
    "execution": {
     "iopub.execute_input": "2023-07-04T13:59:03.305584Z",
     "iopub.status.busy": "2023-07-04T13:59:03.305419Z",
     "iopub.status.idle": "2023-07-04T13:59:04.431166Z",
     "shell.execute_reply": "2023-07-04T13:59:04.430621Z",
     "shell.execute_reply.started": "2023-07-04T13:59:03.305570Z"
    },
    "id": "3t11OgTgZfV8",
    "tags": []
   },
   "outputs": [],
   "source": [
    "# PREVADMISSIONS _READMIT30DAYS WIMD2019_QUINTILE_AT_INDEX_DATE Figure (dodge)\n",
    "fig = plt.figure()\n",
    "aa = sns.pointplot(y=\"NUM_PRVHOSPITAL_DAYS_1YR\", x=\"LOSClass\", hue=\"WIMD2019_QUINTILE_AT_INDEX_DATE\",\n",
    "             data=df_female, ci=95, dodge=True,  join=False);\n",
    "plt.xlabel(\"LOS_4DAYS\")\n",
    "plt.ylabel(\"Number of Hospital Days in Previous year\")\n",
    "sns.move_legend(aa, 'upper left', bbox_to_anchor=(1,1))\n",
    "plt.legend(title=\"WIMD 2019 - Quintile\")\n",
    "plt.show\n",
    "fig.savefig(\"prev_days__LOS_wimd_dodge.png\", dpi=300, bbox_inches= \"tight\")"
   ]
  },
  {
   "cell_type": "code",
   "execution_count": null,
   "id": "f451a919-c08e-4003-b052-20a6f1876f41",
   "metadata": {
    "execution": {
     "iopub.execute_input": "2023-07-04T13:59:04.432197Z",
     "iopub.status.busy": "2023-07-04T13:59:04.432016Z",
     "iopub.status.idle": "2023-07-04T13:59:05.257429Z",
     "shell.execute_reply": "2023-07-04T13:59:05.256886Z",
     "shell.execute_reply.started": "2023-07-04T13:59:04.432182Z"
    },
    "id": "3t11OgTgZfV8",
    "tags": []
   },
   "outputs": [],
   "source": [
    "fig = plt.figure()\n",
    "sns.pointplot(y=\"NUM_PRVHOSPITAL_DAYS_1YR\", x=\"LOSClass\", data=df_female, ci=95, join=False);\n",
    "plt.xlabel(\"LOS_4DAYS\")\n",
    "plt.ylabel(\"Number of Hospital Days in Previous year\")\n",
    "plt.show\n",
    "fig.savefig(\"prev_days_LOS.png\", dpi=300, bbox_inches= \"tight\")"
   ]
  },
  {
   "cell_type": "markdown",
   "id": "5af253f7-2b11-42a7-822e-ef1ecb4db4de",
   "metadata": {
    "tags": []
   },
   "source": [
    "#### VALIDITY OF TOTAL COMORBIDITY_COUNT IN OUR PREDICTION OF LOS FOR 4 DAYS THRESHOLD"
   ]
  },
  {
   "cell_type": "code",
   "execution_count": 386,
   "id": "1b2b0056-f184-40e6-84ef-d590088e96a2",
   "metadata": {
    "execution": {
     "iopub.execute_input": "2023-07-04T13:59:05.258295Z",
     "iopub.status.busy": "2023-07-04T13:59:05.258124Z",
     "iopub.status.idle": "2023-07-04T13:59:05.280127Z",
     "shell.execute_reply": "2023-07-04T13:59:05.279195Z",
     "shell.execute_reply.started": "2023-07-04T13:59:05.258281Z"
    },
    "id": "3t11OgTgZfV8",
    "tags": []
   },
   "outputs": [],
   "source": [
    "df_female.groupby(['LOSClass', 'Ethnicity'])['COMORBIDITY_COUNT'].agg(['mean', 'std']).reset_index().to_csv(\"Comorbid_LOS_ethn_stat.csv\")"
   ]
  },
  {
   "cell_type": "code",
   "execution_count": 387,
   "id": "3c3b6596-2b94-4f2d-9055-74687bfa0859",
   "metadata": {
    "execution": {
     "iopub.execute_input": "2023-07-04T13:59:05.281124Z",
     "iopub.status.busy": "2023-07-04T13:59:05.280934Z",
     "iopub.status.idle": "2023-07-04T13:59:05.294039Z",
     "shell.execute_reply": "2023-07-04T13:59:05.293269Z",
     "shell.execute_reply.started": "2023-07-04T13:59:05.281107Z"
    },
    "id": "3t11OgTgZfV8",
    "tags": []
   },
   "outputs": [],
   "source": [
    "# PREVADMISSIONS _READMIT30DAYS STAT_GENDER Stat\n",
    "df_female.groupby(['LOSClass', 'GNDR_DESC'])['COMORBIDITY_COUNT'].agg(['mean', 'std']).reset_index().to_csv(\"Comorbid_LOS_gender_stat.csv\")"
   ]
  },
  {
   "cell_type": "code",
   "execution_count": 388,
   "id": "35a839fe-f1b8-4af6-9c65-57aa8fa8885f",
   "metadata": {
    "execution": {
     "iopub.execute_input": "2023-07-04T13:59:05.294815Z",
     "iopub.status.busy": "2023-07-04T13:59:05.294663Z",
     "iopub.status.idle": "2023-07-04T13:59:05.308548Z",
     "shell.execute_reply": "2023-07-04T13:59:05.307942Z",
     "shell.execute_reply.started": "2023-07-04T13:59:05.294801Z"
    },
    "id": "3t11OgTgZfV8",
    "tags": []
   },
   "outputs": [],
   "source": [
    "df_female.groupby(['LOSClass', 'WIMD2019_QUINTILE_AT_INDEX_DATE'])['COMORBIDITY_COUNT'].agg(['mean', 'std']).reset_index().to_csv(\"Comorbid_LOS_wimd_stat.csv\")"
   ]
  },
  {
   "cell_type": "code",
   "execution_count": 389,
   "id": "d8cfc870-3b96-415c-b3a7-5c8692ad19b3",
   "metadata": {
    "execution": {
     "iopub.execute_input": "2023-07-04T13:59:05.309392Z",
     "iopub.status.busy": "2023-07-04T13:59:05.309241Z",
     "iopub.status.idle": "2023-07-04T13:59:05.317161Z",
     "shell.execute_reply": "2023-07-04T13:59:05.316749Z",
     "shell.execute_reply.started": "2023-07-04T13:59:05.309378Z"
    },
    "tags": []
   },
   "outputs": [],
   "source": [
    "df_female.groupby(['LOSClass'])['COMORBIDITY_COUNT'].agg(['mean', 'std']).reset_index().to_csv(\"Comorbid_LOS.csv\")"
   ]
  },
  {
   "cell_type": "code",
   "execution_count": null,
   "id": "c48967d1-02f4-41ef-a716-1e7eed425d80",
   "metadata": {
    "execution": {
     "iopub.execute_input": "2023-07-05T12:34:37.096860Z",
     "iopub.status.busy": "2023-07-05T12:34:37.096331Z",
     "iopub.status.idle": "2023-07-05T12:34:38.069907Z",
     "shell.execute_reply": "2023-07-05T12:34:38.069307Z",
     "shell.execute_reply.started": "2023-07-05T12:34:37.096817Z"
    },
    "tags": []
   },
   "outputs": [],
   "source": [
    "# previous admissions- readmission - ethnicity figure (dodge)\n",
    "fig = plt.figure()\n",
    "sns.pointplot(y=\"COMORBIDITY_COUNT\", x=\"LOSClass\", hue=\"Ethnicity\",\n",
    "             data=df_female, ci=95, join=False, dodge=True);\n",
    "plt.xlabel(\"LOS_4DAYS\")\n",
    "plt.ylabel(\"Number of Comorbidities at Admission\")\n",
    "plt.show\n",
    "fig.savefig(\"Comorbid__LOS_ethn_dodge.png\", dpi=300, bbox_inches= \"tight\")"
   ]
  },
  {
   "cell_type": "code",
   "execution_count": null,
   "id": "4f723362-0249-4f78-972f-8344e4810519",
   "metadata": {
    "execution": {
     "iopub.execute_input": "2023-07-05T12:38:05.014782Z",
     "iopub.status.busy": "2023-07-05T12:38:05.014220Z",
     "iopub.status.idle": "2023-07-05T12:38:05.852591Z",
     "shell.execute_reply": "2023-07-05T12:38:05.852005Z",
     "shell.execute_reply.started": "2023-07-05T12:38:05.014737Z"
    },
    "id": "3t11OgTgZfV8",
    "tags": []
   },
   "outputs": [],
   "source": [
    "# PREVADMISSIONS _READMIT30DAYS STAT_GENDER figure normal\n",
    "fig = plt.figure()\n",
    "aa = sns.pointplot(y=\"COMORBIDITY_COUNT\", x=\"LOSClass\", hue=\"GNDR_DESC\",\n",
    "             data=df_female, ci=95, join=False, dodge=True);\n",
    "\n",
    "plt.xlabel(\"LOS_4DAYS\")\n",
    "plt.ylabel(\"Number of Comorbidities at Admission\")\n",
    "sns.move_legend(aa, loc='upper left', bbox_to_anchor=(1,1))\n",
    "#plt.legend(title=\"Gender\")\n",
    "plt.show\n",
    "fig.savefig(\"Comorbid__LOS_gender.png\", dpi=300, bbox_inches= \"tight\")"
   ]
  },
  {
   "cell_type": "code",
   "execution_count": null,
   "id": "ac7512a1-37ab-4d80-b5ae-56d40b037f48",
   "metadata": {
    "execution": {
     "iopub.execute_input": "2023-07-05T12:42:52.298406Z",
     "iopub.status.busy": "2023-07-05T12:42:52.297274Z",
     "iopub.status.idle": "2023-07-05T12:42:53.320220Z",
     "shell.execute_reply": "2023-07-05T12:42:53.319526Z",
     "shell.execute_reply.started": "2023-07-05T12:42:52.298359Z"
    },
    "id": "3t11OgTgZfV8",
    "tags": []
   },
   "outputs": [],
   "source": [
    "# PREVADMISSIONS _READMIT30DAYS WIMD2019_QUINTILE_AT_INDEX_DATE Figure (dodge)\n",
    "fig = plt.figure()\n",
    "aa = sns.pointplot(y=\"COMORBIDITY_COUNT\", x=\"LOSClass\", hue=\"WIMD2019_QUINTILE_AT_INDEX_DATE\",\n",
    "             data=df_female, ci=95, dodge=True,  join=False);\n",
    "plt.xlabel(\"LOS_4DAYS\")\n",
    "plt.ylabel(\"Number of Comorbidities at Admission\")\n",
    "sns.move_legend(aa, 'upper left', bbox_to_anchor=(1,1))\n",
    "plt.legend(title=\"WIMD 2019 - Quintile\")\n",
    "plt.show\n",
    "fig.savefig(\"Comorbid__LOS_wimd_dodge.png\", dpi=300, bbox_inches= \"tight\")"
   ]
  },
  {
   "cell_type": "code",
   "execution_count": null,
   "id": "b1364418-b07c-4557-8ebc-1747ded55f61",
   "metadata": {
    "execution": {
     "iopub.execute_input": "2023-07-04T13:59:08.791433Z",
     "iopub.status.busy": "2023-07-04T13:59:08.791255Z",
     "iopub.status.idle": "2023-07-04T13:59:09.638386Z",
     "shell.execute_reply": "2023-07-04T13:59:09.637636Z",
     "shell.execute_reply.started": "2023-07-04T13:59:08.791418Z"
    },
    "id": "3t11OgTgZfV8",
    "tags": []
   },
   "outputs": [],
   "source": [
    "fig = plt.figure()\n",
    "sns.pointplot(y=\"COMORBIDITY_COUNT\", x=\"LOSClass\", data=df, ci=95, join=False);\n",
    "plt.xlabel(\"LOS_4DAYS\")\n",
    "plt.ylabel(\"Number of Comorbidities at Admission\")\n",
    "plt.show\n",
    "fig.savefig(\"Comorbid_LOS.png\", dpi=300, bbox_inches= \"tight\")"
   ]
  },
  {
   "cell_type": "markdown",
   "id": "63792574-a344-4d58-9b63-ff49bcc96abd",
   "metadata": {
    "tags": []
   },
   "source": [
    "#### VALIDITY OF TOTAL COMORBIDITIES WITHIN 24 HOURS OF ADMISSION IN OUR PREDICTION OF LOS FOR 4 DAYS THRESHOLD"
   ]
  },
  {
   "cell_type": "code",
   "execution_count": 394,
   "id": "9a3c906f-77f9-43fa-8d5e-8de59272bfa8",
   "metadata": {
    "execution": {
     "iopub.execute_input": "2023-07-04T13:59:09.639292Z",
     "iopub.status.busy": "2023-07-04T13:59:09.639117Z",
     "iopub.status.idle": "2023-07-04T13:59:09.652452Z",
     "shell.execute_reply": "2023-07-04T13:59:09.651740Z",
     "shell.execute_reply.started": "2023-07-04T13:59:09.639278Z"
    },
    "id": "3t11OgTgZfV8",
    "tags": []
   },
   "outputs": [],
   "source": [
    "df_female.groupby(['LOSClass', 'Ethnicity'])['NUMCOMORBIDITIES_24HRS'].agg(['mean', 'std']).reset_index().to_csv(\"NumComorbid24hr_LOS_ethn_stat.csv\")"
   ]
  },
  {
   "cell_type": "code",
   "execution_count": 395,
   "id": "c31ac43c-f7a0-41eb-8020-6f79259f8b38",
   "metadata": {
    "execution": {
     "iopub.execute_input": "2023-07-04T13:59:09.653420Z",
     "iopub.status.busy": "2023-07-04T13:59:09.653193Z",
     "iopub.status.idle": "2023-07-04T13:59:09.667742Z",
     "shell.execute_reply": "2023-07-04T13:59:09.667338Z",
     "shell.execute_reply.started": "2023-07-04T13:59:09.653405Z"
    },
    "id": "3t11OgTgZfV8",
    "tags": []
   },
   "outputs": [],
   "source": [
    "# PREVADMISSIONS _READMIT30DAYS STAT_GENDER Stat\n",
    "df_female.groupby(['LOSClass', 'GNDR_DESC'])['NUMCOMORBIDITIES_24HRS'].agg(['mean', 'std']).reset_index().to_csv(\"NumComorbid24hr_LOS_gender_stat.csv\")"
   ]
  },
  {
   "cell_type": "code",
   "execution_count": 396,
   "id": "846a8be6-f9cc-442e-8382-3a8d047a2c0c",
   "metadata": {
    "execution": {
     "iopub.execute_input": "2023-07-04T13:59:09.668637Z",
     "iopub.status.busy": "2023-07-04T13:59:09.668410Z",
     "iopub.status.idle": "2023-07-04T13:59:09.680032Z",
     "shell.execute_reply": "2023-07-04T13:59:09.679571Z",
     "shell.execute_reply.started": "2023-07-04T13:59:09.668623Z"
    },
    "id": "3t11OgTgZfV8",
    "tags": []
   },
   "outputs": [],
   "source": [
    "df_female.groupby(['LOSClass', 'WIMD2019_QUINTILE_AT_INDEX_DATE'])['NUMCOMORBIDITIES_24HRS'].agg(['mean', 'std']).reset_index().to_csv(\"NumComorbid24hr_LOS_wimd_stat.csv\")"
   ]
  },
  {
   "cell_type": "code",
   "execution_count": 397,
   "id": "ceae9441-96d5-4c7a-8745-e3d77af06bc0",
   "metadata": {
    "execution": {
     "iopub.execute_input": "2023-07-04T13:59:09.680799Z",
     "iopub.status.busy": "2023-07-04T13:59:09.680643Z",
     "iopub.status.idle": "2023-07-04T13:59:09.688404Z",
     "shell.execute_reply": "2023-07-04T13:59:09.687961Z",
     "shell.execute_reply.started": "2023-07-04T13:59:09.680786Z"
    },
    "tags": []
   },
   "outputs": [],
   "source": [
    "df_female.groupby(['LOSClass'])['NUMCOMORBIDITIES_24HRS'].agg(['mean', 'std']).reset_index().to_csv(\"NumComorbid24hr_LOS.csv\")"
   ]
  },
  {
   "cell_type": "code",
   "execution_count": null,
   "id": "633d1ed2-25e3-49c4-8890-5ab6fffb3080",
   "metadata": {
    "execution": {
     "iopub.execute_input": "2023-10-05T13:59:48.259798Z",
     "iopub.status.busy": "2023-10-05T13:59:48.259124Z",
     "iopub.status.idle": "2023-10-05T13:59:49.023554Z",
     "shell.execute_reply": "2023-10-05T13:59:49.022782Z",
     "shell.execute_reply.started": "2023-10-05T13:59:48.259732Z"
    },
    "tags": []
   },
   "outputs": [],
   "source": [
    "# previous admissions- readmission - ethnicity figure (dodge)\n",
    "fig = plt.figure()\n",
    "sns.pointplot(y=\"NUMCOMORBIDITIES_24HRS\", x=\"LOSClass\", hue=\"Ethnicity\",\n",
    "             data=df_female, ci=95, join=False, dodge=True);\n",
    "plt.xlabel(\"LOS$\\geq$4DAYS\")\n",
    "plt.ylabel(\"NUMCOMORBIDITIES_24HRS\")\n",
    "# plt.title(\"Number of Conditions Related to Episodes Occuring within 24Hours of Admission\")\n",
    "plt.show\n",
    "fig.savefig(\"NumComorbid24hr__LOS_ethn_dodge_FEMALE.png\", dpi=300, bbox_inches= \"tight\")"
   ]
  },
  {
   "cell_type": "code",
   "execution_count": null,
   "id": "4eefc27a-fe6c-4e4a-a1ed-e68cccff25da",
   "metadata": {
    "execution": {
     "iopub.execute_input": "2023-07-06T14:33:28.179935Z",
     "iopub.status.busy": "2023-07-06T14:33:28.179357Z",
     "iopub.status.idle": "2023-07-06T14:33:28.849712Z",
     "shell.execute_reply": "2023-07-06T14:33:28.849148Z",
     "shell.execute_reply.started": "2023-07-06T14:33:28.179888Z"
    },
    "id": "3t11OgTgZfV8",
    "tags": []
   },
   "outputs": [],
   "source": [
    "# PREVADMISSIONS _READMIT30DAYS STAT_GENDER figure normal\n",
    "fig = plt.figure()\n",
    "aa = sns.pointplot(y=\"NUMCOMORBIDITIES_24HRS\", x=\"LOSClass\", hue=\"GNDR_DESC\",\n",
    "             data=df_female, ci=95, join=False, dodge=True);\n",
    "\n",
    "plt.xlabel(\"LOS_4DAYS\")\n",
    "plt.ylabel(\"Number of Conditions\")\n",
    "plt.title(\"Number of Conditions Related to Episodes Occuring within 24Hours of Admission\")\n",
    "sns.move_legend(aa, loc='upper left', bbox_to_anchor=(1,1))\n",
    "plt.legend(title=\"Gender\")\n",
    "plt.show\n",
    "fig.savefig(\"NumComorbid24hr__LOS_gender.png\", dpi=300, bbox_inches= \"tight\")"
   ]
  },
  {
   "cell_type": "code",
   "execution_count": null,
   "id": "e719646c-8984-4fbe-aff3-c5ab2a3a9bc8",
   "metadata": {
    "execution": {
     "iopub.execute_input": "2023-07-04T13:59:11.952304Z",
     "iopub.status.busy": "2023-07-04T13:59:11.952119Z",
     "iopub.status.idle": "2023-07-04T13:59:13.215437Z",
     "shell.execute_reply": "2023-07-04T13:59:13.214862Z",
     "shell.execute_reply.started": "2023-07-04T13:59:11.952288Z"
    },
    "id": "3t11OgTgZfV8",
    "tags": []
   },
   "outputs": [],
   "source": [
    "# PREVADMISSIONS _READMIT30DAYS WIMD2019_QUINTILE_AT_INDEX_DATE Figure (dodge)\n",
    "fig = plt.figure()\n",
    "aa = sns.pointplot(y=\"NUMCOMORBIDITIES_24HRS\", x=\"LOSClass\", hue=\"WIMD2019_QUINTILE_AT_INDEX_DATE\",\n",
    "             data=df_female, ci=95, dodge=True,  join=False);\n",
    "plt.xlabel(\"LOS_4DAYS\")\n",
    "plt.ylabel(\"Number of Conditions\")\n",
    "plt.title(\"Number of Conditions Related to Episodes Occuring within 24Hours of Admission\")\n",
    "sns.move_legend(aa, 'upper left', bbox_to_anchor=(1,1))\n",
    "plt.legend(title=\"WIMD 2019 - Quintile\")\n",
    "plt.show\n",
    "fig.savefig(\"NumComorbid24hr__LOS_wimd_dodge.png\", dpi=300, bbox_inches= \"tight\")"
   ]
  },
  {
   "cell_type": "code",
   "execution_count": null,
   "id": "5180d72d-aa5d-4238-8ca0-2634d17f37b2",
   "metadata": {
    "execution": {
     "iopub.execute_input": "2023-07-04T13:59:13.216441Z",
     "iopub.status.busy": "2023-07-04T13:59:13.216262Z",
     "iopub.status.idle": "2023-07-04T13:59:14.079190Z",
     "shell.execute_reply": "2023-07-04T13:59:14.078620Z",
     "shell.execute_reply.started": "2023-07-04T13:59:13.216426Z"
    },
    "id": "3t11OgTgZfV8",
    "tags": []
   },
   "outputs": [],
   "source": [
    "fig = plt.figure()\n",
    "sns.pointplot(y=\"NUMCOMORBIDITIES_24HRS\", x=\"LOSClass\", data=df_female, ci=95, join=False);\n",
    "plt.xlabel(\"LOS_4DAYS\")\n",
    "plt.ylabel(\"Number of Conditions\")\n",
    "plt.title(\"Number of Conditions Related to Episodes Occuring within 24Hours of Admission\")\n",
    "plt.show\n",
    "fig.savefig(\"NumComorbid24hr_LOS.png\", dpi=300, bbox_inches= \"tight\")"
   ]
  },
  {
   "cell_type": "markdown",
   "id": "188ee096-1c82-432e-83c1-e68544693cea",
   "metadata": {
    "tags": []
   },
   "source": [
    "#### VALIDITY OF NUMBER OF HOSPITAL EPISODES WITHIN 24 HOURS OF ADMISSION IN OUR PREDICTION OF LOS FOR 4 DAYS THRESHOLD"
   ]
  },
  {
   "cell_type": "code",
   "execution_count": 55,
   "id": "2032ee61-5739-4b7f-b807-a9b85f9e5971",
   "metadata": {
    "execution": {
     "iopub.execute_input": "2023-10-05T13:53:21.471938Z",
     "iopub.status.busy": "2023-10-05T13:53:21.471395Z",
     "iopub.status.idle": "2023-10-05T13:53:21.489936Z",
     "shell.execute_reply": "2023-10-05T13:53:21.488968Z",
     "shell.execute_reply.started": "2023-10-05T13:53:21.471895Z"
    },
    "id": "3t11OgTgZfV8",
    "tags": []
   },
   "outputs": [],
   "source": [
    "df_female.groupby(['LOSClass', 'Ethnicity'])['NUMEPISODES_24HRS'].agg(['mean', 'std']).reset_index().to_csv(\"NumEPI24hr_LOS_ethn_stat.csv\")"
   ]
  },
  {
   "cell_type": "code",
   "execution_count": 56,
   "id": "241afc8a-450b-479b-9d75-52503254c707",
   "metadata": {
    "execution": {
     "iopub.execute_input": "2023-10-05T13:53:21.774096Z",
     "iopub.status.busy": "2023-10-05T13:53:21.773634Z",
     "iopub.status.idle": "2023-10-05T13:53:21.792260Z",
     "shell.execute_reply": "2023-10-05T13:53:21.791077Z",
     "shell.execute_reply.started": "2023-10-05T13:53:21.774055Z"
    },
    "id": "3t11OgTgZfV8",
    "tags": []
   },
   "outputs": [],
   "source": [
    "# PREVADMISSIONS _READMIT30DAYS STAT_GENDER Stat\n",
    "df_female.groupby(['LOSClass', 'GNDR_DESC'])['NUMEPISODES_24HRS'].agg(['mean', 'std']).reset_index().to_csv(\"NumEPI24hr_LOS_gender_stat.csv\")"
   ]
  },
  {
   "cell_type": "code",
   "execution_count": 57,
   "id": "847f5288-d8c7-4ac7-ba0f-5ce1d3c65636",
   "metadata": {
    "execution": {
     "iopub.execute_input": "2023-10-05T13:53:22.153440Z",
     "iopub.status.busy": "2023-10-05T13:53:22.152972Z",
     "iopub.status.idle": "2023-10-05T13:53:22.174032Z",
     "shell.execute_reply": "2023-10-05T13:53:22.173240Z",
     "shell.execute_reply.started": "2023-10-05T13:53:22.153399Z"
    },
    "id": "3t11OgTgZfV8",
    "tags": []
   },
   "outputs": [],
   "source": [
    "df_female.groupby(['LOSClass', 'WIMD2019_QUINTILE_AT_INDEX_DATE'])['NUMEPISODES_24HRS'].agg(['mean', 'std']).reset_index().to_csv(\"NumEPI24hr_LOS_wimd_stat.csv\")"
   ]
  },
  {
   "cell_type": "code",
   "execution_count": 58,
   "id": "5d9d7e97-6c30-40e9-9185-38512e9c20d7",
   "metadata": {
    "execution": {
     "iopub.execute_input": "2023-10-05T13:53:22.253387Z",
     "iopub.status.busy": "2023-10-05T13:53:22.252882Z",
     "iopub.status.idle": "2023-10-05T13:53:22.268431Z",
     "shell.execute_reply": "2023-10-05T13:53:22.266959Z",
     "shell.execute_reply.started": "2023-10-05T13:53:22.253342Z"
    },
    "tags": []
   },
   "outputs": [],
   "source": [
    "df_female.groupby(['LOSClass'])['NUMCOMORBIDITIES_24HRS'].agg(['mean', 'std']).reset_index().to_csv(\"NumEPI24hr_LOS.csv\")"
   ]
  },
  {
   "cell_type": "code",
   "execution_count": null,
   "id": "c9b5132b-2841-46fc-a76b-8d99f4168fc8",
   "metadata": {
    "execution": {
     "iopub.execute_input": "2023-10-05T13:54:59.926742Z",
     "iopub.status.busy": "2023-10-05T13:54:59.925759Z",
     "iopub.status.idle": "2023-10-05T13:55:00.698746Z",
     "shell.execute_reply": "2023-10-05T13:55:00.698203Z",
     "shell.execute_reply.started": "2023-10-05T13:54:59.926689Z"
    },
    "tags": []
   },
   "outputs": [],
   "source": [
    "# previous admissions- readmission - ethnicity figure (dodge)\n",
    "fig = plt.figure()\n",
    "sns.pointplot(y=\"NUMEPISODES_24HRS\", x=\"LOSClass\", hue=\"Ethnicity\",\n",
    "             data=df_female, ci=95, join=False, dodge=True);\n",
    "plt.xlabel(\"LOS$\\geq$4DAYS\")\n",
    "plt.ylabel(\"NUMEPISODES_24HRS\")\n",
    "#plt.title(\"Number of Conditions Related to Episodes Occuring within 24Hours of Admission\")\n",
    "plt.show\n",
    "fig.savefig(\"NumEPI24hr__LOS_ethn_dodge_FEMALE.png\", dpi=300, bbox_inches= \"tight\")"
   ]
  },
  {
   "cell_type": "code",
   "execution_count": null,
   "id": "4d35948d-9286-4aa1-bf6a-1031b2bf1bb7",
   "metadata": {
    "execution": {
     "iopub.execute_input": "2023-09-07T15:58:11.607724Z",
     "iopub.status.busy": "2023-09-07T15:58:11.607322Z",
     "iopub.status.idle": "2023-09-07T15:58:12.153299Z",
     "shell.execute_reply": "2023-09-07T15:58:12.152689Z",
     "shell.execute_reply.started": "2023-09-07T15:58:11.607698Z"
    },
    "id": "3t11OgTgZfV8",
    "tags": []
   },
   "outputs": [],
   "source": [
    "# PREVADMISSIONS _READMIT30DAYS STAT_GENDER figure normal\n",
    "fig = plt.figure()\n",
    "aa = sns.pointplot(y=\"NUMEPISODES_24HRS\", x=\"LOSClass\",\n",
    "             data=df_female, ci=95, join=False, dodge=True);\n",
    "\n",
    "plt.xlabel(\"LOS$\\geq$4DAYS\")\n",
    "plt.ylabel(\"NUMEPISODES_24HRS\")\n",
    "# plt.title(\"Number #of Conditions Related to Episodes Occuring within 24Hours of Admission\")\n",
    "# sns.move_legend(aa, loc='upper left', bbox_to_anchor=(1,1))\n",
    "# plt.legend(title=\"Gender\")\n",
    "plt.show\n",
    "fig.savefig(\"NumEPI24hr__LOS_gender.png\", dpi=300, bbox_inches= \"tight\")"
   ]
  },
  {
   "cell_type": "code",
   "execution_count": null,
   "id": "2ee8680d-bb7f-4e52-be65-585379e7928f",
   "metadata": {
    "execution": {
     "iopub.execute_input": "2023-09-07T15:58:22.379658Z",
     "iopub.status.busy": "2023-09-07T15:58:22.379233Z",
     "iopub.status.idle": "2023-09-07T15:58:22.882696Z",
     "shell.execute_reply": "2023-09-07T15:58:22.882222Z",
     "shell.execute_reply.started": "2023-09-07T15:58:22.379623Z"
    },
    "id": "3t11OgTgZfV8",
    "tags": []
   },
   "outputs": [],
   "source": [
    "fig = plt.figure()\n",
    "sns.pointplot(y=\"NUMEPISODES_24HRS\", x=\"LOSClass\", data=df_female, ci=95, join=False);\n",
    "plt.xlabel(\"LOS$\\geq$4DAYS\")\n",
    "plt.ylabel(\"NUMEPISODES_24HRS\")\n",
    "#plt.title(\"Number of Conditions Related to Episodes Occuring within 24Hours of Admission\")\n",
    "plt.show\n",
    "fig.savefig(\"NumEPI24hr_LOS.png\", dpi=300, bbox_inches= \"tight\")"
   ]
  },
  {
   "cell_type": "markdown",
   "id": "0fccade6-d3bb-4337-a16b-6a372778cff6",
   "metadata": {
    "id": "52wWLOFoXkho"
   },
   "source": [
    "## Prepare training and test datasets"
   ]
  },
  {
   "cell_type": "markdown",
   "id": "708491cb-f72e-4151-af4b-5aff3b4345b4",
   "metadata": {
    "id": "vCwtDyx8yqSG"
   },
   "source": [
    "As  mentioned in the task definition, the target variable is **LOS**, and our sensitive feature for the purposes of fairness assessment is **Ethnicity**.\n"
   ]
  },
  {
   "cell_type": "code",
   "execution_count": 48,
   "id": "2e375d16-fdc6-48a9-8878-0cd51fe3aad3",
   "metadata": {
    "execution": {
     "iopub.execute_input": "2024-02-18T17:07:00.277087Z",
     "iopub.status.busy": "2024-02-18T17:07:00.276517Z",
     "iopub.status.idle": "2024-02-18T17:07:00.286645Z",
     "shell.execute_reply": "2024-02-18T17:07:00.285369Z",
     "shell.execute_reply.started": "2024-02-18T17:07:00.277041Z"
    },
    "tags": []
   },
   "outputs": [
    {
     "data": {
      "text/plain": [
       "Index(['ALF_PE', 'CONDITION', 'COND', 'GNDR_DESC',\n",
       "       'WIMD2019_QUINTILE_AT_INDEX_DATE',\n",
       "       'TOWNSEND2011_QUINTILE_AT_INDEX_DATE', 'Ethnicity', 'LOS', 'COM_SEQ',\n",
       "       'COMORBIDITY_COUNT', 'AUTISM', 'ALCOHOL_HISTORY', 'SMOKING_HISTORY',\n",
       "       'MEDICATIONS', 'PHYSICAL', 'BMI', 'AGEGRP_AT_ADMIS_DT',\n",
       "       'NUM_PRVEPISODES_1YR', 'NUM_PRVCOMORBID_1YR', 'NUM_PRVCOMORBID_3YR',\n",
       "       'NUM_PRVEPISODES_3YR', 'NUMEPISODES_24HRS', 'NUMCOMORBIDITIES_24HRS',\n",
       "       'NUM_PRVADMISSION_1YR_COND', 'NUM_PRVADMISSION_3YR_COND',\n",
       "       'NUM_PRVADMISSION_1YR', 'NUM_PRVADMISSION_3YR',\n",
       "       'NUM_PRVHOSPITAL_DAYS_1YR', 'NUM_PRVHOSPITAL_DAYS_3YR', 'LOSClass',\n",
       "       'LOSClass2', 'TOTAL_COMORBIDITY'],\n",
       "      dtype='object')"
      ]
     },
     "execution_count": 48,
     "metadata": {},
     "output_type": "execute_result"
    }
   ],
   "source": [
    "df_female.columns"
   ]
  },
  {
   "cell_type": "code",
   "execution_count": 49,
   "id": "218befe6-5a46-4090-890d-50d12d86fea9",
   "metadata": {
    "execution": {
     "iopub.execute_input": "2024-02-18T17:08:36.124542Z",
     "iopub.status.busy": "2024-02-18T17:08:36.123975Z",
     "iopub.status.idle": "2024-02-18T17:08:36.697393Z",
     "shell.execute_reply": "2024-02-18T17:08:36.696400Z",
     "shell.execute_reply.started": "2024-02-18T17:08:36.124496Z"
    }
   },
   "outputs": [],
   "source": [
    "# df_female.to_csv(\"ML_ALLDATA_FEMALE.csv\")"
   ]
  },
  {
   "cell_type": "code",
   "execution_count": 341,
   "id": "d22b17c6-09a7-4d56-84b9-2b01c291b90a",
   "metadata": {
    "execution": {
     "iopub.execute_input": "2024-02-10T01:17:18.371462Z",
     "iopub.status.busy": "2024-02-10T01:17:18.370778Z",
     "iopub.status.idle": "2024-02-10T01:17:18.382924Z",
     "shell.execute_reply": "2024-02-10T01:17:18.381240Z",
     "shell.execute_reply.started": "2024-02-10T01:17:18.371413Z"
    },
    "tags": []
   },
   "outputs": [],
   "source": [
    "df_ml = df_female.drop(columns=['LOS', 'LOSClass2', 'TOWNSEND2011_QUINTILE_AT_INDEX_DATE', 'ALF_PE', 'CONDITION', 'COM_SEQ', 'COMORBIDITY_COUNT','NUM_PRVADMISSION_1YR_COND',\n",
    "                              'NUM_PRVADMISSION_3YR_COND'])"
   ]
  },
  {
   "cell_type": "code",
   "execution_count": 342,
   "id": "bae8afba-641c-44c7-97d0-77fea9e260ad",
   "metadata": {
    "execution": {
     "iopub.execute_input": "2024-02-10T01:17:19.035395Z",
     "iopub.status.busy": "2024-02-10T01:17:19.034708Z",
     "iopub.status.idle": "2024-02-10T01:17:19.043387Z",
     "shell.execute_reply": "2024-02-10T01:17:19.042416Z",
     "shell.execute_reply.started": "2024-02-10T01:17:19.035346Z"
    },
    "tags": []
   },
   "outputs": [
    {
     "data": {
      "text/plain": [
       "Index(['COND', 'GNDR_DESC', 'WIMD2019_QUINTILE_AT_INDEX_DATE', 'Ethnicity',\n",
       "       'AUTISM', 'ALCOHOL_HISTORY', 'SMOKING_HISTORY', 'MEDICATIONS',\n",
       "       'PHYSICAL', 'BMI', 'AGEGRP_AT_ADMIS_DT', 'NUM_PRVEPISODES_1YR',\n",
       "       'NUM_PRVCOMORBID_1YR', 'NUM_PRVCOMORBID_3YR', 'NUM_PRVEPISODES_3YR',\n",
       "       'NUMEPISODES_24HRS', 'NUMCOMORBIDITIES_24HRS', 'NUM_PRVADMISSION_1YR',\n",
       "       'NUM_PRVADMISSION_3YR', 'NUM_PRVHOSPITAL_DAYS_1YR',\n",
       "       'NUM_PRVHOSPITAL_DAYS_3YR', 'LOSClass', 'TOTAL_COMORBIDITY'],\n",
       "      dtype='object')"
      ]
     },
     "execution_count": 342,
     "metadata": {},
     "output_type": "execute_result"
    }
   ],
   "source": [
    "df_ml.columns"
   ]
  },
  {
   "cell_type": "code",
   "execution_count": 343,
   "id": "dd7c543d-13ee-490c-81f0-e6ef3f6c29a4",
   "metadata": {
    "execution": {
     "iopub.execute_input": "2024-02-10T01:17:19.952382Z",
     "iopub.status.busy": "2024-02-10T01:17:19.951705Z",
     "iopub.status.idle": "2024-02-10T01:17:20.484126Z",
     "shell.execute_reply": "2024-02-10T01:17:20.482440Z",
     "shell.execute_reply.started": "2024-02-10T01:17:19.952335Z"
    },
    "tags": []
   },
   "outputs": [],
   "source": [
    "df_ml.to_csv(\"ML_ALLDATA_FEMALE.csv\")"
   ]
  },
  {
   "cell_type": "code",
   "execution_count": 345,
   "id": "8daf8cc8-a062-4f01-b5d2-bdd4e3897162",
   "metadata": {
    "execution": {
     "iopub.execute_input": "2024-02-10T01:17:30.226118Z",
     "iopub.status.busy": "2024-02-10T01:17:30.225389Z",
     "iopub.status.idle": "2024-02-10T01:17:30.233089Z",
     "shell.execute_reply": "2024-02-10T01:17:30.231585Z",
     "shell.execute_reply.started": "2024-02-10T01:17:30.226068Z"
    },
    "id": "WpiSRj2JyqSH",
    "tags": []
   },
   "outputs": [],
   "source": [
    "target_variable = \"LOSClass\"\n",
    "demographic = [\"GNDR_DESC\", \"AGEGRP_AT_ADMIS_DT\", \"Ethnicity\", 'WIMD2019_QUINTILE_AT_INDEX_DATE']\n",
    "sensitive = [\"Ethnicity\", \"WIMD2019_QUINTILE_AT_INDEX_DATE\", \"GNDR_DESC\", \"AGEGRP_AT_ADMIS_DT\"]\n",
    "# sensitive = [\"Ethnicity\"]\n",
    "# sensitive = [\"AGEGRP_AT_ADMIS_DT\"]\n",
    "# If multiple sensitive features are chosen, the rest of the script considers intersectional groups."
   ]
  },
  {
   "cell_type": "code",
   "execution_count": 346,
   "id": "9b940992-3395-49f3-926a-a5679185c519",
   "metadata": {
    "execution": {
     "iopub.execute_input": "2024-02-10T01:17:31.591818Z",
     "iopub.status.busy": "2024-02-10T01:17:31.591143Z",
     "iopub.status.idle": "2024-02-10T01:17:31.598878Z",
     "shell.execute_reply": "2024-02-10T01:17:31.597865Z",
     "shell.execute_reply.started": "2024-02-10T01:17:31.591770Z"
    },
    "id": "uaNqDyqvi1QE",
    "tags": []
   },
   "outputs": [],
   "source": [
    "Y, A = df_ml.loc[:, target_variable], df_ml.loc[:, sensitive]"
   ]
  },
  {
   "cell_type": "code",
   "execution_count": null,
   "id": "60c5a5e9-243e-436b-8964-935dfc8b7858",
   "metadata": {
    "execution": {
     "iopub.execute_input": "2024-02-10T01:17:32.283758Z",
     "iopub.status.busy": "2024-02-10T01:17:32.283084Z",
     "iopub.status.idle": "2024-02-10T01:17:32.290880Z",
     "shell.execute_reply": "2024-02-10T01:17:32.289760Z",
     "shell.execute_reply.started": "2024-02-10T01:17:32.283710Z"
    },
    "tags": []
   },
   "outputs": [],
   "source": [
    "df_ml.shape"
   ]
  },
  {
   "cell_type": "markdown",
   "id": "e23c3702-4d2a-4547-adc3-0ad8b7f11911",
   "metadata": {
    "id": "niu49A9YXQmf"
   },
   "source": [
    "We next drop the features that we don't want to use in our model and expand the categorical features into 0/1 indicators (\"dummies\")."
   ]
  },
  {
   "cell_type": "code",
   "execution_count": null,
   "id": "8bcca481-2bcb-4310-9bfb-c6b7b0df1d85",
   "metadata": {
    "execution": {
     "iopub.execute_input": "2024-02-10T01:17:33.857395Z",
     "iopub.status.busy": "2024-02-10T01:17:33.856723Z",
     "iopub.status.idle": "2024-02-10T01:17:33.947352Z",
     "shell.execute_reply": "2024-02-10T01:17:33.946773Z",
     "shell.execute_reply.started": "2024-02-10T01:17:33.857348Z"
    },
    "tags": []
   },
   "outputs": [],
   "source": [
    "from sklearn.preprocessing import MultiLabelBinarizer\n",
    "\n",
    "mlb= MultiLabelBinarizer()\n",
    "dum= mlb.fit_transform(df_ml.COND)\n",
    "\n",
    "df_ml=df_ml.join(pd.DataFrame(dum.astype(bool), df_ml.index, mlb.classes_))\n",
    "df_ml"
   ]
  },
  {
   "cell_type": "code",
   "execution_count": 350,
   "id": "c2e9723f-5591-448a-8c24-06f887a36c80",
   "metadata": {
    "execution": {
     "iopub.execute_input": "2024-02-10T01:17:36.162731Z",
     "iopub.status.busy": "2024-02-10T01:17:36.162053Z",
     "iopub.status.idle": "2024-02-10T01:17:36.182661Z",
     "shell.execute_reply": "2024-02-10T01:17:36.181911Z",
     "shell.execute_reply.started": "2024-02-10T01:17:36.162683Z"
    },
    "id": "JXyRuCsri1cY",
    "tags": []
   },
   "outputs": [],
   "source": [
    "X = pd.get_dummies(df_ml.drop(columns=['LOSClass', 'Ethnicity', 'WIMD2019_QUINTILE_AT_INDEX_DATE', 'GNDR_DESC','COND']))"
   ]
  },
  {
   "cell_type": "markdown",
   "id": "1e4ebc2e-e8f4-442b-8029-3f5d5456bac6",
   "metadata": {
    "id": "ATzi8cKCD7V3"
   },
   "source": [
    "We split our data into a training and test portion. The test portion will be used to evaluate our performance metric (i.e., balanced accuracy), but also for fairness assessment. The split is half/half for training and test to ensure that we have sufficient sample sizes for fairness assessment."
   ]
  },
  {
   "cell_type": "code",
   "execution_count": null,
   "id": "eca46b5f-e019-46f7-9889-0f6d61002c91",
   "metadata": {
    "execution": {
     "iopub.execute_input": "2024-02-10T01:17:38.500358Z",
     "iopub.status.busy": "2024-02-10T01:17:38.499679Z",
     "iopub.status.idle": "2024-02-10T01:17:38.544274Z",
     "shell.execute_reply": "2024-02-10T01:17:38.543653Z",
     "shell.execute_reply.started": "2024-02-10T01:17:38.500310Z"
    },
    "tags": []
   },
   "outputs": [],
   "source": [
    "# normalise the non-categorical features to be within 0 and 1\n",
    "from sklearn.preprocessing import MinMaxScaler\n",
    "\n",
    "for col in X.columns:\n",
    "  if len(X[col].unique()) > 2:\n",
    "    X[col] = MinMaxScaler().fit_transform(X[col].values.reshape(-1,1))\n",
    "\n",
    "X.head()"
   ]
  },
  {
   "cell_type": "code",
   "execution_count": 354,
   "id": "777d04de-64cf-4327-8e2b-169b5baedd2f",
   "metadata": {
    "execution": {
     "iopub.execute_input": "2024-02-10T01:17:39.047938Z",
     "iopub.status.busy": "2024-02-10T01:17:39.047268Z",
     "iopub.status.idle": "2024-02-10T01:17:39.053531Z",
     "shell.execute_reply": "2024-02-10T01:17:39.052144Z",
     "shell.execute_reply.started": "2024-02-10T01:17:39.047892Z"
    },
    "tags": []
   },
   "outputs": [],
   "source": [
    "# X.to_csv(\"ML_INPUT_FEMALE.csv\")"
   ]
  },
  {
   "cell_type": "code",
   "execution_count": 355,
   "id": "66b65aea-f590-43c9-a9db-4a59293e8a73",
   "metadata": {
    "execution": {
     "iopub.execute_input": "2024-02-10T01:17:40.094715Z",
     "iopub.status.busy": "2024-02-10T01:17:40.094041Z",
     "iopub.status.idle": "2024-02-10T01:17:40.100618Z",
     "shell.execute_reply": "2024-02-10T01:17:40.099412Z",
     "shell.execute_reply.started": "2024-02-10T01:17:40.094668Z"
    },
    "id": "-wpnURazmJ4-",
    "tags": []
   },
   "outputs": [],
   "source": [
    "random_seed = 445\n",
    "np.random.seed(random_seed)"
   ]
  },
  {
   "cell_type": "code",
   "execution_count": 356,
   "id": "67c76d25-2dbb-43cf-b2c3-80f11a9d1fbc",
   "metadata": {
    "execution": {
     "iopub.execute_input": "2024-02-10T01:17:40.535932Z",
     "iopub.status.busy": "2024-02-10T01:17:40.535256Z",
     "iopub.status.idle": "2024-02-10T01:17:40.577068Z",
     "shell.execute_reply": "2024-02-10T01:17:40.576435Z",
     "shell.execute_reply.started": "2024-02-10T01:17:40.535885Z"
    },
    "id": "xgl_b-CUl7TW",
    "tags": []
   },
   "outputs": [],
   "source": [
    "X_train, X_test, Y_train, Y_test, A_train, A_test, df_train, df_test = train_test_split(\n",
    "    X,\n",
    "    Y,\n",
    "    A,\n",
    "    df_ml,\n",
    "    test_size=0.50,\n",
    "    stratify=Y,\n",
    "    random_state=random_seed\n",
    "    # random_state=None\n",
    ")"
   ]
  },
  {
   "cell_type": "code",
   "execution_count": null,
   "id": "8e1e7298-7c49-4987-9357-81268a32889c",
   "metadata": {
    "execution": {
     "iopub.execute_input": "2024-02-10T01:17:41.089766Z",
     "iopub.status.busy": "2024-02-10T01:17:41.089054Z",
     "iopub.status.idle": "2024-02-10T01:17:41.101613Z",
     "shell.execute_reply": "2024-02-10T01:17:41.100531Z",
     "shell.execute_reply.started": "2024-02-10T01:17:41.089719Z"
    },
    "tags": []
   },
   "outputs": [],
   "source": [
    "Y_train.value_counts()"
   ]
  },
  {
   "cell_type": "markdown",
   "id": "6071d402-45ef-4fe0-a8db-1095db335fa8",
   "metadata": {
    "id": "eSMbXR9iVqr8"
   },
   "source": [
    "\n",
    "\n",
    "\n",
    "Our performance metric is **balanced accuracy**, so for the purposes of training (but not evaluation!) we will resample the data set, so that it has the same number of positive and negative examples. This means that we can use estimators that optimize standard accuracy (although some estimators allow the use us importance weights).\n"
   ]
  },
  {
   "cell_type": "markdown",
   "id": "8ca57d1f-2851-4e4d-b66d-3fce888f977d",
   "metadata": {
    "id": "nPNQpb2ZN1ku"
   },
   "source": [
    "Because we are downsampling the number of negative examples, we create a training dataset with a significantly lower number of data points. For more complex machine learning models, this lower number of training data points may affect the model's accuracy."
   ]
  },
  {
   "cell_type": "code",
   "execution_count": 358,
   "id": "9b8e40e9-7cc6-4ee7-b165-a310b8bc47bc",
   "metadata": {
    "execution": {
     "iopub.execute_input": "2024-02-10T01:17:57.288068Z",
     "iopub.status.busy": "2024-02-10T01:17:57.287392Z",
     "iopub.status.idle": "2024-02-10T01:17:57.296254Z",
     "shell.execute_reply": "2024-02-10T01:17:57.295081Z",
     "shell.execute_reply.started": "2024-02-10T01:17:57.288021Z"
    },
    "id": "L1aVgzyFNa4B",
    "tags": []
   },
   "outputs": [],
   "source": [
    "def resample_dataset(X_train, Y_train, A_train):\n",
    "\n",
    "  negative_ids = Y_train[Y_train == 0].index\n",
    "  positive_ids = Y_train[Y_train == 1].index\n",
    "  balanced_ids = positive_ids.union(np.random.choice(a=negative_ids, size=len(positive_ids)))\n",
    "\n",
    "  X_train = X_train.loc[balanced_ids, :]\n",
    "  Y_train = Y_train.loc[balanced_ids]\n",
    "  A_train = A_train.loc[balanced_ids, :]\n",
    "  return X_train, Y_train, A_train"
   ]
  },
  {
   "cell_type": "code",
   "execution_count": 359,
   "id": "2b9c0618-3dbf-4f41-91c4-bfcfad9e9fdd",
   "metadata": {
    "execution": {
     "iopub.execute_input": "2024-02-10T01:17:58.989960Z",
     "iopub.status.busy": "2024-02-10T01:17:58.989261Z",
     "iopub.status.idle": "2024-02-10T01:17:59.012977Z",
     "shell.execute_reply": "2024-02-10T01:17:59.012264Z",
     "shell.execute_reply.started": "2024-02-10T01:17:58.989911Z"
    },
    "id": "6Ogw-r3DQsds",
    "tags": []
   },
   "outputs": [],
   "source": [
    "X_train_bal, Y_train_bal, A_train_bal = resample_dataset(X_train, Y_train, A_train)"
   ]
  },
  {
   "cell_type": "markdown",
   "id": "3e2cb6ee-c835-443b-a069-316d25c03256",
   "metadata": {
    "id": "fRddJS7XXv5n",
    "tags": []
   },
   "source": [
    "## Save descriptive statistics of training and test data"
   ]
  },
  {
   "cell_type": "markdown",
   "id": "1bdfcf54-7bd4-42c0-a9e1-73022e429f57",
   "metadata": {
    "id": "hZ-T4lGxX0IQ"
   },
   "source": [
    "We next evaluate and save descriptive statistics of the training dataset. These will be provided as part of _model cards_ to document our training."
   ]
  },
  {
   "cell_type": "markdown",
   "id": "f98a51a1-1aa3-4d8a-961b-812c2e2a57af",
   "metadata": {},
   "source": [
    "### Obtain demographic counts of test and train data for target variable "
   ]
  },
  {
   "cell_type": "code",
   "execution_count": null,
   "id": "b3b9f13f-b414-4a32-aa00-4610626cd228",
   "metadata": {
    "execution": {
     "iopub.execute_input": "2024-02-10T01:20:56.992237Z",
     "iopub.status.busy": "2024-02-10T01:20:56.991532Z",
     "iopub.status.idle": "2024-02-10T01:20:57.001521Z",
     "shell.execute_reply": "2024-02-10T01:20:56.999815Z",
     "shell.execute_reply.started": "2024-02-10T01:20:56.992187Z"
    }
   },
   "outputs": [],
   "source": [
    "X_train_bal.shape"
   ]
  },
  {
   "cell_type": "code",
   "execution_count": null,
   "id": "f591dcc6-e4f9-44b3-b8e1-53b5d0dc5613",
   "metadata": {
    "execution": {
     "iopub.execute_input": "2024-02-10T01:18:01.117780Z",
     "iopub.status.busy": "2024-02-10T01:18:01.117049Z",
     "iopub.status.idle": "2024-02-10T01:18:01.130212Z",
     "shell.execute_reply": "2024-02-10T01:18:01.129208Z",
     "shell.execute_reply.started": "2024-02-10T01:18:01.117730Z"
    },
    "tags": []
   },
   "outputs": [],
   "source": [
    "Y_train_bal.value_counts()"
   ]
  },
  {
   "cell_type": "code",
   "execution_count": null,
   "id": "7b05cdbd-91b8-40a2-b417-f41ee40fcd8b",
   "metadata": {
    "execution": {
     "iopub.execute_input": "2024-02-10T02:25:33.488877Z",
     "iopub.status.busy": "2024-02-10T02:25:33.487825Z",
     "iopub.status.idle": "2024-02-10T02:25:33.500863Z",
     "shell.execute_reply": "2024-02-10T02:25:33.499862Z",
     "shell.execute_reply.started": "2024-02-10T02:25:33.488825Z"
    },
    "tags": []
   },
   "outputs": [],
   "source": [
    "A_train_bal['AGEGRP_AT_ADMIS_DT'].value_counts()"
   ]
  },
  {
   "cell_type": "code",
   "execution_count": null,
   "id": "4a93774f-7573-4704-88fb-bcf93eb48795",
   "metadata": {
    "execution": {
     "iopub.execute_input": "2024-02-10T02:29:50.972176Z",
     "iopub.status.busy": "2024-02-10T02:29:50.971514Z",
     "iopub.status.idle": "2024-02-10T02:29:50.985858Z",
     "shell.execute_reply": "2024-02-10T02:29:50.984852Z",
     "shell.execute_reply.started": "2024-02-10T02:29:50.972130Z"
    },
    "tags": []
   },
   "outputs": [],
   "source": [
    "Y_train_balc.loc[indices, :]['LOSClass'].value_counts()"
   ]
  },
  {
   "cell_type": "code",
   "execution_count": null,
   "id": "fc36944a-53d1-472f-9ff9-09b0e1030157",
   "metadata": {
    "execution": {
     "iopub.execute_input": "2024-02-10T01:50:30.026628Z",
     "iopub.status.busy": "2024-02-10T01:50:30.025940Z",
     "iopub.status.idle": "2024-02-10T01:50:30.035223Z",
     "shell.execute_reply": "2024-02-10T01:50:30.034064Z",
     "shell.execute_reply.started": "2024-02-10T01:50:30.026580Z"
    },
    "tags": []
   },
   "outputs": [],
   "source": [
    "Y_test.shape"
   ]
  },
  {
   "cell_type": "code",
   "execution_count": null,
   "id": "e4a4cd12-daa2-4bec-9319-2834a0eb8b6f",
   "metadata": {
    "execution": {
     "iopub.execute_input": "2024-02-10T02:00:47.313200Z",
     "iopub.status.busy": "2024-02-10T02:00:47.312527Z",
     "iopub.status.idle": "2024-02-10T02:00:47.324319Z",
     "shell.execute_reply": "2024-02-10T02:00:47.323165Z",
     "shell.execute_reply.started": "2024-02-10T02:00:47.313153Z"
    },
    "tags": []
   },
   "outputs": [],
   "source": [
    "Y_test.value_counts()"
   ]
  },
  {
   "cell_type": "code",
   "execution_count": null,
   "id": "4dae2b64-709e-49ce-9dc1-a34fb6442d69",
   "metadata": {
    "execution": {
     "iopub.execute_input": "2024-02-10T02:18:40.203829Z",
     "iopub.status.busy": "2024-02-10T02:18:40.203155Z",
     "iopub.status.idle": "2024-02-10T02:18:40.215786Z",
     "shell.execute_reply": "2024-02-10T02:18:40.214751Z",
     "shell.execute_reply.started": "2024-02-10T02:18:40.203780Z"
    },
    "tags": []
   },
   "outputs": [],
   "source": [
    "A_test['AGEGRP_AT_ADMIS_DT'].value_counts()"
   ]
  },
  {
   "cell_type": "code",
   "execution_count": null,
   "id": "4fd09bd3-403c-4ee3-96f0-94caf59c8be3",
   "metadata": {
    "execution": {
     "iopub.execute_input": "2024-02-10T02:23:32.122689Z",
     "iopub.status.busy": "2024-02-10T02:23:32.121890Z",
     "iopub.status.idle": "2024-02-10T02:23:32.136450Z",
     "shell.execute_reply": "2024-02-10T02:23:32.135632Z",
     "shell.execute_reply.started": "2024-02-10T02:23:32.122643Z"
    },
    "tags": []
   },
   "outputs": [],
   "source": [
    "Y_testc.loc[indices, :]['LOSClass'].value_counts()"
   ]
  },
  {
   "cell_type": "code",
   "execution_count": null,
   "id": "d30ea97c-0a40-4a1f-a02b-3a4c7216990d",
   "metadata": {
    "execution": {
     "iopub.execute_input": "2023-09-27T14:55:08.591526Z",
     "iopub.status.busy": "2023-09-27T14:55:08.590685Z",
     "iopub.status.idle": "2023-09-27T14:55:09.243330Z",
     "shell.execute_reply": "2023-09-27T14:55:09.242776Z",
     "shell.execute_reply.started": "2023-09-27T14:55:08.591449Z"
    },
    "id": "n3GhcUCm2LjD",
    "tags": []
   },
   "outputs": [],
   "source": [
    "ax = sns.countplot(x=\"Ethnicity\", data=A_train_bal)\n",
    "ax.set_xticklabels(ax.get_xticklabels(), rotation=45)\n",
    "ax.set_yscale('log')\n",
    "plt.title(\"Sensitive Attributes for Training Dataset\")\n",
    "plt.xlabel(\"Ethnicity\")\n",
    "plt.ylabel(\"Count(Log Scale)\")\n",
    "plt.savefig(\"train_ethn.png\", dpi=300, bbox_inches= \"tight\")\n",
    "# sensitive_train = figure_to_base64str(plt)"
   ]
  },
  {
   "cell_type": "code",
   "execution_count": null,
   "id": "e0b728f1-3a85-4347-8ccb-7a63ffa74ca5",
   "metadata": {
    "execution": {
     "iopub.execute_input": "2023-08-09T12:11:07.865164Z",
     "iopub.status.busy": "2023-08-09T12:11:07.864543Z",
     "iopub.status.idle": "2023-08-09T12:11:07.927839Z",
     "shell.execute_reply": "2023-08-09T12:11:07.926891Z",
     "shell.execute_reply.started": "2023-08-09T12:11:07.865115Z"
    },
    "id": "n3GhcUCm2LjD",
    "tags": []
   },
   "outputs": [],
   "source": [
    "ax = sns.countplot(x=\"WIMD2019_QUINTILE_AT_INDEX_DATE\", data=A_train_bal)\n",
    "ax.set_xticklabels(ax.get_xticklabels(), rotation=45)\n",
    "plt.title(\"Sensitive Attributes for Training Dataset\")\n",
    "plt.xlabel(\"WIMD 2019 - Quintile\")\n",
    "plt.ylabel(\"Count\")\n",
    "plt.savefig(\"train_wimd.png\", dpi=300, bbox_inches= \"tight\")\n",
    "# sensitive_train = figure_to_base64str(plt)"
   ]
  },
  {
   "cell_type": "code",
   "execution_count": 38,
   "id": "d58c79cc-3401-4f27-8b7b-e498ea4412bb",
   "metadata": {
    "execution": {
     "iopub.execute_input": "2023-08-08T14:07:36.682399Z",
     "iopub.status.busy": "2023-08-08T14:07:36.681768Z",
     "iopub.status.idle": "2023-08-08T14:07:36.698033Z",
     "shell.execute_reply": "2023-08-08T14:07:36.696901Z",
     "shell.execute_reply.started": "2023-08-08T14:07:36.682352Z"
    },
    "id": "n3GhcUCm2LjD",
    "tags": []
   },
   "outputs": [],
   "source": [
    "A_train_bal['Ethnicity'].value_counts().to_csv('train_ethn.csv')"
   ]
  },
  {
   "cell_type": "code",
   "execution_count": null,
   "id": "bcc20f4f-28b8-474d-91d3-4d6bb7813397",
   "metadata": {
    "execution": {
     "iopub.execute_input": "2023-08-08T14:07:37.127594Z",
     "iopub.status.busy": "2023-08-08T14:07:37.127093Z",
     "iopub.status.idle": "2023-08-08T14:07:37.559453Z",
     "shell.execute_reply": "2023-08-08T14:07:37.558396Z",
     "shell.execute_reply.started": "2023-08-08T14:07:37.127550Z"
    },
    "id": "n3GhcUCm2LjD",
    "tags": []
   },
   "outputs": [],
   "source": [
    "A_train_bal['WIMD2019_QUINTILE_AT_INDEX_DATE'].value_counts().to_csv('train_wimd.csv')"
   ]
  },
  {
   "cell_type": "code",
   "execution_count": 451,
   "id": "8edd717a-134b-414d-a3de-a2fddb73d990",
   "metadata": {
    "execution": {
     "iopub.execute_input": "2023-07-04T16:49:39.774288Z",
     "iopub.status.busy": "2023-07-04T16:49:39.773846Z",
     "iopub.status.idle": "2023-07-04T16:49:39.782981Z",
     "shell.execute_reply": "2023-07-04T16:49:39.781751Z",
     "shell.execute_reply.started": "2023-07-04T16:49:39.774248Z"
    },
    "id": "n3GhcUCm2LjD",
    "tags": []
   },
   "outputs": [],
   "source": [
    "A_train_bal['GNDR_DESC'].value_counts().to_csv('train_gender.csv')"
   ]
  },
  {
   "cell_type": "code",
   "execution_count": 452,
   "id": "5359c92c-ff07-428b-a993-57e043e3bdc3",
   "metadata": {
    "execution": {
     "iopub.execute_input": "2023-07-04T16:49:39.971141Z",
     "iopub.status.busy": "2023-07-04T16:49:39.970914Z",
     "iopub.status.idle": "2023-07-04T16:49:39.976604Z",
     "shell.execute_reply": "2023-07-04T16:49:39.975806Z",
     "shell.execute_reply.started": "2023-07-04T16:49:39.971122Z"
    },
    "tags": []
   },
   "outputs": [],
   "source": [
    "Y_train_bal.value_counts().to_csv(\"train_LOS_count.csv\")"
   ]
  },
  {
   "cell_type": "code",
   "execution_count": null,
   "id": "94ee1ea2-5c5b-40ef-833e-69427b403bbf",
   "metadata": {
    "execution": {
     "iopub.execute_input": "2023-07-05T12:47:08.610634Z",
     "iopub.status.busy": "2023-07-05T12:47:08.609638Z",
     "iopub.status.idle": "2023-07-05T12:47:08.902234Z",
     "shell.execute_reply": "2023-07-05T12:47:08.901630Z",
     "shell.execute_reply.started": "2023-07-05T12:47:08.610579Z"
    },
    "id": "lIp3j8fD2LjE",
    "tags": []
   },
   "outputs": [],
   "source": [
    "plot = sns.countplot(x=Y_train_bal)\n",
    "plot.set_xlabel(\"LOS_4DAYS\")\n",
    "plt.title(\"Target Label Histogram for Training Dataset\")\n",
    "plt.ylabel(\"Count\")\n",
    "plt.savefig(\"train_LOS_count.png\", dpi=300, bbox_inches= \"tight\")\n",
    "# outcome_train = figure_to_base64str(plt)"
   ]
  },
  {
   "cell_type": "code",
   "execution_count": null,
   "id": "7934518e-9758-4eab-96f0-93892e33f44d",
   "metadata": {
    "execution": {
     "iopub.execute_input": "2023-07-05T12:47:15.194863Z",
     "iopub.status.busy": "2023-07-05T12:47:15.193673Z",
     "iopub.status.idle": "2023-07-05T12:47:15.567452Z",
     "shell.execute_reply": "2023-07-05T12:47:15.566691Z",
     "shell.execute_reply.started": "2023-07-05T12:47:15.194810Z"
    },
    "id": "czIGZYhk2LjF",
    "tags": []
   },
   "outputs": [],
   "source": [
    "sns.countplot(x=\"Ethnicity\", data=A_test)\n",
    "plt.title(\"Sensitive Attributes for Testing Dataset\")\n",
    "plt.ylabel(\"Count\")\n",
    "plt.savefig('test_ethin_wo_log.png', dpi=300, bbox_inches= \"tight\")\n",
    "# sensitive_test = figure_to_base64str(plt)"
   ]
  },
  {
   "cell_type": "code",
   "execution_count": null,
   "id": "58563c5b-fd24-49f0-9e57-967721c905be",
   "metadata": {
    "execution": {
     "iopub.execute_input": "2023-07-05T12:47:24.064573Z",
     "iopub.status.busy": "2023-07-05T12:47:24.063305Z",
     "iopub.status.idle": "2023-07-05T12:47:24.626249Z",
     "shell.execute_reply": "2023-07-05T12:47:24.625709Z",
     "shell.execute_reply.started": "2023-07-05T12:47:24.064515Z"
    },
    "id": "czIGZYhk2LjF",
    "tags": []
   },
   "outputs": [],
   "source": [
    "ax = sns.countplot(x=\"Ethnicity\", data=A_test)\n",
    "plt.title(\"Sensitive Attributes for Testing Dataset\")\n",
    "ax.set_yscale('log')\n",
    "plt.ylabel(\"Count(Log Scale)\")\n",
    "plt.savefig('test_ethin_log.png', dpi=300, bbox_inches= \"tight\")\n",
    "# sensitive_test = figure_to_base64str(plt)"
   ]
  },
  {
   "cell_type": "code",
   "execution_count": 86,
   "id": "d5ba6a7d-233e-4310-882c-42eb4b8e8e88",
   "metadata": {
    "execution": {
     "iopub.execute_input": "2023-07-05T12:47:29.690695Z",
     "iopub.status.busy": "2023-07-05T12:47:29.689426Z",
     "iopub.status.idle": "2023-07-05T12:47:29.701957Z",
     "shell.execute_reply": "2023-07-05T12:47:29.700406Z",
     "shell.execute_reply.started": "2023-07-05T12:47:29.690638Z"
    },
    "id": "czIGZYhk2LjF",
    "tags": []
   },
   "outputs": [],
   "source": [
    "A_test['Ethnicity'].value_counts().to_csv(\"test_ethin.csv\")"
   ]
  },
  {
   "cell_type": "code",
   "execution_count": null,
   "id": "15d7a47b-3106-4a97-8565-68310e25f5a8",
   "metadata": {
    "execution": {
     "iopub.execute_input": "2023-08-08T14:04:17.064668Z",
     "iopub.status.busy": "2023-08-08T14:04:17.063794Z",
     "iopub.status.idle": "2023-08-08T14:04:17.343926Z",
     "shell.execute_reply": "2023-08-08T14:04:17.341505Z",
     "shell.execute_reply.started": "2023-08-08T14:04:17.064617Z"
    },
    "id": "czIGZYhk2LjF",
    "tags": []
   },
   "outputs": [],
   "source": [
    "sns.countplot(x=\"WIMD2019_QUINTILE_AT_INDEX_DATE\", data=A_test)\n",
    "plt.title(\"Sensitive Attributes for Testing Dataset\")\n",
    "plt.xlabel(\"WIMD 2019 - Quintile\")\n",
    "plt.ylabel(\"Count\")\n",
    "plt.savefig('test_widm_wo_log.png', dpi=300, bbox_inches= \"tight\")\n",
    "# sensitive_test = figure_to_base64str(plt)"
   ]
  },
  {
   "cell_type": "code",
   "execution_count": null,
   "id": "131cf5ec-4dd5-437a-be0b-d67d60f4ee2d",
   "metadata": {
    "execution": {
     "iopub.execute_input": "2023-07-05T12:47:35.672649Z",
     "iopub.status.busy": "2023-07-05T12:47:35.671614Z",
     "iopub.status.idle": "2023-07-05T12:47:36.143812Z",
     "shell.execute_reply": "2023-07-05T12:47:36.143071Z",
     "shell.execute_reply.started": "2023-07-05T12:47:35.672592Z"
    },
    "id": "czIGZYhk2LjF",
    "tags": []
   },
   "outputs": [],
   "source": [
    "ax = sns.countplot(x=\"WIMD2019_QUINTILE_AT_INDEX_DATE\", data=A_test)\n",
    "plt.title(\"Sensitive Attributes for Testing Dataset\")\n",
    "ax.set_yscale('log')\n",
    "plt.ylabel(\"Count (Log Scale) \")\n",
    "plt.xlabel(\"WIMD 2019 - Quintile\")\n",
    "plt.savefig('test_widm_log.png', dpi=300, bbox_inches= \"tight\")\n",
    "# sensitive_test = figure_to_base64str(plt)"
   ]
  },
  {
   "cell_type": "code",
   "execution_count": 89,
   "id": "a175fc2c-6694-4fa7-b1c7-c92c2b512f15",
   "metadata": {
    "execution": {
     "iopub.execute_input": "2023-07-05T12:47:39.929123Z",
     "iopub.status.busy": "2023-07-05T12:47:39.928560Z",
     "iopub.status.idle": "2023-07-05T12:47:39.940089Z",
     "shell.execute_reply": "2023-07-05T12:47:39.938692Z",
     "shell.execute_reply.started": "2023-07-05T12:47:39.929077Z"
    },
    "id": "czIGZYhk2LjF",
    "tags": []
   },
   "outputs": [],
   "source": [
    "A_test['WIMD2019_QUINTILE_AT_INDEX_DATE'].value_counts().to_csv(\"test_widm.csv\")"
   ]
  },
  {
   "cell_type": "code",
   "execution_count": null,
   "id": "e271b013-ddc4-4380-aaa5-7b5840ed8a99",
   "metadata": {
    "execution": {
     "iopub.execute_input": "2023-07-05T12:48:05.252840Z",
     "iopub.status.busy": "2023-07-05T12:48:05.252098Z",
     "iopub.status.idle": "2023-07-05T12:48:05.418968Z",
     "shell.execute_reply": "2023-07-05T12:48:05.418441Z",
     "shell.execute_reply.started": "2023-07-05T12:48:05.252792Z"
    },
    "id": "YjhW0t9-2LjF",
    "tags": []
   },
   "outputs": [],
   "source": [
    "sns.countplot(x=Y_test)\n",
    "plt.title(\"Target Label Histogram for Test Dataset\")\n",
    "plt.xlabel('LOS_4DAYS')\n",
    "plt.ylabel(\"Count\")\n",
    "plt.savefig(\"test_readm.png\")\n",
    "# outcome_test = figure_to_base64str(plt)"
   ]
  },
  {
   "cell_type": "code",
   "execution_count": 464,
   "id": "cc677a3b-790f-4b36-b1e5-626e928bc321",
   "metadata": {
    "execution": {
     "iopub.execute_input": "2023-07-04T16:49:48.715875Z",
     "iopub.status.busy": "2023-07-04T16:49:48.715440Z",
     "iopub.status.idle": "2023-07-04T16:49:48.725233Z",
     "shell.execute_reply": "2023-07-04T16:49:48.723839Z",
     "shell.execute_reply.started": "2023-07-04T16:49:48.715835Z"
    },
    "tags": []
   },
   "outputs": [],
   "source": [
    "Y_test.value_counts().to_csv(\"test_LOS_count.csv\")"
   ]
  },
  {
   "cell_type": "markdown",
   "id": "2d5f3281-b49d-4781-974c-f5cdbfbfe736",
   "metadata": {
    "id": "4V523GQbYobT"
   },
   "source": [
    "## Train the model"
   ]
  },
  {
   "cell_type": "markdown",
   "id": "a0bed2cb-9008-4cc2-94dc-e2f83de234ff",
   "metadata": {
    "id": "g7jwN2cVbO0g"
   },
   "source": [
    "We train a logistic regression model and save its predictions on test data for analysis."
   ]
  },
  {
   "cell_type": "code",
   "execution_count": 197,
   "id": "ae37d1c3-bab1-44f6-8a09-76c9939710ab",
   "metadata": {
    "execution": {
     "iopub.execute_input": "2024-02-08T10:59:33.037643Z",
     "iopub.status.busy": "2024-02-08T10:59:33.037078Z",
     "iopub.status.idle": "2024-02-08T10:59:33.044581Z",
     "shell.execute_reply": "2024-02-08T10:59:33.043279Z",
     "shell.execute_reply.started": "2024-02-08T10:59:33.037563Z"
    },
    "id": "f6nKDzt164vw",
    "tags": []
   },
   "outputs": [],
   "source": [
    "\n",
    "\n",
    "unmitigated_pipeline = Pipeline(steps=[\n",
    "    (\"preprocessing\", StandardScaler()),\n",
    "    (\"logistic_regression\", LogisticRegression(max_iter=1000))\n",
    "])\n",
    "\n",
    "# from sklearn import svm\n",
    "# unmitigated_pipeline=XGBClassifier(eval_metric='mlogloss')"
   ]
  },
  {
   "cell_type": "code",
   "execution_count": 198,
   "id": "6b4915a7-7110-408c-9f8b-59fb72c00e52",
   "metadata": {
    "execution": {
     "iopub.execute_input": "2024-02-08T10:59:34.665543Z",
     "iopub.status.busy": "2024-02-08T10:59:34.665015Z",
     "iopub.status.idle": "2024-02-08T10:59:34.831098Z",
     "shell.execute_reply": "2024-02-08T10:59:34.830109Z",
     "shell.execute_reply.started": "2024-02-08T10:59:34.665498Z"
    },
    "id": "ld9clGbHl7tv",
    "tags": []
   },
   "outputs": [
    {
     "data": {
      "text/html": [
       "<style>#sk-container-id-1 {color: black;}#sk-container-id-1 pre{padding: 0;}#sk-container-id-1 div.sk-toggleable {background-color: white;}#sk-container-id-1 label.sk-toggleable__label {cursor: pointer;display: block;width: 100%;margin-bottom: 0;padding: 0.3em;box-sizing: border-box;text-align: center;}#sk-container-id-1 label.sk-toggleable__label-arrow:before {content: \"▸\";float: left;margin-right: 0.25em;color: #696969;}#sk-container-id-1 label.sk-toggleable__label-arrow:hover:before {color: black;}#sk-container-id-1 div.sk-estimator:hover label.sk-toggleable__label-arrow:before {color: black;}#sk-container-id-1 div.sk-toggleable__content {max-height: 0;max-width: 0;overflow: hidden;text-align: left;background-color: #f0f8ff;}#sk-container-id-1 div.sk-toggleable__content pre {margin: 0.2em;color: black;border-radius: 0.25em;background-color: #f0f8ff;}#sk-container-id-1 input.sk-toggleable__control:checked~div.sk-toggleable__content {max-height: 200px;max-width: 100%;overflow: auto;}#sk-container-id-1 input.sk-toggleable__control:checked~label.sk-toggleable__label-arrow:before {content: \"▾\";}#sk-container-id-1 div.sk-estimator input.sk-toggleable__control:checked~label.sk-toggleable__label {background-color: #d4ebff;}#sk-container-id-1 div.sk-label input.sk-toggleable__control:checked~label.sk-toggleable__label {background-color: #d4ebff;}#sk-container-id-1 input.sk-hidden--visually {border: 0;clip: rect(1px 1px 1px 1px);clip: rect(1px, 1px, 1px, 1px);height: 1px;margin: -1px;overflow: hidden;padding: 0;position: absolute;width: 1px;}#sk-container-id-1 div.sk-estimator {font-family: monospace;background-color: #f0f8ff;border: 1px dotted black;border-radius: 0.25em;box-sizing: border-box;margin-bottom: 0.5em;}#sk-container-id-1 div.sk-estimator:hover {background-color: #d4ebff;}#sk-container-id-1 div.sk-parallel-item::after {content: \"\";width: 100%;border-bottom: 1px solid gray;flex-grow: 1;}#sk-container-id-1 div.sk-label:hover label.sk-toggleable__label {background-color: #d4ebff;}#sk-container-id-1 div.sk-serial::before {content: \"\";position: absolute;border-left: 1px solid gray;box-sizing: border-box;top: 0;bottom: 0;left: 50%;z-index: 0;}#sk-container-id-1 div.sk-serial {display: flex;flex-direction: column;align-items: center;background-color: white;padding-right: 0.2em;padding-left: 0.2em;position: relative;}#sk-container-id-1 div.sk-item {position: relative;z-index: 1;}#sk-container-id-1 div.sk-parallel {display: flex;align-items: stretch;justify-content: center;background-color: white;position: relative;}#sk-container-id-1 div.sk-item::before, #sk-container-id-1 div.sk-parallel-item::before {content: \"\";position: absolute;border-left: 1px solid gray;box-sizing: border-box;top: 0;bottom: 0;left: 50%;z-index: -1;}#sk-container-id-1 div.sk-parallel-item {display: flex;flex-direction: column;z-index: 1;position: relative;background-color: white;}#sk-container-id-1 div.sk-parallel-item:first-child::after {align-self: flex-end;width: 50%;}#sk-container-id-1 div.sk-parallel-item:last-child::after {align-self: flex-start;width: 50%;}#sk-container-id-1 div.sk-parallel-item:only-child::after {width: 0;}#sk-container-id-1 div.sk-dashed-wrapped {border: 1px dashed gray;margin: 0 0.4em 0.5em 0.4em;box-sizing: border-box;padding-bottom: 0.4em;background-color: white;}#sk-container-id-1 div.sk-label label {font-family: monospace;font-weight: bold;display: inline-block;line-height: 1.2em;}#sk-container-id-1 div.sk-label-container {text-align: center;}#sk-container-id-1 div.sk-container {/* jupyter's `normalize.less` sets `[hidden] { display: none; }` but bootstrap.min.css set `[hidden] { display: none !important; }` so we also need the `!important` here to be able to override the default hidden behavior on the sphinx rendered scikit-learn.org. See: https://github.com/scikit-learn/scikit-learn/issues/21755 */display: inline-block !important;position: relative;}#sk-container-id-1 div.sk-text-repr-fallback {display: none;}</style><div id=\"sk-container-id-1\" class=\"sk-top-container\"><div class=\"sk-text-repr-fallback\"><pre>Pipeline(steps=[(&#x27;preprocessing&#x27;, StandardScaler()),\n",
       "                (&#x27;logistic_regression&#x27;, LogisticRegression(max_iter=1000))])</pre><b>In a Jupyter environment, please rerun this cell to show the HTML representation or trust the notebook. <br />On GitHub, the HTML representation is unable to render, please try loading this page with nbviewer.org.</b></div><div class=\"sk-container\" hidden><div class=\"sk-item sk-dashed-wrapped\"><div class=\"sk-label-container\"><div class=\"sk-label sk-toggleable\"><input class=\"sk-toggleable__control sk-hidden--visually\" id=\"sk-estimator-id-1\" type=\"checkbox\" ><label for=\"sk-estimator-id-1\" class=\"sk-toggleable__label sk-toggleable__label-arrow\">Pipeline</label><div class=\"sk-toggleable__content\"><pre>Pipeline(steps=[(&#x27;preprocessing&#x27;, StandardScaler()),\n",
       "                (&#x27;logistic_regression&#x27;, LogisticRegression(max_iter=1000))])</pre></div></div></div><div class=\"sk-serial\"><div class=\"sk-item\"><div class=\"sk-estimator sk-toggleable\"><input class=\"sk-toggleable__control sk-hidden--visually\" id=\"sk-estimator-id-2\" type=\"checkbox\" ><label for=\"sk-estimator-id-2\" class=\"sk-toggleable__label sk-toggleable__label-arrow\">StandardScaler</label><div class=\"sk-toggleable__content\"><pre>StandardScaler()</pre></div></div></div><div class=\"sk-item\"><div class=\"sk-estimator sk-toggleable\"><input class=\"sk-toggleable__control sk-hidden--visually\" id=\"sk-estimator-id-3\" type=\"checkbox\" ><label for=\"sk-estimator-id-3\" class=\"sk-toggleable__label sk-toggleable__label-arrow\">LogisticRegression</label><div class=\"sk-toggleable__content\"><pre>LogisticRegression(max_iter=1000)</pre></div></div></div></div></div></div></div>"
      ],
      "text/plain": [
       "Pipeline(steps=[('preprocessing', StandardScaler()),\n",
       "                ('logistic_regression', LogisticRegression(max_iter=1000))])"
      ]
     },
     "execution_count": 198,
     "metadata": {},
     "output_type": "execute_result"
    }
   ],
   "source": [
    "unmitigated_pipeline.fit(X_train_bal, Y_train_bal)\n",
    "# unmitigated_pipeline.fit(X_train, Y_train)"
   ]
  },
  {
   "cell_type": "code",
   "execution_count": 199,
   "id": "e74d5cb7-4606-456f-9c8d-281017cd41d1",
   "metadata": {
    "execution": {
     "iopub.execute_input": "2024-02-08T10:59:40.122289Z",
     "iopub.status.busy": "2024-02-08T10:59:40.121494Z",
     "iopub.status.idle": "2024-02-08T10:59:40.218470Z",
     "shell.execute_reply": "2024-02-08T10:59:40.217352Z",
     "shell.execute_reply.started": "2024-02-08T10:59:40.122241Z"
    },
    "id": "Ok-eREU0xbAD",
    "tags": []
   },
   "outputs": [],
   "source": [
    "Y_pred_proba = unmitigated_pipeline.predict_proba(X_test)[:,1]\n",
    "Y_pred = unmitigated_pipeline.predict(X_test)"
   ]
  },
  {
   "cell_type": "markdown",
   "id": "bc549f9e-6644-4d42-8363-7ff7997f699c",
   "metadata": {
    "id": "nkA0K8KV0HeD"
   },
   "source": [
    "Check model performance on test data."
   ]
  },
  {
   "cell_type": "code",
   "execution_count": null,
   "id": "32dc66aa-e2c3-4155-af1f-97e108542afe",
   "metadata": {
    "execution": {
     "iopub.execute_input": "2024-02-08T10:59:41.240037Z",
     "iopub.status.busy": "2024-02-08T10:59:41.239510Z",
     "iopub.status.idle": "2024-02-08T10:59:41.943237Z",
     "shell.execute_reply": "2024-02-08T10:59:41.942601Z",
     "shell.execute_reply.started": "2024-02-08T10:59:41.239992Z"
    },
    "id": "nz7QJOLx0RVH",
    "tags": []
   },
   "outputs": [],
   "source": [
    "# Plot ROC curve of probabilistic predictions\n",
    "display = RocCurveDisplay.from_estimator(unmitigated_pipeline, X_test, Y_test)\n",
    "display.plot()\n",
    "plt.savefig(\"roccurve.png\", dpi=300, bbox_inches= \"tight\")"
   ]
  },
  {
   "cell_type": "code",
   "execution_count": null,
   "id": "5f106a3e-059f-41d9-90ff-b501985a8bbd",
   "metadata": {
    "execution": {
     "iopub.execute_input": "2024-02-08T10:59:45.104241Z",
     "iopub.status.busy": "2024-02-08T10:59:45.103707Z",
     "iopub.status.idle": "2024-02-08T10:59:45.119482Z",
     "shell.execute_reply": "2024-02-08T10:59:45.118460Z",
     "shell.execute_reply.started": "2024-02-08T10:59:45.104196Z"
    },
    "id": "pxYppCAy1owq",
    "tags": []
   },
   "outputs": [],
   "source": [
    "# Show balanced accuracy rate of the 0/1 predictions\n",
    "balanced_accuracy_score(Y_test, Y_pred)"
   ]
  },
  {
   "cell_type": "code",
   "execution_count": null,
   "id": "5708649d-aec9-4b9b-b24f-40de7966fda5",
   "metadata": {
    "execution": {
     "iopub.execute_input": "2024-02-08T10:59:46.689334Z",
     "iopub.status.busy": "2024-02-08T10:59:46.688286Z",
     "iopub.status.idle": "2024-02-08T10:59:46.702400Z",
     "shell.execute_reply": "2024-02-08T10:59:46.701339Z",
     "shell.execute_reply.started": "2024-02-08T10:59:46.689279Z"
    },
    "tags": []
   },
   "outputs": [],
   "source": [
    "false_negative_rate(Y_test, Y_pred)"
   ]
  },
  {
   "cell_type": "code",
   "execution_count": null,
   "id": "a4c32d56-3e5d-4387-929e-376e87e12782",
   "metadata": {
    "execution": {
     "iopub.execute_input": "2024-02-08T10:59:47.201275Z",
     "iopub.status.busy": "2024-02-08T10:59:47.200788Z",
     "iopub.status.idle": "2024-02-08T10:59:47.214633Z",
     "shell.execute_reply": "2024-02-08T10:59:47.213519Z",
     "shell.execute_reply.started": "2024-02-08T10:59:47.201233Z"
    },
    "tags": []
   },
   "outputs": [],
   "source": [
    "false_positive_rate(Y_test, Y_pred)"
   ]
  },
  {
   "cell_type": "code",
   "execution_count": null,
   "id": "688140be-187d-48de-ae90-c5101f67e582",
   "metadata": {
    "execution": {
     "iopub.execute_input": "2024-02-08T10:59:47.701874Z",
     "iopub.status.busy": "2024-02-08T10:59:47.701351Z",
     "iopub.status.idle": "2024-02-08T10:59:47.720380Z",
     "shell.execute_reply": "2024-02-08T10:59:47.718624Z",
     "shell.execute_reply.started": "2024-02-08T10:59:47.701829Z"
    },
    "tags": []
   },
   "outputs": [],
   "source": [
    "selection_rate(Y_test, Y_pred)"
   ]
  },
  {
   "cell_type": "code",
   "execution_count": 205,
   "id": "65df41f8-d214-452c-a43a-eca14e53c486",
   "metadata": {
    "execution": {
     "iopub.execute_input": "2024-02-08T10:59:48.187893Z",
     "iopub.status.busy": "2024-02-08T10:59:48.186670Z",
     "iopub.status.idle": "2024-02-08T10:59:48.200813Z",
     "shell.execute_reply": "2024-02-08T10:59:48.199762Z",
     "shell.execute_reply.started": "2024-02-08T10:59:48.187839Z"
    },
    "tags": []
   },
   "outputs": [],
   "source": [
    "AUC_LINEAR=roc_auc_score(Y_test, Y_pred_proba)"
   ]
  },
  {
   "cell_type": "code",
   "execution_count": null,
   "id": "4811913c-52ac-46ed-b119-ebe9e01a5771",
   "metadata": {
    "execution": {
     "iopub.execute_input": "2024-02-08T11:15:35.521944Z",
     "iopub.status.busy": "2024-02-08T11:15:35.521346Z",
     "iopub.status.idle": "2024-02-08T11:15:35.532562Z",
     "shell.execute_reply": "2024-02-08T11:15:35.530968Z",
     "shell.execute_reply.started": "2024-02-08T11:15:35.521899Z"
    }
   },
   "outputs": [],
   "source": [
    "AUC_LINEAR"
   ]
  },
  {
   "cell_type": "code",
   "execution_count": 206,
   "id": "a958247e-2f4e-4d43-80ac-1057d548c403",
   "metadata": {
    "execution": {
     "iopub.execute_input": "2024-02-08T10:59:49.944950Z",
     "iopub.status.busy": "2024-02-08T10:59:49.944415Z",
     "iopub.status.idle": "2024-02-08T10:59:49.958643Z",
     "shell.execute_reply": "2024-02-08T10:59:49.957436Z",
     "shell.execute_reply.started": "2024-02-08T10:59:49.944906Z"
    },
    "tags": []
   },
   "outputs": [],
   "source": [
    "fpr,tpr, threshold= roc_curve(Y_test,Y_pred_proba)"
   ]
  },
  {
   "cell_type": "code",
   "execution_count": null,
   "id": "e3262d49-0f9a-4e2f-acbd-79921bf65b76",
   "metadata": {
    "execution": {
     "iopub.execute_input": "2024-02-08T10:59:50.367138Z",
     "iopub.status.busy": "2024-02-08T10:59:50.366652Z",
     "iopub.status.idle": "2024-02-08T10:59:50.376482Z",
     "shell.execute_reply": "2024-02-08T10:59:50.375408Z",
     "shell.execute_reply.started": "2024-02-08T10:59:50.367094Z"
    },
    "tags": []
   },
   "outputs": [],
   "source": [
    "from numpy import sqrt\n",
    "gmeans=sqrt(tpr*(1-fpr))\n",
    "ix=np.argmax(gmeans)\n",
    "threshold[ix]"
   ]
  },
  {
   "cell_type": "code",
   "execution_count": 208,
   "id": "dbca9c76-b342-4547-8c51-59632ec1d7c1",
   "metadata": {
    "execution": {
     "iopub.execute_input": "2024-02-08T10:59:51.766547Z",
     "iopub.status.busy": "2024-02-08T10:59:51.765871Z",
     "iopub.status.idle": "2024-02-08T10:59:51.772757Z",
     "shell.execute_reply": "2024-02-08T10:59:51.771548Z",
     "shell.execute_reply.started": "2024-02-08T10:59:51.766501Z"
    },
    "tags": []
   },
   "outputs": [],
   "source": [
    "fpr_OPT_LINEAR=fpr[ix]"
   ]
  },
  {
   "cell_type": "code",
   "execution_count": 209,
   "id": "181b0472-4064-422d-a052-5ec3d260374c",
   "metadata": {
    "execution": {
     "iopub.execute_input": "2024-02-08T10:59:52.106486Z",
     "iopub.status.busy": "2024-02-08T10:59:52.105647Z",
     "iopub.status.idle": "2024-02-08T10:59:52.111986Z",
     "shell.execute_reply": "2024-02-08T10:59:52.110580Z",
     "shell.execute_reply.started": "2024-02-08T10:59:52.106442Z"
    },
    "tags": []
   },
   "outputs": [],
   "source": [
    "tpr_OPT_LINEAR=tpr[ix]"
   ]
  },
  {
   "cell_type": "markdown",
   "id": "905e53af-a6b3-46c1-baea-ab1ae33cc7d9",
   "metadata": {
    "execution": {
     "iopub.execute_input": "2023-09-21T13:43:05.685945Z",
     "iopub.status.busy": "2023-09-21T13:43:05.684697Z",
     "iopub.status.idle": "2023-09-21T13:43:05.691736Z",
     "shell.execute_reply": "2023-09-21T13:43:05.690370Z",
     "shell.execute_reply.started": "2023-09-21T13:43:05.685888Z"
    }
   },
   "source": [
    "## Compare to other models"
   ]
  },
  {
   "cell_type": "markdown",
   "id": "59a0350d-8e8e-4c3b-b703-31d6b5de5225",
   "metadata": {
    "tags": []
   },
   "source": [
    "### RUN NEURAL NETWORK ON DATA"
   ]
  },
  {
   "cell_type": "code",
   "execution_count": 210,
   "id": "087e9e86-4547-4cca-b9e6-0a587e768f5b",
   "metadata": {
    "execution": {
     "iopub.execute_input": "2024-02-08T10:59:53.414822Z",
     "iopub.status.busy": "2024-02-08T10:59:53.414047Z",
     "iopub.status.idle": "2024-02-08T10:59:54.253800Z",
     "shell.execute_reply": "2024-02-08T10:59:54.253162Z",
     "shell.execute_reply.started": "2024-02-08T10:59:53.414772Z"
    },
    "tags": []
   },
   "outputs": [
    {
     "name": "stdout",
     "output_type": "stream",
     "text": [
      "import completed\n"
     ]
    }
   ],
   "source": [
    "# from pyvis.network import Network\n",
    "# import networkx as nx\n",
    "from numpy import save\n",
    "from numpy import load\n",
    "import random\n",
    "from numpy import newaxis\n",
    "from numpy import array\n",
    "from numpy import array\n",
    "import torch\n",
    "import torch.optim as optim\n",
    "from torch.optim import lr_scheduler\n",
    "torch.manual_seed(0)\n",
    "from torch import nn\n",
    "torch.pi = torch.acos(torch.zeros(1)).item() * 2 # which is 3.1415927410125732  \n",
    "import pandas as pd # data processing, CSV file I/O (e.g. pd.read_csv)\n",
    "from sklearn.preprocessing import MinMaxScaler\n",
    "import math\n",
    "import array\n",
    "import copy\n",
    "\n",
    "\n",
    "from pytorch_model_summary import summary\n",
    "\n",
    "print ('import completed')\n",
    "\n"
   ]
  },
  {
   "cell_type": "code",
   "execution_count": 211,
   "id": "3915bca4-e25e-4877-afa6-3ca482164bd6",
   "metadata": {
    "execution": {
     "iopub.execute_input": "2024-02-08T10:59:54.618578Z",
     "iopub.status.busy": "2024-02-08T10:59:54.618100Z",
     "iopub.status.idle": "2024-02-08T10:59:54.633193Z",
     "shell.execute_reply": "2024-02-08T10:59:54.632211Z",
     "shell.execute_reply.started": "2024-02-08T10:59:54.618535Z"
    },
    "tags": []
   },
   "outputs": [
    {
     "name": "stdout",
     "output_type": "stream",
     "text": [
      "Using cpu device\n"
     ]
    }
   ],
   "source": [
    "N= X.shape[1] #Get input size of NN\n",
    "\n",
    "# Get cpu or gpu device for training.\n",
    "device = \"cuda\" if torch.cuda.is_available() else \"cpu\"\n",
    "print(\"Using {} device\".format(device))\n",
    "\n",
    "\n",
    "# Defining the Network model for 16 nodes\n",
    "class NeuralNetwork(nn.Module):\n",
    "    def __init__(self):\n",
    "        super(NeuralNetwork, self).__init__()\n",
    "        \"\"\"this is the neural network \n",
    "        it can take a shape of N columns by any rows\n",
    "        the output layer is 2\n",
    "        \"\"\"\n",
    "        #NN MODEL\n",
    "        self.m0 = nn.Sequential(\n",
    "            nn.Linear(N,N),\n",
    "            nn.ReLU(),\n",
    "            # nn.Linear(2*N,2*N),\n",
    "            # nn.ReLU(),\n",
    "            nn.Linear(N,2),\n",
    "            # nn.Softmax(dim=1),\n",
    "        )\n",
    "        \n",
    "    #FORWARD PASS FOR NN\n",
    "    def forward(self, x):\n",
    "        #x is input data that you want to pass into the neural network\n",
    "        # self.network_output is network output\n",
    "        self.network_output0 = self.m0(x)\n",
    "        return self.network_output0\n",
    "    \n",
    "model = NeuralNetwork().to(device)"
   ]
  },
  {
   "cell_type": "code",
   "execution_count": 212,
   "id": "8992f1a0-518e-40eb-b681-f5a8510328ad",
   "metadata": {
    "execution": {
     "iopub.execute_input": "2024-02-08T10:59:55.182442Z",
     "iopub.status.busy": "2024-02-08T10:59:55.181811Z",
     "iopub.status.idle": "2024-02-08T10:59:55.189397Z",
     "shell.execute_reply": "2024-02-08T10:59:55.188270Z",
     "shell.execute_reply.started": "2024-02-08T10:59:55.182397Z"
    },
    "tags": []
   },
   "outputs": [],
   "source": [
    "loss_fn =  nn.CrossEntropyLoss()\n",
    "# loss_fn =  nn.BCELoss()\n",
    "# optimizer = optim.Adam(model.parameters(), lr=0.001, weight_decay=0.001)\n",
    "optimizer = torch.optim.SGD(model.parameters(), lr=0.0008, momentum=0.9, weight_decay=0.01)\n",
    "scheduler = lr_scheduler.ExponentialLR(optimizer, gamma=0.9)"
   ]
  },
  {
   "cell_type": "code",
   "execution_count": null,
   "id": "9960b6f5-c2e5-424a-bfb4-b18717302b46",
   "metadata": {
    "execution": {
     "iopub.execute_input": "2024-02-08T10:59:56.848836Z",
     "iopub.status.busy": "2024-02-08T10:59:56.848315Z",
     "iopub.status.idle": "2024-02-08T11:01:11.733666Z",
     "shell.execute_reply": "2024-02-08T11:01:11.732854Z",
     "shell.execute_reply.started": "2024-02-08T10:59:56.848791Z"
    },
    "tags": []
   },
   "outputs": [],
   "source": [
    "Y_train_NN = pd.get_dummies(Y_train_bal, dtype=float).reset_index(drop=True)\n",
    "# Y_train_NN = pd.get_dummies(Y_train, dtype=float).reset_index(drop=True)\n",
    "\n",
    "Y_test_NN = pd.get_dummies(Y_test, dtype=float).reset_index(drop=True)\n",
    "\n",
    "# convert input DataFrame (X) and output Dataframe (y) into PyTorch tensors\n",
    "X_train_NN = torch.tensor(X_train_bal.values.astype('float'), dtype=torch.float32,requires_grad=True)\n",
    "# X_train_NN = torch.tensor(X_train.values.astype('float'), dtype=torch.float32,requires_grad=True)\n",
    "\n",
    "Y_train_NN = torch.tensor(Y_train_NN.values, dtype=torch.float32)\n",
    "\n",
    "\n",
    "X_test_NN = torch.tensor(X_test.values.astype('float'), dtype=torch.float32)\n",
    "Y_test_NN = torch.tensor(Y_test_NN.values, dtype=torch.float32)\n",
    "\n",
    "\n",
    "n_epochs = 200\n",
    "batch_size = 100\n",
    "batches_per_epoch = len(X_train_NN) // batch_size\n",
    "\n",
    "\n",
    "best_bal_acc = - np.inf   # init to negative infinity\n",
    "best_weights = None\n",
    "train_loss_hist = []\n",
    "train_acc_hist = []\n",
    "train_bal_acc_hist= []\n",
    "test_loss_hist = []\n",
    "test_acc_hist = []\n",
    "test_bal_acc_hist= []\n",
    "\n",
    "for epoch in range(n_epochs):\n",
    "    epoch_loss = []\n",
    "    epoch_acc = []\n",
    "    epoch_bal_acc= []\n",
    "    # set model in training mode and run through each batch\n",
    "    model.train()\n",
    "    for i in range(batches_per_epoch):\n",
    "        # take a batch\n",
    "        start = i * batch_size\n",
    "        X_batch = X_train_NN[start:start+batch_size]\n",
    "        y_batch = Y_train_NN[start:start+batch_size]\n",
    "        # forward pass\n",
    "        y_pred = model(X_batch)\n",
    "        loss = loss_fn(y_pred, y_batch)\n",
    "        # backward pass\n",
    "        optimizer.zero_grad()\n",
    "        loss.backward()\n",
    "        # update weights\n",
    "        optimizer.step()\n",
    "        # compute and store metrics\n",
    "        acc = (torch.argmax(y_pred, 1) == torch.argmax(y_batch, 1)).float().mean()\n",
    "        bal_acc=balanced_accuracy_score(torch.argmax(y_batch,1), torch.argmax(y_pred, 1))\n",
    "        epoch_loss.append(float(loss))\n",
    "        epoch_acc.append(float(acc))\n",
    "        epoch_bal_acc.append(float(bal_acc))\n",
    "\n",
    "\n",
    "    train_loss_hist.append(np.mean(epoch_loss))\n",
    "    train_acc_hist.append(np.mean(epoch_acc))\n",
    "    train_bal_acc_hist.append(np.mean(epoch_bal_acc))\n",
    "    # set model in evaluation mode and run through the test set\n",
    "    model.eval()\n",
    "    y_pred = model(X_test_NN)\n",
    "    ce = loss_fn(y_pred, Y_test_NN)\n",
    "    acc = (torch.argmax(y_pred, 1) == torch.argmax(Y_test_NN, 1)).float().mean()\n",
    "    bal_acc=balanced_accuracy_score(torch.argmax(Y_test_NN,1), torch.argmax(y_pred, 1))\n",
    "    ce = float(ce)\n",
    "    acc = float(acc)\n",
    "    bal_acc= float(bal_acc)\n",
    "\n",
    "    test_loss_hist.append(ce)\n",
    "    test_acc_hist.append(acc)\n",
    "    test_bal_acc_hist.append(bal_acc)\n",
    "    if bal_acc > best_bal_acc:\n",
    "        best_bal_acc = bal_acc\n",
    "        best_weights = copy.deepcopy(model.state_dict())\n",
    "    print(f\"Epoch {epoch} validation: Cross-entropy={ce}, Bal_Accuracy={bal_acc}\")\n",
    "\n",
    "model.load_state_dict(best_weights)"
   ]
  },
  {
   "cell_type": "markdown",
   "id": "41e29930-ff42-4ca8-a969-5977d89ad21b",
   "metadata": {},
   "source": [
    "RUN OTHER CLASSIFICATION MODELS"
   ]
  },
  {
   "cell_type": "markdown",
   "id": "c95f9ce5-0198-413e-8067-7eae1915be4d",
   "metadata": {
    "id": "Me1ocEi2kEgw",
    "jp-MarkdownHeadingCollapsed": true,
    "tags": []
   },
   "source": [
    "The charts above are based on test data, so without any uncertainty quantification (such as error bars or confidence intervals), we cannot reliably compare these data statistics. Next optional section shows how to augment MetricFrame with the report of error bars.\n",
    "\n",
    "## Adding error bars [OPTIONAL SECTION]"
   ]
  },
  {
   "cell_type": "markdown",
   "id": "39e4af59-9e34-4a5a-a9e9-186c2dc328fa",
   "metadata": {
    "id": "9l8YJ8qQdehm"
   },
   "source": [
    "In this section, we define new custom metrics that quantify errors in our estimates of selection rate, false negative rate and balanced accuracy, and then review our metrics again."
   ]
  },
  {
   "cell_type": "code",
   "execution_count": 176,
   "id": "1319d1f4-5bae-4bd7-b87e-f523d3175d4f",
   "metadata": {
    "execution": {
     "iopub.execute_input": "2023-09-21T18:26:27.265332Z",
     "iopub.status.busy": "2023-09-21T18:26:27.264744Z",
     "iopub.status.idle": "2023-09-21T18:26:27.277879Z",
     "shell.execute_reply": "2023-09-21T18:26:27.276834Z",
     "shell.execute_reply.started": "2023-09-21T18:26:27.265283Z"
    },
    "id": "OiP-uXr_FLtz",
    "tags": []
   },
   "outputs": [],
   "source": [
    "# All of our error bar calculations are based on normal approximation to\n",
    "# the binomial variables.\n",
    "\n",
    "def error_bar_normal(n_successes, n_trials, z=1.96):\n",
    "  \"\"\"\n",
    "  Computes the error bars for the parameter p of a binomial variable\n",
    "  using normal approximation. The default value z corresponds to the 95%\n",
    "  confidence interval.\n",
    "  \"\"\"\n",
    "  point_est = n_successes / n_trials\n",
    "  error_bar = z*np.sqrt(point_est*(1-point_est))/np.sqrt(n_trials)\n",
    "  return error_bar\n",
    "\n",
    "def fpr_error(Y_true, Y_pred):\n",
    "  \"\"\"\n",
    "  Compute the 95%-error bar for the false positive rate\n",
    "  \"\"\"\n",
    "  tn, fp, fn, tp = confusion_matrix(Y_true, Y_pred).ravel()\n",
    "  return error_bar_normal(fp, tn+fp)\n",
    "\n",
    "def fnr_error(Y_true, Y_pred):\n",
    "  \"\"\"\n",
    "  Compute the 95%-error bar for the false negative rate\n",
    "  \"\"\"\n",
    "  tn, fp, fn, tp = confusion_matrix(Y_true, Y_pred).ravel()\n",
    "  return error_bar_normal(fn, fn+tp)\n",
    "\n",
    "def selection_rate_error(Y_true, Y_pred):\n",
    "  \"\"\"\n",
    "  Compute the 95%-error bar for the selection rate\n",
    "  \"\"\"\n",
    "  tn, fp, fn, tp = confusion_matrix(Y_true, Y_pred).ravel()\n",
    "  return error_bar_normal(tp+fp, tn+fp+fn+tp)\n",
    "\n",
    "def balanced_accuracy_error(Y_true, Y_pred):\n",
    "  \"\"\"\n",
    "  Compute the 95%-error bar for the balanced accuracy\n",
    "  \"\"\"\n",
    "  fnr_err, fpr_err = fnr_error(Y_true, Y_pred), fpr_error(Y_true, Y_pred)\n",
    "  return np.sqrt(fnr_err**2 + fpr_err**2)/2"
   ]
  },
  {
   "cell_type": "markdown",
   "id": "0d158f20-fa5a-409d-ad2f-68960c0e505f",
   "metadata": {
    "id": "qHaXfBYWp6ob"
   },
   "source": [
    "We next create a metric frame that includes the sample sizes and error bar sizes in addition to the metrics that we have used previously."
   ]
  },
  {
   "cell_type": "code",
   "execution_count": 177,
   "id": "9b73e10e-7658-438e-b4c1-b6f2e1c60159",
   "metadata": {
    "execution": {
     "iopub.execute_input": "2023-09-21T18:26:28.661930Z",
     "iopub.status.busy": "2023-09-21T18:26:28.661438Z",
     "iopub.status.idle": "2023-09-21T18:26:28.670622Z",
     "shell.execute_reply": "2023-09-21T18:26:28.669228Z",
     "shell.execute_reply.started": "2023-09-21T18:26:28.661884Z"
    },
    "id": "OlEq6ogfyHb6",
    "tags": []
   },
   "outputs": [],
   "source": [
    "metrics_with_err_bars = {\n",
    "    \"count\": count,\n",
    "    \"selection_rate\": selection_rate,\n",
    "    \"selection_err_bar\": selection_rate_error,\n",
    "    \"false_negative_rate\": false_negative_rate,\n",
    "    \"fnr_err_bar\": fnr_error,\n",
    "    \"balanced_accuracy\": balanced_accuracy_score,\n",
    "    \"bal_acc_err_bar\": balanced_accuracy_error\n",
    "}\n",
    "\n",
    "# sometimes we will only want to display metrics without error bars\n",
    "metrics_to_display = [\n",
    "    \"count\",\n",
    "    \"selection_rate\",\n",
    "    \"false_negative_rate\",\n",
    "    \"balanced_accuracy\"\n",
    "]\n",
    "\n",
    "# sometimes we will only want to show the difference values of the metrics other than count\n",
    "differences_to_display = [\n",
    "    \"selection_rate\",\n",
    "    \"false_negative_rate\",\n",
    "    \"balanced_accuracy\"\n",
    "]"
   ]
  },
  {
   "cell_type": "code",
   "execution_count": 178,
   "id": "67839a6a-78bc-496c-aa53-ebe217593a6d",
   "metadata": {
    "execution": {
     "iopub.execute_input": "2023-09-21T18:26:32.244333Z",
     "iopub.status.busy": "2023-09-21T18:26:32.243747Z",
     "iopub.status.idle": "2023-09-21T18:26:32.499546Z",
     "shell.execute_reply": "2023-09-21T18:26:32.498775Z",
     "shell.execute_reply.started": "2023-09-21T18:26:32.244285Z"
    },
    "id": "55GOqFTYxbCi",
    "tags": []
   },
   "outputs": [],
   "source": [
    "metricframe_unmitigated_w_err = MetricFrame(\n",
    "    metrics=metrics_with_err_bars,\n",
    "    y_true=Y_test,\n",
    "    y_pred=Y_pred,\n",
    "    sensitive_features=A_test\n",
    ")"
   ]
  },
  {
   "cell_type": "code",
   "execution_count": null,
   "id": "0031a6d0-f325-421b-b523-724586039d7f",
   "metadata": {
    "execution": {
     "iopub.execute_input": "2023-09-21T18:26:33.173544Z",
     "iopub.status.busy": "2023-09-21T18:26:33.173044Z",
     "iopub.status.idle": "2023-09-21T18:26:33.189391Z",
     "shell.execute_reply": "2023-09-21T18:26:33.188004Z",
     "shell.execute_reply.started": "2023-09-21T18:26:33.173497Z"
    },
    "id": "MlZKPNkHxbFb",
    "tags": []
   },
   "outputs": [],
   "source": [
    "unmitigated_groups = metricframe_unmitigated_w_err.by_group\n",
    "unmitigated_groups # show both the metrics as well as the error bars"
   ]
  },
  {
   "cell_type": "markdown",
   "id": "c228a3f5-e9f3-4da4-bb65-695954eb4845",
   "metadata": {
    "id": "hh5F-A5C5rSV"
   },
   "source": [
    "We see that for smaller sample sizes we have larger error bars. The problem is further exacerbated for false negative rate, which is estimated only over *positive examples* and so its sample sizes is further reduced due to label imbalance.\n",
    "\n",
    "We next visualize the metrics with the corresponding error bars using a custom plotting function."
   ]
  },
  {
   "cell_type": "code",
   "execution_count": 180,
   "id": "33292226-23e2-43e5-abfe-d79c5267a29c",
   "metadata": {
    "execution": {
     "iopub.execute_input": "2023-09-21T18:27:53.448945Z",
     "iopub.status.busy": "2023-09-21T18:27:53.448381Z",
     "iopub.status.idle": "2023-09-21T18:27:53.461825Z",
     "shell.execute_reply": "2023-09-21T18:27:53.459958Z",
     "shell.execute_reply.started": "2023-09-21T18:27:53.448896Z"
    },
    "id": "rqFPLsATwROr",
    "tags": []
   },
   "outputs": [],
   "source": [
    "def plot_group_metrics_with_error_bars(metricframe, metric, error_name):\n",
    "  \"\"\"\n",
    "  Plots the disaggregated `metric` for each group with an associated\n",
    "  error bar. Both metric and the erro bar are provided as columns in the \n",
    "  provided metricframe.\n",
    "  \"\"\"\n",
    "  grouped_metrics = metricframe.by_group\n",
    "  point_estimates = grouped_metrics[metric]\n",
    "  error_bars = grouped_metrics[error_name]\n",
    "  lower_bounds = point_estimates - error_bars\n",
    "  upper_bounds = point_estimates + error_bars\n",
    "\n",
    "  x_axis_names = [str(name) for name in error_bars.index.to_flat_index().tolist()]\n",
    "  plt.vlines(x_axis_names, lower_bounds, upper_bounds, linestyles=\"dashed\", alpha=0.45)\n",
    "  plt.scatter(x_axis_names, point_estimates, s=25)\n",
    "  plt.xticks(rotation=0)\n",
    "  y_start, y_end = np.round(min(lower_bounds), decimals=2), np.round(max(upper_bounds), decimals=2)\n",
    "  plt.yticks(np.arange(y_start, y_end, 0.05))\n",
    "  plt.ylabel(metric)"
   ]
  },
  {
   "cell_type": "code",
   "execution_count": null,
   "id": "0d67198c-5caf-42d1-9e71-a8fdac3515de",
   "metadata": {
    "execution": {
     "iopub.execute_input": "2023-09-21T19:03:44.621340Z",
     "iopub.status.busy": "2023-09-21T19:03:44.620759Z",
     "iopub.status.idle": "2023-09-21T19:03:44.787234Z",
     "shell.execute_reply": "2023-09-21T19:03:44.786696Z",
     "shell.execute_reply.started": "2023-09-21T19:03:44.621290Z"
    },
    "id": "dsRFpuXfzrUA",
    "tags": []
   },
   "outputs": [],
   "source": [
    "plot_group_metrics_with_error_bars(metricframe_unmitigated_w_err, \"selection_rate\", \"selection_err_bar\")"
   ]
  },
  {
   "cell_type": "code",
   "execution_count": null,
   "id": "688f469b-1483-4c37-8c5f-38a6caa4f5e4",
   "metadata": {
    "execution": {
     "iopub.execute_input": "2023-09-21T19:03:49.210997Z",
     "iopub.status.busy": "2023-09-21T19:03:49.209816Z",
     "iopub.status.idle": "2023-09-21T19:03:49.389085Z",
     "shell.execute_reply": "2023-09-21T19:03:49.388528Z",
     "shell.execute_reply.started": "2023-09-21T19:03:49.210931Z"
    },
    "id": "B68Q2ZIgzrcE",
    "tags": []
   },
   "outputs": [],
   "source": [
    "plot_group_metrics_with_error_bars(metricframe_unmitigated_w_err, \"false_negative_rate\", \"fnr_err_bar\")"
   ]
  },
  {
   "cell_type": "code",
   "execution_count": null,
   "id": "045e3507-6023-4d07-acc0-fe0a8f31b9d0",
   "metadata": {
    "execution": {
     "iopub.execute_input": "2023-09-21T19:03:56.338815Z",
     "iopub.status.busy": "2023-09-21T19:03:56.338262Z",
     "iopub.status.idle": "2023-09-21T19:03:56.506201Z",
     "shell.execute_reply": "2023-09-21T19:03:56.505576Z",
     "shell.execute_reply.started": "2023-09-21T19:03:56.338767Z"
    },
    "id": "htoUhyirpqZt",
    "tags": []
   },
   "outputs": [],
   "source": [
    "plot_group_metrics_with_error_bars(metricframe_unmitigated_w_err, \"balanced_accuracy\", \"bal_acc_err_bar\")"
   ]
  },
  {
   "cell_type": "markdown",
   "id": "d49bff29-1253-44be-a148-c574e4315e0f",
   "metadata": {
    "id": "SAMhqvycR7eE"
   },
   "source": [
    "As we see above, even accounting for the larger uncertainty in estimating the false negative rate for *Unknown*, this group is experiencing substantially larger false negative rate than other groups and thus experiences the harm of allocation."
   ]
  },
  {
   "cell_type": "markdown",
   "id": "b65219b7-6275-45b0-a576-699db63a547f",
   "metadata": {
    "id": "8ZqVGZkam1eH"
   },
   "source": [
    "\n",
    "\n",
    "---\n"
   ]
  },
  {
   "cell_type": "markdown",
   "id": "857a5039-0144-43d3-acb4-b2fdd2e5eb20",
   "metadata": {
    "id": "-dgITdRiD7Yu"
   },
   "source": [
    "# **Mitigating fairness-related harms in ML models**"
   ]
  },
  {
   "cell_type": "markdown",
   "id": "a7467c19-c14e-40a8-ae16-34f21bab86b4",
   "metadata": {
    "id": "sbUSG1jVA06G"
   },
   "source": [
    "We have found that the logistic regression predictor leads to a large difference in false negative rates between the groups. We next look at **algorithmic mitigation strategies** of this fairness issue (and similar ones).\n",
    "\n",
    "*Note that while we currently focus on the training stage of the AI lifecycle mitigation should not be limited to this stage. In fact, we have already discussed mitigation strategies that are applicable at the task definition stage (e.g., checking for construct validity) and data collection stage (e.g., collecting more data).*\n",
    "\n",
    "Within the model training stage, mitigation may occur at different steps relative to model training:\n",
    "\n",
    "* **Preprocessing**: A mitigation algorithm is applied to transform the input data to the training algorithm; for example, some strategies seek to remove and dependence between the input features and sensitive features.\n",
    "\n",
    "* **At training time**: The model is trained by an (optimization) algorithm that seeks to satisfy fairness constraints.\n",
    "\n",
    "* **Postprocessing**: The output of a trained model is transformed to mitigate fairness issues; for example, the predicted probability of readmission is thresholded according to a group-specific threshold.\n",
    "\n",
    "We will now dive into two algorithms: a postprocessing approach and a reductions approach (which is a training-time algorithm). Both of them are in fact **meta-algorithms** in the sense that they act as wrappers around *any* standard (fairness-unaware) machine learning algorithms. This makes them quite versatile in practice.\n"
   ]
  },
  {
   "cell_type": "markdown",
   "id": "a409dd76-c4cc-4578-8190-e87ece69f4de",
   "metadata": {
    "id": "rX8QycCL0mJj"
   },
   "source": [
    "## Postprocessing with `ThresholdOptimizer`"
   ]
  },
  {
   "cell_type": "markdown",
   "id": "4da0fb3f-2b30-4420-83ed-7f37b23b13c8",
   "metadata": {
    "id": "fRZfSFzcFaXP"
   },
   "source": [
    "**Postprocessing** techniques are a class of unfairness-mitigation algorithms that take an already trained model and a dataset as an input and seek to fit a transformation function to model's outputs to satisfy some (group) fairness constraint(s). They might be the only feasible unfairness mitigation approach when developers cannot influence training of the model, due to practical reasons or due to security or privacy.\n"
   ]
  },
  {
   "cell_type": "markdown",
   "id": "a76535d8-be3d-4749-82fd-4e093aa4c262",
   "metadata": {
    "id": "6PgzZkK9Wbni"
   },
   "source": [
    "Here we use the `ThresholdOptimizer` algorithm from Fairlearn, which follows the approach of [Hardt, Price, and Srebro (2016)](https://arxiv.org/abs/1610.02413).\n",
    "\n",
    "`ThresholdOptimizer` takes in an exisiting (possibly pre-fit) machine learning model whose predictions act as a scoring function and identifies a separate thrceshold for each group in order to optimize some specified objective metric (such as **balanced accuracy**) subject to specified fairness constraints (such as **false negative rate parity**). Thus, the resulting classifier is just a suitably thresholded version of the underlying machinelearning model.\n",
    "\n",
    "The constraint **false negative rate parity** requires that all the groups have equal values of false negative rate.\n",
    "\n"
   ]
  },
  {
   "cell_type": "markdown",
   "id": "76a6d497-e466-48f8-a897-f84eefb6f627",
   "metadata": {
    "id": "OFOovaN7AwDr"
   },
   "source": [
    "To instatiate our `ThresholdOptimizer`, we pass in:\n",
    "\n",
    "*   An existing `estimator` that we wish to threshold. \n",
    "*   The fairness `constraints` we want to satisfy.\n",
    "*   The `objective` metric we want to maximize.\n",
    "\n"
   ]
  },
  {
   "cell_type": "code",
   "execution_count": 260,
   "id": "346f6a2f-3afd-4ace-9f79-7d309b0991b6",
   "metadata": {
    "execution": {
     "iopub.execute_input": "2024-02-08T12:15:10.484198Z",
     "iopub.status.busy": "2024-02-08T12:15:10.483298Z",
     "iopub.status.idle": "2024-02-08T12:15:10.492304Z",
     "shell.execute_reply": "2024-02-08T12:15:10.490917Z",
     "shell.execute_reply.started": "2024-02-08T12:15:10.484149Z"
    },
    "id": "8je0grKPWHhy",
    "tags": []
   },
   "outputs": [],
   "source": [
    "# Now we instantite ThresholdOptimizer with the logistic regression estimator\n",
    "postprocess_est = ThresholdOptimizer(\n",
    "    estimator=unmitigated_pipeline,\n",
    "    constraints=\"false_negative_rate_parity\",\n",
    "    objective=\"balanced_accuracy_score\",\n",
    "    prefit=True,\n",
    "    predict_method='predict_proba'\n",
    ")"
   ]
  },
  {
   "cell_type": "markdown",
   "id": "f5f8595c-223d-46e2-b792-e0b30df9ec69",
   "metadata": {
    "id": "VDD86L7eCSe0"
   },
   "source": [
    "In order to use the `ThresholdOptimizer`, we need access to the sensitive features **both during training time and once it's deployed**."
   ]
  },
  {
   "cell_type": "code",
   "execution_count": 261,
   "id": "2960854b-a415-43b8-9e50-dda845ece43e",
   "metadata": {
    "execution": {
     "iopub.execute_input": "2024-02-08T12:15:11.001575Z",
     "iopub.status.busy": "2024-02-08T12:15:11.000947Z",
     "iopub.status.idle": "2024-02-08T12:15:11.464599Z",
     "shell.execute_reply": "2024-02-08T12:15:11.463942Z",
     "shell.execute_reply.started": "2024-02-08T12:15:11.001529Z"
    },
    "id": "VCHJBB7x1rAK",
    "tags": []
   },
   "outputs": [
    {
     "data": {
      "text/html": [
       "<style>#sk-container-id-4 {color: black;}#sk-container-id-4 pre{padding: 0;}#sk-container-id-4 div.sk-toggleable {background-color: white;}#sk-container-id-4 label.sk-toggleable__label {cursor: pointer;display: block;width: 100%;margin-bottom: 0;padding: 0.3em;box-sizing: border-box;text-align: center;}#sk-container-id-4 label.sk-toggleable__label-arrow:before {content: \"▸\";float: left;margin-right: 0.25em;color: #696969;}#sk-container-id-4 label.sk-toggleable__label-arrow:hover:before {color: black;}#sk-container-id-4 div.sk-estimator:hover label.sk-toggleable__label-arrow:before {color: black;}#sk-container-id-4 div.sk-toggleable__content {max-height: 0;max-width: 0;overflow: hidden;text-align: left;background-color: #f0f8ff;}#sk-container-id-4 div.sk-toggleable__content pre {margin: 0.2em;color: black;border-radius: 0.25em;background-color: #f0f8ff;}#sk-container-id-4 input.sk-toggleable__control:checked~div.sk-toggleable__content {max-height: 200px;max-width: 100%;overflow: auto;}#sk-container-id-4 input.sk-toggleable__control:checked~label.sk-toggleable__label-arrow:before {content: \"▾\";}#sk-container-id-4 div.sk-estimator input.sk-toggleable__control:checked~label.sk-toggleable__label {background-color: #d4ebff;}#sk-container-id-4 div.sk-label input.sk-toggleable__control:checked~label.sk-toggleable__label {background-color: #d4ebff;}#sk-container-id-4 input.sk-hidden--visually {border: 0;clip: rect(1px 1px 1px 1px);clip: rect(1px, 1px, 1px, 1px);height: 1px;margin: -1px;overflow: hidden;padding: 0;position: absolute;width: 1px;}#sk-container-id-4 div.sk-estimator {font-family: monospace;background-color: #f0f8ff;border: 1px dotted black;border-radius: 0.25em;box-sizing: border-box;margin-bottom: 0.5em;}#sk-container-id-4 div.sk-estimator:hover {background-color: #d4ebff;}#sk-container-id-4 div.sk-parallel-item::after {content: \"\";width: 100%;border-bottom: 1px solid gray;flex-grow: 1;}#sk-container-id-4 div.sk-label:hover label.sk-toggleable__label {background-color: #d4ebff;}#sk-container-id-4 div.sk-serial::before {content: \"\";position: absolute;border-left: 1px solid gray;box-sizing: border-box;top: 0;bottom: 0;left: 50%;z-index: 0;}#sk-container-id-4 div.sk-serial {display: flex;flex-direction: column;align-items: center;background-color: white;padding-right: 0.2em;padding-left: 0.2em;position: relative;}#sk-container-id-4 div.sk-item {position: relative;z-index: 1;}#sk-container-id-4 div.sk-parallel {display: flex;align-items: stretch;justify-content: center;background-color: white;position: relative;}#sk-container-id-4 div.sk-item::before, #sk-container-id-4 div.sk-parallel-item::before {content: \"\";position: absolute;border-left: 1px solid gray;box-sizing: border-box;top: 0;bottom: 0;left: 50%;z-index: -1;}#sk-container-id-4 div.sk-parallel-item {display: flex;flex-direction: column;z-index: 1;position: relative;background-color: white;}#sk-container-id-4 div.sk-parallel-item:first-child::after {align-self: flex-end;width: 50%;}#sk-container-id-4 div.sk-parallel-item:last-child::after {align-self: flex-start;width: 50%;}#sk-container-id-4 div.sk-parallel-item:only-child::after {width: 0;}#sk-container-id-4 div.sk-dashed-wrapped {border: 1px dashed gray;margin: 0 0.4em 0.5em 0.4em;box-sizing: border-box;padding-bottom: 0.4em;background-color: white;}#sk-container-id-4 div.sk-label label {font-family: monospace;font-weight: bold;display: inline-block;line-height: 1.2em;}#sk-container-id-4 div.sk-label-container {text-align: center;}#sk-container-id-4 div.sk-container {/* jupyter's `normalize.less` sets `[hidden] { display: none; }` but bootstrap.min.css set `[hidden] { display: none !important; }` so we also need the `!important` here to be able to override the default hidden behavior on the sphinx rendered scikit-learn.org. See: https://github.com/scikit-learn/scikit-learn/issues/21755 */display: inline-block !important;position: relative;}#sk-container-id-4 div.sk-text-repr-fallback {display: none;}</style><div id=\"sk-container-id-4\" class=\"sk-top-container\"><div class=\"sk-text-repr-fallback\"><pre>ThresholdOptimizer(constraints=&#x27;false_negative_rate_parity&#x27;,\n",
       "                   estimator=Pipeline(steps=[(&#x27;preprocessing&#x27;,\n",
       "                                              StandardScaler()),\n",
       "                                             (&#x27;Random_Forest&#x27;,\n",
       "                                              RandomForestClassifier())]),\n",
       "                   objective=&#x27;balanced_accuracy_score&#x27;,\n",
       "                   predict_method=&#x27;predict_proba&#x27;, prefit=True)</pre><b>In a Jupyter environment, please rerun this cell to show the HTML representation or trust the notebook. <br />On GitHub, the HTML representation is unable to render, please try loading this page with nbviewer.org.</b></div><div class=\"sk-container\" hidden><div class=\"sk-item sk-dashed-wrapped\"><div class=\"sk-label-container\"><div class=\"sk-label sk-toggleable\"><input class=\"sk-toggleable__control sk-hidden--visually\" id=\"sk-estimator-id-10\" type=\"checkbox\" ><label for=\"sk-estimator-id-10\" class=\"sk-toggleable__label sk-toggleable__label-arrow\">ThresholdOptimizer</label><div class=\"sk-toggleable__content\"><pre>ThresholdOptimizer(constraints=&#x27;false_negative_rate_parity&#x27;,\n",
       "                   estimator=Pipeline(steps=[(&#x27;preprocessing&#x27;,\n",
       "                                              StandardScaler()),\n",
       "                                             (&#x27;Random_Forest&#x27;,\n",
       "                                              RandomForestClassifier())]),\n",
       "                   objective=&#x27;balanced_accuracy_score&#x27;,\n",
       "                   predict_method=&#x27;predict_proba&#x27;, prefit=True)</pre></div></div></div><div class=\"sk-parallel\"><div class=\"sk-parallel-item\"><div class=\"sk-item\"><div class=\"sk-label-container\"><div class=\"sk-label sk-toggleable\"><input class=\"sk-toggleable__control sk-hidden--visually\" id=\"sk-estimator-id-11\" type=\"checkbox\" ><label for=\"sk-estimator-id-11\" class=\"sk-toggleable__label sk-toggleable__label-arrow\">estimator: Pipeline</label><div class=\"sk-toggleable__content\"><pre>Pipeline(steps=[(&#x27;preprocessing&#x27;, StandardScaler()),\n",
       "                (&#x27;Random_Forest&#x27;, RandomForestClassifier())])</pre></div></div></div><div class=\"sk-serial\"><div class=\"sk-item\"><div class=\"sk-serial\"><div class=\"sk-item\"><div class=\"sk-estimator sk-toggleable\"><input class=\"sk-toggleable__control sk-hidden--visually\" id=\"sk-estimator-id-12\" type=\"checkbox\" ><label for=\"sk-estimator-id-12\" class=\"sk-toggleable__label sk-toggleable__label-arrow\">StandardScaler</label><div class=\"sk-toggleable__content\"><pre>StandardScaler()</pre></div></div></div><div class=\"sk-item\"><div class=\"sk-estimator sk-toggleable\"><input class=\"sk-toggleable__control sk-hidden--visually\" id=\"sk-estimator-id-13\" type=\"checkbox\" ><label for=\"sk-estimator-id-13\" class=\"sk-toggleable__label sk-toggleable__label-arrow\">RandomForestClassifier</label><div class=\"sk-toggleable__content\"><pre>RandomForestClassifier()</pre></div></div></div></div></div></div></div></div></div></div></div></div>"
      ],
      "text/plain": [
       "ThresholdOptimizer(constraints='false_negative_rate_parity',\n",
       "                   estimator=Pipeline(steps=[('preprocessing',\n",
       "                                              StandardScaler()),\n",
       "                                             ('Random_Forest',\n",
       "                                              RandomForestClassifier())]),\n",
       "                   objective='balanced_accuracy_score',\n",
       "                   predict_method='predict_proba', prefit=True)"
      ]
     },
     "execution_count": 261,
     "metadata": {},
     "output_type": "execute_result"
    }
   ],
   "source": [
    "postprocess_est.fit(X_train_bal, Y_train_bal, sensitive_features=A_train_bal)"
   ]
  },
  {
   "cell_type": "code",
   "execution_count": 262,
   "id": "ffefbfa9-b80e-4329-ae37-31b5eee1eb7b",
   "metadata": {
    "execution": {
     "iopub.execute_input": "2024-02-08T12:15:13.085985Z",
     "iopub.status.busy": "2024-02-08T12:15:13.085292Z",
     "iopub.status.idle": "2024-02-08T12:15:13.575233Z",
     "shell.execute_reply": "2024-02-08T12:15:13.574146Z",
     "shell.execute_reply.started": "2024-02-08T12:15:13.085937Z"
    },
    "id": "YscNZsYU1rCY",
    "tags": []
   },
   "outputs": [],
   "source": [
    "# Record and evaluate the output of the trained ThresholdOptimizer on test data\n",
    "\n",
    "Y_pred_postprocess = postprocess_est.predict(X_test, sensitive_features=A_test)\n",
    "metricframe_postprocess = MetricFrame(\n",
    "    metrics=metrics_dict,\n",
    "    y_true=Y_test,\n",
    "    y_pred=Y_pred_postprocess,\n",
    "    sensitive_features=A_test\n",
    ")"
   ]
  },
  {
   "cell_type": "markdown",
   "id": "ec1ac374-1070-4e10-b60b-3b066881340a",
   "metadata": {
    "id": "_izbGv6tQ1KD"
   },
   "source": [
    "We can now inspect how the metric values differ between the postprocessed model and the unmitigated model:"
   ]
  },
  {
   "cell_type": "code",
   "execution_count": null,
   "id": "f0d49243-2865-4e9e-9212-c9a245eb34aa",
   "metadata": {
    "execution": {
     "iopub.execute_input": "2024-02-08T12:15:16.570891Z",
     "iopub.status.busy": "2024-02-08T12:15:16.570368Z",
     "iopub.status.idle": "2024-02-08T12:15:16.591174Z",
     "shell.execute_reply": "2024-02-08T12:15:16.589424Z",
     "shell.execute_reply.started": "2024-02-08T12:15:16.570847Z"
    },
    "id": "-9mtWyWc1rH5",
    "tags": []
   },
   "outputs": [],
   "source": [
    "pd.concat([metricframe_unmitigated.by_group,\n",
    "           metricframe_postprocess.by_group],\n",
    "           keys=['Unmitigated', 'ThresholdOptimizer'],\n",
    "           axis=1)"
   ]
  },
  {
   "cell_type": "code",
   "execution_count": 264,
   "id": "10a222e8-52c2-4306-97ef-58ec43391598",
   "metadata": {
    "execution": {
     "iopub.execute_input": "2024-02-08T12:16:03.875387Z",
     "iopub.status.busy": "2024-02-08T12:16:03.874598Z",
     "iopub.status.idle": "2024-02-08T12:16:03.885701Z",
     "shell.execute_reply": "2024-02-08T12:16:03.884570Z",
     "shell.execute_reply.started": "2024-02-08T12:16:03.875352Z"
    }
   },
   "outputs": [],
   "source": [
    "pd.concat([metricframe_unmitigated.by_group,\n",
    "           metricframe_postprocess.by_group],\n",
    "           keys=['Unmitigated', 'ThresholdOptimizer'],\n",
    "           axis=1).to_csv('thresholdopt_male.csv')"
   ]
  },
  {
   "cell_type": "markdown",
   "id": "2b455890-0694-438c-b353-068c0396f8d8",
   "metadata": {
    "id": "mzPCUFsXPU_S"
   },
   "source": [
    "We next zoom in on differences between the largest and the smallest metric values:"
   ]
  },
  {
   "cell_type": "code",
   "execution_count": null,
   "id": "44eaa40a-d7f0-4e79-ae01-a7aef7473ab3",
   "metadata": {
    "execution": {
     "iopub.execute_input": "2024-02-08T12:18:45.469935Z",
     "iopub.status.busy": "2024-02-08T12:18:45.469304Z",
     "iopub.status.idle": "2024-02-08T12:18:45.483545Z",
     "shell.execute_reply": "2024-02-08T12:18:45.482684Z",
     "shell.execute_reply.started": "2024-02-08T12:18:45.469873Z"
    },
    "id": "dsC4v8Ap1rKt",
    "tags": []
   },
   "outputs": [],
   "source": [
    "pd.concat([metricframe_unmitigated.difference(),\n",
    "           metricframe_postprocess.difference()],\n",
    "          keys=['Unmitigated: difference', 'ThresholdOptimizer: difference'],\n",
    "          axis=1).T"
   ]
  },
  {
   "cell_type": "markdown",
   "id": "d77b359a-e843-4b8e-8386-560ba42dab76",
   "metadata": {
    "id": "GarQvopkVN2S"
   },
   "source": [
    "Finally, we save the disagregated statistics:"
   ]
  },
  {
   "cell_type": "code",
   "execution_count": null,
   "id": "9e5d0707-a728-42c8-ad5e-3a5b23bab361",
   "metadata": {
    "execution": {
     "iopub.execute_input": "2023-09-21T19:04:03.224025Z",
     "iopub.status.busy": "2023-09-21T19:04:03.223457Z",
     "iopub.status.idle": "2023-09-21T19:04:03.816939Z",
     "shell.execute_reply": "2023-09-21T19:04:03.816119Z",
     "shell.execute_reply.started": "2023-09-21T19:04:03.223956Z"
    },
    "id": "EsTehBH2SW7f",
    "tags": []
   },
   "outputs": [],
   "source": [
    "metricframe_postprocess.by_group.plot.bar(subplots=True, layout=[1,4], figsize=(12, 4), legend=False, rot=-45, position=1.5)\n",
    "# postprocess_performance = figure_to_base64str(plt)"
   ]
  },
  {
   "cell_type": "markdown",
   "id": "ba2b0d48-de8e-4f0f-9115-439546e52a77",
   "metadata": {
    "id": "umd3slsDmk0d"
   },
   "source": [
    "Next optional section shows that `ThresholdOptimizer` more closely satisfies constraints on the training data than on the test data.\n",
    "\n",
    "### Postprocessing: Correctness check [OPTIONAL SECTION]"
   ]
  },
  {
   "cell_type": "markdown",
   "id": "25501f0c-46f1-419e-bc56-fa70654586d9",
   "metadata": {
    "id": "Cs1kWzda8f0z"
   },
   "source": [
    "We can verify that `ThresholdOptimizer` achieves false negative rate parity on the training dataset, meaning that the values of the false negative rate parity with respect to all groups are close on the training data."
   ]
  },
  {
   "cell_type": "code",
   "execution_count": null,
   "id": "e9a5be08-29a0-4358-a8bd-cd7765fa0a68",
   "metadata": {
    "execution": {
     "iopub.execute_input": "2023-09-21T18:30:16.774406Z",
     "iopub.status.busy": "2023-09-21T18:30:16.773899Z",
     "iopub.status.idle": "2023-09-21T18:30:17.142125Z",
     "shell.execute_reply": "2023-09-21T18:30:17.141074Z",
     "shell.execute_reply.started": "2023-09-21T18:30:16.774360Z"
    },
    "id": "ttOZAVbgmplf",
    "tags": []
   },
   "outputs": [],
   "source": [
    "# Record and evaluate the output of the ThresholdOptimizer on the training data\n",
    "\n",
    "Y_pred_postprocess_training = postprocess_est.predict(X_train_bal, sensitive_features=A_train_bal)\n",
    "metricframe_postprocess_training = MetricFrame(\n",
    "    metrics=metrics_dict,\n",
    "    y_true=Y_train_bal,\n",
    "    y_pred=Y_pred_postprocess_training,\n",
    "    sensitive_features=A_train_bal\n",
    ")\n",
    "metricframe_postprocess_training.by_group"
   ]
  },
  {
   "cell_type": "code",
   "execution_count": null,
   "id": "e6131b32-a157-4975-a076-d6f9c14874fb",
   "metadata": {
    "execution": {
     "iopub.execute_input": "2023-08-24T10:30:22.289915Z",
     "iopub.status.busy": "2023-08-24T10:30:22.288752Z",
     "iopub.status.idle": "2023-08-24T10:30:22.300617Z",
     "shell.execute_reply": "2023-08-24T10:30:22.299092Z",
     "shell.execute_reply.started": "2023-08-24T10:30:22.289864Z"
    },
    "id": "Tty0cmJomp1h",
    "tags": []
   },
   "outputs": [],
   "source": [
    "# Evaluate the difference between the largest and smallest value of each metric\n",
    "metricframe_postprocess_training.difference()"
   ]
  },
  {
   "cell_type": "markdown",
   "id": "16a21dd0-fa78-4444-85ad-b396a1b0d1db",
   "metadata": {
    "id": "Kvdn7wBhCqXw"
   },
   "source": [
    "The value of `false_negative_rate_difference` on the training data is smaller than on the test data."
   ]
  },
  {
   "cell_type": "markdown",
   "id": "61951ff7-6a7d-422f-afeb-5f835df689b5",
   "metadata": {
    "id": "z2vLNUnK_P66"
   },
   "source": [
    "<a name=\"exercise-threshold\"></a>\n",
    "### Exercise: ThresholdOptimizer"
   ]
  },
  {
   "cell_type": "markdown",
   "id": "69c625e0-9423-40a9-80da-d4eb9ca91fde",
   "metadata": {
    "id": "0YUembo02yQ8"
   },
   "source": [
    "In this exercise, we will create a `ThresholdOptimizer` by constraining the *true positive rate* (also known as the *recall score*). For any model, the *true positive rate* + *false negative rate* = 1. \n",
    "\n",
    "By trying to achieve the *true positive rate parity*, we should produce a `ThresholdOptimizer` with the same performance as our original `ThresholdOptimizer`.\n",
    "\n"
   ]
  },
  {
   "cell_type": "markdown",
   "id": "e134fdd5-f1dc-4b19-a0e8-d9b4f8ebb2f8",
   "metadata": {
    "id": "ZJxE2eMuNF3_"
   },
   "source": [
    "#### 1.) Create a new ThresholdOptimizer with the constraint `false_positive_rate_parity` and objective `balanced_accuracy_score`."
   ]
  },
  {
   "cell_type": "code",
   "execution_count": 192,
   "id": "da9106c0-2276-4996-8dfe-c8f7e41f41f7",
   "metadata": {
    "execution": {
     "iopub.execute_input": "2023-09-21T18:30:59.017477Z",
     "iopub.status.busy": "2023-09-21T18:30:59.016746Z",
     "iopub.status.idle": "2023-09-21T18:30:59.024503Z",
     "shell.execute_reply": "2023-09-21T18:30:59.022790Z",
     "shell.execute_reply.started": "2023-09-21T18:30:59.017427Z"
    },
    "id": "zD5kQu6gqyl6",
    "tags": []
   },
   "outputs": [],
   "source": [
    "thresopt_exercise = ThresholdOptimizer(\n",
    "    estimator=unmitigated_pipeline,\n",
    "    constraints=\"false_positive_rate_parity\",\n",
    "    objective=\"balanced_accuracy_score\",\n",
    "    prefit=True,\n",
    "    predict_method='predict_proba'\n",
    ")"
   ]
  },
  {
   "cell_type": "code",
   "execution_count": 193,
   "id": "1f9e6e38-a8e1-4aa6-b98d-580140f86524",
   "metadata": {
    "execution": {
     "iopub.execute_input": "2023-09-21T18:30:59.590798Z",
     "iopub.status.busy": "2023-09-21T18:30:59.590310Z",
     "iopub.status.idle": "2023-09-21T18:31:00.297738Z",
     "shell.execute_reply": "2023-09-21T18:31:00.297124Z",
     "shell.execute_reply.started": "2023-09-21T18:30:59.590753Z"
    },
    "id": "CxdAikCKqyuW",
    "tags": []
   },
   "outputs": [],
   "source": [
    "thresopt_exercise.fit(X_train_bal, Y_train_bal, sensitive_features=A_train_bal)\n",
    "threshopt_pred = thresopt_exercise.predict(X_test, sensitive_features=A_test)"
   ]
  },
  {
   "cell_type": "markdown",
   "id": "be2ca8e5-848b-40f4-b572-48a77eec14dc",
   "metadata": {
    "id": "xBLD77OENFN-"
   },
   "source": [
    "#### 2.) Create a new `MetricFrame` object to process the results of this classifier."
   ]
  },
  {
   "cell_type": "code",
   "execution_count": 194,
   "id": "31a909ce-1b7f-4d15-9947-69ccf967ecc7",
   "metadata": {
    "execution": {
     "iopub.execute_input": "2023-09-21T18:31:00.645084Z",
     "iopub.status.busy": "2023-09-21T18:31:00.644080Z",
     "iopub.status.idle": "2023-09-21T18:31:00.840397Z",
     "shell.execute_reply": "2023-09-21T18:31:00.839325Z",
     "shell.execute_reply.started": "2023-09-21T18:31:00.645036Z"
    },
    "id": "B12UNsZErImo",
    "tags": []
   },
   "outputs": [],
   "source": [
    "thresop_metricframe = MetricFrame(\n",
    "    metrics=metrics_dict,\n",
    "    y_true=Y_test,\n",
    "    y_pred=threshopt_pred,\n",
    "    sensitive_features=A_test\n",
    ")"
   ]
  },
  {
   "cell_type": "markdown",
   "id": "db57cbaa-5f48-41b6-ad1c-a038249813d5",
   "metadata": {
    "id": "DEyEie-9NEew"
   },
   "source": [
    "#### 3.) Compare the performance of the two `ThresholdOptimizers`."
   ]
  },
  {
   "cell_type": "code",
   "execution_count": null,
   "id": "55a6d4cf-24b2-4359-9fd5-5ba3dfaaa5a4",
   "metadata": {
    "execution": {
     "iopub.execute_input": "2023-09-21T18:31:02.092230Z",
     "iopub.status.busy": "2023-09-21T18:31:02.091684Z",
     "iopub.status.idle": "2023-09-21T18:31:02.104925Z",
     "shell.execute_reply": "2023-09-21T18:31:02.103948Z",
     "shell.execute_reply.started": "2023-09-21T18:31:02.092179Z"
    },
    "id": "uz9mS66YrWka",
    "tags": []
   },
   "outputs": [],
   "source": [
    "# Visualize the performance of the new ThresholdOptimizer\n",
    "thresop_metricframe.by_group"
   ]
  },
  {
   "cell_type": "code",
   "execution_count": null,
   "id": "57c28abd-5489-4ed9-8f89-d0a11aea80ad",
   "metadata": {
    "execution": {
     "iopub.execute_input": "2023-09-21T18:31:07.446336Z",
     "iopub.status.busy": "2023-09-21T18:31:07.445779Z",
     "iopub.status.idle": "2023-09-21T18:31:07.459770Z",
     "shell.execute_reply": "2023-09-21T18:31:07.458950Z",
     "shell.execute_reply.started": "2023-09-21T18:31:07.446289Z"
    },
    "id": "oByEABVGrXWo",
    "tags": []
   },
   "outputs": [],
   "source": [
    "# Compare the performance to the original ThresholdOptimizer\n",
    "metricframe_postprocess.by_group"
   ]
  },
  {
   "cell_type": "code",
   "execution_count": null,
   "id": "ce074ee0-edfb-4903-b16e-36c4844ab77a",
   "metadata": {
    "execution": {
     "iopub.execute_input": "2023-09-21T18:31:15.663435Z",
     "iopub.status.busy": "2023-09-21T18:31:15.662874Z",
     "iopub.status.idle": "2023-09-21T18:31:15.678927Z",
     "shell.execute_reply": "2023-09-21T18:31:15.677880Z",
     "shell.execute_reply.started": "2023-09-21T18:31:15.663386Z"
    },
    "tags": []
   },
   "outputs": [],
   "source": [
    "pd.concat([metricframe_unmitigated.difference(),\n",
    "           metricframe_postprocess.difference(),\n",
    "          thresop_metricframe.difference()],\n",
    "          keys=['Unmitigated: difference', 'ThresholdOptimizer: difference', 'ThresholdOptimizer_fprParity: Difference'],\n",
    "          axis=1).T"
   ]
  },
  {
   "cell_type": "markdown",
   "id": "74632aa6-7cc9-47a3-ae65-32ebd57b9329",
   "metadata": {
    "id": "wAUI3LdQbBCs"
   },
   "source": [
    "Similar to many unfairness mitigation approaches, `ThresholdOptimizer` produces randomized classifiers. Next optional section presents a heuristic strategy for converting a randomized `ThresholdOptimizer` into a deterministic one. In our scenario, this heursitic is quite effective and the resulting deterministic classifier has similar performance as the original `ThresholdOptimizer`.\n",
    "\n",
    "### Deployment considerations: Randomized predictions [OPTIONAL SECTION]"
   ]
  },
  {
   "cell_type": "markdown",
   "id": "5623cb28-130a-46d4-b5ed-e847f2df3e63",
   "metadata": {
    "id": "wlfeHwVC6dna"
   },
   "source": [
    "When we were describing `ThresholdOptimizer` we said that it picks a separate threshold for each group. However, that is not quite correct. In fact,`ThresholdOptimizer`, for each group, picks two thresholds that are close to each other (say `threshold0` and `threshold1`) and then, at deployment time, randomizes between the two: choosing `threshold0` with some probability `p0` and `threshold1` with the remaining probability `p1=1-p0` (the specific probabilities are determined during training; for certain kinds of constraints, three thresholds are considered.)\n",
    "\n",
    "This means that the predictions are randomized. To achieve reproducible randomization, it is possible to provide an argument `random_state` to the `predict` method. However, in some settings, even such reproducible randomization is not acceptable and can be in fact viewed as a fairness issue, because of its arbitrariness.\n",
    "\n",
    "One derandomization heuristic is to replace the two thresholds by their weighted average, i.e., `threshold = p0*threshold0 + p1*threshold1`. That corresponds to the assumption that the values of the scores between the two thresholds are approximately uniformly distributed. Using this heuristic, we derandomize `ThresholdOptimizer`.\n",
    "\n"
   ]
  },
  {
   "cell_type": "markdown",
   "id": "0f88e99c-94cc-499e-9d85-bf51d3122a70",
   "metadata": {
    "tags": []
   },
   "source": [
    "#### Derandomization on `ThresholdOptimizer` model"
   ]
  },
  {
   "cell_type": "markdown",
   "id": "3b4525f4-79f0-4591-ab7e-b5ef1813d50f",
   "metadata": {
    "id": "nia26AD2BBKf"
   },
   "source": [
    "The randomized model of the `ThresholdOptimizer` is stored as the field\n",
    "`interpolated_thresholder_` in the fitted ThresholdOptimizer, which is itself a\n",
    "valid estimator of type `InterpolatedThresholder`:"
   ]
  },
  {
   "cell_type": "code",
   "execution_count": 208,
   "id": "56da7635-bc73-4b98-91e1-82c7e92029c2",
   "metadata": {
    "execution": {
     "iopub.execute_input": "2023-09-21T18:43:18.367617Z",
     "iopub.status.busy": "2023-09-21T18:43:18.366724Z",
     "iopub.status.idle": "2023-09-21T18:43:18.389786Z",
     "shell.execute_reply": "2023-09-21T18:43:18.389095Z",
     "shell.execute_reply.started": "2023-09-21T18:43:18.367538Z"
    },
    "id": "5w-c22tsZsvj",
    "tags": []
   },
   "outputs": [
    {
     "data": {
      "text/html": [
       "<style>#sk-container-id-6 {color: black;}#sk-container-id-6 pre{padding: 0;}#sk-container-id-6 div.sk-toggleable {background-color: white;}#sk-container-id-6 label.sk-toggleable__label {cursor: pointer;display: block;width: 100%;margin-bottom: 0;padding: 0.3em;box-sizing: border-box;text-align: center;}#sk-container-id-6 label.sk-toggleable__label-arrow:before {content: \"▸\";float: left;margin-right: 0.25em;color: #696969;}#sk-container-id-6 label.sk-toggleable__label-arrow:hover:before {color: black;}#sk-container-id-6 div.sk-estimator:hover label.sk-toggleable__label-arrow:before {color: black;}#sk-container-id-6 div.sk-toggleable__content {max-height: 0;max-width: 0;overflow: hidden;text-align: left;background-color: #f0f8ff;}#sk-container-id-6 div.sk-toggleable__content pre {margin: 0.2em;color: black;border-radius: 0.25em;background-color: #f0f8ff;}#sk-container-id-6 input.sk-toggleable__control:checked~div.sk-toggleable__content {max-height: 200px;max-width: 100%;overflow: auto;}#sk-container-id-6 input.sk-toggleable__control:checked~label.sk-toggleable__label-arrow:before {content: \"▾\";}#sk-container-id-6 div.sk-estimator input.sk-toggleable__control:checked~label.sk-toggleable__label {background-color: #d4ebff;}#sk-container-id-6 div.sk-label input.sk-toggleable__control:checked~label.sk-toggleable__label {background-color: #d4ebff;}#sk-container-id-6 input.sk-hidden--visually {border: 0;clip: rect(1px 1px 1px 1px);clip: rect(1px, 1px, 1px, 1px);height: 1px;margin: -1px;overflow: hidden;padding: 0;position: absolute;width: 1px;}#sk-container-id-6 div.sk-estimator {font-family: monospace;background-color: #f0f8ff;border: 1px dotted black;border-radius: 0.25em;box-sizing: border-box;margin-bottom: 0.5em;}#sk-container-id-6 div.sk-estimator:hover {background-color: #d4ebff;}#sk-container-id-6 div.sk-parallel-item::after {content: \"\";width: 100%;border-bottom: 1px solid gray;flex-grow: 1;}#sk-container-id-6 div.sk-label:hover label.sk-toggleable__label {background-color: #d4ebff;}#sk-container-id-6 div.sk-serial::before {content: \"\";position: absolute;border-left: 1px solid gray;box-sizing: border-box;top: 0;bottom: 0;left: 50%;z-index: 0;}#sk-container-id-6 div.sk-serial {display: flex;flex-direction: column;align-items: center;background-color: white;padding-right: 0.2em;padding-left: 0.2em;position: relative;}#sk-container-id-6 div.sk-item {position: relative;z-index: 1;}#sk-container-id-6 div.sk-parallel {display: flex;align-items: stretch;justify-content: center;background-color: white;position: relative;}#sk-container-id-6 div.sk-item::before, #sk-container-id-6 div.sk-parallel-item::before {content: \"\";position: absolute;border-left: 1px solid gray;box-sizing: border-box;top: 0;bottom: 0;left: 50%;z-index: -1;}#sk-container-id-6 div.sk-parallel-item {display: flex;flex-direction: column;z-index: 1;position: relative;background-color: white;}#sk-container-id-6 div.sk-parallel-item:first-child::after {align-self: flex-end;width: 50%;}#sk-container-id-6 div.sk-parallel-item:last-child::after {align-self: flex-start;width: 50%;}#sk-container-id-6 div.sk-parallel-item:only-child::after {width: 0;}#sk-container-id-6 div.sk-dashed-wrapped {border: 1px dashed gray;margin: 0 0.4em 0.5em 0.4em;box-sizing: border-box;padding-bottom: 0.4em;background-color: white;}#sk-container-id-6 div.sk-label label {font-family: monospace;font-weight: bold;display: inline-block;line-height: 1.2em;}#sk-container-id-6 div.sk-label-container {text-align: center;}#sk-container-id-6 div.sk-container {/* jupyter's `normalize.less` sets `[hidden] { display: none; }` but bootstrap.min.css set `[hidden] { display: none !important; }` so we also need the `!important` here to be able to override the default hidden behavior on the sphinx rendered scikit-learn.org. See: https://github.com/scikit-learn/scikit-learn/issues/21755 */display: inline-block !important;position: relative;}#sk-container-id-6 div.sk-text-repr-fallback {display: none;}</style><div id=\"sk-container-id-6\" class=\"sk-top-container\"><div class=\"sk-text-repr-fallback\"><pre>InterpolatedThresholder(estimator=Pipeline(steps=[(&#x27;preprocessing&#x27;,\n",
       "                                                   StandardScaler()),\n",
       "                                                  (&#x27;Random_Forest&#x27;,\n",
       "                                                   RandomForestClassifier())]),\n",
       "                        interpolation_dict={&#x27;Asian&#x27;: {&#x27;operation0&#x27;: [&gt;0.4515],\n",
       "                                                      &#x27;operation1&#x27;: [&gt;0.775],\n",
       "                                                      &#x27;p0&#x27;: 0.9667857142857142,\n",
       "                                                      &#x27;p1&#x27;: 0.03321428571428575},\n",
       "                                            &#x27;Black&#x27;: {&#x27;operation0&#x27;: [&gt;0.528345238095238],\n",
       "                                                      &#x27;operation1&#x27;: [&gt;inf],\n",
       "                                                      &#x27;p0&#x27;: 0.995,\n",
       "                                                      &#x27;p1&#x27;: 0.005000000000000...\n",
       "                                                      &#x27;operation1&#x27;: [&gt;0.7225],\n",
       "                                                      &#x27;p0&#x27;: 0.97,\n",
       "                                                      &#x27;p1&#x27;: 0.030000000000000027},\n",
       "                                            &#x27;Unknown&#x27;: {&#x27;operation0&#x27;: [&gt;0.46058333333333334],\n",
       "                                                        &#x27;operation1&#x27;: [&gt;0.5524556277056276],\n",
       "                                                        &#x27;p0&#x27;: 0.575,\n",
       "                                                        &#x27;p1&#x27;: 0.42500000000000004},\n",
       "                                            &#x27;White&#x27;: {&#x27;operation0&#x27;: [&gt;0.45258333333333334],\n",
       "                                                      &#x27;operation1&#x27;: [&gt;0.5379675324675324],\n",
       "                                                      &#x27;p0&#x27;: 0.31318181818181806,\n",
       "                                                      &#x27;p1&#x27;: 0.686818181818182}},\n",
       "                        predict_method=&#x27;predict_proba&#x27;, prefit=True)</pre><b>In a Jupyter environment, please rerun this cell to show the HTML representation or trust the notebook. <br />On GitHub, the HTML representation is unable to render, please try loading this page with nbviewer.org.</b></div><div class=\"sk-container\" hidden><div class=\"sk-item sk-dashed-wrapped\"><div class=\"sk-label-container\"><div class=\"sk-label sk-toggleable\"><input class=\"sk-toggleable__control sk-hidden--visually\" id=\"sk-estimator-id-19\" type=\"checkbox\" ><label for=\"sk-estimator-id-19\" class=\"sk-toggleable__label sk-toggleable__label-arrow\">InterpolatedThresholder</label><div class=\"sk-toggleable__content\"><pre>InterpolatedThresholder(estimator=Pipeline(steps=[(&#x27;preprocessing&#x27;,\n",
       "                                                   StandardScaler()),\n",
       "                                                  (&#x27;Random_Forest&#x27;,\n",
       "                                                   RandomForestClassifier())]),\n",
       "                        interpolation_dict={&#x27;Asian&#x27;: {&#x27;operation0&#x27;: [&gt;0.4515],\n",
       "                                                      &#x27;operation1&#x27;: [&gt;0.775],\n",
       "                                                      &#x27;p0&#x27;: 0.9667857142857142,\n",
       "                                                      &#x27;p1&#x27;: 0.03321428571428575},\n",
       "                                            &#x27;Black&#x27;: {&#x27;operation0&#x27;: [&gt;0.528345238095238],\n",
       "                                                      &#x27;operation1&#x27;: [&gt;inf],\n",
       "                                                      &#x27;p0&#x27;: 0.995,\n",
       "                                                      &#x27;p1&#x27;: 0.005000000000000...\n",
       "                                                      &#x27;operation1&#x27;: [&gt;0.7225],\n",
       "                                                      &#x27;p0&#x27;: 0.97,\n",
       "                                                      &#x27;p1&#x27;: 0.030000000000000027},\n",
       "                                            &#x27;Unknown&#x27;: {&#x27;operation0&#x27;: [&gt;0.46058333333333334],\n",
       "                                                        &#x27;operation1&#x27;: [&gt;0.5524556277056276],\n",
       "                                                        &#x27;p0&#x27;: 0.575,\n",
       "                                                        &#x27;p1&#x27;: 0.42500000000000004},\n",
       "                                            &#x27;White&#x27;: {&#x27;operation0&#x27;: [&gt;0.45258333333333334],\n",
       "                                                      &#x27;operation1&#x27;: [&gt;0.5379675324675324],\n",
       "                                                      &#x27;p0&#x27;: 0.31318181818181806,\n",
       "                                                      &#x27;p1&#x27;: 0.686818181818182}},\n",
       "                        predict_method=&#x27;predict_proba&#x27;, prefit=True)</pre></div></div></div><div class=\"sk-parallel\"><div class=\"sk-parallel-item\"><div class=\"sk-item\"><div class=\"sk-label-container\"><div class=\"sk-label sk-toggleable\"><input class=\"sk-toggleable__control sk-hidden--visually\" id=\"sk-estimator-id-20\" type=\"checkbox\" ><label for=\"sk-estimator-id-20\" class=\"sk-toggleable__label sk-toggleable__label-arrow\">estimator: Pipeline</label><div class=\"sk-toggleable__content\"><pre>Pipeline(steps=[(&#x27;preprocessing&#x27;, StandardScaler()),\n",
       "                (&#x27;Random_Forest&#x27;, RandomForestClassifier())])</pre></div></div></div><div class=\"sk-serial\"><div class=\"sk-item\"><div class=\"sk-serial\"><div class=\"sk-item\"><div class=\"sk-estimator sk-toggleable\"><input class=\"sk-toggleable__control sk-hidden--visually\" id=\"sk-estimator-id-21\" type=\"checkbox\" ><label for=\"sk-estimator-id-21\" class=\"sk-toggleable__label sk-toggleable__label-arrow\">StandardScaler</label><div class=\"sk-toggleable__content\"><pre>StandardScaler()</pre></div></div></div><div class=\"sk-item\"><div class=\"sk-estimator sk-toggleable\"><input class=\"sk-toggleable__control sk-hidden--visually\" id=\"sk-estimator-id-22\" type=\"checkbox\" ><label for=\"sk-estimator-id-22\" class=\"sk-toggleable__label sk-toggleable__label-arrow\">RandomForestClassifier</label><div class=\"sk-toggleable__content\"><pre>RandomForestClassifier()</pre></div></div></div></div></div></div></div></div></div></div></div></div>"
      ],
      "text/plain": [
       "InterpolatedThresholder(estimator=Pipeline(steps=[('preprocessing',\n",
       "                                                   StandardScaler()),\n",
       "                                                  ('Random_Forest',\n",
       "                                                   RandomForestClassifier())]),\n",
       "                        interpolation_dict={'Asian': {'operation0': [>0.4515],\n",
       "                                                      'operation1': [>0.775],\n",
       "                                                      'p0': 0.9667857142857142,\n",
       "                                                      'p1': 0.03321428571428575},\n",
       "                                            'Black': {'operation0': [>0.528345238095238],\n",
       "                                                      'operation1': [>inf],\n",
       "                                                      'p0': 0.995,\n",
       "                                                      'p1': 0.005000000000000...\n",
       "                                                      'operation1': [>0.7225],\n",
       "                                                      'p0': 0.97,\n",
       "                                                      'p1': 0.030000000000000027},\n",
       "                                            'Unknown': {'operation0': [>0.46058333333333334],\n",
       "                                                        'operation1': [>0.5524556277056276],\n",
       "                                                        'p0': 0.575,\n",
       "                                                        'p1': 0.42500000000000004},\n",
       "                                            'White': {'operation0': [>0.45258333333333334],\n",
       "                                                      'operation1': [>0.5379675324675324],\n",
       "                                                      'p0': 0.31318181818181806,\n",
       "                                                      'p1': 0.686818181818182}},\n",
       "                        predict_method='predict_proba', prefit=True)"
      ]
     },
     "execution_count": 208,
     "metadata": {},
     "output_type": "execute_result"
    }
   ],
   "source": [
    "interpolated = postprocess_est.interpolated_thresholder_\n",
    "interpolated"
   ]
  },
  {
   "cell_type": "markdown",
   "id": "643b26af-4d23-466d-975a-dddcbd51e876",
   "metadata": {
    "id": "8PkqiznTuL0l"
   },
   "source": [
    "The `interpolation_dict` is a dictionary which assign to each sensitive feature value two thresholds and two respective probabilities. Using our derandomization strategy, we can create a dictionary that represents a deterministic rule:\n"
   ]
  },
  {
   "cell_type": "code",
   "execution_count": 209,
   "id": "ac969f6f-018d-4962-9150-d5ff84addf16",
   "metadata": {
    "execution": {
     "iopub.execute_input": "2023-09-21T18:43:19.062404Z",
     "iopub.status.busy": "2023-09-21T18:43:19.061904Z",
     "iopub.status.idle": "2023-09-21T18:43:19.072819Z",
     "shell.execute_reply": "2023-09-21T18:43:19.071999Z",
     "shell.execute_reply.started": "2023-09-21T18:43:19.062360Z"
    },
    "id": "F3a1Mw8koLUa",
    "tags": []
   },
   "outputs": [],
   "source": [
    "def create_deterministic(interpolate_dict):\n",
    "  \"\"\"\n",
    "  Creates a deterministic interpolation_dictionary from a randomized\n",
    "  interpolation_dictionary. The determinstic thresholds are created by taking\n",
    "  the weighted combinations of the two randomized thresholds for each sensitive\n",
    "  group.\n",
    "  \"\"\"\n",
    "  deterministic_dict = {}\n",
    "  for (race, operations) in interpolate_dict.items():\n",
    "    op0, op1 = operations[\"operation0\"]._threshold, operations[\"operation1\"]._threshold\n",
    "    p0, p1 = operations[\"p0\"], operations[\"p1\"]\n",
    "    deterministic_dict[race] = Bunch(\n",
    "      p0=0.0,\n",
    "      p1=1.0,\n",
    "      operation0=ThresholdOperation(operator=\">\",threshold=(p0*op0 + p1*op1)),\n",
    "      operation1=ThresholdOperation(operator=\">\",threshold=(p0*op0 + p1*op1))\n",
    "    )\n",
    "  return deterministic_dict"
   ]
  },
  {
   "cell_type": "code",
   "execution_count": null,
   "id": "9b7dce4f-c31f-49e6-920b-2dcc950860e9",
   "metadata": {
    "execution": {
     "iopub.execute_input": "2023-09-21T18:43:19.389663Z",
     "iopub.status.busy": "2023-09-21T18:43:19.388673Z",
     "iopub.status.idle": "2023-09-21T18:43:19.398407Z",
     "shell.execute_reply": "2023-09-21T18:43:19.397202Z",
     "shell.execute_reply.started": "2023-09-21T18:43:19.389616Z"
    },
    "id": "lbynyyy2CKxv",
    "tags": []
   },
   "outputs": [],
   "source": [
    "deterministic_dict = create_deterministic(interpolated.interpolation_dict)\n",
    "deterministic_dict"
   ]
  },
  {
   "cell_type": "markdown",
   "id": "7cecebdf-a518-47ee-bf4a-69396745cbb7",
   "metadata": {
    "id": "euqycBW_3EB2"
   },
   "source": [
    "Now, we can create an `InterpolatedThresholder` that uses the same pre-fit estimator, but with derandomized thresholds."
   ]
  },
  {
   "cell_type": "code",
   "execution_count": 211,
   "id": "c7c53d98-d1cc-4e6a-822b-3dc0ad46fa51",
   "metadata": {
    "execution": {
     "iopub.execute_input": "2023-09-21T18:43:20.069222Z",
     "iopub.status.busy": "2023-09-21T18:43:20.068748Z",
     "iopub.status.idle": "2023-09-21T18:43:20.076710Z",
     "shell.execute_reply": "2023-09-21T18:43:20.075180Z",
     "shell.execute_reply.started": "2023-09-21T18:43:20.069178Z"
    },
    "id": "R3qKiaMiPOaG",
    "tags": []
   },
   "outputs": [],
   "source": [
    "deterministic_thresholder = InterpolatedThresholder(estimator=interpolated.estimator,\n",
    "                                                 interpolation_dict=deterministic_dict,\n",
    "                                                 prefit=True,\n",
    "                                                 predict_method='predict_proba')"
   ]
  },
  {
   "cell_type": "code",
   "execution_count": 212,
   "id": "c26a18a2-c004-4397-ae91-ce66c98ddafb",
   "metadata": {
    "execution": {
     "iopub.execute_input": "2023-09-21T18:43:20.698202Z",
     "iopub.status.busy": "2023-09-21T18:43:20.697742Z",
     "iopub.status.idle": "2023-09-21T18:43:20.727798Z",
     "shell.execute_reply": "2023-09-21T18:43:20.726787Z",
     "shell.execute_reply.started": "2023-09-21T18:43:20.698159Z"
    },
    "id": "XLNNadraaFMT",
    "tags": []
   },
   "outputs": [
    {
     "data": {
      "text/html": [
       "<style>#sk-container-id-7 {color: black;}#sk-container-id-7 pre{padding: 0;}#sk-container-id-7 div.sk-toggleable {background-color: white;}#sk-container-id-7 label.sk-toggleable__label {cursor: pointer;display: block;width: 100%;margin-bottom: 0;padding: 0.3em;box-sizing: border-box;text-align: center;}#sk-container-id-7 label.sk-toggleable__label-arrow:before {content: \"▸\";float: left;margin-right: 0.25em;color: #696969;}#sk-container-id-7 label.sk-toggleable__label-arrow:hover:before {color: black;}#sk-container-id-7 div.sk-estimator:hover label.sk-toggleable__label-arrow:before {color: black;}#sk-container-id-7 div.sk-toggleable__content {max-height: 0;max-width: 0;overflow: hidden;text-align: left;background-color: #f0f8ff;}#sk-container-id-7 div.sk-toggleable__content pre {margin: 0.2em;color: black;border-radius: 0.25em;background-color: #f0f8ff;}#sk-container-id-7 input.sk-toggleable__control:checked~div.sk-toggleable__content {max-height: 200px;max-width: 100%;overflow: auto;}#sk-container-id-7 input.sk-toggleable__control:checked~label.sk-toggleable__label-arrow:before {content: \"▾\";}#sk-container-id-7 div.sk-estimator input.sk-toggleable__control:checked~label.sk-toggleable__label {background-color: #d4ebff;}#sk-container-id-7 div.sk-label input.sk-toggleable__control:checked~label.sk-toggleable__label {background-color: #d4ebff;}#sk-container-id-7 input.sk-hidden--visually {border: 0;clip: rect(1px 1px 1px 1px);clip: rect(1px, 1px, 1px, 1px);height: 1px;margin: -1px;overflow: hidden;padding: 0;position: absolute;width: 1px;}#sk-container-id-7 div.sk-estimator {font-family: monospace;background-color: #f0f8ff;border: 1px dotted black;border-radius: 0.25em;box-sizing: border-box;margin-bottom: 0.5em;}#sk-container-id-7 div.sk-estimator:hover {background-color: #d4ebff;}#sk-container-id-7 div.sk-parallel-item::after {content: \"\";width: 100%;border-bottom: 1px solid gray;flex-grow: 1;}#sk-container-id-7 div.sk-label:hover label.sk-toggleable__label {background-color: #d4ebff;}#sk-container-id-7 div.sk-serial::before {content: \"\";position: absolute;border-left: 1px solid gray;box-sizing: border-box;top: 0;bottom: 0;left: 50%;z-index: 0;}#sk-container-id-7 div.sk-serial {display: flex;flex-direction: column;align-items: center;background-color: white;padding-right: 0.2em;padding-left: 0.2em;position: relative;}#sk-container-id-7 div.sk-item {position: relative;z-index: 1;}#sk-container-id-7 div.sk-parallel {display: flex;align-items: stretch;justify-content: center;background-color: white;position: relative;}#sk-container-id-7 div.sk-item::before, #sk-container-id-7 div.sk-parallel-item::before {content: \"\";position: absolute;border-left: 1px solid gray;box-sizing: border-box;top: 0;bottom: 0;left: 50%;z-index: -1;}#sk-container-id-7 div.sk-parallel-item {display: flex;flex-direction: column;z-index: 1;position: relative;background-color: white;}#sk-container-id-7 div.sk-parallel-item:first-child::after {align-self: flex-end;width: 50%;}#sk-container-id-7 div.sk-parallel-item:last-child::after {align-self: flex-start;width: 50%;}#sk-container-id-7 div.sk-parallel-item:only-child::after {width: 0;}#sk-container-id-7 div.sk-dashed-wrapped {border: 1px dashed gray;margin: 0 0.4em 0.5em 0.4em;box-sizing: border-box;padding-bottom: 0.4em;background-color: white;}#sk-container-id-7 div.sk-label label {font-family: monospace;font-weight: bold;display: inline-block;line-height: 1.2em;}#sk-container-id-7 div.sk-label-container {text-align: center;}#sk-container-id-7 div.sk-container {/* jupyter's `normalize.less` sets `[hidden] { display: none; }` but bootstrap.min.css set `[hidden] { display: none !important; }` so we also need the `!important` here to be able to override the default hidden behavior on the sphinx rendered scikit-learn.org. See: https://github.com/scikit-learn/scikit-learn/issues/21755 */display: inline-block !important;position: relative;}#sk-container-id-7 div.sk-text-repr-fallback {display: none;}</style><div id=\"sk-container-id-7\" class=\"sk-top-container\"><div class=\"sk-text-repr-fallback\"><pre>InterpolatedThresholder(estimator=Pipeline(steps=[(&#x27;preprocessing&#x27;,\n",
       "                                                   StandardScaler()),\n",
       "                                                  (&#x27;Random_Forest&#x27;,\n",
       "                                                   RandomForestClassifier())]),\n",
       "                        interpolation_dict={&#x27;Asian&#x27;: {&#x27;operation0&#x27;: [&gt;0.46224482142857143],\n",
       "                                                      &#x27;operation1&#x27;: [&gt;0.46224482142857143],\n",
       "                                                      &#x27;p0&#x27;: 0.0, &#x27;p1&#x27;: 1.0},\n",
       "                                            &#x27;Black&#x27;: {&#x27;operation0&#x27;: [&gt;inf],\n",
       "                                                      &#x27;operation1&#x27;: [&gt;inf],\n",
       "                                                      &#x27;p0&#x27;: 0.0, &#x27;p1&#x27;: 1.0},\n",
       "                                            &#x27;Other&#x27;: {&#x27;operation0&#x27;: [&gt;0.45089999999999997],\n",
       "                                                      &#x27;operation1&#x27;: [&gt;0.45089999999999997],\n",
       "                                                      &#x27;p0&#x27;: 0.0, &#x27;p1&#x27;: 1.0},\n",
       "                                            &#x27;Unknown&#x27;: {&#x27;operation0&#x27;: [&gt;0.4996290584415584],\n",
       "                                                        &#x27;operation1&#x27;: [&gt;0.4996290584415584],\n",
       "                                                        &#x27;p0&#x27;: 0.0, &#x27;p1&#x27;: 1.0},\n",
       "                                            &#x27;White&#x27;: {&#x27;operation0&#x27;: [&gt;0.5112267537386855],\n",
       "                                                      &#x27;operation1&#x27;: [&gt;0.5112267537386855],\n",
       "                                                      &#x27;p0&#x27;: 0.0, &#x27;p1&#x27;: 1.0}},\n",
       "                        predict_method=&#x27;predict_proba&#x27;, prefit=True)</pre><b>In a Jupyter environment, please rerun this cell to show the HTML representation or trust the notebook. <br />On GitHub, the HTML representation is unable to render, please try loading this page with nbviewer.org.</b></div><div class=\"sk-container\" hidden><div class=\"sk-item sk-dashed-wrapped\"><div class=\"sk-label-container\"><div class=\"sk-label sk-toggleable\"><input class=\"sk-toggleable__control sk-hidden--visually\" id=\"sk-estimator-id-23\" type=\"checkbox\" ><label for=\"sk-estimator-id-23\" class=\"sk-toggleable__label sk-toggleable__label-arrow\">InterpolatedThresholder</label><div class=\"sk-toggleable__content\"><pre>InterpolatedThresholder(estimator=Pipeline(steps=[(&#x27;preprocessing&#x27;,\n",
       "                                                   StandardScaler()),\n",
       "                                                  (&#x27;Random_Forest&#x27;,\n",
       "                                                   RandomForestClassifier())]),\n",
       "                        interpolation_dict={&#x27;Asian&#x27;: {&#x27;operation0&#x27;: [&gt;0.46224482142857143],\n",
       "                                                      &#x27;operation1&#x27;: [&gt;0.46224482142857143],\n",
       "                                                      &#x27;p0&#x27;: 0.0, &#x27;p1&#x27;: 1.0},\n",
       "                                            &#x27;Black&#x27;: {&#x27;operation0&#x27;: [&gt;inf],\n",
       "                                                      &#x27;operation1&#x27;: [&gt;inf],\n",
       "                                                      &#x27;p0&#x27;: 0.0, &#x27;p1&#x27;: 1.0},\n",
       "                                            &#x27;Other&#x27;: {&#x27;operation0&#x27;: [&gt;0.45089999999999997],\n",
       "                                                      &#x27;operation1&#x27;: [&gt;0.45089999999999997],\n",
       "                                                      &#x27;p0&#x27;: 0.0, &#x27;p1&#x27;: 1.0},\n",
       "                                            &#x27;Unknown&#x27;: {&#x27;operation0&#x27;: [&gt;0.4996290584415584],\n",
       "                                                        &#x27;operation1&#x27;: [&gt;0.4996290584415584],\n",
       "                                                        &#x27;p0&#x27;: 0.0, &#x27;p1&#x27;: 1.0},\n",
       "                                            &#x27;White&#x27;: {&#x27;operation0&#x27;: [&gt;0.5112267537386855],\n",
       "                                                      &#x27;operation1&#x27;: [&gt;0.5112267537386855],\n",
       "                                                      &#x27;p0&#x27;: 0.0, &#x27;p1&#x27;: 1.0}},\n",
       "                        predict_method=&#x27;predict_proba&#x27;, prefit=True)</pre></div></div></div><div class=\"sk-parallel\"><div class=\"sk-parallel-item\"><div class=\"sk-item\"><div class=\"sk-label-container\"><div class=\"sk-label sk-toggleable\"><input class=\"sk-toggleable__control sk-hidden--visually\" id=\"sk-estimator-id-24\" type=\"checkbox\" ><label for=\"sk-estimator-id-24\" class=\"sk-toggleable__label sk-toggleable__label-arrow\">estimator: Pipeline</label><div class=\"sk-toggleable__content\"><pre>Pipeline(steps=[(&#x27;preprocessing&#x27;, StandardScaler()),\n",
       "                (&#x27;Random_Forest&#x27;, RandomForestClassifier())])</pre></div></div></div><div class=\"sk-serial\"><div class=\"sk-item\"><div class=\"sk-serial\"><div class=\"sk-item\"><div class=\"sk-estimator sk-toggleable\"><input class=\"sk-toggleable__control sk-hidden--visually\" id=\"sk-estimator-id-25\" type=\"checkbox\" ><label for=\"sk-estimator-id-25\" class=\"sk-toggleable__label sk-toggleable__label-arrow\">StandardScaler</label><div class=\"sk-toggleable__content\"><pre>StandardScaler()</pre></div></div></div><div class=\"sk-item\"><div class=\"sk-estimator sk-toggleable\"><input class=\"sk-toggleable__control sk-hidden--visually\" id=\"sk-estimator-id-26\" type=\"checkbox\" ><label for=\"sk-estimator-id-26\" class=\"sk-toggleable__label sk-toggleable__label-arrow\">RandomForestClassifier</label><div class=\"sk-toggleable__content\"><pre>RandomForestClassifier()</pre></div></div></div></div></div></div></div></div></div></div></div></div>"
      ],
      "text/plain": [
       "InterpolatedThresholder(estimator=Pipeline(steps=[('preprocessing',\n",
       "                                                   StandardScaler()),\n",
       "                                                  ('Random_Forest',\n",
       "                                                   RandomForestClassifier())]),\n",
       "                        interpolation_dict={'Asian': {'operation0': [>0.46224482142857143],\n",
       "                                                      'operation1': [>0.46224482142857143],\n",
       "                                                      'p0': 0.0, 'p1': 1.0},\n",
       "                                            'Black': {'operation0': [>inf],\n",
       "                                                      'operation1': [>inf],\n",
       "                                                      'p0': 0.0, 'p1': 1.0},\n",
       "                                            'Other': {'operation0': [>0.45089999999999997],\n",
       "                                                      'operation1': [>0.45089999999999997],\n",
       "                                                      'p0': 0.0, 'p1': 1.0},\n",
       "                                            'Unknown': {'operation0': [>0.4996290584415584],\n",
       "                                                        'operation1': [>0.4996290584415584],\n",
       "                                                        'p0': 0.0, 'p1': 1.0},\n",
       "                                            'White': {'operation0': [>0.5112267537386855],\n",
       "                                                      'operation1': [>0.5112267537386855],\n",
       "                                                      'p0': 0.0, 'p1': 1.0}},\n",
       "                        predict_method='predict_proba', prefit=True)"
      ]
     },
     "execution_count": 212,
     "metadata": {},
     "output_type": "execute_result"
    }
   ],
   "source": [
    "deterministic_thresholder.fit(X_train_bal, Y_train_bal, sensitive_features=A_train_bal)"
   ]
  },
  {
   "cell_type": "code",
   "execution_count": 213,
   "id": "acd628c0-26a3-4f37-99d0-f879fcde419e",
   "metadata": {
    "execution": {
     "iopub.execute_input": "2023-09-21T18:43:21.089613Z",
     "iopub.status.busy": "2023-09-21T18:43:21.088167Z",
     "iopub.status.idle": "2023-09-21T18:43:21.420803Z",
     "shell.execute_reply": "2023-09-21T18:43:21.420106Z",
     "shell.execute_reply.started": "2023-09-21T18:43:21.089541Z"
    },
    "id": "TPRwWuuWY2Yy",
    "tags": []
   },
   "outputs": [],
   "source": [
    "y_pred_postprocess_deterministic = deterministic_thresholder.predict(X_test, sensitive_features=A_test)"
   ]
  },
  {
   "cell_type": "code",
   "execution_count": 214,
   "id": "3bd414e9-3fa9-47d7-93ca-32a4d93a0120",
   "metadata": {
    "execution": {
     "iopub.execute_input": "2023-09-21T18:43:21.763485Z",
     "iopub.status.busy": "2023-09-21T18:43:21.763011Z",
     "iopub.status.idle": "2023-09-21T18:43:21.908045Z",
     "shell.execute_reply": "2023-09-21T18:43:21.907078Z",
     "shell.execute_reply.started": "2023-09-21T18:43:21.763440Z"
    },
    "id": "q3834uLWeXWO",
    "tags": []
   },
   "outputs": [],
   "source": [
    "mf_deterministic = MetricFrame(\n",
    "    metrics=metrics_dict,\n",
    "    y_true=Y_test,\n",
    "    y_pred=y_pred_postprocess_deterministic,\n",
    "    sensitive_features=A_test\n",
    ")"
   ]
  },
  {
   "cell_type": "markdown",
   "id": "d505fc50-ae64-4ae1-8c04-c9a85239e2b7",
   "metadata": {
    "id": "2tnGhMYzDloo"
   },
   "source": [
    "Now compare the two models in terms of their disaggregated metrics:"
   ]
  },
  {
   "cell_type": "code",
   "execution_count": null,
   "id": "8491ec8e-4c58-4a96-99a4-f4712c42db1e",
   "metadata": {
    "execution": {
     "iopub.execute_input": "2023-09-21T18:43:22.538873Z",
     "iopub.status.busy": "2023-09-21T18:43:22.538203Z",
     "iopub.status.idle": "2023-09-21T18:43:22.552255Z",
     "shell.execute_reply": "2023-09-21T18:43:22.550802Z",
     "shell.execute_reply.started": "2023-09-21T18:43:22.538810Z"
    },
    "id": "NIkoljGTeXZ0",
    "tags": []
   },
   "outputs": [],
   "source": [
    "mf_deterministic.by_group"
   ]
  },
  {
   "cell_type": "code",
   "execution_count": null,
   "id": "54d3a574-dde3-4db3-afcc-44ff7ba351eb",
   "metadata": {
    "execution": {
     "iopub.execute_input": "2023-09-21T18:43:22.789035Z",
     "iopub.status.busy": "2023-09-21T18:43:22.788232Z",
     "iopub.status.idle": "2023-09-21T18:43:22.801545Z",
     "shell.execute_reply": "2023-09-21T18:43:22.800535Z",
     "shell.execute_reply.started": "2023-09-21T18:43:22.788991Z"
    },
    "id": "mVimPa2nlFpv",
    "tags": []
   },
   "outputs": [],
   "source": [
    "metricframe_postprocess.by_group"
   ]
  },
  {
   "cell_type": "code",
   "execution_count": null,
   "id": "5b616599-b0a4-4415-a774-728928b4e5b6",
   "metadata": {
    "execution": {
     "iopub.execute_input": "2023-09-21T18:44:08.589114Z",
     "iopub.status.busy": "2023-09-21T18:44:08.588542Z",
     "iopub.status.idle": "2023-09-21T18:44:08.607309Z",
     "shell.execute_reply": "2023-09-21T18:44:08.605665Z",
     "shell.execute_reply.started": "2023-09-21T18:44:08.589067Z"
    },
    "tags": []
   },
   "outputs": [],
   "source": [
    "pd.concat([metricframe_unmitigated.difference(),\n",
    "           metricframe_postprocess.difference(),\n",
    "          thresop_metricframe.difference(),\n",
    "          mf_deterministic.difference()],\n",
    "          keys=['Unmitigated: difference', 'ThresholdOptimizer: difference', 'ThresholdOptimizer_fprParity: Difference','DererministicThresholdOptimizer: Difference'],\n",
    "          axis=1).T"
   ]
  },
  {
   "cell_type": "markdown",
   "id": "d2a023b3-7629-470f-bf46-021091ad7091",
   "metadata": {
    "tags": []
   },
   "source": [
    "#### Derandomization on the threshold oprimizer model: `thresopt_exercise`  which has the constraint of False_positive_rate parity"
   ]
  },
  {
   "cell_type": "markdown",
   "id": "afc21bd1-95ea-4db6-a67e-5875a070bdfa",
   "metadata": {
    "id": "nia26AD2BBKf"
   },
   "source": [
    "The randomized model of the `ThresholdOptimizer` is stored as the field\n",
    "`interpolated_thresholder_` in the fitted ThresholdOptimizer, which is itself a\n",
    "valid estimator of type `InterpolatedThresholder`:"
   ]
  },
  {
   "cell_type": "code",
   "execution_count": 219,
   "id": "f19f8dd6-21a4-4f4d-8f20-f2e6fe6f4e52",
   "metadata": {
    "execution": {
     "iopub.execute_input": "2023-09-21T18:44:12.723498Z",
     "iopub.status.busy": "2023-09-21T18:44:12.722921Z",
     "iopub.status.idle": "2023-09-21T18:44:12.745050Z",
     "shell.execute_reply": "2023-09-21T18:44:12.744413Z",
     "shell.execute_reply.started": "2023-09-21T18:44:12.723447Z"
    },
    "id": "5w-c22tsZsvj",
    "tags": []
   },
   "outputs": [
    {
     "data": {
      "text/html": [
       "<style>#sk-container-id-8 {color: black;}#sk-container-id-8 pre{padding: 0;}#sk-container-id-8 div.sk-toggleable {background-color: white;}#sk-container-id-8 label.sk-toggleable__label {cursor: pointer;display: block;width: 100%;margin-bottom: 0;padding: 0.3em;box-sizing: border-box;text-align: center;}#sk-container-id-8 label.sk-toggleable__label-arrow:before {content: \"▸\";float: left;margin-right: 0.25em;color: #696969;}#sk-container-id-8 label.sk-toggleable__label-arrow:hover:before {color: black;}#sk-container-id-8 div.sk-estimator:hover label.sk-toggleable__label-arrow:before {color: black;}#sk-container-id-8 div.sk-toggleable__content {max-height: 0;max-width: 0;overflow: hidden;text-align: left;background-color: #f0f8ff;}#sk-container-id-8 div.sk-toggleable__content pre {margin: 0.2em;color: black;border-radius: 0.25em;background-color: #f0f8ff;}#sk-container-id-8 input.sk-toggleable__control:checked~div.sk-toggleable__content {max-height: 200px;max-width: 100%;overflow: auto;}#sk-container-id-8 input.sk-toggleable__control:checked~label.sk-toggleable__label-arrow:before {content: \"▾\";}#sk-container-id-8 div.sk-estimator input.sk-toggleable__control:checked~label.sk-toggleable__label {background-color: #d4ebff;}#sk-container-id-8 div.sk-label input.sk-toggleable__control:checked~label.sk-toggleable__label {background-color: #d4ebff;}#sk-container-id-8 input.sk-hidden--visually {border: 0;clip: rect(1px 1px 1px 1px);clip: rect(1px, 1px, 1px, 1px);height: 1px;margin: -1px;overflow: hidden;padding: 0;position: absolute;width: 1px;}#sk-container-id-8 div.sk-estimator {font-family: monospace;background-color: #f0f8ff;border: 1px dotted black;border-radius: 0.25em;box-sizing: border-box;margin-bottom: 0.5em;}#sk-container-id-8 div.sk-estimator:hover {background-color: #d4ebff;}#sk-container-id-8 div.sk-parallel-item::after {content: \"\";width: 100%;border-bottom: 1px solid gray;flex-grow: 1;}#sk-container-id-8 div.sk-label:hover label.sk-toggleable__label {background-color: #d4ebff;}#sk-container-id-8 div.sk-serial::before {content: \"\";position: absolute;border-left: 1px solid gray;box-sizing: border-box;top: 0;bottom: 0;left: 50%;z-index: 0;}#sk-container-id-8 div.sk-serial {display: flex;flex-direction: column;align-items: center;background-color: white;padding-right: 0.2em;padding-left: 0.2em;position: relative;}#sk-container-id-8 div.sk-item {position: relative;z-index: 1;}#sk-container-id-8 div.sk-parallel {display: flex;align-items: stretch;justify-content: center;background-color: white;position: relative;}#sk-container-id-8 div.sk-item::before, #sk-container-id-8 div.sk-parallel-item::before {content: \"\";position: absolute;border-left: 1px solid gray;box-sizing: border-box;top: 0;bottom: 0;left: 50%;z-index: -1;}#sk-container-id-8 div.sk-parallel-item {display: flex;flex-direction: column;z-index: 1;position: relative;background-color: white;}#sk-container-id-8 div.sk-parallel-item:first-child::after {align-self: flex-end;width: 50%;}#sk-container-id-8 div.sk-parallel-item:last-child::after {align-self: flex-start;width: 50%;}#sk-container-id-8 div.sk-parallel-item:only-child::after {width: 0;}#sk-container-id-8 div.sk-dashed-wrapped {border: 1px dashed gray;margin: 0 0.4em 0.5em 0.4em;box-sizing: border-box;padding-bottom: 0.4em;background-color: white;}#sk-container-id-8 div.sk-label label {font-family: monospace;font-weight: bold;display: inline-block;line-height: 1.2em;}#sk-container-id-8 div.sk-label-container {text-align: center;}#sk-container-id-8 div.sk-container {/* jupyter's `normalize.less` sets `[hidden] { display: none; }` but bootstrap.min.css set `[hidden] { display: none !important; }` so we also need the `!important` here to be able to override the default hidden behavior on the sphinx rendered scikit-learn.org. See: https://github.com/scikit-learn/scikit-learn/issues/21755 */display: inline-block !important;position: relative;}#sk-container-id-8 div.sk-text-repr-fallback {display: none;}</style><div id=\"sk-container-id-8\" class=\"sk-top-container\"><div class=\"sk-text-repr-fallback\"><pre>InterpolatedThresholder(estimator=Pipeline(steps=[(&#x27;preprocessing&#x27;,\n",
       "                                                   StandardScaler()),\n",
       "                                                  (&#x27;Random_Forest&#x27;,\n",
       "                                                   RandomForestClassifier())]),\n",
       "                        interpolation_dict={&#x27;Asian&#x27;: {&#x27;operation0&#x27;: [&gt;0.4515],\n",
       "                                                      &#x27;operation1&#x27;: [&gt;0.125],\n",
       "                                                      &#x27;p0&#x27;: 0.9908378378378379,\n",
       "                                                      &#x27;p1&#x27;: 0.009162162162162146},\n",
       "                                            &#x27;Black&#x27;: {&#x27;operation0&#x27;: [&gt;0.528345238095238],\n",
       "                                                      &#x27;operation1&#x27;: [&gt;-inf],\n",
       "                                                      &#x27;p0&#x27;: 0.997,\n",
       "                                                      &#x27;p1&#x27;: 0.0030000000000...\n",
       "                                                      &#x27;operation1&#x27;: [&gt;-inf],\n",
       "                                                      &#x27;p0&#x27;: 0.997,\n",
       "                                                      &#x27;p1&#x27;: 0.0030000000000000027},\n",
       "                                            &#x27;Unknown&#x27;: {&#x27;operation0&#x27;: [&gt;0.56275],\n",
       "                                                        &#x27;operation1&#x27;: [&gt;0.5524556277056276],\n",
       "                                                        &#x27;p0&#x27;: 0.3089999999999999,\n",
       "                                                        &#x27;p1&#x27;: 0.6910000000000001},\n",
       "                                            &#x27;White&#x27;: {&#x27;operation0&#x27;: [&gt;0.5379675324675324],\n",
       "                                                      &#x27;operation1&#x27;: [&gt;0.45258333333333334],\n",
       "                                                      &#x27;p0&#x27;: 0.1791818181818181,\n",
       "                                                      &#x27;p1&#x27;: 0.8208181818181819}},\n",
       "                        predict_method=&#x27;predict_proba&#x27;, prefit=True)</pre><b>In a Jupyter environment, please rerun this cell to show the HTML representation or trust the notebook. <br />On GitHub, the HTML representation is unable to render, please try loading this page with nbviewer.org.</b></div><div class=\"sk-container\" hidden><div class=\"sk-item sk-dashed-wrapped\"><div class=\"sk-label-container\"><div class=\"sk-label sk-toggleable\"><input class=\"sk-toggleable__control sk-hidden--visually\" id=\"sk-estimator-id-27\" type=\"checkbox\" ><label for=\"sk-estimator-id-27\" class=\"sk-toggleable__label sk-toggleable__label-arrow\">InterpolatedThresholder</label><div class=\"sk-toggleable__content\"><pre>InterpolatedThresholder(estimator=Pipeline(steps=[(&#x27;preprocessing&#x27;,\n",
       "                                                   StandardScaler()),\n",
       "                                                  (&#x27;Random_Forest&#x27;,\n",
       "                                                   RandomForestClassifier())]),\n",
       "                        interpolation_dict={&#x27;Asian&#x27;: {&#x27;operation0&#x27;: [&gt;0.4515],\n",
       "                                                      &#x27;operation1&#x27;: [&gt;0.125],\n",
       "                                                      &#x27;p0&#x27;: 0.9908378378378379,\n",
       "                                                      &#x27;p1&#x27;: 0.009162162162162146},\n",
       "                                            &#x27;Black&#x27;: {&#x27;operation0&#x27;: [&gt;0.528345238095238],\n",
       "                                                      &#x27;operation1&#x27;: [&gt;-inf],\n",
       "                                                      &#x27;p0&#x27;: 0.997,\n",
       "                                                      &#x27;p1&#x27;: 0.0030000000000...\n",
       "                                                      &#x27;operation1&#x27;: [&gt;-inf],\n",
       "                                                      &#x27;p0&#x27;: 0.997,\n",
       "                                                      &#x27;p1&#x27;: 0.0030000000000000027},\n",
       "                                            &#x27;Unknown&#x27;: {&#x27;operation0&#x27;: [&gt;0.56275],\n",
       "                                                        &#x27;operation1&#x27;: [&gt;0.5524556277056276],\n",
       "                                                        &#x27;p0&#x27;: 0.3089999999999999,\n",
       "                                                        &#x27;p1&#x27;: 0.6910000000000001},\n",
       "                                            &#x27;White&#x27;: {&#x27;operation0&#x27;: [&gt;0.5379675324675324],\n",
       "                                                      &#x27;operation1&#x27;: [&gt;0.45258333333333334],\n",
       "                                                      &#x27;p0&#x27;: 0.1791818181818181,\n",
       "                                                      &#x27;p1&#x27;: 0.8208181818181819}},\n",
       "                        predict_method=&#x27;predict_proba&#x27;, prefit=True)</pre></div></div></div><div class=\"sk-parallel\"><div class=\"sk-parallel-item\"><div class=\"sk-item\"><div class=\"sk-label-container\"><div class=\"sk-label sk-toggleable\"><input class=\"sk-toggleable__control sk-hidden--visually\" id=\"sk-estimator-id-28\" type=\"checkbox\" ><label for=\"sk-estimator-id-28\" class=\"sk-toggleable__label sk-toggleable__label-arrow\">estimator: Pipeline</label><div class=\"sk-toggleable__content\"><pre>Pipeline(steps=[(&#x27;preprocessing&#x27;, StandardScaler()),\n",
       "                (&#x27;Random_Forest&#x27;, RandomForestClassifier())])</pre></div></div></div><div class=\"sk-serial\"><div class=\"sk-item\"><div class=\"sk-serial\"><div class=\"sk-item\"><div class=\"sk-estimator sk-toggleable\"><input class=\"sk-toggleable__control sk-hidden--visually\" id=\"sk-estimator-id-29\" type=\"checkbox\" ><label for=\"sk-estimator-id-29\" class=\"sk-toggleable__label sk-toggleable__label-arrow\">StandardScaler</label><div class=\"sk-toggleable__content\"><pre>StandardScaler()</pre></div></div></div><div class=\"sk-item\"><div class=\"sk-estimator sk-toggleable\"><input class=\"sk-toggleable__control sk-hidden--visually\" id=\"sk-estimator-id-30\" type=\"checkbox\" ><label for=\"sk-estimator-id-30\" class=\"sk-toggleable__label sk-toggleable__label-arrow\">RandomForestClassifier</label><div class=\"sk-toggleable__content\"><pre>RandomForestClassifier()</pre></div></div></div></div></div></div></div></div></div></div></div></div>"
      ],
      "text/plain": [
       "InterpolatedThresholder(estimator=Pipeline(steps=[('preprocessing',\n",
       "                                                   StandardScaler()),\n",
       "                                                  ('Random_Forest',\n",
       "                                                   RandomForestClassifier())]),\n",
       "                        interpolation_dict={'Asian': {'operation0': [>0.4515],\n",
       "                                                      'operation1': [>0.125],\n",
       "                                                      'p0': 0.9908378378378379,\n",
       "                                                      'p1': 0.009162162162162146},\n",
       "                                            'Black': {'operation0': [>0.528345238095238],\n",
       "                                                      'operation1': [>-inf],\n",
       "                                                      'p0': 0.997,\n",
       "                                                      'p1': 0.0030000000000...\n",
       "                                                      'operation1': [>-inf],\n",
       "                                                      'p0': 0.997,\n",
       "                                                      'p1': 0.0030000000000000027},\n",
       "                                            'Unknown': {'operation0': [>0.56275],\n",
       "                                                        'operation1': [>0.5524556277056276],\n",
       "                                                        'p0': 0.3089999999999999,\n",
       "                                                        'p1': 0.6910000000000001},\n",
       "                                            'White': {'operation0': [>0.5379675324675324],\n",
       "                                                      'operation1': [>0.45258333333333334],\n",
       "                                                      'p0': 0.1791818181818181,\n",
       "                                                      'p1': 0.8208181818181819}},\n",
       "                        predict_method='predict_proba', prefit=True)"
      ]
     },
     "execution_count": 219,
     "metadata": {},
     "output_type": "execute_result"
    }
   ],
   "source": [
    "interpolated2 = thresopt_exercise.interpolated_thresholder_\n",
    "interpolated2"
   ]
  },
  {
   "cell_type": "markdown",
   "id": "9761b378-3344-4726-883a-ea819db19335",
   "metadata": {
    "id": "8PkqiznTuL0l"
   },
   "source": [
    "The `interpolation_dict` is a dictionary which assign to each sensitive feature value two thresholds and two respective probabilities. Using our derandomization strategy, we can create a dictionary that represents a deterministic rule:\n"
   ]
  },
  {
   "cell_type": "code",
   "execution_count": null,
   "id": "612ea149-52a0-4105-9d6e-f551b67999e2",
   "metadata": {
    "execution": {
     "iopub.execute_input": "2023-09-21T18:44:13.854091Z",
     "iopub.status.busy": "2023-09-21T18:44:13.853584Z",
     "iopub.status.idle": "2023-09-21T18:44:13.864540Z",
     "shell.execute_reply": "2023-09-21T18:44:13.863034Z",
     "shell.execute_reply.started": "2023-09-21T18:44:13.854043Z"
    },
    "id": "lbynyyy2CKxv",
    "tags": []
   },
   "outputs": [],
   "source": [
    "deterministic_dict2 = create_deterministic(interpolated2.interpolation_dict)\n",
    "deterministic_dict2"
   ]
  },
  {
   "cell_type": "markdown",
   "id": "eb2988dd-5193-440b-b63d-0931d894adb6",
   "metadata": {
    "id": "euqycBW_3EB2"
   },
   "source": [
    "Now, we can create an `InterpolatedThresholder` that uses the same pre-fit estimator, but with derandomized thresholds."
   ]
  },
  {
   "cell_type": "code",
   "execution_count": 221,
   "id": "0e858daf-a12a-495e-a584-2d48a23c7fcc",
   "metadata": {
    "execution": {
     "iopub.execute_input": "2023-09-21T18:44:14.382209Z",
     "iopub.status.busy": "2023-09-21T18:44:14.381694Z",
     "iopub.status.idle": "2023-09-21T18:44:14.388527Z",
     "shell.execute_reply": "2023-09-21T18:44:14.387353Z",
     "shell.execute_reply.started": "2023-09-21T18:44:14.382161Z"
    },
    "id": "R3qKiaMiPOaG",
    "tags": []
   },
   "outputs": [],
   "source": [
    "deterministic_thresholder2 = InterpolatedThresholder(estimator=interpolated2.estimator,\n",
    "                                                 interpolation_dict=deterministic_dict2,\n",
    "                                                 prefit=True,\n",
    "                                                 predict_method='predict_proba')"
   ]
  },
  {
   "cell_type": "code",
   "execution_count": 222,
   "id": "302e210b-596b-46fc-b22f-d635301ce2ba",
   "metadata": {
    "execution": {
     "iopub.execute_input": "2023-09-21T18:44:14.609746Z",
     "iopub.status.busy": "2023-09-21T18:44:14.609587Z",
     "iopub.status.idle": "2023-09-21T18:44:14.622252Z",
     "shell.execute_reply": "2023-09-21T18:44:14.621606Z",
     "shell.execute_reply.started": "2023-09-21T18:44:14.609730Z"
    },
    "id": "XLNNadraaFMT",
    "tags": []
   },
   "outputs": [
    {
     "data": {
      "text/html": [
       "<style>#sk-container-id-9 {color: black;}#sk-container-id-9 pre{padding: 0;}#sk-container-id-9 div.sk-toggleable {background-color: white;}#sk-container-id-9 label.sk-toggleable__label {cursor: pointer;display: block;width: 100%;margin-bottom: 0;padding: 0.3em;box-sizing: border-box;text-align: center;}#sk-container-id-9 label.sk-toggleable__label-arrow:before {content: \"▸\";float: left;margin-right: 0.25em;color: #696969;}#sk-container-id-9 label.sk-toggleable__label-arrow:hover:before {color: black;}#sk-container-id-9 div.sk-estimator:hover label.sk-toggleable__label-arrow:before {color: black;}#sk-container-id-9 div.sk-toggleable__content {max-height: 0;max-width: 0;overflow: hidden;text-align: left;background-color: #f0f8ff;}#sk-container-id-9 div.sk-toggleable__content pre {margin: 0.2em;color: black;border-radius: 0.25em;background-color: #f0f8ff;}#sk-container-id-9 input.sk-toggleable__control:checked~div.sk-toggleable__content {max-height: 200px;max-width: 100%;overflow: auto;}#sk-container-id-9 input.sk-toggleable__control:checked~label.sk-toggleable__label-arrow:before {content: \"▾\";}#sk-container-id-9 div.sk-estimator input.sk-toggleable__control:checked~label.sk-toggleable__label {background-color: #d4ebff;}#sk-container-id-9 div.sk-label input.sk-toggleable__control:checked~label.sk-toggleable__label {background-color: #d4ebff;}#sk-container-id-9 input.sk-hidden--visually {border: 0;clip: rect(1px 1px 1px 1px);clip: rect(1px, 1px, 1px, 1px);height: 1px;margin: -1px;overflow: hidden;padding: 0;position: absolute;width: 1px;}#sk-container-id-9 div.sk-estimator {font-family: monospace;background-color: #f0f8ff;border: 1px dotted black;border-radius: 0.25em;box-sizing: border-box;margin-bottom: 0.5em;}#sk-container-id-9 div.sk-estimator:hover {background-color: #d4ebff;}#sk-container-id-9 div.sk-parallel-item::after {content: \"\";width: 100%;border-bottom: 1px solid gray;flex-grow: 1;}#sk-container-id-9 div.sk-label:hover label.sk-toggleable__label {background-color: #d4ebff;}#sk-container-id-9 div.sk-serial::before {content: \"\";position: absolute;border-left: 1px solid gray;box-sizing: border-box;top: 0;bottom: 0;left: 50%;z-index: 0;}#sk-container-id-9 div.sk-serial {display: flex;flex-direction: column;align-items: center;background-color: white;padding-right: 0.2em;padding-left: 0.2em;position: relative;}#sk-container-id-9 div.sk-item {position: relative;z-index: 1;}#sk-container-id-9 div.sk-parallel {display: flex;align-items: stretch;justify-content: center;background-color: white;position: relative;}#sk-container-id-9 div.sk-item::before, #sk-container-id-9 div.sk-parallel-item::before {content: \"\";position: absolute;border-left: 1px solid gray;box-sizing: border-box;top: 0;bottom: 0;left: 50%;z-index: -1;}#sk-container-id-9 div.sk-parallel-item {display: flex;flex-direction: column;z-index: 1;position: relative;background-color: white;}#sk-container-id-9 div.sk-parallel-item:first-child::after {align-self: flex-end;width: 50%;}#sk-container-id-9 div.sk-parallel-item:last-child::after {align-self: flex-start;width: 50%;}#sk-container-id-9 div.sk-parallel-item:only-child::after {width: 0;}#sk-container-id-9 div.sk-dashed-wrapped {border: 1px dashed gray;margin: 0 0.4em 0.5em 0.4em;box-sizing: border-box;padding-bottom: 0.4em;background-color: white;}#sk-container-id-9 div.sk-label label {font-family: monospace;font-weight: bold;display: inline-block;line-height: 1.2em;}#sk-container-id-9 div.sk-label-container {text-align: center;}#sk-container-id-9 div.sk-container {/* jupyter's `normalize.less` sets `[hidden] { display: none; }` but bootstrap.min.css set `[hidden] { display: none !important; }` so we also need the `!important` here to be able to override the default hidden behavior on the sphinx rendered scikit-learn.org. See: https://github.com/scikit-learn/scikit-learn/issues/21755 */display: inline-block !important;position: relative;}#sk-container-id-9 div.sk-text-repr-fallback {display: none;}</style><div id=\"sk-container-id-9\" class=\"sk-top-container\"><div class=\"sk-text-repr-fallback\"><pre>InterpolatedThresholder(estimator=Pipeline(steps=[(&#x27;preprocessing&#x27;,\n",
       "                                                   StandardScaler()),\n",
       "                                                  (&#x27;Random_Forest&#x27;,\n",
       "                                                   RandomForestClassifier())]),\n",
       "                        interpolation_dict={&#x27;Asian&#x27;: {&#x27;operation0&#x27;: [&gt;0.4485085540540541],\n",
       "                                                      &#x27;operation1&#x27;: [&gt;0.4485085540540541],\n",
       "                                                      &#x27;p0&#x27;: 0.0, &#x27;p1&#x27;: 1.0},\n",
       "                                            &#x27;Black&#x27;: {&#x27;operation0&#x27;: [&gt;-inf],\n",
       "                                                      &#x27;operation1&#x27;: [&gt;-inf],\n",
       "                                                      &#x27;p0&#x27;: 0.0, &#x27;p1&#x27;: 1.0},\n",
       "                                            &#x27;Other&#x27;: {&#x27;operation0&#x27;: [&gt;-inf],\n",
       "                                                      &#x27;operation1&#x27;: [&gt;-inf],\n",
       "                                                      &#x27;p0&#x27;: 0.0, &#x27;p1&#x27;: 1.0},\n",
       "                                            &#x27;Unknown&#x27;: {&#x27;operation0&#x27;: [&gt;0.5556365887445887],\n",
       "                                                        &#x27;operation1&#x27;: [&gt;0.5556365887445887],\n",
       "                                                        &#x27;p0&#x27;: 0.0, &#x27;p1&#x27;: 1.0},\n",
       "                                            &#x27;White&#x27;: {&#x27;operation0&#x27;: [&gt;0.4678826293781975],\n",
       "                                                      &#x27;operation1&#x27;: [&gt;0.4678826293781975],\n",
       "                                                      &#x27;p0&#x27;: 0.0, &#x27;p1&#x27;: 1.0}},\n",
       "                        predict_method=&#x27;predict_proba&#x27;, prefit=True)</pre><b>In a Jupyter environment, please rerun this cell to show the HTML representation or trust the notebook. <br />On GitHub, the HTML representation is unable to render, please try loading this page with nbviewer.org.</b></div><div class=\"sk-container\" hidden><div class=\"sk-item sk-dashed-wrapped\"><div class=\"sk-label-container\"><div class=\"sk-label sk-toggleable\"><input class=\"sk-toggleable__control sk-hidden--visually\" id=\"sk-estimator-id-31\" type=\"checkbox\" ><label for=\"sk-estimator-id-31\" class=\"sk-toggleable__label sk-toggleable__label-arrow\">InterpolatedThresholder</label><div class=\"sk-toggleable__content\"><pre>InterpolatedThresholder(estimator=Pipeline(steps=[(&#x27;preprocessing&#x27;,\n",
       "                                                   StandardScaler()),\n",
       "                                                  (&#x27;Random_Forest&#x27;,\n",
       "                                                   RandomForestClassifier())]),\n",
       "                        interpolation_dict={&#x27;Asian&#x27;: {&#x27;operation0&#x27;: [&gt;0.4485085540540541],\n",
       "                                                      &#x27;operation1&#x27;: [&gt;0.4485085540540541],\n",
       "                                                      &#x27;p0&#x27;: 0.0, &#x27;p1&#x27;: 1.0},\n",
       "                                            &#x27;Black&#x27;: {&#x27;operation0&#x27;: [&gt;-inf],\n",
       "                                                      &#x27;operation1&#x27;: [&gt;-inf],\n",
       "                                                      &#x27;p0&#x27;: 0.0, &#x27;p1&#x27;: 1.0},\n",
       "                                            &#x27;Other&#x27;: {&#x27;operation0&#x27;: [&gt;-inf],\n",
       "                                                      &#x27;operation1&#x27;: [&gt;-inf],\n",
       "                                                      &#x27;p0&#x27;: 0.0, &#x27;p1&#x27;: 1.0},\n",
       "                                            &#x27;Unknown&#x27;: {&#x27;operation0&#x27;: [&gt;0.5556365887445887],\n",
       "                                                        &#x27;operation1&#x27;: [&gt;0.5556365887445887],\n",
       "                                                        &#x27;p0&#x27;: 0.0, &#x27;p1&#x27;: 1.0},\n",
       "                                            &#x27;White&#x27;: {&#x27;operation0&#x27;: [&gt;0.4678826293781975],\n",
       "                                                      &#x27;operation1&#x27;: [&gt;0.4678826293781975],\n",
       "                                                      &#x27;p0&#x27;: 0.0, &#x27;p1&#x27;: 1.0}},\n",
       "                        predict_method=&#x27;predict_proba&#x27;, prefit=True)</pre></div></div></div><div class=\"sk-parallel\"><div class=\"sk-parallel-item\"><div class=\"sk-item\"><div class=\"sk-label-container\"><div class=\"sk-label sk-toggleable\"><input class=\"sk-toggleable__control sk-hidden--visually\" id=\"sk-estimator-id-32\" type=\"checkbox\" ><label for=\"sk-estimator-id-32\" class=\"sk-toggleable__label sk-toggleable__label-arrow\">estimator: Pipeline</label><div class=\"sk-toggleable__content\"><pre>Pipeline(steps=[(&#x27;preprocessing&#x27;, StandardScaler()),\n",
       "                (&#x27;Random_Forest&#x27;, RandomForestClassifier())])</pre></div></div></div><div class=\"sk-serial\"><div class=\"sk-item\"><div class=\"sk-serial\"><div class=\"sk-item\"><div class=\"sk-estimator sk-toggleable\"><input class=\"sk-toggleable__control sk-hidden--visually\" id=\"sk-estimator-id-33\" type=\"checkbox\" ><label for=\"sk-estimator-id-33\" class=\"sk-toggleable__label sk-toggleable__label-arrow\">StandardScaler</label><div class=\"sk-toggleable__content\"><pre>StandardScaler()</pre></div></div></div><div class=\"sk-item\"><div class=\"sk-estimator sk-toggleable\"><input class=\"sk-toggleable__control sk-hidden--visually\" id=\"sk-estimator-id-34\" type=\"checkbox\" ><label for=\"sk-estimator-id-34\" class=\"sk-toggleable__label sk-toggleable__label-arrow\">RandomForestClassifier</label><div class=\"sk-toggleable__content\"><pre>RandomForestClassifier()</pre></div></div></div></div></div></div></div></div></div></div></div></div>"
      ],
      "text/plain": [
       "InterpolatedThresholder(estimator=Pipeline(steps=[('preprocessing',\n",
       "                                                   StandardScaler()),\n",
       "                                                  ('Random_Forest',\n",
       "                                                   RandomForestClassifier())]),\n",
       "                        interpolation_dict={'Asian': {'operation0': [>0.4485085540540541],\n",
       "                                                      'operation1': [>0.4485085540540541],\n",
       "                                                      'p0': 0.0, 'p1': 1.0},\n",
       "                                            'Black': {'operation0': [>-inf],\n",
       "                                                      'operation1': [>-inf],\n",
       "                                                      'p0': 0.0, 'p1': 1.0},\n",
       "                                            'Other': {'operation0': [>-inf],\n",
       "                                                      'operation1': [>-inf],\n",
       "                                                      'p0': 0.0, 'p1': 1.0},\n",
       "                                            'Unknown': {'operation0': [>0.5556365887445887],\n",
       "                                                        'operation1': [>0.5556365887445887],\n",
       "                                                        'p0': 0.0, 'p1': 1.0},\n",
       "                                            'White': {'operation0': [>0.4678826293781975],\n",
       "                                                      'operation1': [>0.4678826293781975],\n",
       "                                                      'p0': 0.0, 'p1': 1.0}},\n",
       "                        predict_method='predict_proba', prefit=True)"
      ]
     },
     "execution_count": 222,
     "metadata": {},
     "output_type": "execute_result"
    }
   ],
   "source": [
    "deterministic_thresholder2.fit(X_train_bal, Y_train_bal, sensitive_features=A_train_bal)"
   ]
  },
  {
   "cell_type": "code",
   "execution_count": 223,
   "id": "5eaa7b31-ba31-4351-927e-b7756b858e30",
   "metadata": {
    "execution": {
     "iopub.execute_input": "2023-09-21T18:44:14.862696Z",
     "iopub.status.busy": "2023-09-21T18:44:14.862536Z",
     "iopub.status.idle": "2023-09-21T18:44:15.181084Z",
     "shell.execute_reply": "2023-09-21T18:44:15.179642Z",
     "shell.execute_reply.started": "2023-09-21T18:44:14.862681Z"
    },
    "id": "TPRwWuuWY2Yy",
    "tags": []
   },
   "outputs": [],
   "source": [
    "y_pred_postprocess_deterministic2 = deterministic_thresholder2.predict(X_test, sensitive_features=A_test)"
   ]
  },
  {
   "cell_type": "code",
   "execution_count": 224,
   "id": "8d36bed9-6f5f-4c1a-890c-073407dce1ab",
   "metadata": {
    "execution": {
     "iopub.execute_input": "2023-09-21T18:44:15.299788Z",
     "iopub.status.busy": "2023-09-21T18:44:15.299624Z",
     "iopub.status.idle": "2023-09-21T18:44:15.489274Z",
     "shell.execute_reply": "2023-09-21T18:44:15.488060Z",
     "shell.execute_reply.started": "2023-09-21T18:44:15.299772Z"
    },
    "id": "q3834uLWeXWO",
    "tags": []
   },
   "outputs": [],
   "source": [
    "mf_deterministic2 = MetricFrame(\n",
    "    metrics=metrics_dict,\n",
    "    y_true=Y_test,\n",
    "    y_pred=y_pred_postprocess_deterministic2,\n",
    "    sensitive_features=A_test\n",
    ")"
   ]
  },
  {
   "cell_type": "markdown",
   "id": "91e27a92-62bb-4bcb-b20b-0aa3bbdc4518",
   "metadata": {
    "id": "2tnGhMYzDloo"
   },
   "source": [
    "Now compare the two models in terms of their disaggregated metrics:"
   ]
  },
  {
   "cell_type": "code",
   "execution_count": null,
   "id": "9bed7306-2c00-40c2-b64e-599501408849",
   "metadata": {
    "execution": {
     "iopub.execute_input": "2023-09-21T18:44:16.635676Z",
     "iopub.status.busy": "2023-09-21T18:44:16.635164Z",
     "iopub.status.idle": "2023-09-21T18:44:16.651066Z",
     "shell.execute_reply": "2023-09-21T18:44:16.650057Z",
     "shell.execute_reply.started": "2023-09-21T18:44:16.635630Z"
    },
    "id": "NIkoljGTeXZ0",
    "tags": []
   },
   "outputs": [],
   "source": [
    "mf_deterministic2.by_group"
   ]
  },
  {
   "cell_type": "code",
   "execution_count": null,
   "id": "d701d5ac-28a0-492f-8124-aaf0e59ced82",
   "metadata": {
    "execution": {
     "iopub.execute_input": "2023-09-21T18:44:24.385455Z",
     "iopub.status.busy": "2023-09-21T18:44:24.384700Z",
     "iopub.status.idle": "2023-09-21T18:44:24.398077Z",
     "shell.execute_reply": "2023-09-21T18:44:24.397140Z",
     "shell.execute_reply.started": "2023-09-21T18:44:24.385407Z"
    },
    "tags": []
   },
   "outputs": [],
   "source": [
    "mf_deterministic.by_group"
   ]
  },
  {
   "cell_type": "code",
   "execution_count": null,
   "id": "9acc6d20-839a-4e29-8542-f71942cce76f",
   "metadata": {
    "execution": {
     "iopub.execute_input": "2023-09-21T18:45:05.993197Z",
     "iopub.status.busy": "2023-09-21T18:45:05.992642Z",
     "iopub.status.idle": "2023-09-21T18:45:06.006942Z",
     "shell.execute_reply": "2023-09-21T18:45:06.006101Z",
     "shell.execute_reply.started": "2023-09-21T18:45:05.993151Z"
    },
    "id": "mVimPa2nlFpv",
    "tags": []
   },
   "outputs": [],
   "source": [
    "metricframe_postprocess.by_group"
   ]
  },
  {
   "cell_type": "code",
   "execution_count": null,
   "id": "e50b603b-67e5-4432-9c2b-1012c782972c",
   "metadata": {
    "execution": {
     "iopub.execute_input": "2023-09-21T18:45:07.480527Z",
     "iopub.status.busy": "2023-09-21T18:45:07.479805Z",
     "iopub.status.idle": "2023-09-21T18:45:07.496841Z",
     "shell.execute_reply": "2023-09-21T18:45:07.496015Z",
     "shell.execute_reply.started": "2023-09-21T18:45:07.480480Z"
    },
    "tags": []
   },
   "outputs": [],
   "source": [
    "pd.concat([metricframe_unmitigated.difference(),\n",
    "           metricframe_postprocess.difference(),\n",
    "           mf_deterministic.difference(),\n",
    "          thresop_metricframe.difference(),\n",
    "          mf_deterministic2.difference()],\n",
    "          keys=['Unmitigated: difference', 'ThresholdOptimizer: difference', 'DererministicThresholdOptimizer: Difference', 'ThresholdOptimizer_fprParity: Difference',\n",
    "               'DeterministicThresholdOptimizer_fprParity: Difference'],\n",
    "          axis=1).T"
   ]
  },
  {
   "cell_type": "markdown",
   "id": "66956224-9069-4736-9985-841d80ae062c",
   "metadata": {
    "id": "NU_rncBQ0lab"
   },
   "source": [
    "## Reductions approach with `ExponentiatedGradient`"
   ]
  },
  {
   "cell_type": "markdown",
   "id": "8016294c-f127-4c73-b5dd-ac133033d144",
   "metadata": {
    "id": "bpyBnqNLZ-w_"
   },
   "source": [
    "With the `ThresholdOptimizer`, we took a fairness-unaware model and transformed the model's decision boundary to satisfy our fairness constraints. One limitation of `ThresholdOptimizer` is that it needs access to the sensitive features at deployment time.\n",
    "\n",
    "In this section, we will show how to use the _reductions_ approach of [Agarwal et. al (2018)](https://arxiv.org/abs/1803.02453) to obtain a model that satisfies the fairness constraints, but does not need access to sensitive features at deployment time.\n",
    "\n",
    "Terminology \"reductions\" refers to another kind of a wrapper approach, which instead of wrapping an already trained model, wraps any standard classification or regression algorithm, such as \n",
    "`LogisticRegression`. In other words, an input to a reduction algorithm is an object that supports training on any provided (weighted) dataset. In addition, a reduction algorithm receives a data set that includes sensitive features. The goal, like with post-processing, is to optimize a performance metric (such as classification accuracy) subject to fairness constraints (such as an upper bound on differences between false negative rates).\n",
    "\n",
    "The main reduction algorithm algorithm in Fairlearn is `ExponentiatedGradient`. It creates a sequence of reweighted datasets and retrains the wrapped model on each of them. The \n",
    "retraining process is guaranteed to find a model that satisfies the fairness constraints while optimizing the performance metric.\n",
    "\n",
    "The model returned by `ExponentiatedGradient` consists of several inner models, returned by the wrapped estimator. At deployment time, `ExponentiatedGradient` randomizes among these models according to a specific probability weights."
   ]
  },
  {
   "cell_type": "markdown",
   "id": "c77df22b-f09a-47d9-81d1-30abdf2c2864",
   "metadata": {
    "id": "ZvT_qeduHCn8"
   },
   "source": [
    "To instantiate an `ExponentiatedGradient` model, we pass in two parameters:\n",
    "\n",
    "*   A base `estimator` (an object that supports training)\n",
    "*   Fairness `constraints` (an object of type `Moment`).\n",
    "\n",
    "The constraints supported by `ExponentiatedGradient` are more general than those supported by `ThresholdOptimizer`. For example, rather than requiring that false negative rates be equal, it is possible to specify the maxium allowed difference or ratio between the largest and the smallest value.\n"
   ]
  },
  {
   "cell_type": "code",
   "execution_count": 266,
   "id": "90b6e889-ea7e-4984-a843-0564d4c87ef8",
   "metadata": {
    "execution": {
     "iopub.execute_input": "2024-02-08T12:21:27.842433Z",
     "iopub.status.busy": "2024-02-08T12:21:27.841767Z",
     "iopub.status.idle": "2024-02-08T12:21:27.849409Z",
     "shell.execute_reply": "2024-02-08T12:21:27.848118Z",
     "shell.execute_reply.started": "2024-02-08T12:21:27.842386Z"
    },
    "id": "ToZdrYen0tJZ",
    "tags": []
   },
   "outputs": [],
   "source": [
    "expgrad_est = ExponentiatedGradient(\n",
    "    estimator=LogisticRegression(max_iter=1000, random_state=random_seed),\n",
    "    # constraints=TruePositiveRateParity(difference_bound=0.02)\n",
    "    constraints=FalsePositiveRateParity(difference_bound=0.02)\n",
    ")"
   ]
  },
  {
   "cell_type": "code",
   "execution_count": 267,
   "id": "36f80b35-f087-441a-aba2-f0d1c26b1936",
   "metadata": {
    "execution": {
     "iopub.execute_input": "2024-02-08T12:21:29.406710Z",
     "iopub.status.busy": "2024-02-08T12:21:29.406004Z",
     "iopub.status.idle": "2024-02-08T12:21:29.412865Z",
     "shell.execute_reply": "2024-02-08T12:21:29.411583Z",
     "shell.execute_reply.started": "2024-02-08T12:21:29.406662Z"
    },
    "tags": []
   },
   "outputs": [],
   "source": [
    "expgrad_est = ExponentiatedGradient(\n",
    "    estimator=RandomForestClassifier(),\n",
    "    constraints=TruePositiveRateParity(difference_bound=0.02)\n",
    ")"
   ]
  },
  {
   "cell_type": "markdown",
   "id": "db32de5b-4eb1-471e-bbdf-c599a5f37c20",
   "metadata": {
    "id": "bLFk3SCxrskU"
   },
   "source": [
    "The constraints above are expressed for the true positive parity, they require that the difference between the largest and the smallest true positive rate (TPR) across all groups be at most 0.02. Since false negative rate (FNR) is equal to 1-TPR, this is equivalent to requiring that the difference between the largest and smallest FNR be at most 0.02."
   ]
  },
  {
   "cell_type": "code",
   "execution_count": 268,
   "id": "d7d275ac-5f7e-4b8b-96f2-b455637384a5",
   "metadata": {
    "execution": {
     "iopub.execute_input": "2024-02-08T12:21:30.646438Z",
     "iopub.status.busy": "2024-02-08T12:21:30.645767Z",
     "iopub.status.idle": "2024-02-08T12:22:28.576754Z",
     "shell.execute_reply": "2024-02-08T12:22:28.575467Z",
     "shell.execute_reply.started": "2024-02-08T12:21:30.646392Z"
    },
    "id": "UFSF5Wn-3M-H",
    "tags": []
   },
   "outputs": [
    {
     "data": {
      "text/html": [
       "<style>#sk-container-id-5 {color: black;}#sk-container-id-5 pre{padding: 0;}#sk-container-id-5 div.sk-toggleable {background-color: white;}#sk-container-id-5 label.sk-toggleable__label {cursor: pointer;display: block;width: 100%;margin-bottom: 0;padding: 0.3em;box-sizing: border-box;text-align: center;}#sk-container-id-5 label.sk-toggleable__label-arrow:before {content: \"▸\";float: left;margin-right: 0.25em;color: #696969;}#sk-container-id-5 label.sk-toggleable__label-arrow:hover:before {color: black;}#sk-container-id-5 div.sk-estimator:hover label.sk-toggleable__label-arrow:before {color: black;}#sk-container-id-5 div.sk-toggleable__content {max-height: 0;max-width: 0;overflow: hidden;text-align: left;background-color: #f0f8ff;}#sk-container-id-5 div.sk-toggleable__content pre {margin: 0.2em;color: black;border-radius: 0.25em;background-color: #f0f8ff;}#sk-container-id-5 input.sk-toggleable__control:checked~div.sk-toggleable__content {max-height: 200px;max-width: 100%;overflow: auto;}#sk-container-id-5 input.sk-toggleable__control:checked~label.sk-toggleable__label-arrow:before {content: \"▾\";}#sk-container-id-5 div.sk-estimator input.sk-toggleable__control:checked~label.sk-toggleable__label {background-color: #d4ebff;}#sk-container-id-5 div.sk-label input.sk-toggleable__control:checked~label.sk-toggleable__label {background-color: #d4ebff;}#sk-container-id-5 input.sk-hidden--visually {border: 0;clip: rect(1px 1px 1px 1px);clip: rect(1px, 1px, 1px, 1px);height: 1px;margin: -1px;overflow: hidden;padding: 0;position: absolute;width: 1px;}#sk-container-id-5 div.sk-estimator {font-family: monospace;background-color: #f0f8ff;border: 1px dotted black;border-radius: 0.25em;box-sizing: border-box;margin-bottom: 0.5em;}#sk-container-id-5 div.sk-estimator:hover {background-color: #d4ebff;}#sk-container-id-5 div.sk-parallel-item::after {content: \"\";width: 100%;border-bottom: 1px solid gray;flex-grow: 1;}#sk-container-id-5 div.sk-label:hover label.sk-toggleable__label {background-color: #d4ebff;}#sk-container-id-5 div.sk-serial::before {content: \"\";position: absolute;border-left: 1px solid gray;box-sizing: border-box;top: 0;bottom: 0;left: 50%;z-index: 0;}#sk-container-id-5 div.sk-serial {display: flex;flex-direction: column;align-items: center;background-color: white;padding-right: 0.2em;padding-left: 0.2em;position: relative;}#sk-container-id-5 div.sk-item {position: relative;z-index: 1;}#sk-container-id-5 div.sk-parallel {display: flex;align-items: stretch;justify-content: center;background-color: white;position: relative;}#sk-container-id-5 div.sk-item::before, #sk-container-id-5 div.sk-parallel-item::before {content: \"\";position: absolute;border-left: 1px solid gray;box-sizing: border-box;top: 0;bottom: 0;left: 50%;z-index: -1;}#sk-container-id-5 div.sk-parallel-item {display: flex;flex-direction: column;z-index: 1;position: relative;background-color: white;}#sk-container-id-5 div.sk-parallel-item:first-child::after {align-self: flex-end;width: 50%;}#sk-container-id-5 div.sk-parallel-item:last-child::after {align-self: flex-start;width: 50%;}#sk-container-id-5 div.sk-parallel-item:only-child::after {width: 0;}#sk-container-id-5 div.sk-dashed-wrapped {border: 1px dashed gray;margin: 0 0.4em 0.5em 0.4em;box-sizing: border-box;padding-bottom: 0.4em;background-color: white;}#sk-container-id-5 div.sk-label label {font-family: monospace;font-weight: bold;display: inline-block;line-height: 1.2em;}#sk-container-id-5 div.sk-label-container {text-align: center;}#sk-container-id-5 div.sk-container {/* jupyter's `normalize.less` sets `[hidden] { display: none; }` but bootstrap.min.css set `[hidden] { display: none !important; }` so we also need the `!important` here to be able to override the default hidden behavior on the sphinx rendered scikit-learn.org. See: https://github.com/scikit-learn/scikit-learn/issues/21755 */display: inline-block !important;position: relative;}#sk-container-id-5 div.sk-text-repr-fallback {display: none;}</style><div id=\"sk-container-id-5\" class=\"sk-top-container\"><div class=\"sk-text-repr-fallback\"><pre>ExponentiatedGradient(constraints=&lt;fairlearn.reductions._moments.utility_parity.TruePositiveRateParity object at 0x7f35b8f8f160&gt;,\n",
       "                      estimator=RandomForestClassifier(),\n",
       "                      nu=0.00036129117558525426)</pre><b>In a Jupyter environment, please rerun this cell to show the HTML representation or trust the notebook. <br />On GitHub, the HTML representation is unable to render, please try loading this page with nbviewer.org.</b></div><div class=\"sk-container\" hidden><div class=\"sk-item sk-dashed-wrapped\"><div class=\"sk-label-container\"><div class=\"sk-label sk-toggleable\"><input class=\"sk-toggleable__control sk-hidden--visually\" id=\"sk-estimator-id-14\" type=\"checkbox\" ><label for=\"sk-estimator-id-14\" class=\"sk-toggleable__label sk-toggleable__label-arrow\">ExponentiatedGradient</label><div class=\"sk-toggleable__content\"><pre>ExponentiatedGradient(constraints=&lt;fairlearn.reductions._moments.utility_parity.TruePositiveRateParity object at 0x7f35b8f8f160&gt;,\n",
       "                      estimator=RandomForestClassifier(),\n",
       "                      nu=0.00036129117558525426)</pre></div></div></div><div class=\"sk-parallel\"><div class=\"sk-parallel-item\"><div class=\"sk-item\"><div class=\"sk-label-container\"><div class=\"sk-label sk-toggleable\"><input class=\"sk-toggleable__control sk-hidden--visually\" id=\"sk-estimator-id-15\" type=\"checkbox\" ><label for=\"sk-estimator-id-15\" class=\"sk-toggleable__label sk-toggleable__label-arrow\">estimator: RandomForestClassifier</label><div class=\"sk-toggleable__content\"><pre>RandomForestClassifier()</pre></div></div></div><div class=\"sk-serial\"><div class=\"sk-item\"><div class=\"sk-estimator sk-toggleable\"><input class=\"sk-toggleable__control sk-hidden--visually\" id=\"sk-estimator-id-16\" type=\"checkbox\" ><label for=\"sk-estimator-id-16\" class=\"sk-toggleable__label sk-toggleable__label-arrow\">RandomForestClassifier</label><div class=\"sk-toggleable__content\"><pre>RandomForestClassifier()</pre></div></div></div></div></div></div></div></div></div></div>"
      ],
      "text/plain": [
       "ExponentiatedGradient(constraints=<fairlearn.reductions._moments.utility_parity.TruePositiveRateParity object at 0x7f35b8f8f160>,\n",
       "                      estimator=RandomForestClassifier(),\n",
       "                      nu=0.00036129117558525426)"
      ]
     },
     "execution_count": 268,
     "metadata": {},
     "output_type": "execute_result"
    }
   ],
   "source": [
    "# Fit the exponentiated gradient model\n",
    "expgrad_est.fit(X_train_bal, Y_train_bal, sensitive_features=A_train_bal)"
   ]
  },
  {
   "cell_type": "markdown",
   "id": "6bcd3bff-bac1-4970-a722-f81382018e5a",
   "metadata": {
    "id": "VsCeOlKFDQZZ"
   },
   "source": [
    "Similarly to `ThresholdOptimizer` the predictions of `ExponentiatedGradient` models are randomized. If we want to assure reproducible results, we can pass  `random_state` to the `predict` function. "
   ]
  },
  {
   "cell_type": "code",
   "execution_count": null,
   "id": "82830471-809f-4000-ad3d-6aedadf4b629",
   "metadata": {
    "execution": {
     "iopub.execute_input": "2024-02-08T12:22:28.711809Z",
     "iopub.status.busy": "2024-02-08T12:22:28.711630Z",
     "iopub.status.idle": "2024-02-08T12:22:29.240853Z",
     "shell.execute_reply": "2024-02-08T12:22:29.239889Z",
     "shell.execute_reply.started": "2024-02-08T12:22:28.711793Z"
    },
    "id": "YYz7GAqf4cbp",
    "tags": []
   },
   "outputs": [],
   "source": [
    "# Record and evaluate predictions on test data\n",
    "\n",
    "Y_pred_reductions = expgrad_est.predict(X_test, random_state=random_seed)\n",
    "metricframe_reductions = MetricFrame(\n",
    "    metrics=metrics_dict,\n",
    "    y_true=Y_test,\n",
    "    y_pred=Y_pred_reductions,\n",
    "    sensitive_features=A_test\n",
    ")\n",
    "metricframe_reductions.by_group"
   ]
  },
  {
   "cell_type": "code",
   "execution_count": 270,
   "id": "5911842a-8f3e-46d5-9bd8-818e3bc9f1e8",
   "metadata": {
    "execution": {
     "iopub.execute_input": "2024-02-08T12:23:44.333039Z",
     "iopub.status.busy": "2024-02-08T12:23:44.332346Z",
     "iopub.status.idle": "2024-02-08T12:23:44.343115Z",
     "shell.execute_reply": "2024-02-08T12:23:44.341859Z",
     "shell.execute_reply.started": "2024-02-08T12:23:44.332991Z"
    }
   },
   "outputs": [],
   "source": [
    "metricframe_reductions.by_group.to_csv('reductions_female.csv')"
   ]
  },
  {
   "cell_type": "code",
   "execution_count": null,
   "id": "55e4ccbc-ac9a-445f-9fe3-3a25962a89a9",
   "metadata": {
    "execution": {
     "iopub.execute_input": "2024-02-08T12:26:33.232023Z",
     "iopub.status.busy": "2024-02-08T12:26:33.231469Z",
     "iopub.status.idle": "2024-02-08T12:26:33.252682Z",
     "shell.execute_reply": "2024-02-08T12:26:33.251762Z",
     "shell.execute_reply.started": "2024-02-08T12:26:33.231975Z"
    },
    "tags": []
   },
   "outputs": [],
   "source": [
    "pd.concat([metricframe_unmitigated.by_group,\n",
    "           metricframe_postprocess.by_group,\n",
    "          metricframe_reductions.by_group],\n",
    "           keys=['Unmitigated', 'ThresholdOptimizer','Reductions'],\n",
    "           axis=1)"
   ]
  },
  {
   "cell_type": "code",
   "execution_count": null,
   "id": "b1459a5e-4710-4b42-b926-208b5448a2e4",
   "metadata": {
    "execution": {
     "iopub.execute_input": "2024-02-08T12:27:29.252114Z",
     "iopub.status.busy": "2024-02-08T12:27:29.251571Z",
     "iopub.status.idle": "2024-02-08T12:27:29.265755Z",
     "shell.execute_reply": "2024-02-08T12:27:29.264356Z",
     "shell.execute_reply.started": "2024-02-08T12:27:29.252070Z"
    },
    "id": "idYvm9lq4mh3",
    "tags": []
   },
   "outputs": [],
   "source": [
    "# Evaluate the difference between the largest and smallest value of each metric\n",
    "metricframe_reductions.difference()"
   ]
  },
  {
   "cell_type": "code",
   "execution_count": null,
   "id": "f3905409-e052-4909-8be8-189ea5a31f4f",
   "metadata": {
    "execution": {
     "iopub.execute_input": "2023-09-21T18:48:29.057176Z",
     "iopub.status.busy": "2023-09-21T18:48:29.056613Z",
     "iopub.status.idle": "2023-09-21T18:48:29.074223Z",
     "shell.execute_reply": "2023-09-21T18:48:29.073315Z",
     "shell.execute_reply.started": "2023-09-21T18:48:29.057127Z"
    },
    "tags": []
   },
   "outputs": [],
   "source": [
    "pd.concat([metricframe_unmitigated.difference(),\n",
    "           metricframe_postprocess.difference(),\n",
    "           mf_deterministic.difference(),\n",
    "          thresop_metricframe.difference(),\n",
    "          mf_deterministic2.difference(),\n",
    "          metricframe_reductions.difference()],\n",
    "          keys=['Unmitigated: difference', 'ThresholdOptimizer: difference', 'DererministicThresholdOptimizer: Difference', 'ThresholdOptimizer_fprParity: Difference',\n",
    "               'DeterministicThresholdOptimizer_fprParity: Difference','Reductions: Difference'],\n",
    "          axis=1).T"
   ]
  },
  {
   "cell_type": "code",
   "execution_count": 237,
   "id": "f63fc5ca-6c56-4cd7-8c02-f1598093b68f",
   "metadata": {
    "execution": {
     "iopub.execute_input": "2023-09-21T18:51:04.120530Z",
     "iopub.status.busy": "2023-09-21T18:51:04.119804Z",
     "iopub.status.idle": "2023-09-21T18:51:04.132382Z",
     "shell.execute_reply": "2023-09-21T18:51:04.131459Z",
     "shell.execute_reply.started": "2023-09-21T18:51:04.120478Z"
    },
    "tags": []
   },
   "outputs": [],
   "source": [
    "pd.concat([metricframe_unmitigated.difference(),\n",
    "           metricframe_postprocess.difference(),\n",
    "           mf_deterministic.difference(),\n",
    "          thresop_metricframe.difference(),\n",
    "          mf_deterministic2.difference(),\n",
    "          metricframe_reductions.difference()],\n",
    "          keys=['Unmitigated: difference', 'ThresholdOptimizer: difference', 'DererministicThresholdOptimizer: Difference', 'ThresholdOptimizer_fprParity: Difference',\n",
    "               'DeterministicThresholdOptimizer_fprParity: Difference','Reductions: Difference'],\n",
    "          axis=1).T.to_csv(\"PerformanceComp_differenceFemale.csv\")"
   ]
  },
  {
   "cell_type": "markdown",
   "id": "2be13b4c-a52a-4ac0-b38f-a7d3264da561",
   "metadata": {
    "id": "qpxYOozouVx9"
   },
   "source": [
    "While there is a decrease in the false negative rate difference from the unmitigated model, this decrease is not as substantial as with `ThresholdOptimizer`. Note, however, that `ThresholdOptimizer` was able to use the sensitive feature (i.e., race) at deployment time."
   ]
  },
  {
   "cell_type": "markdown",
   "id": "5f0b7854-8284-4880-85ff-40517029160c",
   "metadata": {
    "id": "IzTeHhWG4nJJ"
   },
   "source": [
    "### Explore individual predictors"
   ]
  },
  {
   "cell_type": "markdown",
   "id": "20b39614-75f4-44ec-8ae0-82ea65a2ccb4",
   "metadata": {
    "id": "o7qCmHeYKWGp"
   },
   "source": [
    "During the training process, the `ExponentiatedGradient` algorithm iteratively trains multiple inner models on a reweighted training dataset. The algorithm stores each of these predictors and then randomizes among them at deployment time.\n",
    "\n",
    "In many applications, the randomization is undesirable, and also using multiple inner models can pose issues for interpretability. However, the inner models that `ExponentiatedGradient` relies on span a variety of fairness-accuracy trade-offs, and they could be considered for stand-alone deployment: addressing the randomization and interpretability issues, while possibly offering additional flexibility thanks to a variety of trade-offs. \n",
    "\n",
    "In this section explore the performance of the individual predictors learned by the `ExponentiatedGradient` algorithm. First, note that since the base estimator was `RandomForest` all these predictors are different RandomForest models:"
   ]
  },
  {
   "cell_type": "code",
   "execution_count": null,
   "id": "a237b54e-00dd-431a-8af1-d84070e9c923",
   "metadata": {
    "execution": {
     "iopub.execute_input": "2024-02-08T12:28:15.150815Z",
     "iopub.status.busy": "2024-02-08T12:28:15.150272Z",
     "iopub.status.idle": "2024-02-08T12:28:15.260568Z",
     "shell.execute_reply": "2024-02-08T12:28:15.260015Z",
     "shell.execute_reply.started": "2024-02-08T12:28:15.150769Z"
    },
    "id": "II_YtUZg3Ue4",
    "tags": []
   },
   "outputs": [],
   "source": [
    "predictors = expgrad_est.predictors_\n",
    "predictors"
   ]
  },
  {
   "cell_type": "code",
   "execution_count": 275,
   "id": "cbeeec8a-e5f6-4a11-95d5-09f4bd2dc09f",
   "metadata": {
    "execution": {
     "iopub.execute_input": "2024-02-08T12:28:16.892342Z",
     "iopub.status.busy": "2024-02-08T12:28:16.891141Z",
     "iopub.status.idle": "2024-02-08T12:28:19.683521Z",
     "shell.execute_reply": "2024-02-08T12:28:19.682245Z",
     "shell.execute_reply.started": "2024-02-08T12:28:16.892287Z"
    },
    "id": "K3Bh2IVm4Ynj",
    "tags": []
   },
   "outputs": [],
   "source": [
    "# Collect predictions by all predictors and calculate balanced error\n",
    "# as well as the false negative difference for all of them\n",
    "\n",
    "sweep_preds = [clf.predict(X_test) for clf in predictors]\n",
    "balanced_error_sweep = [1-balanced_accuracy_score(Y_test, Y_sweep) for Y_sweep in sweep_preds]\n",
    "fnr_diff_sweep = [false_negative_rate_difference(Y_test, Y_sweep, sensitive_features=A_test) for Y_sweep in sweep_preds]"
   ]
  },
  {
   "cell_type": "code",
   "execution_count": null,
   "id": "3857fa95-3667-4d7e-843b-0fe956152d14",
   "metadata": {
    "execution": {
     "iopub.execute_input": "2024-02-08T12:28:19.809834Z",
     "iopub.status.busy": "2024-02-08T12:28:19.809656Z",
     "iopub.status.idle": "2024-02-08T12:28:19.815428Z",
     "shell.execute_reply": "2024-02-08T12:28:19.814926Z",
     "shell.execute_reply.started": "2024-02-08T12:28:19.809819Z"
    },
    "tags": []
   },
   "outputs": [],
   "source": [
    "fnr_diff_sweep"
   ]
  },
  {
   "cell_type": "code",
   "execution_count": null,
   "id": "2b6b168b-afd6-4133-aeb1-ee7c20c2b952",
   "metadata": {
    "execution": {
     "iopub.execute_input": "2024-02-08T12:28:19.817066Z",
     "iopub.status.busy": "2024-02-08T12:28:19.816860Z",
     "iopub.status.idle": "2024-02-08T12:28:19.850776Z",
     "shell.execute_reply": "2024-02-08T12:28:19.849242Z",
     "shell.execute_reply.started": "2024-02-08T12:28:19.817046Z"
    },
    "tags": []
   },
   "outputs": [],
   "source": [
    "balanced_error_sweep"
   ]
  },
  {
   "cell_type": "code",
   "execution_count": null,
   "id": "65cedc1d-afb9-4e14-987f-c678349d652f",
   "metadata": {
    "execution": {
     "iopub.execute_input": "2023-09-21T18:52:06.087805Z",
     "iopub.status.busy": "2023-09-21T18:52:06.087297Z",
     "iopub.status.idle": "2023-09-21T18:52:06.657375Z",
     "shell.execute_reply": "2023-09-21T18:52:06.656784Z",
     "shell.execute_reply.started": "2023-09-21T18:52:06.087759Z"
    },
    "id": "r9TKGsNY8Myu",
    "tags": []
   },
   "outputs": [],
   "source": [
    "# Show the balanced error / fnr difference values of all predictors on a raster plot  \n",
    "\n",
    "plt.scatter(balanced_error_sweep, fnr_diff_sweep, label=\"ExponentiatedGradient - Iterations\")\n",
    "for i in range(len(predictors)):\n",
    "  plt.annotate(str(i), xy=(balanced_error_sweep[i]+0.001, fnr_diff_sweep[i]+0.001))\n",
    "\n",
    "# Also include in the plot the combined ExponentiatedGradient model\n",
    "# as well as the three previously fitted models\n",
    "\n",
    "plt.scatter(1-balanced_accuracy_score(Y_test, Y_pred_reductions),\n",
    "            false_negative_rate_difference(Y_test, Y_pred_reductions, sensitive_features=A_test),\n",
    "            label=\"ExponentiatedGradient - Combined model\")\n",
    "plt.scatter(1-balanced_accuracy_score(Y_test, Y_pred),\n",
    "            false_negative_rate_difference(Y_test, Y_pred, sensitive_features=A_test),\n",
    "            label=\"Unmitigated\")\n",
    "plt.scatter(1-balanced_accuracy_score(Y_test, Y_pred_postprocess),\n",
    "            false_negative_rate_difference(Y_test, Y_pred_postprocess, sensitive_features=A_test),\n",
    "            label=\"ThresholdOptimizer\")\n",
    "plt.scatter(1-balanced_accuracy_score(Y_test, y_pred_postprocess_deterministic),\n",
    "            false_negative_rate_difference(Y_test, y_pred_postprocess_deterministic, sensitive_features=A_test),\n",
    "            label=\"ThresholdOptimizer (DET)\")\n",
    "\n",
    "plt.xlabel(\"Balanced Error Rate\")\n",
    "plt.ylabel(\"False Negative Rate Difference\")\n",
    "plt.legend(bbox_to_anchor=(1.9,1))\n",
    "plt.show()"
   ]
  },
  {
   "cell_type": "markdown",
   "id": "b91f3f02-7005-48a5-a110-a29d93f4d940",
   "metadata": {
    "id": "iyknfgrsW1gi"
   },
   "source": [
    "## Comparing performance of different techniques"
   ]
  },
  {
   "cell_type": "markdown",
   "id": "0eab2728-54bb-4354-b710-44f854462ab5",
   "metadata": {
    "id": "Vee-7c2Tw33O"
   },
   "source": [
    "Now we have covered two different class of techniques for mitigating the fairness-related harms we found in our fairness-unaware model. In this section, we will compare the performance of the models we trained above across our key metrics."
   ]
  },
  {
   "cell_type": "markdown",
   "id": "73713028-3633-41d3-9516-5211bfd5f13d",
   "metadata": {
    "id": "XEXnEeLl7mgc"
   },
   "source": [
    "#### Model performance - by group"
   ]
  },
  {
   "cell_type": "code",
   "execution_count": 243,
   "id": "a5dfd8e2-9bbe-4612-aea3-5454b6544fb3",
   "metadata": {
    "execution": {
     "iopub.execute_input": "2023-09-21T18:54:10.535904Z",
     "iopub.status.busy": "2023-09-21T18:54:10.535319Z",
     "iopub.status.idle": "2023-09-21T18:54:10.545593Z",
     "shell.execute_reply": "2023-09-21T18:54:10.544067Z",
     "shell.execute_reply.started": "2023-09-21T18:54:10.535852Z"
    },
    "id": "SNyCZxHJuXZV",
    "tags": []
   },
   "outputs": [],
   "source": [
    "def plot_technique_comparison(mf_dict, metric):\n",
    "  \"\"\"\n",
    "  Plots a specified metric for a given dictionary of MetricFrames.\n",
    "  \"\"\"\n",
    "  mf_dict = {k:v.by_group[metric] for (k,v) in mf_dict.items()}\n",
    "  comparison_df = pd.DataFrame.from_dict(mf_dict)\n",
    "  comparison_df.plot.bar(figsize=(12, 6), legend=False)\n",
    "  plt.title(metric)\n",
    "  plt.xticks(rotation=0, ha='center');\n",
    "  plt.legend(bbox_to_anchor=(1.01,1), loc='upper left')"
   ]
  },
  {
   "cell_type": "code",
   "execution_count": 244,
   "id": "9657a4ed-2d40-4f97-bf02-6bbf27ea1837",
   "metadata": {
    "execution": {
     "iopub.execute_input": "2023-09-21T18:54:11.032164Z",
     "iopub.status.busy": "2023-09-21T18:54:11.031616Z",
     "iopub.status.idle": "2023-09-21T18:54:11.042028Z",
     "shell.execute_reply": "2023-09-21T18:54:11.036859Z",
     "shell.execute_reply.started": "2023-09-21T18:54:11.032124Z"
    },
    "id": "9dNb-kI3uHzM",
    "tags": []
   },
   "outputs": [],
   "source": [
    "test_dict = {\n",
    "    \"Reductions\": metricframe_reductions,\n",
    "    \"Unmitigated\": metricframe_unmitigated,\n",
    "    \"Postprocessing\": metricframe_postprocess,\n",
    "    \"Postprocessing (DET)\": mf_deterministic\n",
    "}"
   ]
  },
  {
   "cell_type": "code",
   "execution_count": null,
   "id": "2e52749e-b1de-4f38-acee-4c4a9af1993e",
   "metadata": {
    "execution": {
     "iopub.execute_input": "2023-09-21T18:54:11.506354Z",
     "iopub.status.busy": "2023-09-21T18:54:11.505872Z",
     "iopub.status.idle": "2023-09-21T18:54:11.740861Z",
     "shell.execute_reply": "2023-09-21T18:54:11.740304Z",
     "shell.execute_reply.started": "2023-09-21T18:54:11.506309Z"
    },
    "id": "SweXBa-vEWFM",
    "tags": []
   },
   "outputs": [],
   "source": [
    "plot_technique_comparison(test_dict, \"false_negative_rate\")"
   ]
  },
  {
   "cell_type": "code",
   "execution_count": null,
   "id": "e36bd865-0b6e-4226-9ded-6c834171442e",
   "metadata": {
    "execution": {
     "iopub.execute_input": "2023-09-21T18:54:21.466912Z",
     "iopub.status.busy": "2023-09-21T18:54:21.466329Z",
     "iopub.status.idle": "2023-09-21T18:54:21.716144Z",
     "shell.execute_reply": "2023-09-21T18:54:21.715475Z",
     "shell.execute_reply.started": "2023-09-21T18:54:21.466863Z"
    },
    "id": "FJOwW9db3wKe",
    "tags": []
   },
   "outputs": [],
   "source": [
    "plot_technique_comparison(test_dict, \"balanced_accuracy\")"
   ]
  },
  {
   "cell_type": "code",
   "execution_count": null,
   "id": "61267817-b755-4dfe-a5a0-96103fd9fb0c",
   "metadata": {
    "execution": {
     "iopub.execute_input": "2023-09-21T18:56:45.262125Z",
     "iopub.status.busy": "2023-09-21T18:56:45.261567Z",
     "iopub.status.idle": "2023-09-21T18:56:45.508260Z",
     "shell.execute_reply": "2023-09-21T18:56:45.507695Z",
     "shell.execute_reply.started": "2023-09-21T18:56:45.262077Z"
    },
    "id": "dACpOpm67K-m",
    "tags": []
   },
   "outputs": [],
   "source": [
    "plot_technique_comparison(test_dict, \"selection_rate\")"
   ]
  },
  {
   "cell_type": "markdown",
   "id": "5d0446e3-24ed-44f3-bb87-a0c4039a75a5",
   "metadata": {
    "id": "OYkgAggpW11N"
   },
   "source": [
    "\n",
    "\n",
    "#### Model performance - overall"
   ]
  },
  {
   "cell_type": "code",
   "execution_count": 278,
   "id": "52a3a85c-8067-4199-825a-a8be37b9fa33",
   "metadata": {
    "execution": {
     "iopub.execute_input": "2024-02-08T12:28:42.045330Z",
     "iopub.status.busy": "2024-02-08T12:28:42.044784Z",
     "iopub.status.idle": "2024-02-08T12:28:42.054747Z",
     "shell.execute_reply": "2024-02-08T12:28:42.052460Z",
     "shell.execute_reply.started": "2024-02-08T12:28:42.045285Z"
    },
    "id": "w3Rwe98m6Pv2",
    "tags": []
   },
   "outputs": [],
   "source": [
    "overall_df = pd.DataFrame.from_dict({\n",
    "    \"Unmitigated\": metricframe_unmitigated.overall,\n",
    "    \"Postprocessing\": metricframe_postprocess.overall,\n",
    "    \"Postprocessing (DET)\": mf_deterministic.overall,\n",
    "    \"Reductions\": metricframe_reductions.overall\n",
    "})"
   ]
  },
  {
   "cell_type": "code",
   "execution_count": 281,
   "id": "7b5d19f7-3c8d-4b20-8144-bbefeaeff929",
   "metadata": {
    "execution": {
     "iopub.execute_input": "2024-02-08T12:37:02.537663Z",
     "iopub.status.busy": "2024-02-08T12:37:02.537037Z",
     "iopub.status.idle": "2024-02-08T12:37:02.546018Z",
     "shell.execute_reply": "2024-02-08T12:37:02.544638Z",
     "shell.execute_reply.started": "2024-02-08T12:37:02.537612Z"
    },
    "id": "44Q-lYTa6PzX",
    "tags": []
   },
   "outputs": [],
   "source": [
    "overall_df.T.to_csv('overall_female.csv')"
   ]
  },
  {
   "cell_type": "code",
   "execution_count": null,
   "id": "48b1d259-5f5c-4f2c-8197-e1a94fe2e7fc",
   "metadata": {
    "execution": {
     "iopub.execute_input": "2023-09-21T18:57:00.767625Z",
     "iopub.status.busy": "2023-09-21T18:57:00.767153Z",
     "iopub.status.idle": "2023-09-21T18:57:01.325621Z",
     "shell.execute_reply": "2023-09-21T18:57:01.325054Z",
     "shell.execute_reply.started": "2023-09-21T18:57:00.767578Z"
    },
    "id": "yUaAejwa6P3F",
    "tags": []
   },
   "outputs": [],
   "source": [
    "overall_df.transpose().plot.bar(subplots=True, layout= [1,4], figsize=(17, 5), legend=False, rot=-45, position=1.5);"
   ]
  },
  {
   "cell_type": "code",
   "execution_count": 282,
   "id": "31690f65-6f52-4be6-9dcd-a1890040461c",
   "metadata": {
    "execution": {
     "iopub.execute_input": "2024-02-08T12:38:49.041472Z",
     "iopub.status.busy": "2024-02-08T12:38:49.040806Z",
     "iopub.status.idle": "2024-02-08T12:38:49.049939Z",
     "shell.execute_reply": "2024-02-08T12:38:49.048422Z",
     "shell.execute_reply.started": "2024-02-08T12:38:49.041426Z"
    },
    "id": "pIGS8f2M2Afu",
    "tags": []
   },
   "outputs": [],
   "source": [
    "difference_df = pd.DataFrame.from_dict({\n",
    "    \"Unmitigated\": metricframe_unmitigated.difference(),\n",
    "    \"Postprocessing\": metricframe_postprocess.difference(),\n",
    "    \"Postprocessing (DET)\": mf_deterministic.difference(),\n",
    "    \"Reductions\": metricframe_reductions.difference()\n",
    "}\n",
    ")"
   ]
  },
  {
   "cell_type": "code",
   "execution_count": 283,
   "id": "24063dba-d1c8-4ef5-bc58-cd79297e6c96",
   "metadata": {
    "execution": {
     "iopub.execute_input": "2024-02-08T12:39:16.450417Z",
     "iopub.status.busy": "2024-02-08T12:39:16.449728Z",
     "iopub.status.idle": "2024-02-08T12:39:16.459009Z",
     "shell.execute_reply": "2024-02-08T12:39:16.457579Z",
     "shell.execute_reply.started": "2024-02-08T12:39:16.450370Z"
    },
    "id": "3pBkP7QCDVs6",
    "tags": []
   },
   "outputs": [],
   "source": [
    "difference_df.T.to_csv('difference_female.csv')"
   ]
  },
  {
   "cell_type": "code",
   "execution_count": null,
   "id": "e44b9b89-d2f7-48a8-87e5-854bb6988469",
   "metadata": {
    "execution": {
     "iopub.execute_input": "2023-09-21T18:57:07.816863Z",
     "iopub.status.busy": "2023-09-21T18:57:07.816381Z",
     "iopub.status.idle": "2023-09-21T18:57:08.400513Z",
     "shell.execute_reply": "2023-09-21T18:57:08.399931Z",
     "shell.execute_reply.started": "2023-09-21T18:57:07.816817Z"
    },
    "id": "_qXEkByRDkK0",
    "tags": []
   },
   "outputs": [],
   "source": [
    "difference_df.T.plot.bar(subplots=True, layout= [1,4], figsize=(17, 5), legend=False, rot=-45, position=1.5);"
   ]
  },
  {
   "cell_type": "markdown",
   "id": "2c9a69be-062e-4b7e-b03d-81f661a8d429",
   "metadata": {
    "id": "7S6CIoJ-W1jH"
   },
   "source": [
    "### Randomized predictions"
   ]
  },
  {
   "cell_type": "markdown",
   "id": "2a677c5e-f476-434d-b7c3-b06ef6227e42",
   "metadata": {
    "id": "MzdFLJ9BA15F"
   },
   "source": [
    "Both the `ExponentiatedGradient` and the `ThresholdOptimizer` yield randomized predictions (may return different result given the same instance). Due to legal regulations or other concerns, a practitioner may not be able to deploy a randomized model. To address these restrictions:\n",
    "\n",
    "*   We created a deterministic predictor based on the randomized thresholds learned by the `ThresholdOptimizer`. This deteministic predictor achieved similar performance as the `ThresholdOptimizer`.\n",
    "*   For the `ExponentiatedGradient` model, we can deploy one of the deterministic inner models rather than the overall `ExponentiatedGradient` model.\n",
    "\n"
   ]
  },
  {
   "cell_type": "markdown",
   "id": "f8130e46-6ace-4d85-a8ac-046c2ee261b0",
   "metadata": {
    "id": "P9dvkQvKW1lv"
   },
   "source": [
    "### Access to sensitive features\n",
    "\n"
   ]
  },
  {
   "cell_type": "markdown",
   "id": "460dc9d0-5872-4830-a133-084efa5ce2c5",
   "metadata": {
    "id": "L56tawsAW14B"
   },
   "source": [
    "\n",
    "\n",
    "*   The `ThresholdOptimizer` model requires access to the sensitive features during BOTH training time and once deployed. If you do not have access to the sensitive features once the model is deployed, you will not be able to use the `ThresholdOptimizer`.\n",
    "*   The `ExponentiatedGradient` model requires access to the sensitive features ONLY during training time. \n",
    "\n",
    "\n"
   ]
  },
  {
   "cell_type": "code",
   "execution_count": 498,
   "id": "d6e25583-b232-4090-a5bf-2aaf84af463e",
   "metadata": {
    "execution": {
     "iopub.execute_input": "2023-08-24T10:35:30.547901Z",
     "iopub.status.busy": "2023-08-24T10:35:30.546888Z",
     "iopub.status.idle": "2023-08-24T10:35:31.083028Z",
     "shell.execute_reply": "2023-08-24T10:35:31.081504Z",
     "shell.execute_reply.started": "2023-08-24T10:35:30.547819Z"
    },
    "tags": []
   },
   "outputs": [],
   "source": [
    "df_female.to_csv(\"dfML_female.csv\")"
   ]
  },
  {
   "cell_type": "code",
   "execution_count": null,
   "id": "dfb52843-555e-4961-8097-c14791a66815",
   "metadata": {
    "execution": {
     "iopub.execute_input": "2023-08-24T10:35:31.204924Z",
     "iopub.status.busy": "2023-08-24T10:35:31.204705Z",
     "iopub.status.idle": "2023-08-24T10:35:31.209603Z",
     "shell.execute_reply": "2023-08-24T10:35:31.209005Z",
     "shell.execute_reply.started": "2023-08-24T10:35:31.204903Z"
    },
    "tags": []
   },
   "outputs": [],
   "source": [
    "df_female.LOSClass.dtype"
   ]
  },
  {
   "cell_type": "markdown",
   "id": "99a15f03-f7a1-4fba-adb8-ffad556c617c",
   "metadata": {},
   "source": [
    "## USING CROSS VALIDATION FOR RANDOM FOREST CLASSIFIER"
   ]
  },
  {
   "cell_type": "code",
   "execution_count": 35,
   "id": "949d32e5-18ad-47f4-bd48-48d20a90ae69",
   "metadata": {
    "execution": {
     "iopub.execute_input": "2024-01-03T18:03:58.999211Z",
     "iopub.status.busy": "2024-01-03T18:03:58.998648Z",
     "iopub.status.idle": "2024-01-03T18:04:34.757137Z",
     "shell.execute_reply": "2024-01-03T18:04:34.755939Z",
     "shell.execute_reply.started": "2024-01-03T18:03:58.999168Z"
    },
    "tags": []
   },
   "outputs": [],
   "source": [
    "scoring=['precision_macro', 'recall_macro', 'balanced_accuracy']\n",
    "rfmodel= Pipeline(steps=[\n",
    "    (\"preprocessing\", StandardScaler()),\n",
    "    (\"Random_Forest\", RandomForestClassifier())\n",
    "])\n",
    "scores=cross_validate(rfmodel,X,Y,scoring=scoring,cv=10)"
   ]
  },
  {
   "cell_type": "code",
   "execution_count": 36,
   "id": "b31d98ee-f394-4101-8ca6-a4d5e3d099fa",
   "metadata": {
    "execution": {
     "iopub.execute_input": "2024-01-03T18:04:34.788656Z",
     "iopub.status.busy": "2024-01-03T18:04:34.788494Z",
     "iopub.status.idle": "2024-01-03T18:04:34.793025Z",
     "shell.execute_reply": "2024-01-03T18:04:34.792507Z",
     "shell.execute_reply.started": "2024-01-03T18:04:34.788641Z"
    },
    "tags": []
   },
   "outputs": [
    {
     "data": {
      "text/plain": [
       "['fit_time',\n",
       " 'score_time',\n",
       " 'test_balanced_accuracy',\n",
       " 'test_precision_macro',\n",
       " 'test_recall_macro']"
      ]
     },
     "execution_count": 36,
     "metadata": {},
     "output_type": "execute_result"
    }
   ],
   "source": [
    "sorted(scores.keys())"
   ]
  },
  {
   "cell_type": "code",
   "execution_count": null,
   "id": "fb1628df-3026-4f1a-ba40-1e3f15353da8",
   "metadata": {
    "execution": {
     "iopub.execute_input": "2024-01-03T18:05:27.910254Z",
     "iopub.status.busy": "2024-01-03T18:05:27.909712Z",
     "iopub.status.idle": "2024-01-03T18:05:27.919521Z",
     "shell.execute_reply": "2024-01-03T18:05:27.918322Z",
     "shell.execute_reply.started": "2024-01-03T18:05:27.910208Z"
    },
    "tags": []
   },
   "outputs": [],
   "source": [
    "scores['test_recall_macro'].mean()"
   ]
  },
  {
   "cell_type": "code",
   "execution_count": null,
   "id": "6e68422e-8f15-422a-aa08-14f8db8f1e4e",
   "metadata": {
    "execution": {
     "iopub.execute_input": "2024-01-03T18:11:11.001852Z",
     "iopub.status.busy": "2024-01-03T18:11:11.001289Z",
     "iopub.status.idle": "2024-01-03T18:11:11.011099Z",
     "shell.execute_reply": "2024-01-03T18:11:11.009804Z",
     "shell.execute_reply.started": "2024-01-03T18:11:11.001808Z"
    },
    "tags": []
   },
   "outputs": [],
   "source": [
    "scores['test_balanced_accuracy'].mean()"
   ]
  },
  {
   "cell_type": "code",
   "execution_count": null,
   "id": "ebf6c961-a21b-41b1-abfa-d3590b4c7674",
   "metadata": {
    "execution": {
     "iopub.execute_input": "2024-01-03T18:05:29.316907Z",
     "iopub.status.busy": "2024-01-03T18:05:29.316259Z",
     "iopub.status.idle": "2024-01-03T18:05:29.325703Z",
     "shell.execute_reply": "2024-01-03T18:05:29.324758Z",
     "shell.execute_reply.started": "2024-01-03T18:05:29.316862Z"
    },
    "tags": []
   },
   "outputs": [],
   "source": [
    "scores['test_precision_macro'].mean()"
   ]
  },
  {
   "cell_type": "code",
   "execution_count": 461,
   "id": "e29c8f76-3d58-415b-a598-ec6fda3d1d3a",
   "metadata": {
    "execution": {
     "iopub.execute_input": "2024-02-10T02:36:47.917569Z",
     "iopub.status.busy": "2024-02-10T02:36:47.916640Z",
     "iopub.status.idle": "2024-02-10T02:37:06.974210Z",
     "shell.execute_reply": "2024-02-10T02:37:06.973501Z",
     "shell.execute_reply.started": "2024-02-10T02:36:47.917504Z"
    },
    "tags": []
   },
   "outputs": [],
   "source": [
    "unmitigated_pipeline = Pipeline(steps=[\n",
    "    (\"preprocessing\", StandardScaler()),\n",
    "    (\"Random_Forest\", RandomForestClassifier())\n",
    "])\n",
    "\n",
    "FNR=[]\n",
    "FPR=[]\n",
    "Bal_Acc=[]\n",
    "ROC=[]\n",
    "\n",
    "for i in range(10):\n",
    "    X_train_grp, X_test_grp, Y_train_grp, Y_test_grp, A_train_grp, A_test_grp, df_train_grp, df_test_grp = train_test_split(\n",
    "        X,\n",
    "        Y,\n",
    "        A,\n",
    "        df_ml,\n",
    "        test_size=0.50,\n",
    "        stratify=Y,\n",
    "        random_state=None)\n",
    "    X_train_bal_grp, Y_train_bal_grp, A_train_bal_grp = resample_dataset(X_train_grp, Y_train_grp, A_train_grp)\n",
    "    \n",
    "    unmitigated_pipeline.fit(X_train_bal_grp, Y_train_bal_grp)\n",
    "    Y_pred_proba_grp = unmitigated_pipeline.predict_proba(X_test_grp)[:,1]\n",
    "    Y_pred_grp = unmitigated_pipeline.predict(X_test_grp)\n",
    "    FNR.append(false_negative_rate(Y_test_grp, Y_pred_grp))\n",
    "    FPR.append(false_positive_rate(Y_test_grp, Y_pred_grp))\n",
    "    Bal_Acc.append(balanced_accuracy_score(Y_test_grp, Y_pred_grp))\n",
    "    ROC.append(roc_auc_score(Y_test_grp, Y_pred_proba_grp))"
   ]
  },
  {
   "cell_type": "code",
   "execution_count": null,
   "id": "375b95b5-e1a3-4a58-b7c4-4333c0cdf014",
   "metadata": {
    "execution": {
     "iopub.execute_input": "2024-02-10T02:37:07.122930Z",
     "iopub.status.busy": "2024-02-10T02:37:07.122739Z",
     "iopub.status.idle": "2024-02-10T02:37:07.137164Z",
     "shell.execute_reply": "2024-02-10T02:37:07.136431Z",
     "shell.execute_reply.started": "2024-02-10T02:37:07.122913Z"
    },
    "tags": []
   },
   "outputs": [],
   "source": [
    "accuracy_score(Y_test_grp, Y_pred_grp)==balanced_accuracy_score(Y_test_grp, Y_pred_grp)"
   ]
  },
  {
   "cell_type": "code",
   "execution_count": 463,
   "id": "7b77d5dc-ad42-4da2-ac54-347345458575",
   "metadata": {
    "execution": {
     "iopub.execute_input": "2024-02-10T02:37:07.138919Z",
     "iopub.status.busy": "2024-02-10T02:37:07.138688Z",
     "iopub.status.idle": "2024-02-10T02:37:07.147464Z",
     "shell.execute_reply": "2024-02-10T02:37:07.146829Z",
     "shell.execute_reply.started": "2024-02-10T02:37:07.138898Z"
    },
    "tags": []
   },
   "outputs": [],
   "source": [
    "FPR_MEAN, FPR_STD =np.array(FPR).mean(), np.array(FPR).std()\n",
    "FNR_MEAN, FNR_STD =np.array(FNR).mean(), np.array(FNR).std()\n",
    "Bal_Acc_MEAN, Bal_Acc_STD =np.array(Bal_Acc).mean(), np.array(Bal_Acc).std()\n",
    "ROC_MEAN, ROC_STD =np.array(ROC).mean(), np.array(ROC).std()"
   ]
  },
  {
   "cell_type": "code",
   "execution_count": null,
   "id": "fcc025cf-e971-44d8-b8e6-0330f5e47257",
   "metadata": {
    "execution": {
     "iopub.execute_input": "2024-02-10T02:37:07.148440Z",
     "iopub.status.busy": "2024-02-10T02:37:07.148255Z",
     "iopub.status.idle": "2024-02-10T02:37:07.163596Z",
     "shell.execute_reply": "2024-02-10T02:37:07.161802Z",
     "shell.execute_reply.started": "2024-02-10T02:37:07.148423Z"
    },
    "tags": []
   },
   "outputs": [],
   "source": [
    "FPR_MEAN, FPR_STD"
   ]
  },
  {
   "cell_type": "code",
   "execution_count": null,
   "id": "4e491dc4-5504-4639-84f8-66669bd9abfd",
   "metadata": {
    "execution": {
     "iopub.execute_input": "2024-02-10T02:37:07.166788Z",
     "iopub.status.busy": "2024-02-10T02:37:07.165947Z",
     "iopub.status.idle": "2024-02-10T02:37:07.179187Z",
     "shell.execute_reply": "2024-02-10T02:37:07.178102Z",
     "shell.execute_reply.started": "2024-02-10T02:37:07.166744Z"
    },
    "tags": []
   },
   "outputs": [],
   "source": [
    "FNR_MEAN, FNR_STD"
   ]
  },
  {
   "cell_type": "code",
   "execution_count": null,
   "id": "a1d1eb50-64b7-41c9-8db4-e53f9505c6a2",
   "metadata": {
    "execution": {
     "iopub.execute_input": "2024-02-10T02:37:07.181717Z",
     "iopub.status.busy": "2024-02-10T02:37:07.181206Z",
     "iopub.status.idle": "2024-02-10T02:37:07.189987Z",
     "shell.execute_reply": "2024-02-10T02:37:07.188766Z",
     "shell.execute_reply.started": "2024-02-10T02:37:07.181680Z"
    },
    "tags": []
   },
   "outputs": [],
   "source": [
    "ROC_MEAN, ROC_STD"
   ]
  },
  {
   "cell_type": "code",
   "execution_count": null,
   "id": "b65a1720-62fe-40c5-993a-2fa4f6f06b95",
   "metadata": {
    "execution": {
     "iopub.execute_input": "2024-02-10T02:37:07.191660Z",
     "iopub.status.busy": "2024-02-10T02:37:07.191289Z",
     "iopub.status.idle": "2024-02-10T02:37:07.199931Z",
     "shell.execute_reply": "2024-02-10T02:37:07.198836Z",
     "shell.execute_reply.started": "2024-02-10T02:37:07.191635Z"
    },
    "tags": []
   },
   "outputs": [],
   "source": [
    "Bal_Acc_MEAN, Bal_Acc_STD"
   ]
  }
 ],
 "metadata": {
  "kernelspec": {
   "display_name": "Python 3 (ipykernel)",
   "language": "python",
   "name": "python3"
  },
  "language_info": {
   "codemirror_mode": {
    "name": "ipython",
    "version": 3
   },
   "file_extension": ".py",
   "mimetype": "text/x-python",
   "name": "python",
   "nbconvert_exporter": "python",
   "pygments_lexer": "ipython3",
   "version": "3.9.13"
  }
 },
 "nbformat": 4,
 "nbformat_minor": 5
}
